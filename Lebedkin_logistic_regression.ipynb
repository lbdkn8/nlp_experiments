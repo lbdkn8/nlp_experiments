{
  "nbformat": 4,
  "nbformat_minor": 0,
  "metadata": {
    "kernelspec": {
      "display_name": "Python 3",
      "language": "python",
      "name": "python3"
    },
    "language_info": {
      "codemirror_mode": {
        "name": "ipython",
        "version": 3
      },
      "file_extension": ".py",
      "mimetype": "text/x-python",
      "name": "python",
      "nbconvert_exporter": "python",
      "pygments_lexer": "ipython3",
      "version": "3.6.9"
    },
    "colab": {
      "name": "Lebedkin - logistic_regression.ipynb",
      "provenance": [],
      "collapsed_sections": [],
      "include_colab_link": true
    }
  },
  "cells": [
    {
      "cell_type": "markdown",
      "metadata": {
        "id": "view-in-github",
        "colab_type": "text"
      },
      "source": [
        "<a href=\"https://colab.research.google.com/github/lbdkn8/nlp_experiments/blob/main/Lebedkin_logistic_regression.ipynb\" target=\"_parent\"><img src=\"https://colab.research.google.com/assets/colab-badge.svg\" alt=\"Open In Colab\"/></a>"
      ]
    },
    {
      "cell_type": "code",
      "metadata": {
        "id": "rJet2XaaK8TJ",
        "colab": {
          "base_uri": "https://localhost:8080/"
        },
        "outputId": "c1a2b583-de28-4b78-a8a0-b498f47e6609"
      },
      "source": [
        "from google.colab import drive\n",
        "drive.mount('/content/drive')"
      ],
      "execution_count": 1,
      "outputs": [
        {
          "output_type": "stream",
          "text": [
            "Mounted at /content/drive\n"
          ],
          "name": "stdout"
        }
      ]
    },
    {
      "cell_type": "code",
      "metadata": {
        "id": "C8BYW0pJ3AZl"
      },
      "source": [
        "from lxml import etree"
      ],
      "execution_count": 2,
      "outputs": []
    },
    {
      "cell_type": "code",
      "metadata": {
        "id": "gMkYasFT3AaO"
      },
      "source": [
        "from typing import List, Tuple"
      ],
      "execution_count": 3,
      "outputs": []
    },
    {
      "cell_type": "code",
      "metadata": {
        "id": "n_rg0nSpFIdV",
        "colab": {
          "base_uri": "https://localhost:8080/"
        },
        "outputId": "6cbca6db-39ae-462b-8536-e3d9d2f32baf"
      },
      "source": [
        "%pip install spacy-udpipe\n",
        "%pip install pymorphy2==0.8\n",
        "\n",
        "import spacy_udpipe\n",
        "import string, re\n",
        "\n",
        "spacy_udpipe.download(\"ru-syntagrus\") \n",
        "nlp = spacy_udpipe.load(\"ru-syntagrus\")"
      ],
      "execution_count": 4,
      "outputs": [
        {
          "output_type": "stream",
          "text": [
            "Collecting spacy-udpipe\n",
            "  Downloading https://files.pythonhosted.org/packages/16/60/2a985e25f6a398655f018e5e43d16ba3dbd65f0d4d6ae22add90578669a5/spacy_udpipe-0.3.2-py3-none-any.whl\n",
            "Collecting ufal.udpipe>=1.2.0\n",
            "\u001b[?25l  Downloading https://files.pythonhosted.org/packages/e5/72/2b8b9dc7c80017c790bb3308bbad34b57accfed2ac2f1f4ab252ff4e9cb2/ufal.udpipe-1.2.0.3.tar.gz (304kB)\n",
            "\u001b[K     |████████████████████████████████| 307kB 7.4MB/s \n",
            "\u001b[?25hRequirement already satisfied: spacy<3.0.0,>=2.1.0 in /usr/local/lib/python3.6/dist-packages (from spacy-udpipe) (2.2.4)\n",
            "Requirement already satisfied: blis<0.5.0,>=0.4.0 in /usr/local/lib/python3.6/dist-packages (from spacy<3.0.0,>=2.1.0->spacy-udpipe) (0.4.1)\n",
            "Requirement already satisfied: wasabi<1.1.0,>=0.4.0 in /usr/local/lib/python3.6/dist-packages (from spacy<3.0.0,>=2.1.0->spacy-udpipe) (0.8.0)\n",
            "Requirement already satisfied: setuptools in /usr/local/lib/python3.6/dist-packages (from spacy<3.0.0,>=2.1.0->spacy-udpipe) (51.3.3)\n",
            "Requirement already satisfied: murmurhash<1.1.0,>=0.28.0 in /usr/local/lib/python3.6/dist-packages (from spacy<3.0.0,>=2.1.0->spacy-udpipe) (1.0.5)\n",
            "Requirement already satisfied: numpy>=1.15.0 in /usr/local/lib/python3.6/dist-packages (from spacy<3.0.0,>=2.1.0->spacy-udpipe) (1.19.5)\n",
            "Requirement already satisfied: cymem<2.1.0,>=2.0.2 in /usr/local/lib/python3.6/dist-packages (from spacy<3.0.0,>=2.1.0->spacy-udpipe) (2.0.5)\n",
            "Requirement already satisfied: requests<3.0.0,>=2.13.0 in /usr/local/lib/python3.6/dist-packages (from spacy<3.0.0,>=2.1.0->spacy-udpipe) (2.23.0)\n",
            "Requirement already satisfied: srsly<1.1.0,>=1.0.2 in /usr/local/lib/python3.6/dist-packages (from spacy<3.0.0,>=2.1.0->spacy-udpipe) (1.0.5)\n",
            "Requirement already satisfied: thinc==7.4.0 in /usr/local/lib/python3.6/dist-packages (from spacy<3.0.0,>=2.1.0->spacy-udpipe) (7.4.0)\n",
            "Requirement already satisfied: preshed<3.1.0,>=3.0.2 in /usr/local/lib/python3.6/dist-packages (from spacy<3.0.0,>=2.1.0->spacy-udpipe) (3.0.5)\n",
            "Requirement already satisfied: catalogue<1.1.0,>=0.0.7 in /usr/local/lib/python3.6/dist-packages (from spacy<3.0.0,>=2.1.0->spacy-udpipe) (1.0.0)\n",
            "Requirement already satisfied: plac<1.2.0,>=0.9.6 in /usr/local/lib/python3.6/dist-packages (from spacy<3.0.0,>=2.1.0->spacy-udpipe) (1.1.3)\n",
            "Requirement already satisfied: tqdm<5.0.0,>=4.38.0 in /usr/local/lib/python3.6/dist-packages (from spacy<3.0.0,>=2.1.0->spacy-udpipe) (4.41.1)\n",
            "Requirement already satisfied: certifi>=2017.4.17 in /usr/local/lib/python3.6/dist-packages (from requests<3.0.0,>=2.13.0->spacy<3.0.0,>=2.1.0->spacy-udpipe) (2020.12.5)\n",
            "Requirement already satisfied: chardet<4,>=3.0.2 in /usr/local/lib/python3.6/dist-packages (from requests<3.0.0,>=2.13.0->spacy<3.0.0,>=2.1.0->spacy-udpipe) (3.0.4)\n",
            "Requirement already satisfied: idna<3,>=2.5 in /usr/local/lib/python3.6/dist-packages (from requests<3.0.0,>=2.13.0->spacy<3.0.0,>=2.1.0->spacy-udpipe) (2.10)\n",
            "Requirement already satisfied: urllib3!=1.25.0,!=1.25.1,<1.26,>=1.21.1 in /usr/local/lib/python3.6/dist-packages (from requests<3.0.0,>=2.13.0->spacy<3.0.0,>=2.1.0->spacy-udpipe) (1.24.3)\n",
            "Requirement already satisfied: importlib-metadata>=0.20; python_version < \"3.8\" in /usr/local/lib/python3.6/dist-packages (from catalogue<1.1.0,>=0.0.7->spacy<3.0.0,>=2.1.0->spacy-udpipe) (3.3.0)\n",
            "Requirement already satisfied: typing-extensions>=3.6.4; python_version < \"3.8\" in /usr/local/lib/python3.6/dist-packages (from importlib-metadata>=0.20; python_version < \"3.8\"->catalogue<1.1.0,>=0.0.7->spacy<3.0.0,>=2.1.0->spacy-udpipe) (3.7.4.3)\n",
            "Requirement already satisfied: zipp>=0.5 in /usr/local/lib/python3.6/dist-packages (from importlib-metadata>=0.20; python_version < \"3.8\"->catalogue<1.1.0,>=0.0.7->spacy<3.0.0,>=2.1.0->spacy-udpipe) (3.4.0)\n",
            "Building wheels for collected packages: ufal.udpipe\n",
            "  Building wheel for ufal.udpipe (setup.py) ... \u001b[?25l\u001b[?25hdone\n",
            "  Created wheel for ufal.udpipe: filename=ufal.udpipe-1.2.0.3-cp36-cp36m-linux_x86_64.whl size=5625266 sha256=8d218e1099917b2a1367098052b2d223b43120488a3bf9706827894dc4b098c3\n",
            "  Stored in directory: /root/.cache/pip/wheels/0c/9d/db/6d3404c33da5b7adb6c6972853efb6a27649d3ba15f7e9bebb\n",
            "Successfully built ufal.udpipe\n",
            "Installing collected packages: ufal.udpipe, spacy-udpipe\n",
            "Successfully installed spacy-udpipe-0.3.2 ufal.udpipe-1.2.0.3\n",
            "Collecting pymorphy2==0.8\n",
            "\u001b[?25l  Downloading https://files.pythonhosted.org/packages/a3/33/fff9675c68b5f6c63ec8c6e6ff57827dda28a1fa5b2c2d727dffff92dd47/pymorphy2-0.8-py2.py3-none-any.whl (46kB)\n",
            "\u001b[K     |████████████████████████████████| 51kB 3.1MB/s \n",
            "\u001b[?25hRequirement already satisfied: docopt>=0.6 in /usr/local/lib/python3.6/dist-packages (from pymorphy2==0.8) (0.6.2)\n",
            "Collecting dawg-python>=0.7\n",
            "  Downloading https://files.pythonhosted.org/packages/6a/84/ff1ce2071d4c650ec85745766c0047ccc3b5036f1d03559fd46bb38b5eeb/DAWG_Python-0.7.2-py2.py3-none-any.whl\n",
            "Collecting pymorphy2-dicts<3.0,>=2.4\n",
            "\u001b[?25l  Downloading https://files.pythonhosted.org/packages/02/51/2465fd4f72328ab50877b54777764d928da8cb15b74e2680fc1bd8cb3173/pymorphy2_dicts-2.4.393442.3710985-py2.py3-none-any.whl (7.1MB)\n",
            "\u001b[K     |████████████████████████████████| 7.1MB 6.4MB/s \n",
            "\u001b[?25hInstalling collected packages: dawg-python, pymorphy2-dicts, pymorphy2\n",
            "Successfully installed dawg-python-0.7.2 pymorphy2-0.8 pymorphy2-dicts-2.4.393442.3710985\n",
            "Downloaded pre-trained UDPipe model for 'ru-syntagrus' language\n"
          ],
          "name": "stdout"
        }
      ]
    },
    {
      "cell_type": "code",
      "metadata": {
        "id": "_kfE83V3KlED"
      },
      "source": [
        "def chewable(s):                                                # Убираем лишнее \n",
        "  lemmas = [token.lemma_ for token in nlp(s)]\n",
        "  s_lemmd = ' '.join(lemmas)                                                \n",
        "  webs = '(\\S+\\.\\S+\\.?\\S+[\\s^\\v]?)'\n",
        "  nums = '(\\d+[\\s^\\v]?)'\n",
        "  re_webs = re.compile(webs)                                    # Убираем сслыки\n",
        "  re_pnct = re.compile('[%s]' % re.escape(string.punctuation))  # Пунктуацию\n",
        "  re_nums = re.compile(nums)                                    # Почему-то числа становились наиболее значимыми признаками - убираю\n",
        "  s_dewebbed = re_webs.sub('', s_lemmd)\n",
        "  s_stripped = re_pnct.sub('', s_dewebbed)\n",
        "  s_denummed = re_nums.sub('', s_stripped)\n",
        "  return s_denummed"
      ],
      "execution_count": 5,
      "outputs": []
    },
    {
      "cell_type": "code",
      "metadata": {
        "id": "b6FY8LP43Aa0"
      },
      "source": [
        "def load_sentirueval_2016(file_name: str) -> Tuple[List[str], List[str]]:\n",
        "    texts = []\n",
        "    labels = []\n",
        "    with open(file_name, mode='rb') as fp:\n",
        "        xml_data = fp.read()\n",
        "    root = etree.fromstring(xml_data)\n",
        "    for database in root.getchildren():\n",
        "        if database.tag == 'database':\n",
        "            for table in database.getchildren():\n",
        "                if table.tag != 'table':\n",
        "                    continue\n",
        "                new_text = None\n",
        "                new_label = None\n",
        "                for column in table.getchildren():\n",
        "                    if column.get('name') == 'text':\n",
        "                        new_text = chewable(column.text)\n",
        "                        if new_label is not None:\n",
        "                            break\n",
        "                    elif column.get('name') not in {'id', 'twitid', 'date'}:\n",
        "                        if new_label is None:\n",
        "                            label_candidate = str(column.text).strip()\n",
        "                            if label_candidate in {'0', '1', '-1'}:\n",
        "                                new_label = 'negative' if label_candidate == '-1' else \\\n",
        "                                    ('positive' if label_candidate == '1' else 'neutral')\n",
        "                                if new_text is not None:\n",
        "                                    break\n",
        "                if (new_text is None) or (new_label is None):\n",
        "                    raise ValueError('File `{0}` contains some error!'.format(file_name))\n",
        "                texts.append(new_text)\n",
        "                labels.append(new_label)\n",
        "            break\n",
        "    return texts, labels"
      ],
      "execution_count": 6,
      "outputs": []
    },
    {
      "cell_type": "code",
      "metadata": {
        "id": "ZS1J18J4Ls4T"
      },
      "source": [
        "fXML = '/content/drive/My Drive/bank_train_2016.xml'"
      ],
      "execution_count": 7,
      "outputs": []
    },
    {
      "cell_type": "code",
      "metadata": {
        "id": "EL-Lbw7B3AbS"
      },
      "source": [
        "texts, labels = load_sentirueval_2016(fXML)"
      ],
      "execution_count": 8,
      "outputs": []
    },
    {
      "cell_type": "code",
      "metadata": {
        "id": "IQAeR79F3Abo",
        "colab": {
          "base_uri": "https://localhost:8080/"
        },
        "outputId": "ce02585b-6448-40e1-a0f7-f38a04071ba5"
      },
      "source": [
        "print('Number of texts is {0}, number of labels is {1}.'.format(len(texts), len(labels)))"
      ],
      "execution_count": 9,
      "outputs": [
        {
          "output_type": "stream",
          "text": [
            "Number of texts is 9392, number of labels is 9392.\n"
          ],
          "name": "stdout"
        }
      ]
    },
    {
      "cell_type": "code",
      "metadata": {
        "id": "118Hinks3AcU"
      },
      "source": [
        "import random"
      ],
      "execution_count": 10,
      "outputs": []
    },
    {
      "cell_type": "code",
      "metadata": {
        "id": "JXpuvxXN3Ac4",
        "colab": {
          "base_uri": "https://localhost:8080/"
        },
        "outputId": "87b73dee-4261-441d-f3b5-6c8f6ae1a2fc"
      },
      "source": [
        "for idx in random.choices(list(range(len(texts))), k=20):\n",
        "    print('{0} => {1}'.format(labels[idx], texts[idx]))"
      ],
      "execution_count": 11,
      "outputs": [
        {
          "output_type": "stream",
          "text": [
            "negative => Сбербанк попадать под третий раунд санкция Евросоюз\n",
            "neutral => вт заказать кредитный карта \n",
            "negative => очередной разочарование от  Сбербанк  снять с дебетовый карта  Сбербанк в их же банкомат другой регион деньги с комиссия    говонобанк\n",
            "neutral => Вт ввести акция по ипотека на новостройка\n",
            "neutral => как оплатить кредит через сбербанк \n",
            "neutral => Сбербанк брать кредит или карточка\n",
            "neutral => часть вкладчик инвестбанк перевести в Сбербанк\n",
            "neutral => кредитный фабрика сбербанк малый бизнес \n",
            "positive => ytppa как не смешной  но пока только сбербанк я чисто по обслуживание счет не печалит  D втбостаться опробовать   \n",
            "neutral => этот момент  когда ты не успеть до закрытие сбербанок на несколько минута  сейчас застрять у бабушка  надо дойти до киви телефон сейчас вырубитсти\n",
            "neutral => банк вт кредит украин\n",
            "neutral =>  Банк вт екатеринбург кредит онлайн заявка\n",
            "neutral => как получить кредитный карта сбербанок \n",
            "neutral => банк уралсиб кредит на строительство \n",
            "positive => по результат провести исследование журнал Global Finance признать Сбербанк онлайн лучший розничный интернет  банк в Россия в год\n",
            "neutral => ksenks alfabank Написано же “Снять деньги по окончание срок или досрочно можно в любой отделение АльфаБанк  “\n",
            "negative => финансы в июль Россельхозбанк собрать урожай плохой долг  просрочить задолженность банк расти рекордный темп до рекордный уровень\n",
            "neutral => Волгоградский Сбербанк принять участие в мероприятие день поле\n",
            "negative =>  Ретвитень WSJ  в список санкция ЕС быть включить Сбербанк и ВТБ  Евросоюз готовиться включить в санкционный список изза ситуация на   \n",
            "neutral => Rt wajuwanilis  Прочти правильный с первый раз   Сбербанк собираться купить Volksbanken  \n"
          ],
          "name": "stdout"
        }
      ]
    },
    {
      "cell_type": "code",
      "metadata": {
        "id": "pP2OXqLc3AdM"
      },
      "source": [
        "positive_tweets = [texts[idx] for idx in range(len(texts)) if labels[idx] == 'positive']\n",
        "negative_tweets = [texts[idx] for idx in range(len(texts)) if labels[idx] == 'negative']"
      ],
      "execution_count": 12,
      "outputs": []
    },
    {
      "cell_type": "code",
      "metadata": {
        "id": "RXkkPGug3Adg",
        "colab": {
          "base_uri": "https://localhost:8080/"
        },
        "outputId": "3502be82-b64b-4846-d3e1-9dbf5771b019"
      },
      "source": [
        "for cur in positive_tweets[:5]: print(cur)"
      ],
      "execution_count": 13,
      "outputs": [
        {
          "output_type": "stream",
          "text": [
            "sawikshuster YevhenS главный чтобы банк СБЕР и ВТБ   \n",
            "самый выгодный автокредит в втб \n",
            "легко можно получить денежный кредит ы вт банк\n",
            "снижение процентный ставка по кредит на недвижимость сбербанк \n",
            "в наш сбербанк прийти американец и просить сфоткаться с он у банкомат  D я васто быть в шок и на фотка полюбому получиться смешной xD\n"
          ],
          "name": "stdout"
        }
      ]
    },
    {
      "cell_type": "code",
      "metadata": {
        "id": "60DkKK9W3Ad2",
        "colab": {
          "base_uri": "https://localhost:8080/"
        },
        "outputId": "706fb1bd-eb58-4a98-d694-7f2bcccc09ca"
      },
      "source": [
        "for cur in negative_tweets[:5]: print(cur)"
      ],
      "execution_count": 14,
      "outputs": [
        {
          "output_type": "stream",
          "text": [
            "ShtirliZ Zhukovaolga winzard tereshenkov обязательно про сбербанк писать  временами хлестко интерать магазин финт выкручивать \n",
            "UmkaAlfariusigorsechin втб и сбер точно  вопрос  блокировка операция или запрет на кредит \n",
            "Канада ввести санкция против Газпромбанк  ВЭБ  Новатэк и российский оборонный компания\n",
            "RT letokot  если Сбер и ВТБ попасть под санкция  быть жоп\n",
            "RT tvru   Канада ввести санкция против оборонный и сырьевой компания и банк РФ  среди они  в частность    Газпромбанк     Внешэк …\n"
          ],
          "name": "stdout"
        }
      ]
    },
    {
      "cell_type": "code",
      "metadata": {
        "id": "zjbfjf7Z3AeM",
        "colab": {
          "base_uri": "https://localhost:8080/"
        },
        "outputId": "9cf2c01b-0d6b-4ea8-ba6d-0437fb103bc5"
      },
      "source": [
        "import nltk\n",
        "from nltk import word_tokenize\n",
        "\n",
        "nltk.download('punkt')"
      ],
      "execution_count": 15,
      "outputs": [
        {
          "output_type": "stream",
          "text": [
            "[nltk_data] Downloading package punkt to /root/nltk_data...\n",
            "[nltk_data]   Unzipping tokenizers/punkt.zip.\n"
          ],
          "name": "stdout"
        },
        {
          "output_type": "execute_result",
          "data": {
            "text/plain": [
              "True"
            ]
          },
          "metadata": {
            "tags": []
          },
          "execution_count": 15
        }
      ]
    },
    {
      "cell_type": "code",
      "metadata": {
        "id": "XuZBKsjA3Aeh"
      },
      "source": [
        "from sklearn.feature_extraction.text import CountVectorizer"
      ],
      "execution_count": 16,
      "outputs": []
    },
    {
      "cell_type": "code",
      "metadata": {
        "id": "hxAqehMp3Ae2"
      },
      "source": [
        "vectorizer = CountVectorizer(lowercase=True, tokenizer=word_tokenize)"
      ],
      "execution_count": 17,
      "outputs": []
    },
    {
      "cell_type": "code",
      "metadata": {
        "id": "bXwK1r-HiJWE"
      },
      "source": [
        "# texts = [texts[i] for i in range(len(texts)) if labels[i] != 'neutral']\r\n",
        "# labels = [l for l in labels if l != 'neutral']"
      ],
      "execution_count": 18,
      "outputs": []
    },
    {
      "cell_type": "code",
      "metadata": {
        "id": "Flacy_lj3AfN",
        "colab": {
          "base_uri": "https://localhost:8080/"
        },
        "outputId": "55fa3001-dd31-455d-80f1-d028f5b9ebc9"
      },
      "source": [
        "vectorizer.fit(texts)"
      ],
      "execution_count": 19,
      "outputs": [
        {
          "output_type": "stream",
          "text": [
            "/usr/local/lib/python3.6/dist-packages/sklearn/feature_extraction/text.py:507: UserWarning: The parameter 'token_pattern' will not be used since 'tokenizer' is not None'\n",
            "  warnings.warn(\"The parameter 'token_pattern' will not be used\"\n"
          ],
          "name": "stderr"
        },
        {
          "output_type": "execute_result",
          "data": {
            "text/plain": [
              "CountVectorizer(analyzer='word', binary=False, decode_error='strict',\n",
              "                dtype=<class 'numpy.int64'>, encoding='utf-8', input='content',\n",
              "                lowercase=True, max_df=1.0, max_features=None, min_df=1,\n",
              "                ngram_range=(1, 1), preprocessor=None, stop_words=None,\n",
              "                strip_accents=None, token_pattern='(?u)\\\\b\\\\w\\\\w+\\\\b',\n",
              "                tokenizer=<function word_tokenize at 0x7fc2189a7d90>,\n",
              "                vocabulary=None)"
            ]
          },
          "metadata": {
            "tags": []
          },
          "execution_count": 19
        }
      ]
    },
    {
      "cell_type": "code",
      "metadata": {
        "id": "On7DhL193Afg",
        "colab": {
          "base_uri": "https://localhost:8080/"
        },
        "outputId": "b5fae096-d8c9-44b1-b075-6b039e9eca53"
      },
      "source": [
        "print(vectorizer.get_feature_names()[0:20])"
      ],
      "execution_count": 20,
      "outputs": [
        {
          "output_type": "stream",
          "text": [
            "['a', 'abaradagaнлат', 'aberadez', 'abetaa', 'abncapital', 'abramovdeputat', 'abunyasha', 'abysov', 'adagamov', 'adairrasi', 'adaron', 'aday', 'adenisenko', 'adindex', 'adlarguan', 'admeru', 'admitad', 'adubter', 'adworningju', 'aeroflot']\n"
          ],
          "name": "stdout"
        }
      ]
    },
    {
      "cell_type": "code",
      "metadata": {
        "id": "VTJsy6DD3Af0",
        "colab": {
          "base_uri": "https://localhost:8080/"
        },
        "outputId": "cce0019d-4631-4866-9194-24d6173fb4ee"
      },
      "source": [
        "fnids = len(vectorizer.get_feature_names())\r\n",
        "print(fnids)"
      ],
      "execution_count": 21,
      "outputs": [
        {
          "output_type": "stream",
          "text": [
            "8698\n"
          ],
          "name": "stdout"
        }
      ]
    },
    {
      "cell_type": "code",
      "metadata": {
        "id": "uKL9wpSD3AgE"
      },
      "source": [
        "X = vectorizer.transform(texts)"
      ],
      "execution_count": 22,
      "outputs": []
    },
    {
      "cell_type": "code",
      "metadata": {
        "id": "2zSqZhWD3AgV",
        "colab": {
          "base_uri": "https://localhost:8080/"
        },
        "outputId": "d71bd7cb-4191-4c1d-f2f4-741620f683c1"
      },
      "source": [
        "print(type(X))"
      ],
      "execution_count": 23,
      "outputs": [
        {
          "output_type": "stream",
          "text": [
            "<class 'scipy.sparse.csr.csr_matrix'>\n"
          ],
          "name": "stdout"
        }
      ]
    },
    {
      "cell_type": "code",
      "metadata": {
        "id": "CfTJP9tw3Agp",
        "colab": {
          "base_uri": "https://localhost:8080/"
        },
        "outputId": "f3585467-0972-46cd-90c3-d200361ce2be"
      },
      "source": [
        "print(texts[0])"
      ],
      "execution_count": 24,
      "outputs": [
        {
          "output_type": "stream",
          "text": [
            "брать кредит тюмень альфа банк\n"
          ],
          "name": "stdout"
        }
      ]
    },
    {
      "cell_type": "code",
      "metadata": {
        "id": "6_JizZSp3Ag9",
        "colab": {
          "base_uri": "https://localhost:8080/"
        },
        "outputId": "f90a376e-8bcb-4261-eafc-4e4eb75797ea"
      },
      "source": [
        "print(X[0])"
      ],
      "execution_count": 25,
      "outputs": [
        {
          "output_type": "stream",
          "text": [
            "  (0, 1815)\t1\n",
            "  (0, 1965)\t1\n",
            "  (0, 2144)\t1\n",
            "  (0, 4118)\t1\n",
            "  (0, 7898)\t1\n"
          ],
          "name": "stdout"
        }
      ]
    },
    {
      "cell_type": "code",
      "metadata": {
        "id": "30eo382I3AhO",
        "colab": {
          "base_uri": "https://localhost:8080/"
        },
        "outputId": "39501414-1a28-4884-b774-c341c9d52079"
      },
      "source": [
        "print(vectorizer.get_feature_names()[fnids - 1000])"
      ],
      "execution_count": 26,
      "outputs": [
        {
          "output_type": "stream",
          "text": [
            "тгк\n"
          ],
          "name": "stdout"
        }
      ]
    },
    {
      "cell_type": "code",
      "metadata": {
        "id": "XoBiF1GO3Aht",
        "colab": {
          "base_uri": "https://localhost:8080/"
        },
        "outputId": "1f725065-da98-47ec-bba6-ad44cbeca1fa"
      },
      "source": [
        "print(vectorizer.get_feature_names()[fnids - 200])"
      ],
      "execution_count": 27,
      "outputs": [
        {
          "output_type": "stream",
          "text": [
            "шестёрка\n"
          ],
          "name": "stdout"
        }
      ]
    },
    {
      "cell_type": "code",
      "metadata": {
        "id": "TYZjLpGD3AiK",
        "colab": {
          "base_uri": "https://localhost:8080/"
        },
        "outputId": "98d7b09c-363d-428e-bbb1-ec1fbddc53d1"
      },
      "source": [
        "print(vectorizer.get_feature_names()[fnids - 3000])"
      ],
      "execution_count": 28,
      "outputs": [
        {
          "output_type": "stream",
          "text": [
            "петрозаводск\n"
          ],
          "name": "stdout"
        }
      ]
    },
    {
      "cell_type": "code",
      "metadata": {
        "id": "BQsuW0sx3Aid"
      },
      "source": [
        "from sklearn.feature_extraction.text import TfidfTransformer"
      ],
      "execution_count": 29,
      "outputs": []
    },
    {
      "cell_type": "code",
      "metadata": {
        "id": "UfggEfY-3Aix"
      },
      "source": [
        "transformer = TfidfTransformer().fit(X)"
      ],
      "execution_count": 30,
      "outputs": []
    },
    {
      "cell_type": "code",
      "metadata": {
        "id": "3VPBGaTO3AjC"
      },
      "source": [
        "X_transformed = transformer.transform(X)"
      ],
      "execution_count": 31,
      "outputs": []
    },
    {
      "cell_type": "code",
      "metadata": {
        "id": "onguvE4C3AjU",
        "colab": {
          "base_uri": "https://localhost:8080/"
        },
        "outputId": "afe1b9b7-7aac-4393-8956-4e5768addba9"
      },
      "source": [
        "print(X_transformed[0])"
      ],
      "execution_count": 32,
      "outputs": [
        {
          "output_type": "stream",
          "text": [
            "  (0, 7898)\t0.7639100517232897\n",
            "  (0, 4118)\t0.2173288930139871\n",
            "  (0, 2144)\t0.4039888226437941\n",
            "  (0, 1965)\t0.24576972473891776\n",
            "  (0, 1815)\t0.38157549543710667\n"
          ],
          "name": "stdout"
        }
      ]
    },
    {
      "cell_type": "code",
      "metadata": {
        "id": "XV2Zvrax3Ajp",
        "colab": {
          "base_uri": "https://localhost:8080/"
        },
        "outputId": "dc145bfe-f811-4da4-915f-c6372378b449"
      },
      "source": [
        "print(vectorizer.get_feature_names()[fnids - 10])"
      ],
      "execution_count": 33,
      "outputs": [
        {
          "output_type": "stream",
          "text": [
            "’\n"
          ],
          "name": "stdout"
        }
      ]
    },
    {
      "cell_type": "code",
      "metadata": {
        "id": "AOy_0vae3Aj7",
        "colab": {
          "base_uri": "https://localhost:8080/"
        },
        "outputId": "da40dfae-aa55-4b81-fb3a-6cfb8e13b757"
      },
      "source": [
        "print(vectorizer.get_feature_names()[fnids - 1])"
      ],
      "execution_count": 34,
      "outputs": [
        {
          "output_type": "stream",
          "text": [
            "❤️\n"
          ],
          "name": "stdout"
        }
      ]
    },
    {
      "cell_type": "code",
      "metadata": {
        "id": "QMFUL9qQ3AkR"
      },
      "source": [
        "tokens_with_IDF = list(zip(vectorizer.get_feature_names(), transformer.idf_))"
      ],
      "execution_count": 35,
      "outputs": []
    },
    {
      "cell_type": "code",
      "metadata": {
        "id": "jRSHi6cO3Akf",
        "colab": {
          "base_uri": "https://localhost:8080/"
        },
        "outputId": "5ee5667f-4b7c-4303-b339-18bfae3b44ad"
      },
      "source": [
        "for feature, idf in tokens_with_IDF[0:20]: print('{0:.6f} => {1}'.format(idf, feature))"
      ],
      "execution_count": 36,
      "outputs": [
        {
          "output_type": "stream",
          "text": [
            "9.049108 => a\n",
            "9.454573 => abaradagaнлат\n",
            "9.454573 => aberadez\n",
            "9.454573 => abetaa\n",
            "9.454573 => abncapital\n",
            "9.454573 => abramovdeputat\n",
            "9.454573 => abunyasha\n",
            "9.454573 => abysov\n",
            "9.454573 => adagamov\n",
            "9.454573 => adairrasi\n",
            "9.454573 => adaron\n",
            "9.454573 => aday\n",
            "9.454573 => adenisenko\n",
            "9.454573 => adindex\n",
            "9.454573 => adlarguan\n",
            "9.454573 => admeru\n",
            "9.454573 => admitad\n",
            "9.454573 => adubter\n",
            "9.454573 => adworningju\n",
            "8.538282 => aeroflot\n"
          ],
          "name": "stdout"
        }
      ]
    },
    {
      "cell_type": "code",
      "metadata": {
        "id": "TCX8XJ7v3Akt"
      },
      "source": [
        "sorted_tokens_with_IDF = sorted(tokens_with_IDF, key=lambda it: (-it[1], it[0]))"
      ],
      "execution_count": 37,
      "outputs": []
    },
    {
      "cell_type": "code",
      "metadata": {
        "id": "uVk0UiaV3Ak4",
        "colab": {
          "base_uri": "https://localhost:8080/"
        },
        "outputId": "fb99bb2a-3da3-476d-9d0c-759504d60dbe"
      },
      "source": [
        "for feature, idf in sorted_tokens_with_IDF[0:20]: print('{0:.6f} => {1}'.format(idf, feature))"
      ],
      "execution_count": 38,
      "outputs": [
        {
          "output_type": "stream",
          "text": [
            "9.454573 => abaradagaнлат\n",
            "9.454573 => aberadez\n",
            "9.454573 => abetaa\n",
            "9.454573 => abncapital\n",
            "9.454573 => abramovdeputat\n",
            "9.454573 => abunyasha\n",
            "9.454573 => abysov\n",
            "9.454573 => adagamov\n",
            "9.454573 => adairrasi\n",
            "9.454573 => adaron\n",
            "9.454573 => aday\n",
            "9.454573 => adenisenko\n",
            "9.454573 => adindex\n",
            "9.454573 => adlarguan\n",
            "9.454573 => admeru\n",
            "9.454573 => admitad\n",
            "9.454573 => adubter\n",
            "9.454573 => adworningju\n",
            "9.454573 => afyanik\n",
            "9.454573 => agatacrysty\n"
          ],
          "name": "stdout"
        }
      ]
    },
    {
      "cell_type": "code",
      "metadata": {
        "id": "dlwTN1vO3AlH"
      },
      "source": [
        "from sklearn.feature_selection import SelectPercentile, chi2"
      ],
      "execution_count": 39,
      "outputs": []
    },
    {
      "cell_type": "code",
      "metadata": {
        "id": "_Fr381xR3AlU"
      },
      "source": [
        "selector = SelectPercentile(chi2, percentile=20)"
      ],
      "execution_count": 40,
      "outputs": []
    },
    {
      "cell_type": "code",
      "metadata": {
        "id": "IXxLTBw43Alm",
        "colab": {
          "base_uri": "https://localhost:8080/"
        },
        "outputId": "802d2c8d-d7d9-42c1-e422-028c4d3f4e8a"
      },
      "source": [
        "selector.fit(X_transformed, labels)"
      ],
      "execution_count": 41,
      "outputs": [
        {
          "output_type": "execute_result",
          "data": {
            "text/plain": [
              "SelectPercentile(percentile=20, score_func=<function chi2 at 0x7fc217f98f28>)"
            ]
          },
          "metadata": {
            "tags": []
          },
          "execution_count": 41
        }
      ]
    },
    {
      "cell_type": "code",
      "metadata": {
        "id": "NTsayQFA3Al0"
      },
      "source": [
        "selected_tokens_with_IDF = [tokens_with_IDF[idx] for idx in selector.get_support(indices=True)]"
      ],
      "execution_count": 42,
      "outputs": []
    },
    {
      "cell_type": "code",
      "metadata": {
        "id": "8rHFJO8P3AmB",
        "colab": {
          "base_uri": "https://localhost:8080/"
        },
        "outputId": "da18d50e-12ca-4a70-8d09-61335146286d"
      },
      "source": [
        "print(len(selected_tokens_with_IDF))"
      ],
      "execution_count": 43,
      "outputs": [
        {
          "output_type": "stream",
          "text": [
            "1740\n"
          ],
          "name": "stdout"
        }
      ]
    },
    {
      "cell_type": "code",
      "metadata": {
        "id": "2ymE6BOk3AmR",
        "colab": {
          "base_uri": "https://localhost:8080/"
        },
        "outputId": "c872e6b3-4561-4def-f2c4-046fb29a4eea"
      },
      "source": [
        "for feature, idf in selected_tokens_with_IDF[0:20]: print('{0:.6f} => {1}'.format(idf, feature))"
      ],
      "execution_count": 44,
      "outputs": [
        {
          "output_type": "stream",
          "text": [
            "9.454573 => aberadez\n",
            "9.454573 => abunyasha\n",
            "9.454573 => adworningju\n",
            "8.761426 => akselenc\n",
            "9.454573 => alexigrey\n",
            "4.905973 => alfabank\n",
            "6.592372 => alfabankby\n",
            "9.454573 => alushin\n",
            "9.454573 => andreymalgin\n",
            "9.454573 => andreytr\n",
            "8.761426 => antimaydan\n",
            "9.049108 => apple\n",
            "9.454573 => appstore\n",
            "9.454573 => arhangelmisha\n",
            "9.454573 => artemycheros\n",
            "8.761426 => awards\n",
            "9.049108 => balamot\n",
            "9.454573 => bankitb\n",
            "8.538282 => bbb\n",
            "9.454573 => behlbride\n"
          ],
          "name": "stdout"
        }
      ]
    },
    {
      "cell_type": "code",
      "metadata": {
        "id": "XVEZ9yMy3Ame"
      },
      "source": [
        "selected_and_sorted_tokens_with_IDF = sorted(selected_tokens_with_IDF, key=lambda it: (-it[1], it[0]))"
      ],
      "execution_count": 45,
      "outputs": []
    },
    {
      "cell_type": "code",
      "metadata": {
        "id": "dHE8zK9p3Amq",
        "colab": {
          "base_uri": "https://localhost:8080/"
        },
        "outputId": "ed300c1a-fb46-4045-aa88-72231671d3e0"
      },
      "source": [
        "for feature, idf in selected_and_sorted_tokens_with_IDF[0:20]: print('{0:.6f} => {1}'.format(idf, feature))"
      ],
      "execution_count": 46,
      "outputs": [
        {
          "output_type": "stream",
          "text": [
            "9.454573 => aberadez\n",
            "9.454573 => abunyasha\n",
            "9.454573 => adworningju\n",
            "9.454573 => alexigrey\n",
            "9.454573 => alushin\n",
            "9.454573 => andreymalgin\n",
            "9.454573 => andreytr\n",
            "9.454573 => appstore\n",
            "9.454573 => arhangelmisha\n",
            "9.454573 => artemycheros\n",
            "9.454573 => bankitb\n",
            "9.454573 => behlbride\n",
            "9.454573 => bosacoworavu\n",
            "9.454573 => bullethunter\n",
            "9.454573 => buribedixuk\n",
            "9.454573 => catspower\n",
            "9.454573 => cgillenpiy\n",
            "9.454573 => chumikov\n",
            "9.454573 => citybusicyti\n",
            "9.454573 => come\n"
          ],
          "name": "stdout"
        }
      ]
    },
    {
      "cell_type": "code",
      "metadata": {
        "id": "XDarHB9URuKQ"
      },
      "source": [
        "import time"
      ],
      "execution_count": 47,
      "outputs": []
    },
    {
      "cell_type": "markdown",
      "metadata": {
        "id": "sXQ3zYTVhnfv"
      },
      "source": [
        "# ~ Testing Logistic Regression (without search) ~\n",
        "\n"
      ]
    },
    {
      "cell_type": "code",
      "metadata": {
        "id": "CZ1bY-cF3Am0"
      },
      "source": [
        "from sklearn.linear_model import LogisticRegression"
      ],
      "execution_count": 48,
      "outputs": []
    },
    {
      "cell_type": "code",
      "metadata": {
        "id": "amxAcxE33Am-"
      },
      "source": [
        "cls = LogisticRegression(solver='liblinear', verbose=True)"
      ],
      "execution_count": 49,
      "outputs": []
    },
    {
      "cell_type": "code",
      "metadata": {
        "id": "rbgxghlW3AnL"
      },
      "source": [
        "X_transformed_and_selected = selector.transform(X_transformed)"
      ],
      "execution_count": 50,
      "outputs": []
    },
    {
      "cell_type": "code",
      "metadata": {
        "id": "PUHEy61d3AnV",
        "colab": {
          "base_uri": "https://localhost:8080/"
        },
        "outputId": "fb9b0a94-2a57-46f6-d26c-9345978f5c83"
      },
      "source": [
        "cls.fit(X_transformed_and_selected, labels)"
      ],
      "execution_count": 51,
      "outputs": [
        {
          "output_type": "stream",
          "text": [
            "[LibLinear]"
          ],
          "name": "stdout"
        },
        {
          "output_type": "execute_result",
          "data": {
            "text/plain": [
              "LogisticRegression(C=1.0, class_weight=None, dual=False, fit_intercept=True,\n",
              "                   intercept_scaling=1, l1_ratio=None, max_iter=100,\n",
              "                   multi_class='auto', n_jobs=None, penalty='l2',\n",
              "                   random_state=None, solver='liblinear', tol=0.0001,\n",
              "                   verbose=True, warm_start=False)"
            ]
          },
          "metadata": {
            "tags": []
          },
          "execution_count": 51
        }
      ]
    },
    {
      "cell_type": "code",
      "metadata": {
        "id": "-5rsanfy3Anl"
      },
      "source": [
        "classes_list = list(cls.classes_)"
      ],
      "execution_count": 52,
      "outputs": []
    },
    {
      "cell_type": "code",
      "metadata": {
        "id": "Q4tZdIF73Anu",
        "colab": {
          "base_uri": "https://localhost:8080/"
        },
        "outputId": "68738bce-502e-48db-997e-2a2c36d4df28"
      },
      "source": [
        "print(classes_list)"
      ],
      "execution_count": 53,
      "outputs": [
        {
          "output_type": "stream",
          "text": [
            "['negative', 'neutral', 'positive']\n"
          ],
          "name": "stdout"
        }
      ]
    },
    {
      "cell_type": "code",
      "metadata": {
        "id": "gWYdp6G33An5"
      },
      "source": [
        "txts, lbls = load_sentirueval_2016('/content/drive/My Drive/banks_test_etalon.xml')"
      ],
      "execution_count": 54,
      "outputs": []
    },
    {
      "cell_type": "code",
      "metadata": {
        "id": "AV7UgtCR2J44"
      },
      "source": [
        "# удаляем нейтральные твиты для последующего рассчёта F1-меры\r\n",
        "texts_for_testing = [txts[i] for i in range(len(txts)) if lbls[i] != 'neutral']\r\n",
        "labels_for_testing = [l for l in lbls if l != 'neutral']"
      ],
      "execution_count": 55,
      "outputs": []
    },
    {
      "cell_type": "code",
      "metadata": {
        "id": "7xING6JB3AoE"
      },
      "source": [
        "from sklearn.pipeline import Pipeline"
      ],
      "execution_count": 56,
      "outputs": []
    },
    {
      "cell_type": "code",
      "metadata": {
        "id": "aYhXAKBd3AoQ"
      },
      "source": [
        "pipeline_for_se = Pipeline(\n",
        "    [\n",
        "        ('vectorizer', vectorizer),\n",
        "        ('tfidf', transformer),\n",
        "        ('selector', selector),\n",
        "        ('final_classifier', cls)\n",
        "    ]\n",
        ")"
      ],
      "execution_count": 57,
      "outputs": []
    },
    {
      "cell_type": "code",
      "metadata": {
        "id": "6WrREaqR3Aoi"
      },
      "source": [
        "from sklearn.metrics import roc_curve\n",
        "import numpy as np"
      ],
      "execution_count": 58,
      "outputs": []
    },
    {
      "cell_type": "code",
      "metadata": {
        "id": "neF6YaI43Aor"
      },
      "source": [
        "probabilities = pipeline_for_se.predict_proba(texts_for_testing)"
      ],
      "execution_count": 59,
      "outputs": []
    },
    {
      "cell_type": "code",
      "metadata": {
        "id": "N9_U60_Z3Ao1"
      },
      "source": [
        "y_true_positives = list(map(lambda it: 1 if it == 'positive' else 0, labels_for_testing))\n",
        "y_score_positives = probabilities[:, classes_list.index('positive')]"
      ],
      "execution_count": 60,
      "outputs": []
    },
    {
      "cell_type": "code",
      "metadata": {
        "id": "zQgLkmmJ3Ao_"
      },
      "source": [
        "fpr_positives, tpr_positives, _, = roc_curve(y_true_positives, y_score_positives)"
      ],
      "execution_count": 61,
      "outputs": []
    },
    {
      "cell_type": "code",
      "metadata": {
        "id": "YLVCijyv3ApJ"
      },
      "source": [
        "y_true_negatives = list(map(lambda it: 1 if it == 'negative' else 0, labels_for_testing))\n",
        "y_score_negatives = probabilities[:, classes_list.index('negative')]\n",
        "fpr_negatives, tpr_negatives, _, = roc_curve(y_true_negatives, y_score_negatives)"
      ],
      "execution_count": 62,
      "outputs": []
    },
    {
      "cell_type": "code",
      "metadata": {
        "id": "xmMC82b43Apb"
      },
      "source": [
        "# y_true_neutrals = list(map(lambda it: 1 if it == 'neutral' else 0, labels_for_testing))\n",
        "# y_score_neutrals = probabilities[:, classes_list.index('neutral')]\n",
        "# fpr_neutrals, tpr_neutrals, _, = roc_curve(y_true_neutrals, y_score_neutrals)"
      ],
      "execution_count": 63,
      "outputs": []
    },
    {
      "cell_type": "code",
      "metadata": {
        "id": "RAclBVn63AqJ",
        "colab": {
          "base_uri": "https://localhost:8080/",
          "height": 295
        },
        "outputId": "fce26e20-a1eb-4acc-90bc-97a7da2facda"
      },
      "source": [
        "import matplotlib.pyplot as plt\n",
        "plt.figure(1)\n",
        "plt.plot([0, 1], [0, 1], 'k--')\n",
        "plt.plot(fpr_positives, tpr_positives, label='Positive Sentiment')\n",
        "plt.plot(fpr_negatives, tpr_negatives, label='Negative Sentiment')\n",
        "# plt.plot(fpr_neutrals, tpr_neutrals, label='Neutral Sentiment')\n",
        "plt.xlabel('False positive rate')\n",
        "plt.ylabel('True positive rate')\n",
        "plt.title('ROC curve')\n",
        "plt.legend(loc='best')\n",
        "plt.show()"
      ],
      "execution_count": 64,
      "outputs": [
        {
          "output_type": "display_data",
          "data": {
            "image/png": "[encoded data removed]",
            "text/plain": [
              "<Figure size 432x288 with 1 Axes>"
            ]
          },
          "metadata": {
            "tags": [],
            "needs_background": "light"
          }
        }
      ]
    },
    {
      "cell_type": "code",
      "metadata": {
        "id": "9VXpmg2p3AqS",
        "colab": {
          "base_uri": "https://localhost:8080/"
        },
        "outputId": "cb1eab23-b015-4732-d642-5e97495cb4ab"
      },
      "source": [
        "from sklearn.metrics import f1_score\n",
        "predicted_labels = pipeline_for_se.predict(texts_for_testing)\n",
        "print('F1-micro = {0:.6f}'.format(f1_score(labels_for_testing, predicted_labels, average='micro')))\n",
        "print('F1-macro = {0:.6f}'.format(f1_score(labels_for_testing, predicted_labels, average='macro')))"
      ],
      "execution_count": 65,
      "outputs": [
        {
          "output_type": "stream",
          "text": [
            "F1-micro = 0.402791\n",
            "F1-macro = 0.310407\n"
          ],
          "name": "stdout"
        }
      ]
    },
    {
      "cell_type": "code",
      "metadata": {
        "id": "CnubGC2n3Aqa",
        "colab": {
          "base_uri": "https://localhost:8080/"
        },
        "outputId": "8e15423c-e685-487d-c482-3cade1ae3017"
      },
      "source": [
        "from sklearn.metrics import classification_report\n",
        "print(classification_report(labels_for_testing, predicted_labels, digits=6))"
      ],
      "execution_count": 66,
      "outputs": [
        {
          "output_type": "stream",
          "text": [
            "              precision    recall  f1-score   support\n",
            "\n",
            "    negative   0.906921  0.495437  0.640809       767\n",
            "     neutral   0.000000  0.000000  0.000000         0\n",
            "    positive   0.929825  0.172078  0.290411       308\n",
            "\n",
            "    accuracy                       0.402791      1075\n",
            "   macro avg   0.612249  0.222505  0.310407      1075\n",
            "weighted avg   0.913483  0.402791  0.540416      1075\n",
            "\n"
          ],
          "name": "stdout"
        },
        {
          "output_type": "stream",
          "text": [
            "/usr/local/lib/python3.6/dist-packages/sklearn/metrics/_classification.py:1272: UndefinedMetricWarning: Recall and F-score are ill-defined and being set to 0.0 in labels with no true samples. Use `zero_division` parameter to control this behavior.\n",
            "  _warn_prf(average, modifier, msg_start, len(result))\n"
          ],
          "name": "stderr"
        }
      ]
    },
    {
      "cell_type": "markdown",
      "metadata": {
        "id": "ndY7_Hs6h-KN"
      },
      "source": [
        "# ~ gCV + LogRegr ~"
      ]
    },
    {
      "cell_type": "code",
      "metadata": {
        "id": "QQNMMpwn3Aql"
      },
      "source": [
        "from sklearn.model_selection import GridSearchCV\n",
        "from sklearn.metrics import make_scorer\n",
        "f1_macro_scorer = make_scorer(f1_score, average='macro')\n",
        "gcv_lr = GridSearchCV(\n",
        "    estimator=LogisticRegression(solver='liblinear'),\n",
        "    param_grid={'C': [1e-2, 1e-1, 1, 1e+1, 1e+2, 1e+3], 'penalty': ['l1', 'l2', 'elasticnet']},\n",
        "    scoring=f1_macro_scorer,\n",
        "    n_jobs=-1,\n",
        ")"
      ],
      "execution_count": 67,
      "outputs": []
    },
    {
      "cell_type": "code",
      "metadata": {
        "id": "SeTxxFZ23Aqu",
        "colab": {
          "base_uri": "https://localhost:8080/"
        },
        "outputId": "e5ee8095-5b39-4641-8be9-72e37e5dd424"
      },
      "source": [
        "gcv_lr_tp1 = time.time()\n",
        "gcv_lr.fit(X_transformed_and_selected, labels)\n",
        "gcv_lr_tp2 = time.time()\n",
        "print(f'Time needed for search: {gcv_lr_tp2 - gcv_lr_tp1}s')"
      ],
      "execution_count": 68,
      "outputs": [
        {
          "output_type": "stream",
          "text": [
            "Time needed for search: 6.8721022605896s\n"
          ],
          "name": "stdout"
        }
      ]
    },
    {
      "cell_type": "code",
      "metadata": {
        "id": "k8YZJ11T3Aq3",
        "colab": {
          "base_uri": "https://localhost:8080/"
        },
        "outputId": "73475d20-6bbc-4258-b879-b5b9bb79b977"
      },
      "source": [
        "gcv_lr_bp = gcv_lr.best_params_\n",
        "print(gcv_lr_bp)"
      ],
      "execution_count": 69,
      "outputs": [
        {
          "output_type": "stream",
          "text": [
            "{'C': 100.0, 'penalty': 'l2'}\n"
          ],
          "name": "stdout"
        }
      ]
    },
    {
      "cell_type": "code",
      "metadata": {
        "id": "kGdkcuar3ArA"
      },
      "source": [
        "bcls_gcv_lr = LogisticRegression(\n",
        "                                 solver='liblinear', \n",
        "                                 verbose=True, \n",
        "                                 C=gcv_lr_bp['C'], \n",
        "                                 penalty=gcv_lr_bp['penalty']\n",
        "                                )"
      ],
      "execution_count": 70,
      "outputs": []
    },
    {
      "cell_type": "code",
      "metadata": {
        "id": "mbZPs8m66_wv",
        "colab": {
          "base_uri": "https://localhost:8080/"
        },
        "outputId": "35a96ab2-a3c1-47a5-9733-51750609e93d"
      },
      "source": [
        "gcv_lr_tp3 = time.time()\n",
        "bcls_gcv_lr.fit(X_transformed_and_selected, labels)\n",
        "gcv_lr_tp4 = time.time()\n",
        "print(f'Time needed for computation: {gcv_lr_tp4 - gcv_lr_tp3}s')"
      ],
      "execution_count": 71,
      "outputs": [
        {
          "output_type": "stream",
          "text": [
            "[LibLinear]Time needed for computation: 0.1914377212524414s\n"
          ],
          "name": "stdout"
        }
      ]
    },
    {
      "cell_type": "code",
      "metadata": {
        "id": "8DkwlELZ3ArJ"
      },
      "source": [
        "best_pipeline_for_se = Pipeline(\n",
        "    [\n",
        "        ('vectorizer', vectorizer),\n",
        "        ('tfidf', transformer),\n",
        "        ('selector', selector),\n",
        "        ('final_classifier', bcls_gcv_lr)\n",
        "    ]\n",
        ")"
      ],
      "execution_count": 72,
      "outputs": []
    },
    {
      "cell_type": "code",
      "metadata": {
        "id": "Vi5OtXBa3ArR"
      },
      "source": [
        "probabilities = best_pipeline_for_se.predict_proba(texts_for_testing)\n",
        "\n",
        "y_true_positives = list(map(lambda it: 1 if it == 'positive' else 0, labels_for_testing))\n",
        "y_score_positives = probabilities[:, classes_list.index('positive')]\n",
        "fpr_positives, tpr_positives, _, = roc_curve(y_true_positives, y_score_positives)\n",
        "\n",
        "y_true_negatives = list(map(lambda it: 1 if it == 'negative' else 0, labels_for_testing))\n",
        "y_score_negatives = probabilities[:, classes_list.index('negative')]\n",
        "fpr_negatives, tpr_negatives, _, = roc_curve(y_true_negatives, y_score_negatives)\n",
        "\n",
        "# y_true_neutrals = list(map(lambda it: 1 if it == 'neutral' else 0, labels_for_testing))\n",
        "# y_score_neutrals = probabilities[:, classes_list.index('neutral')]\n",
        "# fpr_neutrals, tpr_neutrals, _, = roc_curve(y_true_neutrals, y_score_neutrals)"
      ],
      "execution_count": 73,
      "outputs": []
    },
    {
      "cell_type": "code",
      "metadata": {
        "id": "4fmMWhuJ3ArY",
        "colab": {
          "base_uri": "https://localhost:8080/",
          "height": 295
        },
        "outputId": "48db7a70-2a49-48ba-db6d-f0f239fae27a"
      },
      "source": [
        "plt.figure(2)\n",
        "plt.plot([0, 1], [0, 1], 'k--')\n",
        "plt.plot(fpr_positives, tpr_positives, label='Positive Sentiment')\n",
        "plt.plot(fpr_negatives, tpr_negatives, label='Negative Sentiment')\n",
        "# plt.plot(fpr_neutrals, tpr_neutrals, label='Neutral Sentiment')\n",
        "plt.xlabel('False positive rate')\n",
        "plt.ylabel('True positive rate')\n",
        "plt.title('ROC curve')\n",
        "plt.legend(loc='best')\n",
        "plt.show()"
      ],
      "execution_count": 74,
      "outputs": [
        {
          "output_type": "display_data",
          "data": {
            "image/png": "[encoded data removed]",
            "text/plain": [
              "<Figure size 432x288 with 1 Axes>"
            ]
          },
          "metadata": {
            "tags": [],
            "needs_background": "light"
          }
        }
      ]
    },
    {
      "cell_type": "code",
      "metadata": {
        "id": "nszIVJ6B3Arh",
        "colab": {
          "base_uri": "https://localhost:8080/"
        },
        "outputId": "289c17fc-f6c9-48c5-af7b-3c6987a1ca0f"
      },
      "source": [
        "predicted_labels = best_pipeline_for_se.predict(texts_for_testing)\n",
        "fmi_gcv_lr = f1_score(labels_for_testing, predicted_labels, average='micro')\n",
        "fma_gcv_lr = f1_score(labels_for_testing, predicted_labels, average='macro')\n",
        "print('F1-micro = {0:.6f}'.format(fmi_gcv_lr))\n",
        "print('F1-macro = {0:.6f}'.format(fma_gcv_lr))"
      ],
      "execution_count": 75,
      "outputs": [
        {
          "output_type": "stream",
          "text": [
            "F1-micro = 0.510698\n",
            "F1-macro = 0.390946\n"
          ],
          "name": "stdout"
        }
      ]
    },
    {
      "cell_type": "code",
      "metadata": {
        "id": "0xTP-OMd735q",
        "outputId": "336f7af7-cc17-42bb-ee11-78281b2b3e6e",
        "colab": {
          "base_uri": "https://localhost:8080/"
        }
      },
      "source": [
        "clsrep_gcv_lr = classification_report(labels_for_testing, predicted_labels, digits=6)"
      ],
      "execution_count": 76,
      "outputs": [
        {
          "output_type": "stream",
          "text": [
            "/usr/local/lib/python3.6/dist-packages/sklearn/metrics/_classification.py:1272: UndefinedMetricWarning: Recall and F-score are ill-defined and being set to 0.0 in labels with no true samples. Use `zero_division` parameter to control this behavior.\n",
            "  _warn_prf(average, modifier, msg_start, len(result))\n"
          ],
          "name": "stderr"
        }
      ]
    },
    {
      "cell_type": "code",
      "metadata": {
        "id": "XJD9M5gN3Arr",
        "colab": {
          "base_uri": "https://localhost:8080/"
        },
        "outputId": "24904f78-e5d4-4b81-ffe8-8166881f9860"
      },
      "source": [
        "print(clsrep_gcv_lr)"
      ],
      "execution_count": 77,
      "outputs": [
        {
          "output_type": "stream",
          "text": [
            "              precision    recall  f1-score   support\n",
            "\n",
            "    negative   0.849524  0.581486  0.690402       767\n",
            "     neutral   0.000000  0.000000  0.000000         0\n",
            "    positive   0.865546  0.334416  0.482436       308\n",
            "\n",
            "    accuracy                       0.510698      1075\n",
            "   macro avg   0.571690  0.305301  0.390946      1075\n",
            "weighted avg   0.854114  0.510698  0.630818      1075\n",
            "\n"
          ],
          "name": "stdout"
        }
      ]
    },
    {
      "cell_type": "markdown",
      "metadata": {
        "id": "DuFpqZ7ajNfi"
      },
      "source": [
        "# ~ rCV + LogReg ~"
      ]
    },
    {
      "cell_type": "code",
      "metadata": {
        "id": "WWU98vzu3Ar3"
      },
      "source": [
        "from sklearn.model_selection import RandomizedSearchCV"
      ],
      "execution_count": 78,
      "outputs": []
    },
    {
      "cell_type": "code",
      "metadata": {
        "id": "e5GB1A_scs17"
      },
      "source": [
        "rcv_lr = RandomizedSearchCV(\n",
        "    estimator=LogisticRegression(solver='liblinear'),\n",
        "    param_distributions={\n",
        "                'C': [1e-2, 1e-1, 1, 1e+1, 1e+2, 1e+3], \n",
        "                'penalty': ['l1', 'l2', 'elasticnet']\n",
        "                },\n",
        "    n_iter = 100,\n",
        "    scoring=f1_macro_scorer,\n",
        "    n_jobs=-1\n",
        ")"
      ],
      "execution_count": 79,
      "outputs": []
    },
    {
      "cell_type": "code",
      "metadata": {
        "id": "Q2jqtSA_hPQh",
        "colab": {
          "base_uri": "https://localhost:8080/"
        },
        "outputId": "e054de15-b05a-4dad-826b-ff59e70fecd1"
      },
      "source": [
        "rcv_lr_tp1 = time.time()\n",
        "rcv_lr.fit(X_transformed_and_selected, labels)\n",
        "rcv_lr_tp2 = time.time()"
      ],
      "execution_count": 80,
      "outputs": [
        {
          "output_type": "stream",
          "text": [
            "/usr/local/lib/python3.6/dist-packages/sklearn/model_selection/_search.py:281: UserWarning: The total space of parameters 18 is smaller than n_iter=100. Running 18 iterations. For exhaustive searches, use GridSearchCV.\n",
            "  % (grid_size, self.n_iter, grid_size), UserWarning)\n"
          ],
          "name": "stderr"
        }
      ]
    },
    {
      "cell_type": "code",
      "metadata": {
        "id": "i7nYQRGmhMMk",
        "colab": {
          "base_uri": "https://localhost:8080/"
        },
        "outputId": "4feca8e0-4d87-4f36-b250-308ae82cc895"
      },
      "source": [
        "print(f'Time needed for search: {rcv_lr_tp2 - rcv_lr_tp1}s')\n",
        "rcv_lr_bp = rcv_lr.best_params_\n",
        "print(rcv_lr_bp)"
      ],
      "execution_count": 81,
      "outputs": [
        {
          "output_type": "stream",
          "text": [
            "Time needed for search: 19.20056176185608s\n",
            "{'penalty': 'l2', 'C': 100.0}\n"
          ],
          "name": "stdout"
        }
      ]
    },
    {
      "cell_type": "code",
      "metadata": {
        "id": "MewoAqNJrhXN",
        "colab": {
          "base_uri": "https://localhost:8080/"
        },
        "outputId": "a775c256-cbde-48be-c446-7b9b35bfcc67"
      },
      "source": [
        "bcls_rcv_lr = LogisticRegression(\n",
        "                                 solver='liblinear', \n",
        "                                 verbose=True, \n",
        "                                 C=rcv_lr_bp['C'], \n",
        "                                 penalty=rcv_lr_bp['penalty']\n",
        "                                 )\n",
        "rcv_lr_tp3 = time.time()\n",
        "bcls_rcv_lr.fit(X_transformed_and_selected, labels)\n",
        "rcv_lr_tp4 = time.time()\n",
        "print('Time needed for computations: ', rcv_lr_tp4 - rcv_lr_tp3)"
      ],
      "execution_count": 82,
      "outputs": [
        {
          "output_type": "stream",
          "text": [
            "[LibLinear]Time needed for computations:  0.21231603622436523\n"
          ],
          "name": "stdout"
        }
      ]
    },
    {
      "cell_type": "code",
      "metadata": {
        "id": "PDFoSZNvsPq1"
      },
      "source": [
        "rand_pipeline_for_se = Pipeline(\n",
        "    [\n",
        "        ('vectorizer', vectorizer),\n",
        "        ('tfidf', transformer),\n",
        "        ('selector', selector),\n",
        "        ('final_classifier', bcls_rcv_lr)\n",
        "    ]\n",
        ")"
      ],
      "execution_count": 83,
      "outputs": []
    },
    {
      "cell_type": "code",
      "metadata": {
        "id": "cH4bO8pKsPr1"
      },
      "source": [
        "probabilities = rand_pipeline_for_se.predict_proba(texts_for_testing)\n",
        "\n",
        "y_true_positives = list(map(lambda it: 1 if it == 'positive' else 0, labels_for_testing))\n",
        "y_score_positives = probabilities[:, classes_list.index('positive')]\n",
        "fpr_positives, tpr_positives, _, = roc_curve(y_true_positives, y_score_positives)\n",
        "\n",
        "y_true_negatives = list(map(lambda it: 1 if it == 'negative' else 0, labels_for_testing))\n",
        "y_score_negatives = probabilities[:, classes_list.index('negative')]\n",
        "fpr_negatives, tpr_negatives, _, = roc_curve(y_true_negatives, y_score_negatives)\n",
        "\n",
        "# y_true_neutrals = list(map(lambda it: 1 if it == 'neutral' else 0, labels_for_testing))\n",
        "# y_score_neutrals = probabilities[:, classes_list.index('neutral')]\n",
        "# fpr_neutrals, tpr_neutrals, _, = roc_curve(y_true_neutrals, y_score_neutrals)"
      ],
      "execution_count": 84,
      "outputs": []
    },
    {
      "cell_type": "code",
      "metadata": {
        "id": "-8T45I9vsPsd",
        "colab": {
          "base_uri": "https://localhost:8080/",
          "height": 295
        },
        "outputId": "75a82d2c-2b1d-44f3-9690-10242c11eeef"
      },
      "source": [
        "plt.figure(3)\n",
        "plt.plot([0, 1], [0, 1], 'k--')\n",
        "plt.plot(fpr_positives, tpr_positives, label='Positive Sentiment')\n",
        "plt.plot(fpr_negatives, tpr_negatives, label='Negative Sentiment')\n",
        "# plt.plot(fpr_neutrals, tpr_neutrals, label='Neutral Sentiment')\n",
        "plt.xlabel('False positive rate')\n",
        "plt.ylabel('True positive rate')\n",
        "plt.title('ROC curve')\n",
        "plt.legend(loc='best')\n",
        "plt.show()"
      ],
      "execution_count": 85,
      "outputs": [
        {
          "output_type": "display_data",
          "data": {
            "image/png": "[encoded data removed]",
            "text/plain": [
              "<Figure size 432x288 with 1 Axes>"
            ]
          },
          "metadata": {
            "tags": [],
            "needs_background": "light"
          }
        }
      ]
    },
    {
      "cell_type": "code",
      "metadata": {
        "id": "prEV81HPsPs9",
        "colab": {
          "base_uri": "https://localhost:8080/"
        },
        "outputId": "abebaa5b-2275-489b-a949-2a86b485d558"
      },
      "source": [
        "predicted_labels = rand_pipeline_for_se.predict(texts_for_testing)\n",
        "fmi_rcv_lr = f1_score(labels_for_testing, predicted_labels, average='micro')\n",
        "fma_rcv_lr = f1_score(labels_for_testing, predicted_labels, average='macro')\n",
        "print('F1-micro = {0:.6f}'.format(fmi_rcv_lr))\n",
        "print('F1-macro = {0:.6f}'.format(fma_rcv_lr))"
      ],
      "execution_count": 86,
      "outputs": [
        {
          "output_type": "stream",
          "text": [
            "F1-micro = 0.510698\n",
            "F1-macro = 0.390946\n"
          ],
          "name": "stdout"
        }
      ]
    },
    {
      "cell_type": "code",
      "metadata": {
        "id": "PqkwLQK5sPtd",
        "colab": {
          "base_uri": "https://localhost:8080/"
        },
        "outputId": "e2fd4779-a73d-4f42-c4a9-1fd159b7c557"
      },
      "source": [
        "clsrep_rcv_lr = classification_report(labels_for_testing, predicted_labels, digits=6)\n",
        "print(clsrep_rcv_lr)"
      ],
      "execution_count": 87,
      "outputs": [
        {
          "output_type": "stream",
          "text": [
            "              precision    recall  f1-score   support\n",
            "\n",
            "    negative   0.849524  0.581486  0.690402       767\n",
            "     neutral   0.000000  0.000000  0.000000         0\n",
            "    positive   0.865546  0.334416  0.482436       308\n",
            "\n",
            "    accuracy                       0.510698      1075\n",
            "   macro avg   0.571690  0.305301  0.390946      1075\n",
            "weighted avg   0.854114  0.510698  0.630818      1075\n",
            "\n"
          ],
          "name": "stdout"
        },
        {
          "output_type": "stream",
          "text": [
            "/usr/local/lib/python3.6/dist-packages/sklearn/metrics/_classification.py:1272: UndefinedMetricWarning: Recall and F-score are ill-defined and being set to 0.0 in labels with no true samples. Use `zero_division` parameter to control this behavior.\n",
            "  _warn_prf(average, modifier, msg_start, len(result))\n"
          ],
          "name": "stderr"
        }
      ]
    },
    {
      "cell_type": "markdown",
      "metadata": {
        "id": "1LvOiBOqA3HZ"
      },
      "source": [
        "# ~ gCV + SGDC ~"
      ]
    },
    {
      "cell_type": "code",
      "metadata": {
        "id": "fTGkSbcZA45l"
      },
      "source": [
        "from sklearn.linear_model import SGDClassifier"
      ],
      "execution_count": 88,
      "outputs": []
    },
    {
      "cell_type": "code",
      "metadata": {
        "id": "_ppiipGcA46U"
      },
      "source": [
        "gcv_sgdc = GridSearchCV(\n",
        "    estimator=SGDClassifier(loss='log'),\n",
        "    param_grid={\n",
        "                'alpha': [1e-4, 1e-3, 1e-2, 1e-1, 1], \n",
        "                'penalty': ['l1', 'l2', 'elasticnet']\n",
        "                },\n",
        "    scoring=f1_macro_scorer,\n",
        "    n_jobs=-1\n",
        ")"
      ],
      "execution_count": 89,
      "outputs": []
    },
    {
      "cell_type": "code",
      "metadata": {
        "id": "9fKKeYtkA47B"
      },
      "source": [
        "gcv_sgdc_tp1 = time.time()\n",
        "gcv_sgdc.fit(X_transformed_and_selected, labels)\n",
        "gcv_sgdc_tp2 = time.time()"
      ],
      "execution_count": 90,
      "outputs": []
    },
    {
      "cell_type": "code",
      "metadata": {
        "id": "0LOmZcgOA47j",
        "colab": {
          "base_uri": "https://localhost:8080/"
        },
        "outputId": "4143621d-e3ef-4363-e781-dd15f55fd280"
      },
      "source": [
        "print(f'Time needed for search: {gcv_sgdc_tp2 - gcv_sgdc_tp1}s')\n",
        "gcv_sgdc_bp = gcv_sgdc.best_params_\n",
        "print(gcv_sgdc_bp)"
      ],
      "execution_count": 91,
      "outputs": [
        {
          "output_type": "stream",
          "text": [
            "Time needed for search: 4.51214861869812s\n",
            "{'alpha': 0.0001, 'penalty': 'l1'}\n"
          ],
          "name": "stdout"
        }
      ]
    },
    {
      "cell_type": "code",
      "metadata": {
        "id": "GCjXVnQGA48A"
      },
      "source": [
        "bcls_gcv_sgdc = SGDClassifier( \n",
        "                     loss='log',\n",
        "                     penalty=gcv_sgdc_bp['penalty'],\n",
        "                     alpha=gcv_sgdc_bp['alpha'],\n",
        "                     max_iter=1000\n",
        "                    )"
      ],
      "execution_count": 92,
      "outputs": []
    },
    {
      "cell_type": "code",
      "metadata": {
        "id": "rHrpOtMNA48g"
      },
      "source": [
        "gcv_sgdc_tp3 = time.time()\n",
        "bcls_gcv_sgdc.fit(X_transformed_and_selected, labels)\n",
        "gcv_sgdc_tp4 = time.time()"
      ],
      "execution_count": 93,
      "outputs": []
    },
    {
      "cell_type": "code",
      "metadata": {
        "id": "AKui0lYCA487",
        "colab": {
          "base_uri": "https://localhost:8080/"
        },
        "outputId": "02311959-757c-4280-8175-4bdeabb3989d"
      },
      "source": [
        "print(f'Time needed for computations: {gcv_sgdc_tp4 - gcv_sgdc_tp3}s')"
      ],
      "execution_count": 94,
      "outputs": [
        {
          "output_type": "stream",
          "text": [
            "Time needed for computations: 0.08361601829528809s\n"
          ],
          "name": "stdout"
        }
      ]
    },
    {
      "cell_type": "code",
      "metadata": {
        "id": "a5u-AnAIA49Z"
      },
      "source": [
        "sgdc_pipeline_for_se = Pipeline(\n",
        "    [\n",
        "        ('vectorizer', vectorizer),\n",
        "        ('tfidf', transformer),\n",
        "        ('selector', selector),\n",
        "        ('final_classifier', bcls_gcv_sgdc)\n",
        "    ]\n",
        ")"
      ],
      "execution_count": 95,
      "outputs": []
    },
    {
      "cell_type": "code",
      "metadata": {
        "id": "zH-2ERK4A49z"
      },
      "source": [
        "probabilities = sgdc_pipeline_for_se.predict_proba(texts_for_testing)\n",
        "\n",
        "y_true_positives = list(map(lambda it: 1 if it == 'positive' else 0, labels_for_testing))\n",
        "y_score_positives = probabilities[:, classes_list.index('positive')]\n",
        "fpr_positives, tpr_positives, _, = roc_curve(y_true_positives, y_score_positives)\n",
        "\n",
        "y_true_negatives = list(map(lambda it: 1 if it == 'negative' else 0, labels_for_testing))\n",
        "y_score_negatives = probabilities[:, classes_list.index('negative')]\n",
        "fpr_negatives, tpr_negatives, _, = roc_curve(y_true_negatives, y_score_negatives)\n",
        "\n",
        "# y_true_neutrals = list(map(lambda it: 1 if it == 'neutral' else 0, labels_for_testing))\n",
        "# y_score_neutrals = probabilities[:, classes_list.index('neutral')]\n",
        "# fpr_neutrals, tpr_neutrals, _, = roc_curve(y_true_neutrals, y_score_neutrals)"
      ],
      "execution_count": 96,
      "outputs": []
    },
    {
      "cell_type": "code",
      "metadata": {
        "id": "MprP2DsdA4-K",
        "colab": {
          "base_uri": "https://localhost:8080/",
          "height": 295
        },
        "outputId": "59fae02e-d8af-4878-8a46-8f5a43db0254"
      },
      "source": [
        "plt.figure(4)\n",
        "plt.plot([0, 1], [0, 1], 'k--')\n",
        "plt.plot(fpr_positives, tpr_positives, label='Positive Sentiment')\n",
        "plt.plot(fpr_negatives, tpr_negatives, label='Negative Sentiment')\n",
        "# plt.plot(fpr_neutrals, tpr_neutrals, label='Neutral Sentiment')\n",
        "plt.xlabel('False positive rate')\n",
        "plt.ylabel('True positive rate')\n",
        "plt.title('ROC curve')\n",
        "plt.legend(loc='best')\n",
        "plt.show()"
      ],
      "execution_count": 97,
      "outputs": [
        {
          "output_type": "display_data",
          "data": {
            "image/png": "[encoded data removed]",
            "text/plain": [
              "<Figure size 432x288 with 1 Axes>"
            ]
          },
          "metadata": {
            "tags": [],
            "needs_background": "light"
          }
        }
      ]
    },
    {
      "cell_type": "code",
      "metadata": {
        "id": "EfP84R5tA4-k",
        "colab": {
          "base_uri": "https://localhost:8080/"
        },
        "outputId": "0c008d86-3301-4c35-fc42-5b2cc9cf54ed"
      },
      "source": [
        "predicted_labels = sgdc_pipeline_for_se.predict(texts_for_testing)\n",
        "fmi_gcv_sgdc = f1_score(labels_for_testing, predicted_labels, average='micro')\n",
        "fma_gcv_sgdc = f1_score(labels_for_testing, predicted_labels, average='macro')\n",
        "print('F1-micro = {0:.6f}'.format(fmi_gcv_sgdc))\n",
        "print('F1-macro = {0:.6f}'.format(fma_gcv_sgdc))"
      ],
      "execution_count": 98,
      "outputs": [
        {
          "output_type": "stream",
          "text": [
            "F1-micro = 0.428837\n",
            "F1-macro = 0.335595\n"
          ],
          "name": "stdout"
        }
      ]
    },
    {
      "cell_type": "code",
      "metadata": {
        "id": "vusV9pqvA4-8",
        "colab": {
          "base_uri": "https://localhost:8080/"
        },
        "outputId": "80763342-75c8-4436-f045-637e4fe3697e"
      },
      "source": [
        "clsrep_gcv_sgdc = classification_report(labels_for_testing, predicted_labels, digits=6)\n",
        "print(clsrep_gcv_sgdc)"
      ],
      "execution_count": 99,
      "outputs": [
        {
          "output_type": "stream",
          "text": [
            "              precision    recall  f1-score   support\n",
            "\n",
            "    negative   0.905530  0.512386  0.654455       767\n",
            "     neutral   0.000000  0.000000  0.000000         0\n",
            "    positive   0.871795  0.220779  0.352332       308\n",
            "\n",
            "    accuracy                       0.428837      1075\n",
            "   macro avg   0.592442  0.244388  0.335595      1075\n",
            "weighted avg   0.895864  0.428837  0.567893      1075\n",
            "\n"
          ],
          "name": "stdout"
        },
        {
          "output_type": "stream",
          "text": [
            "/usr/local/lib/python3.6/dist-packages/sklearn/metrics/_classification.py:1272: UndefinedMetricWarning: Recall and F-score are ill-defined and being set to 0.0 in labels with no true samples. Use `zero_division` parameter to control this behavior.\n",
            "  _warn_prf(average, modifier, msg_start, len(result))\n"
          ],
          "name": "stderr"
        }
      ]
    },
    {
      "cell_type": "markdown",
      "metadata": {
        "id": "iqGoxmwXjXe2"
      },
      "source": [
        "# ~ rCV + SGDClassifier ~"
      ]
    },
    {
      "cell_type": "code",
      "metadata": {
        "id": "ZHpBYh1ep9OG"
      },
      "source": [
        "from sklearn.linear_model import SGDClassifier"
      ],
      "execution_count": 100,
      "outputs": []
    },
    {
      "cell_type": "code",
      "metadata": {
        "id": "wKzxabpJ2-91"
      },
      "source": [
        "rcv_sgdc = RandomizedSearchCV(\n",
        "    estimator=SGDClassifier(loss='log'),\n",
        "    param_distributions={\n",
        "                'alpha': [1e-4, 1e-3, 1e-2, 1e-1, 1], \n",
        "                'penalty': ['l1', 'l2', 'elasticnet']\n",
        "                },\n",
        "    n_iter = 100,\n",
        "    scoring=f1_macro_scorer,\n",
        "    n_jobs=-1\n",
        ")"
      ],
      "execution_count": 101,
      "outputs": []
    },
    {
      "cell_type": "code",
      "metadata": {
        "id": "k-80-pKx4Ew9",
        "colab": {
          "base_uri": "https://localhost:8080/"
        },
        "outputId": "281e54dc-e3a5-4608-afa0-8550922167c1"
      },
      "source": [
        "rcv_sgdc_tp1 = time.time()\n",
        "rcv_sgdc.fit(X_transformed_and_selected, labels)\n",
        "rcv_sgdc_tp2 = time.time()"
      ],
      "execution_count": 102,
      "outputs": [
        {
          "output_type": "stream",
          "text": [
            "/usr/local/lib/python3.6/dist-packages/sklearn/model_selection/_search.py:281: UserWarning: The total space of parameters 15 is smaller than n_iter=100. Running 15 iterations. For exhaustive searches, use GridSearchCV.\n",
            "  % (grid_size, self.n_iter, grid_size), UserWarning)\n"
          ],
          "name": "stderr"
        }
      ]
    },
    {
      "cell_type": "code",
      "metadata": {
        "id": "G4TaxxGW4G3h",
        "colab": {
          "base_uri": "https://localhost:8080/"
        },
        "outputId": "7726ad1d-c240-429e-b4ac-975535975e4c"
      },
      "source": [
        "print(f'Time needed for search: {rcv_sgdc_tp2 - rcv_sgdc_tp1}s')\n",
        "rcv_sgdc_bp = rcv_sgdc.best_params_\n",
        "print(rcv_sgdc_bp)"
      ],
      "execution_count": 103,
      "outputs": [
        {
          "output_type": "stream",
          "text": [
            "Time needed for search: 4.681987047195435s\n",
            "{'penalty': 'l1', 'alpha': 0.0001}\n"
          ],
          "name": "stdout"
        }
      ]
    },
    {
      "cell_type": "code",
      "metadata": {
        "id": "MAlJFVX2wvfi"
      },
      "source": [
        "bcls_rcv_sgdc = SGDClassifier( \n",
        "                     loss='log',\n",
        "                     penalty=rcv_sgdc_bp['penalty'],\n",
        "                     alpha=rcv_sgdc_bp['alpha'],\n",
        "                     max_iter=1000\n",
        "                    )"
      ],
      "execution_count": 104,
      "outputs": []
    },
    {
      "cell_type": "code",
      "metadata": {
        "id": "8lR-xBh-xRqU"
      },
      "source": [
        "rcv_sgdc_tp3 = time.time()\n",
        "bcls_rcv_sgdc.fit(X_transformed_and_selected, labels)\n",
        "rcv_sgdc_tp4 = time.time()"
      ],
      "execution_count": 105,
      "outputs": []
    },
    {
      "cell_type": "code",
      "metadata": {
        "id": "K1-_8awAxlxo",
        "colab": {
          "base_uri": "https://localhost:8080/"
        },
        "outputId": "c5d37590-38d5-49e8-a04c-8d28e0675367"
      },
      "source": [
        "print(f'Time needed for computations: {rcv_sgdc_tp4 - rcv_sgdc_tp3}s')"
      ],
      "execution_count": 106,
      "outputs": [
        {
          "output_type": "stream",
          "text": [
            "Time needed for computations: 0.08480453491210938s\n"
          ],
          "name": "stdout"
        }
      ]
    },
    {
      "cell_type": "code",
      "metadata": {
        "id": "3QqNn4X2yTS5"
      },
      "source": [
        "sgdc_pipeline_for_se = Pipeline(\n",
        "    [\n",
        "        ('vectorizer', vectorizer),\n",
        "        ('tfidf', transformer),\n",
        "        ('selector', selector),\n",
        "        ('final_classifier', bcls_rcv_sgdc)\n",
        "    ]\n",
        ")"
      ],
      "execution_count": 107,
      "outputs": []
    },
    {
      "cell_type": "code",
      "metadata": {
        "id": "wv53glKgyTUA"
      },
      "source": [
        "probabilities = sgdc_pipeline_for_se.predict_proba(texts_for_testing)\n",
        "\n",
        "y_true_positives = list(map(lambda it: 1 if it == 'positive' else 0, labels_for_testing))\n",
        "y_score_positives = probabilities[:, classes_list.index('positive')]\n",
        "fpr_positives, tpr_positives, _, = roc_curve(y_true_positives, y_score_positives)\n",
        "\n",
        "y_true_negatives = list(map(lambda it: 1 if it == 'negative' else 0, labels_for_testing))\n",
        "y_score_negatives = probabilities[:, classes_list.index('negative')]\n",
        "fpr_negatives, tpr_negatives, _, = roc_curve(y_true_negatives, y_score_negatives)\n",
        "\n",
        "# y_true_neutrals = list(map(lambda it: 1 if it == 'neutral' else 0, labels_for_testing))\n",
        "# y_score_neutrals = probabilities[:, classes_list.index('neutral')]\n",
        "# fpr_neutrals, tpr_neutrals, _, = roc_curve(y_true_neutrals, y_score_neutrals)"
      ],
      "execution_count": 108,
      "outputs": []
    },
    {
      "cell_type": "code",
      "metadata": {
        "id": "KflXi6loyTUn",
        "colab": {
          "base_uri": "https://localhost:8080/",
          "height": 295
        },
        "outputId": "91e93863-6fc7-4fca-9502-192b78d33093"
      },
      "source": [
        "plt.figure(4)\n",
        "plt.plot([0, 1], [0, 1], 'k--')\n",
        "plt.plot(fpr_positives, tpr_positives, label='Positive Sentiment')\n",
        "plt.plot(fpr_negatives, tpr_negatives, label='Negative Sentiment')\n",
        "# plt.plot(fpr_neutrals, tpr_neutrals, label='Neutral Sentiment')\n",
        "plt.xlabel('False positive rate')\n",
        "plt.ylabel('True positive rate')\n",
        "plt.title('ROC curve')\n",
        "plt.legend(loc='best')\n",
        "plt.show()"
      ],
      "execution_count": 109,
      "outputs": [
        {
          "output_type": "display_data",
          "data": {
            "image/png": "[encoded data removed]",
            "text/plain": [
              "<Figure size 432x288 with 1 Axes>"
            ]
          },
          "metadata": {
            "tags": [],
            "needs_background": "light"
          }
        }
      ]
    },
    {
      "cell_type": "code",
      "metadata": {
        "id": "zBaI1ws3yTVK",
        "colab": {
          "base_uri": "https://localhost:8080/"
        },
        "outputId": "7ba603eb-245f-4d31-e801-501d94dcb5c9"
      },
      "source": [
        "predicted_labels = sgdc_pipeline_for_se.predict(texts_for_testing)\n",
        "fmi_rcv_sgdc = f1_score(labels_for_testing, predicted_labels, average='micro')\n",
        "fma_rcv_sgdc = f1_score(labels_for_testing, predicted_labels, average='macro')\n",
        "print('F1-micro = {0:.6f}'.format(fmi_rcv_sgdc))\n",
        "print('F1-macro = {0:.6f}'.format(fma_rcv_sgdc))"
      ],
      "execution_count": 110,
      "outputs": [
        {
          "output_type": "stream",
          "text": [
            "F1-micro = 0.430698\n",
            "F1-macro = 0.340817\n"
          ],
          "name": "stdout"
        }
      ]
    },
    {
      "cell_type": "code",
      "metadata": {
        "id": "DeVNOBaoyTVm",
        "colab": {
          "base_uri": "https://localhost:8080/"
        },
        "outputId": "7cd35f3e-8d2d-4950-cc92-942f32a9f7e1"
      },
      "source": [
        "clsrep_rcv_sgdc = classification_report(labels_for_testing, predicted_labels, digits=6)\n",
        "print(clsrep_rcv_sgdc)"
      ],
      "execution_count": 111,
      "outputs": [
        {
          "output_type": "stream",
          "text": [
            "              precision    recall  f1-score   support\n",
            "\n",
            "    negative   0.890661  0.509778  0.648425       767\n",
            "     neutral   0.000000  0.000000  0.000000         0\n",
            "    positive   0.935065  0.233766  0.374026       308\n",
            "\n",
            "    accuracy                       0.430698      1075\n",
            "   macro avg   0.608575  0.247848  0.340817      1075\n",
            "weighted avg   0.903383  0.430698  0.569806      1075\n",
            "\n"
          ],
          "name": "stdout"
        },
        {
          "output_type": "stream",
          "text": [
            "/usr/local/lib/python3.6/dist-packages/sklearn/metrics/_classification.py:1272: UndefinedMetricWarning: Recall and F-score are ill-defined and being set to 0.0 in labels with no true samples. Use `zero_division` parameter to control this behavior.\n",
            "  _warn_prf(average, modifier, msg_start, len(result))\n"
          ],
          "name": "stderr"
        }
      ]
    },
    {
      "cell_type": "markdown",
      "metadata": {
        "id": "pGKjgVe4Ck3F"
      },
      "source": [
        "# ~ Выводы ~"
      ]
    },
    {
      "cell_type": "code",
      "metadata": {
        "id": "x3FqMFQTCo9c",
        "colab": {
          "base_uri": "https://localhost:8080/"
        },
        "outputId": "d753aa74-010d-4bb7-ab22-4aa17d9a36e3"
      },
      "source": [
        "scheme = '--- {}\\nSearch time: {}\\nComputation time: {}\\nF1-micro = {}\\nF1-macro = {}\\nReport:\\n{}\\n' \n",
        "print(scheme.format('gCV + LogReg', gcv_lr_tp2-gcv_lr_tp1, gcv_lr_tp4-gcv_lr_tp3, fmi_gcv_lr, fma_gcv_lr, clsrep_gcv_lr))\n",
        "print(scheme.format('rCV + LogReg', rcv_lr_tp2-rcv_lr_tp1, rcv_lr_tp4-rcv_lr_tp3, fmi_rcv_lr, fma_rcv_lr, clsrep_rcv_lr))\n",
        "print(scheme.format('gCV + SGDC', gcv_sgdc_tp2-gcv_sgdc_tp1, gcv_sgdc_tp4-gcv_sgdc_tp3, fmi_gcv_sgdc, fma_gcv_sgdc, clsrep_gcv_sgdc))\n",
        "print(scheme.format('rCV + SGDC', rcv_sgdc_tp2-rcv_sgdc_tp1, rcv_sgdc_tp4-rcv_sgdc_tp3, fmi_rcv_sgdc, fma_rcv_sgdc, clsrep_rcv_sgdc))"
      ],
      "execution_count": 112,
      "outputs": [
        {
          "output_type": "stream",
          "text": [
            "--- gCV + LogReg\n",
            "Search time: 6.8721022605896\n",
            "Computation time: 0.1914377212524414\n",
            "F1-micro = 0.5106976744186047\n",
            "F1-macro = 0.39094602465662714\n",
            "Report:\n",
            "              precision    recall  f1-score   support\n",
            "\n",
            "    negative   0.849524  0.581486  0.690402       767\n",
            "     neutral   0.000000  0.000000  0.000000         0\n",
            "    positive   0.865546  0.334416  0.482436       308\n",
            "\n",
            "    accuracy                       0.510698      1075\n",
            "   macro avg   0.571690  0.305301  0.390946      1075\n",
            "weighted avg   0.854114  0.510698  0.630818      1075\n",
            "\n",
            "\n",
            "--- rCV + LogReg\n",
            "Search time: 19.20056176185608\n",
            "Computation time: 0.21231603622436523\n",
            "F1-micro = 0.5106976744186047\n",
            "F1-macro = 0.39094602465662714\n",
            "Report:\n",
            "              precision    recall  f1-score   support\n",
            "\n",
            "    negative   0.849524  0.581486  0.690402       767\n",
            "     neutral   0.000000  0.000000  0.000000         0\n",
            "    positive   0.865546  0.334416  0.482436       308\n",
            "\n",
            "    accuracy                       0.510698      1075\n",
            "   macro avg   0.571690  0.305301  0.390946      1075\n",
            "weighted avg   0.854114  0.510698  0.630818      1075\n",
            "\n",
            "\n",
            "--- gCV + SGDC\n",
            "Search time: 4.51214861869812\n",
            "Computation time: 0.08361601829528809\n",
            "F1-micro = 0.4288372093023256\n",
            "F1-macro = 0.3355954091222197\n",
            "Report:\n",
            "              precision    recall  f1-score   support\n",
            "\n",
            "    negative   0.905530  0.512386  0.654455       767\n",
            "     neutral   0.000000  0.000000  0.000000         0\n",
            "    positive   0.871795  0.220779  0.352332       308\n",
            "\n",
            "    accuracy                       0.428837      1075\n",
            "   macro avg   0.592442  0.244388  0.335595      1075\n",
            "weighted avg   0.895864  0.428837  0.567893      1075\n",
            "\n",
            "\n",
            "--- rCV + SGDC\n",
            "Search time: 4.681987047195435\n",
            "Computation time: 0.08480453491210938\n",
            "F1-micro = 0.4306976744186046\n",
            "F1-macro = 0.340816839324302\n",
            "Report:\n",
            "              precision    recall  f1-score   support\n",
            "\n",
            "    negative   0.890661  0.509778  0.648425       767\n",
            "     neutral   0.000000  0.000000  0.000000         0\n",
            "    positive   0.935065  0.233766  0.374026       308\n",
            "\n",
            "    accuracy                       0.430698      1075\n",
            "   macro avg   0.608575  0.247848  0.340817      1075\n",
            "weighted avg   0.903383  0.430698  0.569806      1075\n",
            "\n",
            "\n"
          ],
          "name": "stdout"
        }
      ]
    }
  ]
}