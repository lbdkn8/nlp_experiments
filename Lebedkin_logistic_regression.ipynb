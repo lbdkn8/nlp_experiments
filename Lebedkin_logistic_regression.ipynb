{
  "nbformat": 4,
  "nbformat_minor": 0,
  "metadata": {
    "kernelspec": {
      "display_name": "Python 3",
      "language": "python",
      "name": "python3"
    },
    "language_info": {
      "codemirror_mode": {
        "name": "ipython",
        "version": 3
      },
      "file_extension": ".py",
      "mimetype": "text/x-python",
      "name": "python",
      "nbconvert_exporter": "python",
      "pygments_lexer": "ipython3",
      "version": "3.6.9"
    },
    "colab": {
      "name": "Lebedkin - logistic_regression.ipynb",
      "provenance": [],
      "collapsed_sections": [],
      "include_colab_link": true
    }
  },
  "cells": [
    {
      "cell_type": "markdown",
      "metadata": {
        "id": "view-in-github",
        "colab_type": "text"
      },
      "source": [
        "<a href=\"https://colab.research.google.com/github/lbdkn8/nlp_experiments/blob/main/Lebedkin_logistic_regression.ipynb\" target=\"_parent\"><img src=\"https://colab.research.google.com/assets/colab-badge.svg\" alt=\"Open In Colab\"/></a>"
      ]
    },
    {
      "cell_type": "code",
      "metadata": {
        "id": "rJet2XaaK8TJ",
        "colab": {
          "base_uri": "https://localhost:8080/"
        },
        "outputId": "7ba8b188-1613-4d77-e0f1-9b0334f7c1c9"
      },
      "source": [
        "from google.colab import drive\n",
        "drive.mount('/content/drive')"
      ],
      "execution_count": 1,
      "outputs": [
        {
          "output_type": "stream",
          "text": [
            "Mounted at /content/drive\n"
          ],
          "name": "stdout"
        }
      ]
    },
    {
      "cell_type": "code",
      "metadata": {
        "id": "C8BYW0pJ3AZl"
      },
      "source": [
        "from lxml import etree"
      ],
      "execution_count": 169,
      "outputs": []
    },
    {
      "cell_type": "code",
      "metadata": {
        "id": "gMkYasFT3AaO"
      },
      "source": [
        "from typing import List, Tuple"
      ],
      "execution_count": 170,
      "outputs": []
    },
    {
      "cell_type": "code",
      "metadata": {
        "id": "n_rg0nSpFIdV",
        "colab": {
          "base_uri": "https://localhost:8080/"
        },
        "outputId": "d671d80e-72e0-49bc-e6ad-bffe956f99af"
      },
      "source": [
        "%pip install spacy-udpipe\n",
        "%pip install pymorphy2==0.8\n",
        "\n",
        "import spacy_udpipe\n",
        "import string, re\n",
        "\n",
        "spacy_udpipe.download(\"ru-syntagrus\") \n",
        "nlp = spacy_udpipe.load(\"ru-syntagrus\")"
      ],
      "execution_count": 171,
      "outputs": [
        {
          "output_type": "stream",
          "text": [
            "Requirement already satisfied: spacy-udpipe in /usr/local/lib/python3.6/dist-packages (0.3.2)\n",
            "Requirement already satisfied: ufal.udpipe>=1.2.0 in /usr/local/lib/python3.6/dist-packages (from spacy-udpipe) (1.2.0.3)\n",
            "Requirement already satisfied: spacy<3.0.0,>=2.1.0 in /usr/local/lib/python3.6/dist-packages (from spacy-udpipe) (2.2.4)\n",
            "Requirement already satisfied: srsly<1.1.0,>=1.0.2 in /usr/local/lib/python3.6/dist-packages (from spacy<3.0.0,>=2.1.0->spacy-udpipe) (1.0.5)\n",
            "Requirement already satisfied: cymem<2.1.0,>=2.0.2 in /usr/local/lib/python3.6/dist-packages (from spacy<3.0.0,>=2.1.0->spacy-udpipe) (2.0.5)\n",
            "Requirement already satisfied: murmurhash<1.1.0,>=0.28.0 in /usr/local/lib/python3.6/dist-packages (from spacy<3.0.0,>=2.1.0->spacy-udpipe) (1.0.5)\n",
            "Requirement already satisfied: thinc==7.4.0 in /usr/local/lib/python3.6/dist-packages (from spacy<3.0.0,>=2.1.0->spacy-udpipe) (7.4.0)\n",
            "Requirement already satisfied: setuptools in /usr/local/lib/python3.6/dist-packages (from spacy<3.0.0,>=2.1.0->spacy-udpipe) (51.3.3)\n",
            "Requirement already satisfied: wasabi<1.1.0,>=0.4.0 in /usr/local/lib/python3.6/dist-packages (from spacy<3.0.0,>=2.1.0->spacy-udpipe) (0.8.0)\n",
            "Requirement already satisfied: catalogue<1.1.0,>=0.0.7 in /usr/local/lib/python3.6/dist-packages (from spacy<3.0.0,>=2.1.0->spacy-udpipe) (1.0.0)\n",
            "Requirement already satisfied: tqdm<5.0.0,>=4.38.0 in /usr/local/lib/python3.6/dist-packages (from spacy<3.0.0,>=2.1.0->spacy-udpipe) (4.41.1)\n",
            "Requirement already satisfied: numpy>=1.15.0 in /usr/local/lib/python3.6/dist-packages (from spacy<3.0.0,>=2.1.0->spacy-udpipe) (1.19.5)\n",
            "Requirement already satisfied: blis<0.5.0,>=0.4.0 in /usr/local/lib/python3.6/dist-packages (from spacy<3.0.0,>=2.1.0->spacy-udpipe) (0.4.1)\n",
            "Requirement already satisfied: plac<1.2.0,>=0.9.6 in /usr/local/lib/python3.6/dist-packages (from spacy<3.0.0,>=2.1.0->spacy-udpipe) (1.1.3)\n",
            "Requirement already satisfied: preshed<3.1.0,>=3.0.2 in /usr/local/lib/python3.6/dist-packages (from spacy<3.0.0,>=2.1.0->spacy-udpipe) (3.0.5)\n",
            "Requirement already satisfied: requests<3.0.0,>=2.13.0 in /usr/local/lib/python3.6/dist-packages (from spacy<3.0.0,>=2.1.0->spacy-udpipe) (2.23.0)\n",
            "Requirement already satisfied: importlib-metadata>=0.20; python_version < \"3.8\" in /usr/local/lib/python3.6/dist-packages (from catalogue<1.1.0,>=0.0.7->spacy<3.0.0,>=2.1.0->spacy-udpipe) (3.3.0)\n",
            "Requirement already satisfied: chardet<4,>=3.0.2 in /usr/local/lib/python3.6/dist-packages (from requests<3.0.0,>=2.13.0->spacy<3.0.0,>=2.1.0->spacy-udpipe) (3.0.4)\n",
            "Requirement already satisfied: certifi>=2017.4.17 in /usr/local/lib/python3.6/dist-packages (from requests<3.0.0,>=2.13.0->spacy<3.0.0,>=2.1.0->spacy-udpipe) (2020.12.5)\n",
            "Requirement already satisfied: idna<3,>=2.5 in /usr/local/lib/python3.6/dist-packages (from requests<3.0.0,>=2.13.0->spacy<3.0.0,>=2.1.0->spacy-udpipe) (2.10)\n",
            "Requirement already satisfied: urllib3!=1.25.0,!=1.25.1,<1.26,>=1.21.1 in /usr/local/lib/python3.6/dist-packages (from requests<3.0.0,>=2.13.0->spacy<3.0.0,>=2.1.0->spacy-udpipe) (1.24.3)\n",
            "Requirement already satisfied: typing-extensions>=3.6.4; python_version < \"3.8\" in /usr/local/lib/python3.6/dist-packages (from importlib-metadata>=0.20; python_version < \"3.8\"->catalogue<1.1.0,>=0.0.7->spacy<3.0.0,>=2.1.0->spacy-udpipe) (3.7.4.3)\n",
            "Requirement already satisfied: zipp>=0.5 in /usr/local/lib/python3.6/dist-packages (from importlib-metadata>=0.20; python_version < \"3.8\"->catalogue<1.1.0,>=0.0.7->spacy<3.0.0,>=2.1.0->spacy-udpipe) (3.4.0)\n",
            "Requirement already satisfied: pymorphy2==0.8 in /usr/local/lib/python3.6/dist-packages (0.8)\n",
            "Requirement already satisfied: docopt>=0.6 in /usr/local/lib/python3.6/dist-packages (from pymorphy2==0.8) (0.6.2)\n",
            "Requirement already satisfied: dawg-python>=0.7 in /usr/local/lib/python3.6/dist-packages (from pymorphy2==0.8) (0.7.2)\n",
            "Requirement already satisfied: pymorphy2-dicts<3.0,>=2.4 in /usr/local/lib/python3.6/dist-packages (from pymorphy2==0.8) (2.4.393442.3710985)\n",
            "Already downloaded a model for the 'ru-syntagrus' language\n"
          ],
          "name": "stdout"
        }
      ]
    },
    {
      "cell_type": "code",
      "metadata": {
        "id": "_kfE83V3KlED"
      },
      "source": [
        "def chewable(s):                                                # Убираем лишнее \n",
        "  lemmas = [token.lemma_ for token in nlp(s)]\n",
        "  s_lemmd = ' '.join(lemmas)                                                \n",
        "  webs = '(\\S+\\.\\S+\\.?\\S+[\\s^\\v]?)'\n",
        "  nums = '(\\d+[\\s^\\v]?)'\n",
        "  re_webs = re.compile(webs)                                    # Убираем сслыки\n",
        "  re_pnct = re.compile('[%s]' % re.escape(string.punctuation))  # Пунктуацию\n",
        "  re_nums = re.compile(nums)                                    # Почему-то числа становились наиболее значимыми признаками - убираю\n",
        "  s_dewebbed = re_webs.sub('', s_lemmd)\n",
        "  s_stripped = re_pnct.sub('', s_dewebbed)\n",
        "  s_denummed = re_nums.sub('', s_stripped)\n",
        "  return s_denummed"
      ],
      "execution_count": 172,
      "outputs": []
    },
    {
      "cell_type": "code",
      "metadata": {
        "id": "b6FY8LP43Aa0"
      },
      "source": [
        "def load_sentirueval_2016(file_name: str) -> Tuple[List[str], List[str]]:\n",
        "    texts = []\n",
        "    labels = []\n",
        "    with open(file_name, mode='rb') as fp:\n",
        "        xml_data = fp.read()\n",
        "    root = etree.fromstring(xml_data)\n",
        "    for database in root.getchildren():\n",
        "        if database.tag == 'database':\n",
        "            for table in database.getchildren():\n",
        "                if table.tag != 'table':\n",
        "                    continue\n",
        "                new_text = None\n",
        "                new_label = None\n",
        "                for column in table.getchildren():\n",
        "                    if column.get('name') == 'text':\n",
        "                        new_text = chewable(column.text)\n",
        "                        if new_label is not None:\n",
        "                            break\n",
        "                    elif column.get('name') not in {'id', 'twitid', 'date'}:\n",
        "                        if new_label is None:\n",
        "                            label_candidate = str(column.text).strip()\n",
        "                            if label_candidate in {'0', '1', '-1'}:\n",
        "                                new_label = 'negative' if label_candidate == '-1' else \\\n",
        "                                    ('positive' if label_candidate == '1' else 'neutral')\n",
        "                                if new_text is not None:\n",
        "                                    break\n",
        "                if (new_text is None) or (new_label is None):\n",
        "                    raise ValueError('File `{0}` contains some error!'.format(file_name))\n",
        "                texts.append(new_text)\n",
        "                labels.append(new_label)\n",
        "            break\n",
        "    return texts, labels"
      ],
      "execution_count": 173,
      "outputs": []
    },
    {
      "cell_type": "code",
      "metadata": {
        "id": "ZS1J18J4Ls4T"
      },
      "source": [
        "fXML = '/content/drive/My Drive/bank_train_2016.xml'"
      ],
      "execution_count": 174,
      "outputs": []
    },
    {
      "cell_type": "code",
      "metadata": {
        "id": "EL-Lbw7B3AbS"
      },
      "source": [
        "texts, labels = load_sentirueval_2016(fXML)"
      ],
      "execution_count": 175,
      "outputs": []
    },
    {
      "cell_type": "code",
      "metadata": {
        "id": "IQAeR79F3Abo",
        "colab": {
          "base_uri": "https://localhost:8080/"
        },
        "outputId": "bc495e11-362e-4f38-882d-8702fd6b3359"
      },
      "source": [
        "print('Number of texts is {0}, number of labels is {1}.'.format(len(texts), len(labels)))"
      ],
      "execution_count": 176,
      "outputs": [
        {
          "output_type": "stream",
          "text": [
            "Number of texts is 9392, number of labels is 9392.\n"
          ],
          "name": "stdout"
        }
      ]
    },
    {
      "cell_type": "code",
      "metadata": {
        "id": "118Hinks3AcU"
      },
      "source": [
        "import random"
      ],
      "execution_count": 177,
      "outputs": []
    },
    {
      "cell_type": "code",
      "metadata": {
        "id": "JXpuvxXN3Ac4",
        "colab": {
          "base_uri": "https://localhost:8080/"
        },
        "outputId": "b0c54353-621b-4ded-f089-43d68e26e0e3"
      },
      "source": [
        "for idx in random.choices(list(range(len(texts))), k=20):\n",
        "    print('{0} => {1}'.format(labels[idx], texts[idx]))"
      ],
      "execution_count": 178,
      "outputs": [
        {
          "output_type": "stream",
          "text": [
            "negative => Банкомат Сбербанк с год стать мало — банк быть сокращать они сеть \n",
            "neutral => Вт планировать увеличить уставной капитал в раз\n",
            "neutral => я  Новость  финанс  Сбербанк начать выпуск карта на база российский платежный система ПРО\n",
            "neutral => Банк ВТБнамерен в два раз увеличить свой уставной капитал\n",
            "negative => приложение сбербанк онлайн на андройд не работать если на телефон получить рут \n",
            "neutral => garrybu Сбербанк \n",
            "positive => удобный оплата услуга детский сад в Сбербанк \n",
            "neutral => gladiomode райфайзен\n",
            "neutral => автокредит для пенсионер в сбербанок \n",
            "neutral => как правильно оформить в банк вт отказ от кредитный карта \n",
            "neutral =>  Банк вт пенсионер кредит\n",
            "neutral => вывод с webmoney в сбербанк \n",
            "neutral => банк москва быстрый кредит \n",
            "neutral => Сбербанк претендовать на МОЭК\n",
            "neutral => какой лимит по кредитный карта давать альфа банк \n",
            "neutral => RT ikorotchenko  глава Сбербанк Герман Греф  швейцарский франк  норвежский и шведский крона являться самый надежный валюта  а что бо …\n",
            "negative => попасть под санкция российский банк просить господдержка  Россельхозбанк просить о предоставление он мл    \n",
            "neutral => RT Zhekanukrop  Сбербанк \n",
            "neutral => ипотека на дом вт \n",
            "neutral => быстрый кредит вт \n"
          ],
          "name": "stdout"
        }
      ]
    },
    {
      "cell_type": "code",
      "metadata": {
        "id": "pP2OXqLc3AdM"
      },
      "source": [
        "positive_tweets = [texts[idx] for idx in range(len(texts)) if labels[idx] == 'positive']\n",
        "negative_tweets = [texts[idx] for idx in range(len(texts)) if labels[idx] == 'negative']"
      ],
      "execution_count": 179,
      "outputs": []
    },
    {
      "cell_type": "code",
      "metadata": {
        "id": "RXkkPGug3Adg",
        "colab": {
          "base_uri": "https://localhost:8080/"
        },
        "outputId": "2894d8b8-101b-4f54-8042-cce4358074df"
      },
      "source": [
        "for cur in positive_tweets[:5]: print(cur)"
      ],
      "execution_count": 180,
      "outputs": [
        {
          "output_type": "stream",
          "text": [
            "sawikshuster YevhenS главный чтобы банк СБЕР и ВТБ   \n",
            "самый выгодный автокредит в втб \n",
            "легко можно получить денежный кредит ы вт банк\n",
            "снижение процентный ставка по кредит на недвижимость сбербанк \n",
            "в наш сбербанк прийти американец и просить сфоткаться с он у банкомат  D я васто быть в шок и на фотка полюбому получиться смешной xD\n"
          ],
          "name": "stdout"
        }
      ]
    },
    {
      "cell_type": "code",
      "metadata": {
        "id": "60DkKK9W3Ad2",
        "colab": {
          "base_uri": "https://localhost:8080/"
        },
        "outputId": "ea39e2c3-97a8-4cae-e7c1-6335d591a5c9"
      },
      "source": [
        "for cur in negative_tweets[:5]: print(cur)"
      ],
      "execution_count": 181,
      "outputs": [
        {
          "output_type": "stream",
          "text": [
            "ShtirliZ Zhukovaolga winzard tereshenkov обязательно про сбербанк писать  временами хлестко интерать магазин финт выкручивать \n",
            "UmkaAlfariusigorsechin втб и сбер точно  вопрос  блокировка операция или запрет на кредит \n",
            "Канада ввести санкция против Газпромбанк  ВЭБ  Новатэк и российский оборонный компания\n",
            "RT letokot  если Сбер и ВТБ попасть под санкция  быть жоп\n",
            "RT tvru   Канада ввести санкция против оборонный и сырьевой компания и банк РФ  среди они  в частность    Газпромбанк     Внешэк …\n"
          ],
          "name": "stdout"
        }
      ]
    },
    {
      "cell_type": "code",
      "metadata": {
        "id": "zjbfjf7Z3AeM",
        "colab": {
          "base_uri": "https://localhost:8080/"
        },
        "outputId": "0eaee4f4-fbd3-468e-e214-c3b7e8c92466"
      },
      "source": [
        "import nltk\n",
        "from nltk import word_tokenize\n",
        "\n",
        "nltk.download('punkt')"
      ],
      "execution_count": 182,
      "outputs": [
        {
          "output_type": "stream",
          "text": [
            "[nltk_data] Downloading package punkt to /root/nltk_data...\n",
            "[nltk_data]   Package punkt is already up-to-date!\n"
          ],
          "name": "stdout"
        },
        {
          "output_type": "execute_result",
          "data": {
            "text/plain": [
              "True"
            ]
          },
          "metadata": {
            "tags": []
          },
          "execution_count": 182
        }
      ]
    },
    {
      "cell_type": "code",
      "metadata": {
        "id": "XuZBKsjA3Aeh"
      },
      "source": [
        "from sklearn.feature_extraction.text import CountVectorizer"
      ],
      "execution_count": 183,
      "outputs": []
    },
    {
      "cell_type": "code",
      "metadata": {
        "id": "hxAqehMp3Ae2"
      },
      "source": [
        "vectorizer = CountVectorizer(lowercase=True, tokenizer=word_tokenize)"
      ],
      "execution_count": 184,
      "outputs": []
    },
    {
      "cell_type": "code",
      "metadata": {
        "id": "Flacy_lj3AfN",
        "colab": {
          "base_uri": "https://localhost:8080/"
        },
        "outputId": "844ee421-c04b-4490-cc50-0213121b3b8d"
      },
      "source": [
        "vectorizer.fit(texts)"
      ],
      "execution_count": 185,
      "outputs": [
        {
          "output_type": "stream",
          "text": [
            "/usr/local/lib/python3.6/dist-packages/sklearn/feature_extraction/text.py:507: UserWarning: The parameter 'token_pattern' will not be used since 'tokenizer' is not None'\n",
            "  warnings.warn(\"The parameter 'token_pattern' will not be used\"\n"
          ],
          "name": "stderr"
        },
        {
          "output_type": "execute_result",
          "data": {
            "text/plain": [
              "CountVectorizer(analyzer='word', binary=False, decode_error='strict',\n",
              "                dtype=<class 'numpy.int64'>, encoding='utf-8', input='content',\n",
              "                lowercase=True, max_df=1.0, max_features=None, min_df=1,\n",
              "                ngram_range=(1, 1), preprocessor=None, stop_words=None,\n",
              "                strip_accents=None, token_pattern='(?u)\\\\b\\\\w\\\\w+\\\\b',\n",
              "                tokenizer=<function word_tokenize at 0x7f03dee33d90>,\n",
              "                vocabulary=None)"
            ]
          },
          "metadata": {
            "tags": []
          },
          "execution_count": 185
        }
      ]
    },
    {
      "cell_type": "code",
      "metadata": {
        "id": "On7DhL193Afg",
        "colab": {
          "base_uri": "https://localhost:8080/"
        },
        "outputId": "75b06543-3e29-4540-bfd6-c96e9577c8c6"
      },
      "source": [
        "print(vectorizer.get_feature_names()[0:20])"
      ],
      "execution_count": 186,
      "outputs": [
        {
          "output_type": "stream",
          "text": [
            "['a', 'abaradagaнлат', 'aberadez', 'abetaa', 'abncapital', 'abramovdeputat', 'abunyasha', 'abysov', 'adagamov', 'adairrasi', 'adaron', 'aday', 'adenisenko', 'adindex', 'adlarguan', 'admeru', 'admitad', 'adubter', 'adworningju', 'aeroflot']\n"
          ],
          "name": "stdout"
        }
      ]
    },
    {
      "cell_type": "code",
      "metadata": {
        "id": "VTJsy6DD3Af0",
        "colab": {
          "base_uri": "https://localhost:8080/"
        },
        "outputId": "b5695e5b-9c51-45a3-be9f-fbbe975c5c39"
      },
      "source": [
        "print(len(vectorizer.get_feature_names()))"
      ],
      "execution_count": 187,
      "outputs": [
        {
          "output_type": "stream",
          "text": [
            "8698\n"
          ],
          "name": "stdout"
        }
      ]
    },
    {
      "cell_type": "code",
      "metadata": {
        "id": "uKL9wpSD3AgE"
      },
      "source": [
        "X = vectorizer.transform(texts)"
      ],
      "execution_count": 188,
      "outputs": []
    },
    {
      "cell_type": "code",
      "metadata": {
        "id": "2zSqZhWD3AgV",
        "colab": {
          "base_uri": "https://localhost:8080/"
        },
        "outputId": "8c851e84-26fa-48fa-fa2e-c5213d460b78"
      },
      "source": [
        "print(type(X))"
      ],
      "execution_count": 189,
      "outputs": [
        {
          "output_type": "stream",
          "text": [
            "<class 'scipy.sparse.csr.csr_matrix'>\n"
          ],
          "name": "stdout"
        }
      ]
    },
    {
      "cell_type": "code",
      "metadata": {
        "id": "CfTJP9tw3Agp",
        "colab": {
          "base_uri": "https://localhost:8080/"
        },
        "outputId": "7079385e-abc0-45e9-e5f0-a48196f57274"
      },
      "source": [
        "print(texts[0])"
      ],
      "execution_count": 190,
      "outputs": [
        {
          "output_type": "stream",
          "text": [
            "брать кредит тюмень альфа банк\n"
          ],
          "name": "stdout"
        }
      ]
    },
    {
      "cell_type": "code",
      "metadata": {
        "id": "6_JizZSp3Ag9",
        "colab": {
          "base_uri": "https://localhost:8080/"
        },
        "outputId": "0e3e094e-0c11-407c-9ba2-de6b6a7fb26a"
      },
      "source": [
        "print(X[0])"
      ],
      "execution_count": 191,
      "outputs": [
        {
          "output_type": "stream",
          "text": [
            "  (0, 1815)\t1\n",
            "  (0, 1965)\t1\n",
            "  (0, 2144)\t1\n",
            "  (0, 4118)\t1\n",
            "  (0, 7898)\t1\n"
          ],
          "name": "stdout"
        }
      ]
    },
    {
      "cell_type": "code",
      "metadata": {
        "id": "30eo382I3AhO",
        "colab": {
          "base_uri": "https://localhost:8080/"
        },
        "outputId": "3d026fcf-6a72-4660-d5cd-228c7f757a11"
      },
      "source": [
        "print(vectorizer.get_feature_names()[6321])"
      ],
      "execution_count": 192,
      "outputs": [
        {
          "output_type": "stream",
          "text": [
            "пришлть\n"
          ],
          "name": "stdout"
        }
      ]
    },
    {
      "cell_type": "code",
      "metadata": {
        "id": "XoBiF1GO3Aht",
        "colab": {
          "base_uri": "https://localhost:8080/"
        },
        "outputId": "82cef57f-108d-4f1d-86f9-0dd8fbb18fc6"
      },
      "source": [
        "print(vectorizer.get_feature_names()[6000])"
      ],
      "execution_count": 193,
      "outputs": [
        {
          "output_type": "stream",
          "text": [
            "попадаться\n"
          ],
          "name": "stdout"
        }
      ]
    },
    {
      "cell_type": "code",
      "metadata": {
        "id": "TYZjLpGD3AiK",
        "colab": {
          "base_uri": "https://localhost:8080/"
        },
        "outputId": "f02ec2fe-0d65-4992-aca7-f50a8104644a"
      },
      "source": [
        "print(vectorizer.get_feature_names()[5000])"
      ],
      "execution_count": 194,
      "outputs": [
        {
          "output_type": "stream",
          "text": [
            "нижний\n"
          ],
          "name": "stdout"
        }
      ]
    },
    {
      "cell_type": "code",
      "metadata": {
        "id": "BQsuW0sx3Aid"
      },
      "source": [
        "from sklearn.feature_extraction.text import TfidfTransformer"
      ],
      "execution_count": 195,
      "outputs": []
    },
    {
      "cell_type": "code",
      "metadata": {
        "id": "UfggEfY-3Aix"
      },
      "source": [
        "transformer = TfidfTransformer().fit(X)"
      ],
      "execution_count": 196,
      "outputs": []
    },
    {
      "cell_type": "code",
      "metadata": {
        "id": "3VPBGaTO3AjC"
      },
      "source": [
        "X_transformed = transformer.transform(X)"
      ],
      "execution_count": 197,
      "outputs": []
    },
    {
      "cell_type": "code",
      "metadata": {
        "id": "onguvE4C3AjU",
        "colab": {
          "base_uri": "https://localhost:8080/"
        },
        "outputId": "1c753377-e54a-4a3e-9361-f59f7bbb8943"
      },
      "source": [
        "print(X_transformed[0])"
      ],
      "execution_count": 198,
      "outputs": [
        {
          "output_type": "stream",
          "text": [
            "  (0, 7898)\t0.7639100517232897\n",
            "  (0, 4118)\t0.2173288930139871\n",
            "  (0, 2144)\t0.4039888226437941\n",
            "  (0, 1965)\t0.24576972473891776\n",
            "  (0, 1815)\t0.38157549543710667\n"
          ],
          "name": "stdout"
        }
      ]
    },
    {
      "cell_type": "code",
      "metadata": {
        "id": "XV2Zvrax3Ajp",
        "colab": {
          "base_uri": "https://localhost:8080/"
        },
        "outputId": "94848941-14b0-411f-96f0-14d44e9e3cd7"
      },
      "source": [
        "print(vectorizer.get_feature_names()[4000])"
      ],
      "execution_count": 199,
      "outputs": [
        {
          "output_type": "stream",
          "text": [
            "конверт\n"
          ],
          "name": "stdout"
        }
      ]
    },
    {
      "cell_type": "code",
      "metadata": {
        "id": "AOy_0vae3Aj7",
        "colab": {
          "base_uri": "https://localhost:8080/"
        },
        "outputId": "a4eaf3c1-6c1b-465e-db0f-0cec0dcd266f"
      },
      "source": [
        "print(vectorizer.get_feature_names()[7199])"
      ],
      "execution_count": 200,
      "outputs": [
        {
          "output_type": "stream",
          "text": [
            "скупка\n"
          ],
          "name": "stdout"
        }
      ]
    },
    {
      "cell_type": "code",
      "metadata": {
        "id": "QMFUL9qQ3AkR"
      },
      "source": [
        "tokens_with_IDF = list(zip(vectorizer.get_feature_names(), transformer.idf_))"
      ],
      "execution_count": 201,
      "outputs": []
    },
    {
      "cell_type": "code",
      "metadata": {
        "id": "jRSHi6cO3Akf",
        "colab": {
          "base_uri": "https://localhost:8080/"
        },
        "outputId": "22c775ff-5bbf-41bb-a85e-fecd697a97cc"
      },
      "source": [
        "for feature, idf in tokens_with_IDF[0:20]: print('{0:.6f} => {1}'.format(idf, feature))"
      ],
      "execution_count": 202,
      "outputs": [
        {
          "output_type": "stream",
          "text": [
            "9.049108 => a\n",
            "9.454573 => abaradagaнлат\n",
            "9.454573 => aberadez\n",
            "9.454573 => abetaa\n",
            "9.454573 => abncapital\n",
            "9.454573 => abramovdeputat\n",
            "9.454573 => abunyasha\n",
            "9.454573 => abysov\n",
            "9.454573 => adagamov\n",
            "9.454573 => adairrasi\n",
            "9.454573 => adaron\n",
            "9.454573 => aday\n",
            "9.454573 => adenisenko\n",
            "9.454573 => adindex\n",
            "9.454573 => adlarguan\n",
            "9.454573 => admeru\n",
            "9.454573 => admitad\n",
            "9.454573 => adubter\n",
            "9.454573 => adworningju\n",
            "8.538282 => aeroflot\n"
          ],
          "name": "stdout"
        }
      ]
    },
    {
      "cell_type": "code",
      "metadata": {
        "id": "TCX8XJ7v3Akt"
      },
      "source": [
        "sorted_tokens_with_IDF = sorted(tokens_with_IDF, key=lambda it: (-it[1], it[0]))"
      ],
      "execution_count": 203,
      "outputs": []
    },
    {
      "cell_type": "code",
      "metadata": {
        "id": "uVk0UiaV3Ak4",
        "colab": {
          "base_uri": "https://localhost:8080/"
        },
        "outputId": "4edd6b1e-c872-49d0-dbb3-4b0f06e98372"
      },
      "source": [
        "for feature, idf in sorted_tokens_with_IDF[0:20]: print('{0:.6f} => {1}'.format(idf, feature))"
      ],
      "execution_count": 204,
      "outputs": [
        {
          "output_type": "stream",
          "text": [
            "9.454573 => abaradagaнлат\n",
            "9.454573 => aberadez\n",
            "9.454573 => abetaa\n",
            "9.454573 => abncapital\n",
            "9.454573 => abramovdeputat\n",
            "9.454573 => abunyasha\n",
            "9.454573 => abysov\n",
            "9.454573 => adagamov\n",
            "9.454573 => adairrasi\n",
            "9.454573 => adaron\n",
            "9.454573 => aday\n",
            "9.454573 => adenisenko\n",
            "9.454573 => adindex\n",
            "9.454573 => adlarguan\n",
            "9.454573 => admeru\n",
            "9.454573 => admitad\n",
            "9.454573 => adubter\n",
            "9.454573 => adworningju\n",
            "9.454573 => afyanik\n",
            "9.454573 => agatacrysty\n"
          ],
          "name": "stdout"
        }
      ]
    },
    {
      "cell_type": "code",
      "metadata": {
        "id": "dlwTN1vO3AlH"
      },
      "source": [
        "from sklearn.feature_selection import SelectPercentile, chi2"
      ],
      "execution_count": 205,
      "outputs": []
    },
    {
      "cell_type": "code",
      "metadata": {
        "id": "_Fr381xR3AlU"
      },
      "source": [
        "selector = SelectPercentile(chi2, percentile=20)"
      ],
      "execution_count": 206,
      "outputs": []
    },
    {
      "cell_type": "code",
      "metadata": {
        "id": "IXxLTBw43Alm",
        "colab": {
          "base_uri": "https://localhost:8080/"
        },
        "outputId": "09add423-183b-48ac-ee23-406a072afae0"
      },
      "source": [
        "selector.fit(X_transformed, labels)"
      ],
      "execution_count": 207,
      "outputs": [
        {
          "output_type": "execute_result",
          "data": {
            "text/plain": [
              "SelectPercentile(percentile=20, score_func=<function chi2 at 0x7f03de2d3a60>)"
            ]
          },
          "metadata": {
            "tags": []
          },
          "execution_count": 207
        }
      ]
    },
    {
      "cell_type": "code",
      "metadata": {
        "id": "NTsayQFA3Al0"
      },
      "source": [
        "selected_tokens_with_IDF = [tokens_with_IDF[idx] for idx in selector.get_support(indices=True)]"
      ],
      "execution_count": 208,
      "outputs": []
    },
    {
      "cell_type": "code",
      "metadata": {
        "id": "8rHFJO8P3AmB",
        "colab": {
          "base_uri": "https://localhost:8080/"
        },
        "outputId": "01a98ae9-3a1c-47c5-b719-8a00c1bccd3a"
      },
      "source": [
        "print(len(selected_tokens_with_IDF))"
      ],
      "execution_count": 209,
      "outputs": [
        {
          "output_type": "stream",
          "text": [
            "1740\n"
          ],
          "name": "stdout"
        }
      ]
    },
    {
      "cell_type": "code",
      "metadata": {
        "id": "2ymE6BOk3AmR",
        "colab": {
          "base_uri": "https://localhost:8080/"
        },
        "outputId": "fab437ed-5aa4-47db-d386-73b9bae24108"
      },
      "source": [
        "for feature, idf in selected_tokens_with_IDF[0:20]: print('{0:.6f} => {1}'.format(idf, feature))"
      ],
      "execution_count": 210,
      "outputs": [
        {
          "output_type": "stream",
          "text": [
            "9.454573 => aberadez\n",
            "9.454573 => abunyasha\n",
            "9.454573 => adworningju\n",
            "8.761426 => akselenc\n",
            "9.454573 => alexigrey\n",
            "4.905973 => alfabank\n",
            "6.592372 => alfabankby\n",
            "9.454573 => alushin\n",
            "9.454573 => andreymalgin\n",
            "9.454573 => andreytr\n",
            "8.761426 => antimaydan\n",
            "9.049108 => apple\n",
            "9.454573 => appstore\n",
            "9.454573 => arhangelmisha\n",
            "9.454573 => artemycheros\n",
            "8.761426 => awards\n",
            "9.049108 => balamot\n",
            "9.454573 => bankitb\n",
            "8.538282 => bbb\n",
            "9.454573 => behlbride\n"
          ],
          "name": "stdout"
        }
      ]
    },
    {
      "cell_type": "code",
      "metadata": {
        "id": "XVEZ9yMy3Ame"
      },
      "source": [
        "selected_and_sorted_tokens_with_IDF = sorted(selected_tokens_with_IDF, key=lambda it: (-it[1], it[0]))"
      ],
      "execution_count": 211,
      "outputs": []
    },
    {
      "cell_type": "code",
      "metadata": {
        "id": "dHE8zK9p3Amq",
        "colab": {
          "base_uri": "https://localhost:8080/"
        },
        "outputId": "1dc978ed-f854-4654-b746-e781fd411eb7"
      },
      "source": [
        "for feature, idf in selected_and_sorted_tokens_with_IDF[0:20]: print('{0:.6f} => {1}'.format(idf, feature))"
      ],
      "execution_count": 212,
      "outputs": [
        {
          "output_type": "stream",
          "text": [
            "9.454573 => aberadez\n",
            "9.454573 => abunyasha\n",
            "9.454573 => adworningju\n",
            "9.454573 => alexigrey\n",
            "9.454573 => alushin\n",
            "9.454573 => andreymalgin\n",
            "9.454573 => andreytr\n",
            "9.454573 => appstore\n",
            "9.454573 => arhangelmisha\n",
            "9.454573 => artemycheros\n",
            "9.454573 => bankitb\n",
            "9.454573 => behlbride\n",
            "9.454573 => bosacoworavu\n",
            "9.454573 => bullethunter\n",
            "9.454573 => buribedixuk\n",
            "9.454573 => catspower\n",
            "9.454573 => cgillenpiy\n",
            "9.454573 => chumikov\n",
            "9.454573 => citybusicyti\n",
            "9.454573 => come\n"
          ],
          "name": "stdout"
        }
      ]
    },
    {
      "cell_type": "code",
      "metadata": {
        "id": "XDarHB9URuKQ"
      },
      "source": [
        "import time"
      ],
      "execution_count": 213,
      "outputs": []
    },
    {
      "cell_type": "markdown",
      "metadata": {
        "id": "sXQ3zYTVhnfv"
      },
      "source": [
        "# ~ Testing Logistic Regression (without search) ~\n",
        "\n"
      ]
    },
    {
      "cell_type": "code",
      "metadata": {
        "id": "CZ1bY-cF3Am0"
      },
      "source": [
        "from sklearn.linear_model import LogisticRegression"
      ],
      "execution_count": 214,
      "outputs": []
    },
    {
      "cell_type": "code",
      "metadata": {
        "id": "amxAcxE33Am-"
      },
      "source": [
        "cls = LogisticRegression(solver='liblinear', verbose=True)"
      ],
      "execution_count": 215,
      "outputs": []
    },
    {
      "cell_type": "code",
      "metadata": {
        "id": "rbgxghlW3AnL"
      },
      "source": [
        "X_transformed_and_selected = selector.transform(X_transformed)"
      ],
      "execution_count": 216,
      "outputs": []
    },
    {
      "cell_type": "code",
      "metadata": {
        "id": "PUHEy61d3AnV",
        "colab": {
          "base_uri": "https://localhost:8080/"
        },
        "outputId": "5ecd81b1-3374-4aa9-9d75-18f8e3dde6da"
      },
      "source": [
        "cls.fit(X_transformed_and_selected, labels)"
      ],
      "execution_count": 217,
      "outputs": [
        {
          "output_type": "stream",
          "text": [
            "[LibLinear]"
          ],
          "name": "stdout"
        },
        {
          "output_type": "execute_result",
          "data": {
            "text/plain": [
              "LogisticRegression(C=1.0, class_weight=None, dual=False, fit_intercept=True,\n",
              "                   intercept_scaling=1, l1_ratio=None, max_iter=100,\n",
              "                   multi_class='auto', n_jobs=None, penalty='l2',\n",
              "                   random_state=None, solver='liblinear', tol=0.0001,\n",
              "                   verbose=True, warm_start=False)"
            ]
          },
          "metadata": {
            "tags": []
          },
          "execution_count": 217
        }
      ]
    },
    {
      "cell_type": "code",
      "metadata": {
        "id": "-5rsanfy3Anl"
      },
      "source": [
        "classes_list = list(cls.classes_)"
      ],
      "execution_count": 218,
      "outputs": []
    },
    {
      "cell_type": "code",
      "metadata": {
        "id": "Q4tZdIF73Anu",
        "colab": {
          "base_uri": "https://localhost:8080/"
        },
        "outputId": "90250b83-d4f3-4e77-fc52-2e36a16d5c5c"
      },
      "source": [
        "print(classes_list)"
      ],
      "execution_count": 219,
      "outputs": [
        {
          "output_type": "stream",
          "text": [
            "['negative', 'neutral', 'positive']\n"
          ],
          "name": "stdout"
        }
      ]
    },
    {
      "cell_type": "code",
      "metadata": {
        "id": "gWYdp6G33An5"
      },
      "source": [
        "txts, lbls = load_sentirueval_2016('/content/drive/My Drive/banks_test_etalon.xml')"
      ],
      "execution_count": 220,
      "outputs": []
    },
    {
      "cell_type": "code",
      "metadata": {
        "id": "AV7UgtCR2J44"
      },
      "source": [
        "# удаляем нейтральные твиты для последующего рассчёта F1-меры\r\n",
        "texts_for_testing = [txts[i] for i in range(len(txts)) if lbls[i] != 'neutral']\r\n",
        "labels_for_testing = [l for l in lbls if l != 'neutral']"
      ],
      "execution_count": 221,
      "outputs": []
    },
    {
      "cell_type": "code",
      "metadata": {
        "id": "7xING6JB3AoE"
      },
      "source": [
        "from sklearn.pipeline import Pipeline"
      ],
      "execution_count": 222,
      "outputs": []
    },
    {
      "cell_type": "code",
      "metadata": {
        "id": "aYhXAKBd3AoQ"
      },
      "source": [
        "pipeline_for_se = Pipeline(\n",
        "    [\n",
        "        ('vectorizer', vectorizer),\n",
        "        ('tfidf', transformer),\n",
        "        ('selector', selector),\n",
        "        ('final_classifier', cls)\n",
        "    ]\n",
        ")"
      ],
      "execution_count": 223,
      "outputs": []
    },
    {
      "cell_type": "code",
      "metadata": {
        "id": "6WrREaqR3Aoi"
      },
      "source": [
        "from sklearn.metrics import roc_curve\n",
        "import numpy as np"
      ],
      "execution_count": 224,
      "outputs": []
    },
    {
      "cell_type": "code",
      "metadata": {
        "id": "neF6YaI43Aor"
      },
      "source": [
        "probabilities = pipeline_for_se.predict_proba(texts_for_testing)"
      ],
      "execution_count": 225,
      "outputs": []
    },
    {
      "cell_type": "code",
      "metadata": {
        "id": "N9_U60_Z3Ao1"
      },
      "source": [
        "y_true_positives = list(map(lambda it: 1 if it == 'positive' else 0, labels_for_testing))\n",
        "y_score_positives = probabilities[:, classes_list.index('positive')]"
      ],
      "execution_count": 226,
      "outputs": []
    },
    {
      "cell_type": "code",
      "metadata": {
        "id": "zQgLkmmJ3Ao_"
      },
      "source": [
        "fpr_positives, tpr_positives, _, = roc_curve(y_true_positives, y_score_positives)"
      ],
      "execution_count": 227,
      "outputs": []
    },
    {
      "cell_type": "code",
      "metadata": {
        "id": "YLVCijyv3ApJ"
      },
      "source": [
        "y_true_negatives = list(map(lambda it: 1 if it == 'negative' else 0, labels_for_testing))\n",
        "y_score_negatives = probabilities[:, classes_list.index('negative')]\n",
        "fpr_negatives, tpr_negatives, _, = roc_curve(y_true_negatives, y_score_negatives)"
      ],
      "execution_count": 228,
      "outputs": []
    },
    {
      "cell_type": "code",
      "metadata": {
        "id": "xmMC82b43Apb"
      },
      "source": [
        "# y_true_neutrals = list(map(lambda it: 1 if it == 'neutral' else 0, labels_for_testing))\n",
        "# y_score_neutrals = probabilities[:, classes_list.index('neutral')]\n",
        "# fpr_neutrals, tpr_neutrals, _, = roc_curve(y_true_neutrals, y_score_neutrals)"
      ],
      "execution_count": 229,
      "outputs": []
    },
    {
      "cell_type": "code",
      "metadata": {
        "id": "RAclBVn63AqJ",
        "colab": {
          "base_uri": "https://localhost:8080/",
          "height": 295
        },
        "outputId": "c5c661d5-d260-440e-8a5b-7cdba8a66d09"
      },
      "source": [
        "import matplotlib.pyplot as plt\n",
        "plt.figure(1)\n",
        "plt.plot([0, 1], [0, 1], 'k--')\n",
        "plt.plot(fpr_positives, tpr_positives, label='Positive Sentiment')\n",
        "plt.plot(fpr_negatives, tpr_negatives, label='Negative Sentiment')\n",
        "# plt.plot(fpr_neutrals, tpr_neutrals, label='Neutral Sentiment')\n",
        "plt.xlabel('False positive rate')\n",
        "plt.ylabel('True positive rate')\n",
        "plt.title('ROC curve')\n",
        "plt.legend(loc='best')\n",
        "plt.show()"
      ],
      "execution_count": 230,
      "outputs": [
        {
          "output_type": "display_data",
          "data": {
            "image/png": "[encoded data removed]",
            "text/plain": [
              "<Figure size 432x288 with 1 Axes>"
            ]
          },
          "metadata": {
            "tags": [],
            "needs_background": "light"
          }
        }
      ]
    },
    {
      "cell_type": "code",
      "metadata": {
        "id": "9VXpmg2p3AqS",
        "colab": {
          "base_uri": "https://localhost:8080/"
        },
        "outputId": "f73048ea-c8f4-47de-99d3-a800b3c69084"
      },
      "source": [
        "from sklearn.metrics import f1_score\n",
        "predicted_labels = pipeline_for_se.predict(texts_for_testing)\n",
        "print('F1-micro = {0:.6f}'.format(f1_score(labels_for_testing, predicted_labels, average='micro')))\n",
        "print('F1-macro = {0:.6f}'.format(f1_score(labels_for_testing, predicted_labels, average='macro')))"
      ],
      "execution_count": 231,
      "outputs": [
        {
          "output_type": "stream",
          "text": [
            "F1-micro = 0.402791\n",
            "F1-macro = 0.310407\n"
          ],
          "name": "stdout"
        }
      ]
    },
    {
      "cell_type": "code",
      "metadata": {
        "id": "CnubGC2n3Aqa",
        "colab": {
          "base_uri": "https://localhost:8080/"
        },
        "outputId": "d389eb54-472e-4e80-d69f-9e8cf618a62a"
      },
      "source": [
        "from sklearn.metrics import classification_report\n",
        "print(classification_report(labels_for_testing, predicted_labels, digits=6))"
      ],
      "execution_count": 232,
      "outputs": [
        {
          "output_type": "stream",
          "text": [
            "              precision    recall  f1-score   support\n",
            "\n",
            "    negative   0.906921  0.495437  0.640809       767\n",
            "     neutral   0.000000  0.000000  0.000000         0\n",
            "    positive   0.929825  0.172078  0.290411       308\n",
            "\n",
            "    accuracy                       0.402791      1075\n",
            "   macro avg   0.612249  0.222505  0.310407      1075\n",
            "weighted avg   0.913483  0.402791  0.540416      1075\n",
            "\n"
          ],
          "name": "stdout"
        },
        {
          "output_type": "stream",
          "text": [
            "/usr/local/lib/python3.6/dist-packages/sklearn/metrics/_classification.py:1272: UndefinedMetricWarning: Recall and F-score are ill-defined and being set to 0.0 in labels with no true samples. Use `zero_division` parameter to control this behavior.\n",
            "  _warn_prf(average, modifier, msg_start, len(result))\n"
          ],
          "name": "stderr"
        }
      ]
    },
    {
      "cell_type": "markdown",
      "metadata": {
        "id": "ndY7_Hs6h-KN"
      },
      "source": [
        "# ~ gCV + LogRegr ~"
      ]
    },
    {
      "cell_type": "code",
      "metadata": {
        "id": "QQNMMpwn3Aql"
      },
      "source": [
        "from sklearn.model_selection import GridSearchCV\n",
        "from sklearn.metrics import make_scorer\n",
        "f1_macro_scorer = make_scorer(f1_score, average='macro')\n",
        "gcv_lr = GridSearchCV(\n",
        "    estimator=LogisticRegression(solver='liblinear'),\n",
        "    param_grid={'C': [1e-2, 1e-1, 1, 1e+1, 1e+2, 1e+3], 'penalty': ['l1', 'l2', 'elasticnet']},\n",
        "    scoring=f1_macro_scorer,\n",
        "    n_jobs=-1,\n",
        ")"
      ],
      "execution_count": 233,
      "outputs": []
    },
    {
      "cell_type": "code",
      "metadata": {
        "id": "SeTxxFZ23Aqu",
        "colab": {
          "base_uri": "https://localhost:8080/"
        },
        "outputId": "dc84d60b-ebda-4c5d-da4b-c409746c0135"
      },
      "source": [
        "gcv_lr_tp1 = time.time()\n",
        "gcv_lr.fit(X_transformed_and_selected, labels)\n",
        "gcv_lr_tp2 = time.time()\n",
        "print(f'Time needed for search: {gcv_lr_tp2 - gcv_lr_tp1}s')"
      ],
      "execution_count": 234,
      "outputs": [
        {
          "output_type": "stream",
          "text": [
            "Time needed for search: 6.456953048706055s\n"
          ],
          "name": "stdout"
        }
      ]
    },
    {
      "cell_type": "code",
      "metadata": {
        "id": "k8YZJ11T3Aq3",
        "colab": {
          "base_uri": "https://localhost:8080/"
        },
        "outputId": "7a34c680-7b9d-44c1-b052-add013ea5fc7"
      },
      "source": [
        "gcv_lr_bp = gcv_lr.best_params_\n",
        "print(gcv_lr_bp)"
      ],
      "execution_count": 235,
      "outputs": [
        {
          "output_type": "stream",
          "text": [
            "{'C': 100.0, 'penalty': 'l2'}\n"
          ],
          "name": "stdout"
        }
      ]
    },
    {
      "cell_type": "code",
      "metadata": {
        "id": "kGdkcuar3ArA"
      },
      "source": [
        "bcls_gcv_lr = LogisticRegression(\n",
        "                                 solver='liblinear', \n",
        "                                 verbose=True, \n",
        "                                 C=gcv_lr_bp['C'], \n",
        "                                 penalty=gcv_lr_bp['penalty']\n",
        "                                )"
      ],
      "execution_count": 236,
      "outputs": []
    },
    {
      "cell_type": "code",
      "metadata": {
        "id": "mbZPs8m66_wv",
        "colab": {
          "base_uri": "https://localhost:8080/"
        },
        "outputId": "abe0ab6b-8cc4-4bba-eb6f-1685ab033569"
      },
      "source": [
        "gcv_lr_tp3 = time.time()\n",
        "bcls_gcv_lr.fit(X_transformed_and_selected, labels)\n",
        "gcv_lr_tp4 = time.time()\n",
        "print(f'Time needed for computation: {gcv_lr_tp4 - gcv_lr_tp3}s')"
      ],
      "execution_count": 237,
      "outputs": [
        {
          "output_type": "stream",
          "text": [
            "[LibLinear]Time needed for computation: 0.18684124946594238s\n"
          ],
          "name": "stdout"
        }
      ]
    },
    {
      "cell_type": "code",
      "metadata": {
        "id": "8DkwlELZ3ArJ"
      },
      "source": [
        "best_pipeline_for_se = Pipeline(\n",
        "    [\n",
        "        ('vectorizer', vectorizer),\n",
        "        ('tfidf', transformer),\n",
        "        ('selector', selector),\n",
        "        ('final_classifier', bcls_gcv_lr)\n",
        "    ]\n",
        ")"
      ],
      "execution_count": 238,
      "outputs": []
    },
    {
      "cell_type": "code",
      "metadata": {
        "id": "Vi5OtXBa3ArR"
      },
      "source": [
        "probabilities = best_pipeline_for_se.predict_proba(texts_for_testing)\n",
        "\n",
        "y_true_positives = list(map(lambda it: 1 if it == 'positive' else 0, labels_for_testing))\n",
        "y_score_positives = probabilities[:, classes_list.index('positive')]\n",
        "fpr_positives, tpr_positives, _, = roc_curve(y_true_positives, y_score_positives)\n",
        "\n",
        "y_true_negatives = list(map(lambda it: 1 if it == 'negative' else 0, labels_for_testing))\n",
        "y_score_negatives = probabilities[:, classes_list.index('negative')]\n",
        "fpr_negatives, tpr_negatives, _, = roc_curve(y_true_negatives, y_score_negatives)\n",
        "\n",
        "# y_true_neutrals = list(map(lambda it: 1 if it == 'neutral' else 0, labels_for_testing))\n",
        "# y_score_neutrals = probabilities[:, classes_list.index('neutral')]\n",
        "# fpr_neutrals, tpr_neutrals, _, = roc_curve(y_true_neutrals, y_score_neutrals)"
      ],
      "execution_count": 239,
      "outputs": []
    },
    {
      "cell_type": "code",
      "metadata": {
        "id": "4fmMWhuJ3ArY",
        "colab": {
          "base_uri": "https://localhost:8080/",
          "height": 295
        },
        "outputId": "241006bb-9ed6-4cfb-daf5-6a65539975cd"
      },
      "source": [
        "plt.figure(2)\n",
        "plt.plot([0, 1], [0, 1], 'k--')\n",
        "plt.plot(fpr_positives, tpr_positives, label='Positive Sentiment')\n",
        "plt.plot(fpr_negatives, tpr_negatives, label='Negative Sentiment')\n",
        "# plt.plot(fpr_neutrals, tpr_neutrals, label='Neutral Sentiment')\n",
        "plt.xlabel('False positive rate')\n",
        "plt.ylabel('True positive rate')\n",
        "plt.title('ROC curve')\n",
        "plt.legend(loc='best')\n",
        "plt.show()"
      ],
      "execution_count": 240,
      "outputs": [
        {
          "output_type": "display_data",
          "data": {
            "image/png": "[encoded data removed]",
            "text/plain": [
              "<Figure size 432x288 with 1 Axes>"
            ]
          },
          "metadata": {
            "tags": [],
            "needs_background": "light"
          }
        }
      ]
    },
    {
      "cell_type": "code",
      "metadata": {
        "id": "nszIVJ6B3Arh",
        "colab": {
          "base_uri": "https://localhost:8080/"
        },
        "outputId": "f4989e85-4fdd-4740-bb86-ef970e7d8c23"
      },
      "source": [
        "predicted_labels = best_pipeline_for_se.predict(texts_for_testing)\n",
        "fmi_gcv_lr = f1_score(labels_for_testing, predicted_labels, average='micro')\n",
        "fma_gcv_lr = f1_score(labels_for_testing, predicted_labels, average='macro')\n",
        "print('F1-micro = {0:.6f}'.format(fmi_gcv_lr))\n",
        "print('F1-macro = {0:.6f}'.format(fma_gcv_lr))"
      ],
      "execution_count": 241,
      "outputs": [
        {
          "output_type": "stream",
          "text": [
            "F1-micro = 0.510698\n",
            "F1-macro = 0.390946\n"
          ],
          "name": "stdout"
        }
      ]
    },
    {
      "cell_type": "code",
      "metadata": {
        "id": "0xTP-OMd735q",
        "outputId": "8d36ead2-8d90-4e3c-ff70-531ea4c06ad7",
        "colab": {
          "base_uri": "https://localhost:8080/"
        }
      },
      "source": [
        "clsrep_gcv_lr = classification_report(labels_for_testing, predicted_labels, digits=6)"
      ],
      "execution_count": 242,
      "outputs": [
        {
          "output_type": "stream",
          "text": [
            "/usr/local/lib/python3.6/dist-packages/sklearn/metrics/_classification.py:1272: UndefinedMetricWarning: Recall and F-score are ill-defined and being set to 0.0 in labels with no true samples. Use `zero_division` parameter to control this behavior.\n",
            "  _warn_prf(average, modifier, msg_start, len(result))\n"
          ],
          "name": "stderr"
        }
      ]
    },
    {
      "cell_type": "code",
      "metadata": {
        "id": "XJD9M5gN3Arr",
        "colab": {
          "base_uri": "https://localhost:8080/"
        },
        "outputId": "3dd60079-b272-4ce1-c61e-e3e02124f183"
      },
      "source": [
        "print(clsrep_gcv_lr)"
      ],
      "execution_count": 243,
      "outputs": [
        {
          "output_type": "stream",
          "text": [
            "              precision    recall  f1-score   support\n",
            "\n",
            "    negative   0.849524  0.581486  0.690402       767\n",
            "     neutral   0.000000  0.000000  0.000000         0\n",
            "    positive   0.865546  0.334416  0.482436       308\n",
            "\n",
            "    accuracy                       0.510698      1075\n",
            "   macro avg   0.571690  0.305301  0.390946      1075\n",
            "weighted avg   0.854114  0.510698  0.630818      1075\n",
            "\n"
          ],
          "name": "stdout"
        }
      ]
    },
    {
      "cell_type": "markdown",
      "metadata": {
        "id": "DuFpqZ7ajNfi"
      },
      "source": [
        "# ~ rCV + LogReg ~"
      ]
    },
    {
      "cell_type": "code",
      "metadata": {
        "id": "WWU98vzu3Ar3"
      },
      "source": [
        "from sklearn.model_selection import RandomizedSearchCV"
      ],
      "execution_count": 244,
      "outputs": []
    },
    {
      "cell_type": "code",
      "metadata": {
        "id": "e5GB1A_scs17"
      },
      "source": [
        "rcv_lr = RandomizedSearchCV(\n",
        "    estimator=LogisticRegression(solver='liblinear'),\n",
        "    param_distributions={\n",
        "                'C': [1e-2, 1e-1, 1, 1e+1, 1e+2, 1e+3], \n",
        "                'penalty': ['l1', 'l2', 'elasticnet']\n",
        "                },\n",
        "    n_iter = 100,\n",
        "    scoring=f1_macro_scorer,\n",
        "    n_jobs=-1\n",
        ")"
      ],
      "execution_count": 245,
      "outputs": []
    },
    {
      "cell_type": "code",
      "metadata": {
        "id": "Q2jqtSA_hPQh",
        "colab": {
          "base_uri": "https://localhost:8080/"
        },
        "outputId": "a6249f13-c584-4fd0-f7cf-b7461c949443"
      },
      "source": [
        "rcv_lr_tp1 = time.time()\n",
        "rcv_lr.fit(X_transformed_and_selected, labels)\n",
        "rcv_lr_tp2 = time.time()"
      ],
      "execution_count": 246,
      "outputs": [
        {
          "output_type": "stream",
          "text": [
            "/usr/local/lib/python3.6/dist-packages/sklearn/model_selection/_search.py:281: UserWarning: The total space of parameters 18 is smaller than n_iter=100. Running 18 iterations. For exhaustive searches, use GridSearchCV.\n",
            "  % (grid_size, self.n_iter, grid_size), UserWarning)\n"
          ],
          "name": "stderr"
        }
      ]
    },
    {
      "cell_type": "code",
      "metadata": {
        "id": "i7nYQRGmhMMk",
        "colab": {
          "base_uri": "https://localhost:8080/"
        },
        "outputId": "b538d6fd-6b55-430e-dd9e-d09651275497"
      },
      "source": [
        "print(f'Time needed for search: {rcv_lr_tp2 - rcv_lr_tp1}s')\n",
        "rcv_lr_bp = rcv_lr.best_params_\n",
        "print(rcv_lr_bp)"
      ],
      "execution_count": 247,
      "outputs": [
        {
          "output_type": "stream",
          "text": [
            "Time needed for search: 5.524379253387451s\n",
            "{'penalty': 'l2', 'C': 100.0}\n"
          ],
          "name": "stdout"
        }
      ]
    },
    {
      "cell_type": "code",
      "metadata": {
        "id": "MewoAqNJrhXN",
        "colab": {
          "base_uri": "https://localhost:8080/"
        },
        "outputId": "c5971237-4f80-4d06-fcae-0f1b9c92d3c7"
      },
      "source": [
        "bcls_rcv_lr = LogisticRegression(\n",
        "                                 solver='liblinear', \n",
        "                                 verbose=True, \n",
        "                                 C=rcv_lr_bp['C'], \n",
        "                                 penalty=rcv_lr_bp['penalty']\n",
        "                                 )\n",
        "rcv_lr_tp3 = time.time()\n",
        "bcls_rcv_lr.fit(X_transformed_and_selected, labels)\n",
        "rcv_lr_tp4 = time.time()\n",
        "print('Time needed for computations: ', rcv_lr_tp4 - rcv_lr_tp3)"
      ],
      "execution_count": 248,
      "outputs": [
        {
          "output_type": "stream",
          "text": [
            "[LibLinear]Time needed for computations:  0.18508005142211914\n"
          ],
          "name": "stdout"
        }
      ]
    },
    {
      "cell_type": "code",
      "metadata": {
        "id": "PDFoSZNvsPq1"
      },
      "source": [
        "rand_pipeline_for_se = Pipeline(\n",
        "    [\n",
        "        ('vectorizer', vectorizer),\n",
        "        ('tfidf', transformer),\n",
        "        ('selector', selector),\n",
        "        ('final_classifier', bcls_rcv_lr)\n",
        "    ]\n",
        ")"
      ],
      "execution_count": 249,
      "outputs": []
    },
    {
      "cell_type": "code",
      "metadata": {
        "id": "cH4bO8pKsPr1"
      },
      "source": [
        "probabilities = rand_pipeline_for_se.predict_proba(texts_for_testing)\n",
        "\n",
        "y_true_positives = list(map(lambda it: 1 if it == 'positive' else 0, labels_for_testing))\n",
        "y_score_positives = probabilities[:, classes_list.index('positive')]\n",
        "fpr_positives, tpr_positives, _, = roc_curve(y_true_positives, y_score_positives)\n",
        "\n",
        "y_true_negatives = list(map(lambda it: 1 if it == 'negative' else 0, labels_for_testing))\n",
        "y_score_negatives = probabilities[:, classes_list.index('negative')]\n",
        "fpr_negatives, tpr_negatives, _, = roc_curve(y_true_negatives, y_score_negatives)\n",
        "\n",
        "# y_true_neutrals = list(map(lambda it: 1 if it == 'neutral' else 0, labels_for_testing))\n",
        "# y_score_neutrals = probabilities[:, classes_list.index('neutral')]\n",
        "# fpr_neutrals, tpr_neutrals, _, = roc_curve(y_true_neutrals, y_score_neutrals)"
      ],
      "execution_count": 250,
      "outputs": []
    },
    {
      "cell_type": "code",
      "metadata": {
        "id": "-8T45I9vsPsd",
        "colab": {
          "base_uri": "https://localhost:8080/",
          "height": 295
        },
        "outputId": "4987aac3-3403-4d5d-9ae5-3d4194a17687"
      },
      "source": [
        "plt.figure(3)\n",
        "plt.plot([0, 1], [0, 1], 'k--')\n",
        "plt.plot(fpr_positives, tpr_positives, label='Positive Sentiment')\n",
        "plt.plot(fpr_negatives, tpr_negatives, label='Negative Sentiment')\n",
        "# plt.plot(fpr_neutrals, tpr_neutrals, label='Neutral Sentiment')\n",
        "plt.xlabel('False positive rate')\n",
        "plt.ylabel('True positive rate')\n",
        "plt.title('ROC curve')\n",
        "plt.legend(loc='best')\n",
        "plt.show()"
      ],
      "execution_count": 251,
      "outputs": [
        {
          "output_type": "display_data",
          "data": {
            "image/png": "[encoded data removed]",
            "text/plain": [
              "<Figure size 432x288 with 1 Axes>"
            ]
          },
          "metadata": {
            "tags": [],
            "needs_background": "light"
          }
        }
      ]
    },
    {
      "cell_type": "code",
      "metadata": {
        "id": "prEV81HPsPs9",
        "colab": {
          "base_uri": "https://localhost:8080/"
        },
        "outputId": "c2798708-22fc-4107-9677-080741f4b312"
      },
      "source": [
        "predicted_labels = rand_pipeline_for_se.predict(texts_for_testing)\n",
        "fmi_rcv_lr = f1_score(labels_for_testing, predicted_labels, average='micro')\n",
        "fma_rcv_lr = f1_score(labels_for_testing, predicted_labels, average='macro')\n",
        "print('F1-micro = {0:.6f}'.format(fmi_rcv_lr))\n",
        "print('F1-macro = {0:.6f}'.format(fma_rcv_lr))"
      ],
      "execution_count": 252,
      "outputs": [
        {
          "output_type": "stream",
          "text": [
            "F1-micro = 0.510698\n",
            "F1-macro = 0.390946\n"
          ],
          "name": "stdout"
        }
      ]
    },
    {
      "cell_type": "code",
      "metadata": {
        "id": "PqkwLQK5sPtd",
        "colab": {
          "base_uri": "https://localhost:8080/"
        },
        "outputId": "564e0505-8f15-4c86-eae3-53e8c03fc6c4"
      },
      "source": [
        "clsrep_rcv_lr = classification_report(labels_for_testing, predicted_labels, digits=6)\n",
        "print(clsrep_rcv_lr)"
      ],
      "execution_count": 253,
      "outputs": [
        {
          "output_type": "stream",
          "text": [
            "              precision    recall  f1-score   support\n",
            "\n",
            "    negative   0.849524  0.581486  0.690402       767\n",
            "     neutral   0.000000  0.000000  0.000000         0\n",
            "    positive   0.865546  0.334416  0.482436       308\n",
            "\n",
            "    accuracy                       0.510698      1075\n",
            "   macro avg   0.571690  0.305301  0.390946      1075\n",
            "weighted avg   0.854114  0.510698  0.630818      1075\n",
            "\n"
          ],
          "name": "stdout"
        },
        {
          "output_type": "stream",
          "text": [
            "/usr/local/lib/python3.6/dist-packages/sklearn/metrics/_classification.py:1272: UndefinedMetricWarning: Recall and F-score are ill-defined and being set to 0.0 in labels with no true samples. Use `zero_division` parameter to control this behavior.\n",
            "  _warn_prf(average, modifier, msg_start, len(result))\n"
          ],
          "name": "stderr"
        }
      ]
    },
    {
      "cell_type": "markdown",
      "metadata": {
        "id": "1LvOiBOqA3HZ"
      },
      "source": [
        "# ~ gCV + SGDC ~"
      ]
    },
    {
      "cell_type": "code",
      "metadata": {
        "id": "fTGkSbcZA45l"
      },
      "source": [
        "from sklearn.linear_model import SGDClassifier"
      ],
      "execution_count": 254,
      "outputs": []
    },
    {
      "cell_type": "code",
      "metadata": {
        "id": "_ppiipGcA46U"
      },
      "source": [
        "gcv_sgdc = GridSearchCV(\n",
        "    estimator=SGDClassifier(loss='log'),\n",
        "    param_grid={\n",
        "                'alpha': [1e-4, 1e-3, 1e-2, 1e-1, 1], \n",
        "                'penalty': ['l1', 'l2', 'elasticnet']\n",
        "                },\n",
        "    scoring=f1_macro_scorer,\n",
        "    n_jobs=-1\n",
        ")"
      ],
      "execution_count": 255,
      "outputs": []
    },
    {
      "cell_type": "code",
      "metadata": {
        "id": "9fKKeYtkA47B"
      },
      "source": [
        "gcv_sgdc_tp1 = time.time()\n",
        "gcv_sgdc.fit(X_transformed_and_selected, labels)\n",
        "gcv_sgdc_tp2 = time.time()"
      ],
      "execution_count": 256,
      "outputs": []
    },
    {
      "cell_type": "code",
      "metadata": {
        "id": "0LOmZcgOA47j",
        "colab": {
          "base_uri": "https://localhost:8080/"
        },
        "outputId": "bce576a7-e1b1-4ace-fe5f-9838dd6b702c"
      },
      "source": [
        "print(f'Time needed for search: {gcv_sgdc_tp2 - gcv_sgdc_tp1}s')\n",
        "gcv_sgdc_bp = gcv_sgdc.best_params_\n",
        "print(gcv_sgdc_bp)"
      ],
      "execution_count": 257,
      "outputs": [
        {
          "output_type": "stream",
          "text": [
            "Time needed for search: 3.900801658630371s\n",
            "{'alpha': 0.0001, 'penalty': 'l1'}\n"
          ],
          "name": "stdout"
        }
      ]
    },
    {
      "cell_type": "code",
      "metadata": {
        "id": "GCjXVnQGA48A"
      },
      "source": [
        "bcls_gcv_sgdc = SGDClassifier( \n",
        "                     loss='log',\n",
        "                     penalty=gcv_sgdc_bp['penalty'],\n",
        "                     alpha=gcv_sgdc_bp['alpha'],\n",
        "                     max_iter=1000\n",
        "                    )"
      ],
      "execution_count": 258,
      "outputs": []
    },
    {
      "cell_type": "code",
      "metadata": {
        "id": "rHrpOtMNA48g"
      },
      "source": [
        "gcv_sgdc_tp3 = time.time()\n",
        "bcls_gcv_sgdc.fit(X_transformed_and_selected, labels)\n",
        "gcv_sgdc_tp4 = time.time()"
      ],
      "execution_count": 259,
      "outputs": []
    },
    {
      "cell_type": "code",
      "metadata": {
        "id": "AKui0lYCA487",
        "colab": {
          "base_uri": "https://localhost:8080/"
        },
        "outputId": "8ef6fae0-8e1e-40cb-84cb-6f98264576a8"
      },
      "source": [
        "print(f'Time needed for computations: {gcv_sgdc_tp4 - gcv_sgdc_tp3}s')"
      ],
      "execution_count": 260,
      "outputs": [
        {
          "output_type": "stream",
          "text": [
            "Time needed for computations: 0.07089710235595703s\n"
          ],
          "name": "stdout"
        }
      ]
    },
    {
      "cell_type": "code",
      "metadata": {
        "id": "a5u-AnAIA49Z"
      },
      "source": [
        "sgdc_pipeline_for_se = Pipeline(\n",
        "    [\n",
        "        ('vectorizer', vectorizer),\n",
        "        ('tfidf', transformer),\n",
        "        ('selector', selector),\n",
        "        ('final_classifier', bcls_gcv_sgdc)\n",
        "    ]\n",
        ")"
      ],
      "execution_count": 261,
      "outputs": []
    },
    {
      "cell_type": "code",
      "metadata": {
        "id": "zH-2ERK4A49z"
      },
      "source": [
        "probabilities = sgdc_pipeline_for_se.predict_proba(texts_for_testing)\n",
        "\n",
        "y_true_positives = list(map(lambda it: 1 if it == 'positive' else 0, labels_for_testing))\n",
        "y_score_positives = probabilities[:, classes_list.index('positive')]\n",
        "fpr_positives, tpr_positives, _, = roc_curve(y_true_positives, y_score_positives)\n",
        "\n",
        "y_true_negatives = list(map(lambda it: 1 if it == 'negative' else 0, labels_for_testing))\n",
        "y_score_negatives = probabilities[:, classes_list.index('negative')]\n",
        "fpr_negatives, tpr_negatives, _, = roc_curve(y_true_negatives, y_score_negatives)\n",
        "\n",
        "# y_true_neutrals = list(map(lambda it: 1 if it == 'neutral' else 0, labels_for_testing))\n",
        "# y_score_neutrals = probabilities[:, classes_list.index('neutral')]\n",
        "# fpr_neutrals, tpr_neutrals, _, = roc_curve(y_true_neutrals, y_score_neutrals)"
      ],
      "execution_count": 262,
      "outputs": []
    },
    {
      "cell_type": "code",
      "metadata": {
        "id": "MprP2DsdA4-K",
        "colab": {
          "base_uri": "https://localhost:8080/",
          "height": 295
        },
        "outputId": "12df2628-3065-4b1e-b412-e309c7ce3242"
      },
      "source": [
        "plt.figure(4)\n",
        "plt.plot([0, 1], [0, 1], 'k--')\n",
        "plt.plot(fpr_positives, tpr_positives, label='Positive Sentiment')\n",
        "plt.plot(fpr_negatives, tpr_negatives, label='Negative Sentiment')\n",
        "# plt.plot(fpr_neutrals, tpr_neutrals, label='Neutral Sentiment')\n",
        "plt.xlabel('False positive rate')\n",
        "plt.ylabel('True positive rate')\n",
        "plt.title('ROC curve')\n",
        "plt.legend(loc='best')\n",
        "plt.show()"
      ],
      "execution_count": 263,
      "outputs": [
        {
          "output_type": "display_data",
          "data": {
            "image/png": "[encoded data removed]",
            "text/plain": [
              "<Figure size 432x288 with 1 Axes>"
            ]
          },
          "metadata": {
            "tags": [],
            "needs_background": "light"
          }
        }
      ]
    },
    {
      "cell_type": "code",
      "metadata": {
        "id": "EfP84R5tA4-k",
        "colab": {
          "base_uri": "https://localhost:8080/"
        },
        "outputId": "14c3a145-4c99-4a09-807a-5672c95d59f5"
      },
      "source": [
        "predicted_labels = sgdc_pipeline_for_se.predict(texts_for_testing)\n",
        "fmi_gcv_sgdc = f1_score(labels_for_testing, predicted_labels, average='micro')\n",
        "fma_gcv_sgdc = f1_score(labels_for_testing, predicted_labels, average='macro')\n",
        "print('F1-micro = {0:.6f}'.format(fmi_gcv_sgdc))\n",
        "print('F1-macro = {0:.6f}'.format(fma_gcv_sgdc))"
      ],
      "execution_count": 264,
      "outputs": [
        {
          "output_type": "stream",
          "text": [
            "F1-micro = 0.433488\n",
            "F1-macro = 0.342033\n"
          ],
          "name": "stdout"
        }
      ]
    },
    {
      "cell_type": "code",
      "metadata": {
        "id": "vusV9pqvA4-8",
        "colab": {
          "base_uri": "https://localhost:8080/"
        },
        "outputId": "6df5b0ae-6a7f-41a7-8d98-5c18c1839512"
      },
      "source": [
        "clsrep_gcv_sgdc = classification_report(labels_for_testing, predicted_labels, digits=6)\n",
        "print(clsrep_gcv_sgdc)"
      ],
      "execution_count": 265,
      "outputs": [
        {
          "output_type": "stream",
          "text": [
            "              precision    recall  f1-score   support\n",
            "\n",
            "    negative   0.895216  0.512386  0.651741       767\n",
            "     neutral   0.000000  0.000000  0.000000         0\n",
            "    positive   0.890244  0.237013  0.374359       308\n",
            "\n",
            "    accuracy                       0.433488      1075\n",
            "   macro avg   0.595153  0.249800  0.342033      1075\n",
            "weighted avg   0.893792  0.433488  0.572268      1075\n",
            "\n"
          ],
          "name": "stdout"
        },
        {
          "output_type": "stream",
          "text": [
            "/usr/local/lib/python3.6/dist-packages/sklearn/metrics/_classification.py:1272: UndefinedMetricWarning: Recall and F-score are ill-defined and being set to 0.0 in labels with no true samples. Use `zero_division` parameter to control this behavior.\n",
            "  _warn_prf(average, modifier, msg_start, len(result))\n"
          ],
          "name": "stderr"
        }
      ]
    },
    {
      "cell_type": "markdown",
      "metadata": {
        "id": "iqGoxmwXjXe2"
      },
      "source": [
        "# ~ rCV + SGDClassifier ~"
      ]
    },
    {
      "cell_type": "code",
      "metadata": {
        "id": "ZHpBYh1ep9OG"
      },
      "source": [
        "from sklearn.linear_model import SGDClassifier"
      ],
      "execution_count": 266,
      "outputs": []
    },
    {
      "cell_type": "code",
      "metadata": {
        "id": "wKzxabpJ2-91"
      },
      "source": [
        "rcv_sgdc = RandomizedSearchCV(\n",
        "    estimator=SGDClassifier(loss='log'),\n",
        "    param_distributions={\n",
        "                'alpha': [1e-4, 1e-3, 1e-2, 1e-1, 1], \n",
        "                'penalty': ['l1', 'l2', 'elasticnet']\n",
        "                },\n",
        "    n_iter = 100,\n",
        "    scoring=f1_macro_scorer,\n",
        "    n_jobs=-1\n",
        ")"
      ],
      "execution_count": 267,
      "outputs": []
    },
    {
      "cell_type": "code",
      "metadata": {
        "id": "k-80-pKx4Ew9",
        "colab": {
          "base_uri": "https://localhost:8080/"
        },
        "outputId": "c38b605c-9653-4ae1-ca21-3ec0f4763ebb"
      },
      "source": [
        "rcv_sgdc_tp1 = time.time()\n",
        "rcv_sgdc.fit(X_transformed_and_selected, labels)\n",
        "rcv_sgdc_tp2 = time.time()"
      ],
      "execution_count": 268,
      "outputs": [
        {
          "output_type": "stream",
          "text": [
            "/usr/local/lib/python3.6/dist-packages/sklearn/model_selection/_search.py:281: UserWarning: The total space of parameters 15 is smaller than n_iter=100. Running 15 iterations. For exhaustive searches, use GridSearchCV.\n",
            "  % (grid_size, self.n_iter, grid_size), UserWarning)\n"
          ],
          "name": "stderr"
        }
      ]
    },
    {
      "cell_type": "code",
      "metadata": {
        "id": "G4TaxxGW4G3h",
        "colab": {
          "base_uri": "https://localhost:8080/"
        },
        "outputId": "9bb64a4c-3a66-471c-efad-a2d2fc1493c3"
      },
      "source": [
        "print(f'Time needed for search: {rcv_sgdc_tp2 - rcv_sgdc_tp1}s')\n",
        "rcv_sgdc_bp = rcv_sgdc.best_params_\n",
        "print(rcv_sgdc_bp)"
      ],
      "execution_count": 269,
      "outputs": [
        {
          "output_type": "stream",
          "text": [
            "Time needed for search: 3.885793447494507s\n",
            "{'penalty': 'l1', 'alpha': 0.0001}\n"
          ],
          "name": "stdout"
        }
      ]
    },
    {
      "cell_type": "code",
      "metadata": {
        "id": "MAlJFVX2wvfi"
      },
      "source": [
        "bcls_rcv_sgdc = SGDClassifier( \n",
        "                     loss='log',\n",
        "                     penalty=rcv_sgdc_bp['penalty'],\n",
        "                     alpha=rcv_sgdc_bp['alpha'],\n",
        "                     max_iter=1000\n",
        "                    )"
      ],
      "execution_count": 270,
      "outputs": []
    },
    {
      "cell_type": "code",
      "metadata": {
        "id": "8lR-xBh-xRqU"
      },
      "source": [
        "rcv_sgdc_tp3 = time.time()\n",
        "bcls_rcv_sgdc.fit(X_transformed_and_selected, labels)\n",
        "rcv_sgdc_tp4 = time.time()"
      ],
      "execution_count": 271,
      "outputs": []
    },
    {
      "cell_type": "code",
      "metadata": {
        "id": "K1-_8awAxlxo",
        "colab": {
          "base_uri": "https://localhost:8080/"
        },
        "outputId": "c08b3b54-9251-4469-b973-ae2aef5e126a"
      },
      "source": [
        "print(f'Time needed for computations: {rcv_sgdc_tp4 - rcv_sgdc_tp3}s')"
      ],
      "execution_count": 272,
      "outputs": [
        {
          "output_type": "stream",
          "text": [
            "Time needed for computations: 0.0656430721282959s\n"
          ],
          "name": "stdout"
        }
      ]
    },
    {
      "cell_type": "code",
      "metadata": {
        "id": "3QqNn4X2yTS5"
      },
      "source": [
        "sgdc_pipeline_for_se = Pipeline(\n",
        "    [\n",
        "        ('vectorizer', vectorizer),\n",
        "        ('tfidf', transformer),\n",
        "        ('selector', selector),\n",
        "        ('final_classifier', bcls_rcv_sgdc)\n",
        "    ]\n",
        ")"
      ],
      "execution_count": 273,
      "outputs": []
    },
    {
      "cell_type": "code",
      "metadata": {
        "id": "wv53glKgyTUA"
      },
      "source": [
        "probabilities = sgdc_pipeline_for_se.predict_proba(texts_for_testing)\n",
        "\n",
        "y_true_positives = list(map(lambda it: 1 if it == 'positive' else 0, labels_for_testing))\n",
        "y_score_positives = probabilities[:, classes_list.index('positive')]\n",
        "fpr_positives, tpr_positives, _, = roc_curve(y_true_positives, y_score_positives)\n",
        "\n",
        "y_true_negatives = list(map(lambda it: 1 if it == 'negative' else 0, labels_for_testing))\n",
        "y_score_negatives = probabilities[:, classes_list.index('negative')]\n",
        "fpr_negatives, tpr_negatives, _, = roc_curve(y_true_negatives, y_score_negatives)\n",
        "\n",
        "# y_true_neutrals = list(map(lambda it: 1 if it == 'neutral' else 0, labels_for_testing))\n",
        "# y_score_neutrals = probabilities[:, classes_list.index('neutral')]\n",
        "# fpr_neutrals, tpr_neutrals, _, = roc_curve(y_true_neutrals, y_score_neutrals)"
      ],
      "execution_count": 274,
      "outputs": []
    },
    {
      "cell_type": "code",
      "metadata": {
        "id": "KflXi6loyTUn",
        "colab": {
          "base_uri": "https://localhost:8080/",
          "height": 295
        },
        "outputId": "cee6fcf1-7133-49f7-86c3-62ec89fa17f5"
      },
      "source": [
        "plt.figure(4)\n",
        "plt.plot([0, 1], [0, 1], 'k--')\n",
        "plt.plot(fpr_positives, tpr_positives, label='Positive Sentiment')\n",
        "plt.plot(fpr_negatives, tpr_negatives, label='Negative Sentiment')\n",
        "# plt.plot(fpr_neutrals, tpr_neutrals, label='Neutral Sentiment')\n",
        "plt.xlabel('False positive rate')\n",
        "plt.ylabel('True positive rate')\n",
        "plt.title('ROC curve')\n",
        "plt.legend(loc='best')\n",
        "plt.show()"
      ],
      "execution_count": 275,
      "outputs": [
        {
          "output_type": "display_data",
          "data": {
            "image/png": "[encoded data removed]",
            "text/plain": [
              "<Figure size 432x288 with 1 Axes>"
            ]
          },
          "metadata": {
            "tags": [],
            "needs_background": "light"
          }
        }
      ]
    },
    {
      "cell_type": "code",
      "metadata": {
        "id": "zBaI1ws3yTVK",
        "colab": {
          "base_uri": "https://localhost:8080/"
        },
        "outputId": "0bcc9919-15c7-4358-80d7-dd81d748df90"
      },
      "source": [
        "predicted_labels = sgdc_pipeline_for_se.predict(texts_for_testing)\n",
        "fmi_rcv_sgdc = f1_score(labels_for_testing, predicted_labels, average='micro')\n",
        "fma_rcv_sgdc = f1_score(labels_for_testing, predicted_labels, average='macro')\n",
        "print('F1-micro = {0:.6f}'.format(fmi_rcv_sgdc))\n",
        "print('F1-macro = {0:.6f}'.format(fma_rcv_sgdc))"
      ],
      "execution_count": 276,
      "outputs": [
        {
          "output_type": "stream",
          "text": [
            "F1-micro = 0.433488\n",
            "F1-macro = 0.346718\n"
          ],
          "name": "stdout"
        }
      ]
    },
    {
      "cell_type": "code",
      "metadata": {
        "id": "DeVNOBaoyTVm",
        "colab": {
          "base_uri": "https://localhost:8080/"
        },
        "outputId": "b365db69-8595-4558-c50b-e300b1a26f5c"
      },
      "source": [
        "clsrep_rcv_sgdc = classification_report(labels_for_testing, predicted_labels, digits=6)\n",
        "print(clsrep_rcv_sgdc)"
      ],
      "execution_count": 277,
      "outputs": [
        {
          "output_type": "stream",
          "text": [
            "              precision    recall  f1-score   support\n",
            "\n",
            "    negative   0.898148  0.505867  0.647206       767\n",
            "     neutral   0.000000  0.000000  0.000000         0\n",
            "    positive   0.876404  0.253247  0.392947       308\n",
            "\n",
            "    accuracy                       0.433488      1075\n",
            "   macro avg   0.591518  0.253038  0.346718      1075\n",
            "weighted avg   0.891918  0.433488  0.574358      1075\n",
            "\n"
          ],
          "name": "stdout"
        },
        {
          "output_type": "stream",
          "text": [
            "/usr/local/lib/python3.6/dist-packages/sklearn/metrics/_classification.py:1272: UndefinedMetricWarning: Recall and F-score are ill-defined and being set to 0.0 in labels with no true samples. Use `zero_division` parameter to control this behavior.\n",
            "  _warn_prf(average, modifier, msg_start, len(result))\n"
          ],
          "name": "stderr"
        }
      ]
    },
    {
      "cell_type": "markdown",
      "metadata": {
        "id": "pGKjgVe4Ck3F"
      },
      "source": [
        "# ~ Выводы ~"
      ]
    },
    {
      "cell_type": "code",
      "metadata": {
        "id": "x3FqMFQTCo9c",
        "colab": {
          "base_uri": "https://localhost:8080/"
        },
        "outputId": "7870fdfb-d027-4461-d496-d99d2e9a9320"
      },
      "source": [
        "scheme = '--- {}\\nSearch time: {}\\nComputation time: {}\\nF1-micro = {}\\nF1-macro = {}\\nReport:\\n{}\\n' \n",
        "print(scheme.format('gCV + LogReg', gcv_lr_tp2-gcv_lr_tp1, gcv_lr_tp4-gcv_lr_tp3, fmi_gcv_lr, fma_gcv_lr, clsrep_gcv_lr))\n",
        "print(scheme.format('rCV + LogReg', rcv_lr_tp2-rcv_lr_tp1, rcv_lr_tp4-rcv_lr_tp3, fmi_rcv_lr, fma_rcv_lr, clsrep_rcv_lr))\n",
        "print(scheme.format('gCV + SGDC', gcv_sgdc_tp2-gcv_sgdc_tp1, gcv_sgdc_tp4-gcv_sgdc_tp3, fmi_gcv_sgdc, fma_gcv_sgdc, clsrep_gcv_sgdc))\n",
        "print(scheme.format('rCV + SGDC', rcv_sgdc_tp2-rcv_sgdc_tp1, rcv_sgdc_tp4-rcv_sgdc_tp3, fmi_rcv_sgdc, fma_rcv_sgdc, clsrep_rcv_sgdc))"
      ],
      "execution_count": 278,
      "outputs": [
        {
          "output_type": "stream",
          "text": [
            "--- gCV + LogReg\n",
            "Search time: 6.456953048706055\n",
            "Computation time: 0.18684124946594238\n",
            "F1-micro = 0.5106976744186047\n",
            "F1-macro = 0.39094602465662714\n",
            "Report:\n",
            "              precision    recall  f1-score   support\n",
            "\n",
            "    negative   0.849524  0.581486  0.690402       767\n",
            "     neutral   0.000000  0.000000  0.000000         0\n",
            "    positive   0.865546  0.334416  0.482436       308\n",
            "\n",
            "    accuracy                       0.510698      1075\n",
            "   macro avg   0.571690  0.305301  0.390946      1075\n",
            "weighted avg   0.854114  0.510698  0.630818      1075\n",
            "\n",
            "\n",
            "--- rCV + LogReg\n",
            "Search time: 5.524379253387451\n",
            "Computation time: 0.18508005142211914\n",
            "F1-micro = 0.5106976744186047\n",
            "F1-macro = 0.39094602465662714\n",
            "Report:\n",
            "              precision    recall  f1-score   support\n",
            "\n",
            "    negative   0.849524  0.581486  0.690402       767\n",
            "     neutral   0.000000  0.000000  0.000000         0\n",
            "    positive   0.865546  0.334416  0.482436       308\n",
            "\n",
            "    accuracy                       0.510698      1075\n",
            "   macro avg   0.571690  0.305301  0.390946      1075\n",
            "weighted avg   0.854114  0.510698  0.630818      1075\n",
            "\n",
            "\n",
            "--- gCV + SGDC\n",
            "Search time: 3.900801658630371\n",
            "Computation time: 0.07089710235595703\n",
            "F1-micro = 0.43348837209302327\n",
            "F1-macro = 0.34203342263043757\n",
            "Report:\n",
            "              precision    recall  f1-score   support\n",
            "\n",
            "    negative   0.895216  0.512386  0.651741       767\n",
            "     neutral   0.000000  0.000000  0.000000         0\n",
            "    positive   0.890244  0.237013  0.374359       308\n",
            "\n",
            "    accuracy                       0.433488      1075\n",
            "   macro avg   0.595153  0.249800  0.342033      1075\n",
            "weighted avg   0.893792  0.433488  0.572268      1075\n",
            "\n",
            "\n",
            "--- rCV + SGDC\n",
            "Search time: 3.885793447494507\n",
            "Computation time: 0.0656430721282959\n",
            "F1-micro = 0.43348837209302327\n",
            "F1-macro = 0.3467177027595764\n",
            "Report:\n",
            "              precision    recall  f1-score   support\n",
            "\n",
            "    negative   0.898148  0.505867  0.647206       767\n",
            "     neutral   0.000000  0.000000  0.000000         0\n",
            "    positive   0.876404  0.253247  0.392947       308\n",
            "\n",
            "    accuracy                       0.433488      1075\n",
            "   macro avg   0.591518  0.253038  0.346718      1075\n",
            "weighted avg   0.891918  0.433488  0.574358      1075\n",
            "\n",
            "\n"
          ],
          "name": "stdout"
        }
      ]
    }
  ]
}