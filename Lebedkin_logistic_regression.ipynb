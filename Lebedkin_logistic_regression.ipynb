{
  "nbformat": 4,
  "nbformat_minor": 0,
  "metadata": {
    "kernelspec": {
      "display_name": "Python 3",
      "language": "python",
      "name": "python3"
    },
    "language_info": {
      "codemirror_mode": {
        "name": "ipython",
        "version": 3
      },
      "file_extension": ".py",
      "mimetype": "text/x-python",
      "name": "python",
      "nbconvert_exporter": "python",
      "pygments_lexer": "ipython3",
      "version": "3.6.9"
    },
    "colab": {
      "name": "Lebedkin - logistic_regression.ipynb",
      "provenance": [],
      "collapsed_sections": [],
      "include_colab_link": true
    }
  },
  "cells": [
    {
      "cell_type": "markdown",
      "metadata": {
        "id": "view-in-github",
        "colab_type": "text"
      },
      "source": [
        "<a href=\"https://colab.research.google.com/github/lbdkn8/nlp_experiments/blob/main/Lebedkin_logistic_regression.ipynb\" target=\"_parent\"><img src=\"https://colab.research.google.com/assets/colab-badge.svg\" alt=\"Open In Colab\"/></a>"
      ]
    },
    {
      "cell_type": "code",
      "metadata": {
        "id": "rJet2XaaK8TJ",
        "outputId": "3d1a3503-9385-4415-cd5d-a267b8922b5f",
        "colab": {
          "base_uri": "https://localhost:8080/",
          "height": 35
        }
      },
      "source": [
        "from google.colab import drive\n",
        "drive.mount('/content/drive')"
      ],
      "execution_count": 4,
      "outputs": [
        {
          "output_type": "stream",
          "text": [
            "Mounted at /content/drive\n"
          ],
          "name": "stdout"
        }
      ]
    },
    {
      "cell_type": "code",
      "metadata": {
        "id": "C8BYW0pJ3AZl"
      },
      "source": [
        "from lxml import etree"
      ],
      "execution_count": 5,
      "outputs": []
    },
    {
      "cell_type": "code",
      "metadata": {
        "id": "gMkYasFT3AaO"
      },
      "source": [
        "from typing import List, Tuple"
      ],
      "execution_count": 6,
      "outputs": []
    },
    {
      "cell_type": "code",
      "metadata": {
        "id": "n_rg0nSpFIdV",
        "outputId": "e4e09122-9e5d-45eb-daee-6653d399b4ad",
        "colab": {
          "base_uri": "https://localhost:8080/",
          "height": 836
        }
      },
      "source": [
        "%pip install spacy-udpipe\n",
        "%pip install pymorphy2==0.8\n",
        "\n",
        "import spacy_udpipe\n",
        "import string, re\n",
        "\n",
        "spacy_udpipe.download(\"ru-syntagrus\") \n",
        "nlp = spacy_udpipe.load(\"ru-syntagrus\")"
      ],
      "execution_count": 7,
      "outputs": [
        {
          "output_type": "stream",
          "text": [
            "Collecting spacy-udpipe\n",
            "  Downloading https://files.pythonhosted.org/packages/16/60/2a985e25f6a398655f018e5e43d16ba3dbd65f0d4d6ae22add90578669a5/spacy_udpipe-0.3.2-py3-none-any.whl\n",
            "Requirement already satisfied: spacy<3.0.0,>=2.1.0 in /usr/local/lib/python3.6/dist-packages (from spacy-udpipe) (2.2.4)\n",
            "Collecting ufal.udpipe>=1.2.0\n",
            "\u001b[?25l  Downloading https://files.pythonhosted.org/packages/e5/72/2b8b9dc7c80017c790bb3308bbad34b57accfed2ac2f1f4ab252ff4e9cb2/ufal.udpipe-1.2.0.3.tar.gz (304kB)\n",
            "\u001b[K     |████████████████████████████████| 307kB 3.8MB/s \n",
            "\u001b[?25hRequirement already satisfied: murmurhash<1.1.0,>=0.28.0 in /usr/local/lib/python3.6/dist-packages (from spacy<3.0.0,>=2.1.0->spacy-udpipe) (1.0.2)\n",
            "Requirement already satisfied: blis<0.5.0,>=0.4.0 in /usr/local/lib/python3.6/dist-packages (from spacy<3.0.0,>=2.1.0->spacy-udpipe) (0.4.1)\n",
            "Requirement already satisfied: requests<3.0.0,>=2.13.0 in /usr/local/lib/python3.6/dist-packages (from spacy<3.0.0,>=2.1.0->spacy-udpipe) (2.23.0)\n",
            "Requirement already satisfied: cymem<2.1.0,>=2.0.2 in /usr/local/lib/python3.6/dist-packages (from spacy<3.0.0,>=2.1.0->spacy-udpipe) (2.0.3)\n",
            "Requirement already satisfied: preshed<3.1.0,>=3.0.2 in /usr/local/lib/python3.6/dist-packages (from spacy<3.0.0,>=2.1.0->spacy-udpipe) (3.0.2)\n",
            "Requirement already satisfied: setuptools in /usr/local/lib/python3.6/dist-packages (from spacy<3.0.0,>=2.1.0->spacy-udpipe) (50.3.0)\n",
            "Requirement already satisfied: plac<1.2.0,>=0.9.6 in /usr/local/lib/python3.6/dist-packages (from spacy<3.0.0,>=2.1.0->spacy-udpipe) (1.1.3)\n",
            "Requirement already satisfied: numpy>=1.15.0 in /usr/local/lib/python3.6/dist-packages (from spacy<3.0.0,>=2.1.0->spacy-udpipe) (1.18.5)\n",
            "Requirement already satisfied: srsly<1.1.0,>=1.0.2 in /usr/local/lib/python3.6/dist-packages (from spacy<3.0.0,>=2.1.0->spacy-udpipe) (1.0.2)\n",
            "Requirement already satisfied: catalogue<1.1.0,>=0.0.7 in /usr/local/lib/python3.6/dist-packages (from spacy<3.0.0,>=2.1.0->spacy-udpipe) (1.0.0)\n",
            "Requirement already satisfied: tqdm<5.0.0,>=4.38.0 in /usr/local/lib/python3.6/dist-packages (from spacy<3.0.0,>=2.1.0->spacy-udpipe) (4.41.1)\n",
            "Requirement already satisfied: thinc==7.4.0 in /usr/local/lib/python3.6/dist-packages (from spacy<3.0.0,>=2.1.0->spacy-udpipe) (7.4.0)\n",
            "Requirement already satisfied: wasabi<1.1.0,>=0.4.0 in /usr/local/lib/python3.6/dist-packages (from spacy<3.0.0,>=2.1.0->spacy-udpipe) (0.8.0)\n",
            "Requirement already satisfied: chardet<4,>=3.0.2 in /usr/local/lib/python3.6/dist-packages (from requests<3.0.0,>=2.13.0->spacy<3.0.0,>=2.1.0->spacy-udpipe) (3.0.4)\n",
            "Requirement already satisfied: idna<3,>=2.5 in /usr/local/lib/python3.6/dist-packages (from requests<3.0.0,>=2.13.0->spacy<3.0.0,>=2.1.0->spacy-udpipe) (2.10)\n",
            "Requirement already satisfied: certifi>=2017.4.17 in /usr/local/lib/python3.6/dist-packages (from requests<3.0.0,>=2.13.0->spacy<3.0.0,>=2.1.0->spacy-udpipe) (2020.6.20)\n",
            "Requirement already satisfied: urllib3!=1.25.0,!=1.25.1,<1.26,>=1.21.1 in /usr/local/lib/python3.6/dist-packages (from requests<3.0.0,>=2.13.0->spacy<3.0.0,>=2.1.0->spacy-udpipe) (1.24.3)\n",
            "Requirement already satisfied: importlib-metadata>=0.20; python_version < \"3.8\" in /usr/local/lib/python3.6/dist-packages (from catalogue<1.1.0,>=0.0.7->spacy<3.0.0,>=2.1.0->spacy-udpipe) (2.0.0)\n",
            "Requirement already satisfied: zipp>=0.5 in /usr/local/lib/python3.6/dist-packages (from importlib-metadata>=0.20; python_version < \"3.8\"->catalogue<1.1.0,>=0.0.7->spacy<3.0.0,>=2.1.0->spacy-udpipe) (3.2.0)\n",
            "Building wheels for collected packages: ufal.udpipe\n",
            "  Building wheel for ufal.udpipe (setup.py) ... \u001b[?25l\u001b[?25hdone\n",
            "  Created wheel for ufal.udpipe: filename=ufal.udpipe-1.2.0.3-cp36-cp36m-linux_x86_64.whl size=5625198 sha256=f05bb132408255ee44a2d528ddfdbac1fe4e0e18d5792c1b05c9041470395d6c\n",
            "  Stored in directory: /root/.cache/pip/wheels/0c/9d/db/6d3404c33da5b7adb6c6972853efb6a27649d3ba15f7e9bebb\n",
            "Successfully built ufal.udpipe\n",
            "Installing collected packages: ufal.udpipe, spacy-udpipe\n",
            "Successfully installed spacy-udpipe-0.3.2 ufal.udpipe-1.2.0.3\n",
            "Collecting pymorphy2==0.8\n",
            "\u001b[?25l  Downloading https://files.pythonhosted.org/packages/a3/33/fff9675c68b5f6c63ec8c6e6ff57827dda28a1fa5b2c2d727dffff92dd47/pymorphy2-0.8-py2.py3-none-any.whl (46kB)\n",
            "\u001b[K     |████████████████████████████████| 51kB 1.6MB/s \n",
            "\u001b[?25hCollecting pymorphy2-dicts<3.0,>=2.4\n",
            "\u001b[?25l  Downloading https://files.pythonhosted.org/packages/02/51/2465fd4f72328ab50877b54777764d928da8cb15b74e2680fc1bd8cb3173/pymorphy2_dicts-2.4.393442.3710985-py2.py3-none-any.whl (7.1MB)\n",
            "\u001b[K     |████████████████████████████████| 7.1MB 5.0MB/s \n",
            "\u001b[?25hCollecting dawg-python>=0.7\n",
            "  Downloading https://files.pythonhosted.org/packages/6a/84/ff1ce2071d4c650ec85745766c0047ccc3b5036f1d03559fd46bb38b5eeb/DAWG_Python-0.7.2-py2.py3-none-any.whl\n",
            "Requirement already satisfied: docopt>=0.6 in /usr/local/lib/python3.6/dist-packages (from pymorphy2==0.8) (0.6.2)\n",
            "Installing collected packages: pymorphy2-dicts, dawg-python, pymorphy2\n",
            "Successfully installed dawg-python-0.7.2 pymorphy2-0.8 pymorphy2-dicts-2.4.393442.3710985\n",
            "Downloaded pre-trained UDPipe model for 'ru-syntagrus' language\n"
          ],
          "name": "stdout"
        }
      ]
    },
    {
      "cell_type": "code",
      "metadata": {
        "id": "_kfE83V3KlED"
      },
      "source": [
        "def chewable(s):                                                # Убираем лишнее \n",
        "  lemmas = [token.lemma_ for token in nlp(s)]\n",
        "  s_lemmd = ' '.join(lemmas)                                                \n",
        "  webs = '(\\S+\\.\\S+\\.?\\S+[\\s^\\v]?)'\n",
        "  nums = '(\\d+[\\s^\\v]?)'\n",
        "  re_webs = re.compile(webs)                                    # Убираем сслыки\n",
        "  re_pnct = re.compile('[%s]' % re.escape(string.punctuation))  # Пунктуацию\n",
        "  re_nums = re.compile(nums)                                    # Почему-то числа становились наиболее значимыми признаками - убираю\n",
        "  s_dewebbed = re_webs.sub('', s_lemmd)\n",
        "  s_stripped = re_pnct.sub('', s_dewebbed)\n",
        "  s_denummed = re_nums.sub('', s_stripped)\n",
        "  return s_denummed"
      ],
      "execution_count": 8,
      "outputs": []
    },
    {
      "cell_type": "code",
      "metadata": {
        "id": "b6FY8LP43Aa0"
      },
      "source": [
        "def load_sentirueval_2016(file_name: str) -> Tuple[List[str], List[str]]:\n",
        "    texts = []\n",
        "    labels = []\n",
        "    with open(file_name, mode='rb') as fp:\n",
        "        xml_data = fp.read()\n",
        "    root = etree.fromstring(xml_data)\n",
        "    for database in root.getchildren():\n",
        "        if database.tag == 'database':\n",
        "            for table in database.getchildren():\n",
        "                if table.tag != 'table':\n",
        "                    continue\n",
        "                new_text = None\n",
        "                new_label = None\n",
        "                for column in table.getchildren():\n",
        "                    if column.get('name') == 'text':\n",
        "                        new_text = chewable(column.text)\n",
        "                        if new_label is not None:\n",
        "                            break\n",
        "                    elif column.get('name') not in {'id', 'twitid', 'date'}:\n",
        "                        if new_label is None:\n",
        "                            label_candidate = str(column.text).strip()\n",
        "                            if label_candidate in {'0', '1', '-1'}:\n",
        "                                new_label = 'negative' if label_candidate == '-1' else \\\n",
        "                                    ('positive' if label_candidate == '1' else 'neutral')\n",
        "                                if new_text is not None:\n",
        "                                    break\n",
        "                if (new_text is None) or (new_label is None):\n",
        "                    raise ValueError('File `{0}` contains some error!'.format(file_name))\n",
        "                texts.append(new_text)\n",
        "                labels.append(new_label)\n",
        "            break\n",
        "    return texts, labels"
      ],
      "execution_count": 9,
      "outputs": []
    },
    {
      "cell_type": "code",
      "metadata": {
        "id": "ZS1J18J4Ls4T"
      },
      "source": [
        "fXML = '/content/drive/My Drive/bank_train_2016.xml'"
      ],
      "execution_count": 10,
      "outputs": []
    },
    {
      "cell_type": "code",
      "metadata": {
        "id": "EL-Lbw7B3AbS"
      },
      "source": [
        "texts, labels = load_sentirueval_2016(fXML)"
      ],
      "execution_count": 11,
      "outputs": []
    },
    {
      "cell_type": "code",
      "metadata": {
        "id": "IQAeR79F3Abo",
        "outputId": "10364568-82bb-4fc2-9d05-7192bb4e2b10",
        "colab": {
          "base_uri": "https://localhost:8080/",
          "height": 35
        }
      },
      "source": [
        "print('Number of texts is {0}, number of labels is {1}.'.format(len(texts), len(labels)))"
      ],
      "execution_count": 12,
      "outputs": [
        {
          "output_type": "stream",
          "text": [
            "Number of texts is 9392, number of labels is 9392.\n"
          ],
          "name": "stdout"
        }
      ]
    },
    {
      "cell_type": "code",
      "metadata": {
        "id": "118Hinks3AcU"
      },
      "source": [
        "import random"
      ],
      "execution_count": 13,
      "outputs": []
    },
    {
      "cell_type": "code",
      "metadata": {
        "id": "JXpuvxXN3Ac4",
        "outputId": "c7cec5d1-b63b-46bb-97db-51527c18ee05",
        "colab": {
          "base_uri": "https://localhost:8080/",
          "height": 380
        }
      },
      "source": [
        "for idx in random.choices(list(range(len(texts))), k=20):\n",
        "    print('{0} => {1}'.format(labels[idx], texts[idx]))"
      ],
      "execution_count": 14,
      "outputs": [
        {
          "output_type": "stream",
          "text": [
            "neutral =>  россия сми  Газпромбанк дать Сечина в кредит  миллион на акция\n",
            "neutral => RT rucontinental  Сбербанк начать выпуск карта на база российский платежный система ПРО  \n",
            "negative => мдаа  видеть реклама ВТБ я реально усомниться в то  Россия  это русский государство   \n",
            "neutral => ставка по авто кредит сбербанк \n",
            "positive => по состояние на час утро июнь рейтинг банк Бурятия  за который голосовать посетитель сайт «Байкал Финанс»  возглавить Сбербанк Росс\n",
            "neutral => Mastercard  Сбербанк РФ \n",
            "neutral => перекредитование потребительский кредит альфа банк \n",
            "neutral => мгновенный кредитный карта сбербанок \n",
            "neutral =>  новость клиент НМБ делить Сбербанк и МДМ Банк  новокузнецк\n",
            "negative =>  Сбербанк и  ВТБ попасть под санкция ЕС    FFRU\n",
            "neutral => брать кредит альфа банк город спасск дальний\n",
            "neutral => заголовок новость  почта Россия намерен получить банковский лицензия  x xx  а посылка кто заниматься быть   yyy  Сбербанк   \n",
            "neutral => findozor ЦБ поддержать попасть под санкция ВТБ  Сбербанк и Газпромбанк  банк  финансы кто бы сомневаться   \n",
            "neutral => в Липецк Сбербанк подписать соглашение о сотрудничество с Ассоциация молодой предприниматель \n",
            "neutral =>  обед Газпромбанк начать эмиссия карта MasterCard PayPass с носитель в наручный час\n",
            "neutral => кредитный операция коммерческий банк вт \n",
            "neutral => RT juryxozyboc  банк вт кредит в екатеринбург \n",
            "neutral => что важный знать на собеседование в альфа банк\n",
            "neutral =>  Россельхозбанк и Банк Москва не страдать от санкция  \n",
            "negative => Rt kucheramat  Сбербанк Россия  год на рынок очередь  \n"
          ],
          "name": "stdout"
        }
      ]
    },
    {
      "cell_type": "code",
      "metadata": {
        "id": "pP2OXqLc3AdM"
      },
      "source": [
        "positive_tweets = [texts[idx] for idx in range(len(texts)) if labels[idx] == 'positive']\n",
        "negative_tweets = [texts[idx] for idx in range(len(texts)) if labels[idx] == 'negative']"
      ],
      "execution_count": 15,
      "outputs": []
    },
    {
      "cell_type": "code",
      "metadata": {
        "id": "RXkkPGug3Adg",
        "outputId": "e50cb83f-533f-468d-c79d-f5643c218db7",
        "colab": {
          "base_uri": "https://localhost:8080/",
          "height": 108
        }
      },
      "source": [
        "for cur in positive_tweets[:5]: print(cur)"
      ],
      "execution_count": 16,
      "outputs": [
        {
          "output_type": "stream",
          "text": [
            "sawikshuster YevhenS главный чтобы банк СБЕР и ВТБ   \n",
            "самый выгодный автокредит в втб \n",
            "легко можно получить денежный кредит ы вт банк\n",
            "снижение процентный ставка по кредит на недвижимость сбербанк \n",
            "в наш сбербанк прийти американец и просить сфоткаться с он у банкомат  D я васто быть в шок и на фотка полюбому получиться смешной xD\n"
          ],
          "name": "stdout"
        }
      ]
    },
    {
      "cell_type": "code",
      "metadata": {
        "id": "60DkKK9W3Ad2",
        "outputId": "5420d9ab-7a41-4efc-abca-5e453314374e",
        "colab": {
          "base_uri": "https://localhost:8080/",
          "height": 108
        }
      },
      "source": [
        "for cur in negative_tweets[:5]: print(cur)"
      ],
      "execution_count": 17,
      "outputs": [
        {
          "output_type": "stream",
          "text": [
            "ShtirliZ Zhukovaolga winzard tereshenkov обязательно про сбербанк писать  временами хлестко интерать магазин финт выкручивать \n",
            "UmkaAlfariusigorsechin втб и сбер точно  вопрос  блокировка операция или запрет на кредит \n",
            "Канада ввести санкция против Газпромбанк  ВЭБ  Новатэк и российский оборонный компания\n",
            "RT letokot  если Сбер и ВТБ попасть под санкция  быть жоп\n",
            "RT tvru   Канада ввести санкция против оборонный и сырьевой компания и банк РФ  среди они  в частность    Газпромбанк     Внешэк …\n"
          ],
          "name": "stdout"
        }
      ]
    },
    {
      "cell_type": "code",
      "metadata": {
        "id": "zjbfjf7Z3AeM",
        "outputId": "81250da6-950d-432c-ca8f-002cd3736c90",
        "colab": {
          "base_uri": "https://localhost:8080/",
          "height": 72
        }
      },
      "source": [
        "import nltk\n",
        "from nltk import word_tokenize\n",
        "\n",
        "nltk.download('punkt')"
      ],
      "execution_count": 18,
      "outputs": [
        {
          "output_type": "stream",
          "text": [
            "[nltk_data] Downloading package punkt to /root/nltk_data...\n",
            "[nltk_data]   Unzipping tokenizers/punkt.zip.\n"
          ],
          "name": "stdout"
        },
        {
          "output_type": "execute_result",
          "data": {
            "text/plain": [
              "True"
            ]
          },
          "metadata": {
            "tags": []
          },
          "execution_count": 18
        }
      ]
    },
    {
      "cell_type": "code",
      "metadata": {
        "id": "XuZBKsjA3Aeh"
      },
      "source": [
        "from sklearn.feature_extraction.text import CountVectorizer"
      ],
      "execution_count": 19,
      "outputs": []
    },
    {
      "cell_type": "code",
      "metadata": {
        "id": "hxAqehMp3Ae2"
      },
      "source": [
        "vectorizer = CountVectorizer(lowercase=True, tokenizer=word_tokenize)"
      ],
      "execution_count": 20,
      "outputs": []
    },
    {
      "cell_type": "code",
      "metadata": {
        "id": "Flacy_lj3AfN",
        "outputId": "fb1d2e7e-1ecf-4b2e-d243-40b7e64eccc8",
        "colab": {
          "base_uri": "https://localhost:8080/",
          "height": 201
        }
      },
      "source": [
        "vectorizer.fit(texts)"
      ],
      "execution_count": 21,
      "outputs": [
        {
          "output_type": "stream",
          "text": [
            "/usr/local/lib/python3.6/dist-packages/sklearn/feature_extraction/text.py:507: UserWarning: The parameter 'token_pattern' will not be used since 'tokenizer' is not None'\n",
            "  warnings.warn(\"The parameter 'token_pattern' will not be used\"\n"
          ],
          "name": "stderr"
        },
        {
          "output_type": "execute_result",
          "data": {
            "text/plain": [
              "CountVectorizer(analyzer='word', binary=False, decode_error='strict',\n",
              "                dtype=<class 'numpy.int64'>, encoding='utf-8', input='content',\n",
              "                lowercase=True, max_df=1.0, max_features=None, min_df=1,\n",
              "                ngram_range=(1, 1), preprocessor=None, stop_words=None,\n",
              "                strip_accents=None, token_pattern='(?u)\\\\b\\\\w\\\\w+\\\\b',\n",
              "                tokenizer=<function word_tokenize at 0x7f690e0d7158>,\n",
              "                vocabulary=None)"
            ]
          },
          "metadata": {
            "tags": []
          },
          "execution_count": 21
        }
      ]
    },
    {
      "cell_type": "code",
      "metadata": {
        "id": "On7DhL193Afg",
        "outputId": "8f8e074c-4eed-43cc-e7c8-90e856935301",
        "colab": {
          "base_uri": "https://localhost:8080/",
          "height": 55
        }
      },
      "source": [
        "print(vectorizer.get_feature_names()[0:20])"
      ],
      "execution_count": 22,
      "outputs": [
        {
          "output_type": "stream",
          "text": [
            "['a', 'abaradagaнлат', 'aberadez', 'abetaa', 'abncapital', 'abramovdeputat', 'abunyasha', 'abysov', 'adagamov', 'adairrasi', 'adaron', 'aday', 'adenisenko', 'adindex', 'adlarguan', 'admeru', 'admitad', 'adubter', 'adworningju', 'aeroflot']\n"
          ],
          "name": "stdout"
        }
      ]
    },
    {
      "cell_type": "code",
      "metadata": {
        "id": "VTJsy6DD3Af0",
        "outputId": "cd5ccb35-ac84-4e76-bbdf-9f37637caf61",
        "colab": {
          "base_uri": "https://localhost:8080/",
          "height": 35
        }
      },
      "source": [
        "print(len(vectorizer.get_feature_names()))"
      ],
      "execution_count": 23,
      "outputs": [
        {
          "output_type": "stream",
          "text": [
            "8698\n"
          ],
          "name": "stdout"
        }
      ]
    },
    {
      "cell_type": "code",
      "metadata": {
        "id": "uKL9wpSD3AgE"
      },
      "source": [
        "X = vectorizer.transform(texts)"
      ],
      "execution_count": 24,
      "outputs": []
    },
    {
      "cell_type": "code",
      "metadata": {
        "id": "2zSqZhWD3AgV",
        "outputId": "6030758c-b9be-47e0-a7eb-df3cdebd2b65",
        "colab": {
          "base_uri": "https://localhost:8080/",
          "height": 35
        }
      },
      "source": [
        "print(type(X))"
      ],
      "execution_count": 25,
      "outputs": [
        {
          "output_type": "stream",
          "text": [
            "<class 'scipy.sparse.csr.csr_matrix'>\n"
          ],
          "name": "stdout"
        }
      ]
    },
    {
      "cell_type": "code",
      "metadata": {
        "id": "CfTJP9tw3Agp",
        "outputId": "fe65bb04-3a4f-44c4-9915-ddd1b3bb8d5b",
        "colab": {
          "base_uri": "https://localhost:8080/",
          "height": 35
        }
      },
      "source": [
        "print(texts[0])"
      ],
      "execution_count": 26,
      "outputs": [
        {
          "output_type": "stream",
          "text": [
            "брать кредит тюмень альфа банк\n"
          ],
          "name": "stdout"
        }
      ]
    },
    {
      "cell_type": "code",
      "metadata": {
        "id": "6_JizZSp3Ag9",
        "outputId": "5b612f13-24e7-48c9-b864-8a253b0b0ff1",
        "colab": {
          "base_uri": "https://localhost:8080/",
          "height": 108
        }
      },
      "source": [
        "print(X[0])"
      ],
      "execution_count": 27,
      "outputs": [
        {
          "output_type": "stream",
          "text": [
            "  (0, 1815)\t1\n",
            "  (0, 1965)\t1\n",
            "  (0, 2144)\t1\n",
            "  (0, 4118)\t1\n",
            "  (0, 7898)\t1\n"
          ],
          "name": "stdout"
        }
      ]
    },
    {
      "cell_type": "code",
      "metadata": {
        "id": "30eo382I3AhO",
        "outputId": "33d14ddd-3045-4dd4-eb6b-51e08ccaee22",
        "colab": {
          "base_uri": "https://localhost:8080/",
          "height": 35
        }
      },
      "source": [
        "print(vectorizer.get_feature_names()[6321])"
      ],
      "execution_count": 28,
      "outputs": [
        {
          "output_type": "stream",
          "text": [
            "пришлть\n"
          ],
          "name": "stdout"
        }
      ]
    },
    {
      "cell_type": "code",
      "metadata": {
        "id": "XoBiF1GO3Aht",
        "outputId": "2ab9846e-7630-4f2f-8741-5927b4bed15f",
        "colab": {
          "base_uri": "https://localhost:8080/",
          "height": 35
        }
      },
      "source": [
        "print(vectorizer.get_feature_names()[6000])"
      ],
      "execution_count": 29,
      "outputs": [
        {
          "output_type": "stream",
          "text": [
            "попадаться\n"
          ],
          "name": "stdout"
        }
      ]
    },
    {
      "cell_type": "code",
      "metadata": {
        "id": "TYZjLpGD3AiK",
        "outputId": "4e46d2db-d3d7-4338-e144-70564b09d23e",
        "colab": {
          "base_uri": "https://localhost:8080/",
          "height": 35
        }
      },
      "source": [
        "print(vectorizer.get_feature_names()[5000])"
      ],
      "execution_count": 30,
      "outputs": [
        {
          "output_type": "stream",
          "text": [
            "нижний\n"
          ],
          "name": "stdout"
        }
      ]
    },
    {
      "cell_type": "code",
      "metadata": {
        "id": "BQsuW0sx3Aid"
      },
      "source": [
        "from sklearn.feature_extraction.text import TfidfTransformer"
      ],
      "execution_count": 31,
      "outputs": []
    },
    {
      "cell_type": "code",
      "metadata": {
        "id": "UfggEfY-3Aix"
      },
      "source": [
        "transformer = TfidfTransformer().fit(X)"
      ],
      "execution_count": 32,
      "outputs": []
    },
    {
      "cell_type": "code",
      "metadata": {
        "id": "3VPBGaTO3AjC"
      },
      "source": [
        "X_transformed = transformer.transform(X)"
      ],
      "execution_count": 33,
      "outputs": []
    },
    {
      "cell_type": "code",
      "metadata": {
        "id": "onguvE4C3AjU",
        "outputId": "2074dfd5-bad3-4fc8-f317-3383fb13c182",
        "colab": {
          "base_uri": "https://localhost:8080/",
          "height": 108
        }
      },
      "source": [
        "print(X_transformed[0])"
      ],
      "execution_count": 34,
      "outputs": [
        {
          "output_type": "stream",
          "text": [
            "  (0, 7898)\t0.7639100517232897\n",
            "  (0, 4118)\t0.2173288930139871\n",
            "  (0, 2144)\t0.4039888226437941\n",
            "  (0, 1965)\t0.24576972473891776\n",
            "  (0, 1815)\t0.38157549543710667\n"
          ],
          "name": "stdout"
        }
      ]
    },
    {
      "cell_type": "code",
      "metadata": {
        "id": "XV2Zvrax3Ajp",
        "outputId": "e64135bb-c2f4-4617-f118-6ef288631aae",
        "colab": {
          "base_uri": "https://localhost:8080/",
          "height": 35
        }
      },
      "source": [
        "print(vectorizer.get_feature_names()[4000])"
      ],
      "execution_count": 35,
      "outputs": [
        {
          "output_type": "stream",
          "text": [
            "конверт\n"
          ],
          "name": "stdout"
        }
      ]
    },
    {
      "cell_type": "code",
      "metadata": {
        "id": "AOy_0vae3Aj7",
        "outputId": "a990623f-6743-4c30-ef2d-eb1cb7b2d5d0",
        "colab": {
          "base_uri": "https://localhost:8080/",
          "height": 35
        }
      },
      "source": [
        "print(vectorizer.get_feature_names()[7199])"
      ],
      "execution_count": 36,
      "outputs": [
        {
          "output_type": "stream",
          "text": [
            "скупка\n"
          ],
          "name": "stdout"
        }
      ]
    },
    {
      "cell_type": "code",
      "metadata": {
        "id": "QMFUL9qQ3AkR"
      },
      "source": [
        "tokens_with_IDF = list(zip(vectorizer.get_feature_names(), transformer.idf_))"
      ],
      "execution_count": 37,
      "outputs": []
    },
    {
      "cell_type": "code",
      "metadata": {
        "id": "jRSHi6cO3Akf",
        "outputId": "9a01cb68-a2da-44e4-9b23-467acf52bab5",
        "colab": {
          "base_uri": "https://localhost:8080/",
          "height": 380
        }
      },
      "source": [
        "for feature, idf in tokens_with_IDF[0:20]: print('{0:.6f} => {1}'.format(idf, feature))"
      ],
      "execution_count": 38,
      "outputs": [
        {
          "output_type": "stream",
          "text": [
            "9.049108 => a\n",
            "9.454573 => abaradagaнлат\n",
            "9.454573 => aberadez\n",
            "9.454573 => abetaa\n",
            "9.454573 => abncapital\n",
            "9.454573 => abramovdeputat\n",
            "9.454573 => abunyasha\n",
            "9.454573 => abysov\n",
            "9.454573 => adagamov\n",
            "9.454573 => adairrasi\n",
            "9.454573 => adaron\n",
            "9.454573 => aday\n",
            "9.454573 => adenisenko\n",
            "9.454573 => adindex\n",
            "9.454573 => adlarguan\n",
            "9.454573 => admeru\n",
            "9.454573 => admitad\n",
            "9.454573 => adubter\n",
            "9.454573 => adworningju\n",
            "8.538282 => aeroflot\n"
          ],
          "name": "stdout"
        }
      ]
    },
    {
      "cell_type": "code",
      "metadata": {
        "id": "TCX8XJ7v3Akt"
      },
      "source": [
        "sorted_tokens_with_IDF = sorted(tokens_with_IDF, key=lambda it: (-it[1], it[0]))"
      ],
      "execution_count": 39,
      "outputs": []
    },
    {
      "cell_type": "code",
      "metadata": {
        "id": "uVk0UiaV3Ak4",
        "outputId": "9d25054f-94b2-4b97-a20b-23d281961cb5",
        "colab": {
          "base_uri": "https://localhost:8080/",
          "height": 380
        }
      },
      "source": [
        "for feature, idf in sorted_tokens_with_IDF[0:20]: print('{0:.6f} => {1}'.format(idf, feature))"
      ],
      "execution_count": 40,
      "outputs": [
        {
          "output_type": "stream",
          "text": [
            "9.454573 => abaradagaнлат\n",
            "9.454573 => aberadez\n",
            "9.454573 => abetaa\n",
            "9.454573 => abncapital\n",
            "9.454573 => abramovdeputat\n",
            "9.454573 => abunyasha\n",
            "9.454573 => abysov\n",
            "9.454573 => adagamov\n",
            "9.454573 => adairrasi\n",
            "9.454573 => adaron\n",
            "9.454573 => aday\n",
            "9.454573 => adenisenko\n",
            "9.454573 => adindex\n",
            "9.454573 => adlarguan\n",
            "9.454573 => admeru\n",
            "9.454573 => admitad\n",
            "9.454573 => adubter\n",
            "9.454573 => adworningju\n",
            "9.454573 => afyanik\n",
            "9.454573 => agatacrysty\n"
          ],
          "name": "stdout"
        }
      ]
    },
    {
      "cell_type": "code",
      "metadata": {
        "id": "dlwTN1vO3AlH"
      },
      "source": [
        "from sklearn.feature_selection import SelectPercentile, chi2"
      ],
      "execution_count": 41,
      "outputs": []
    },
    {
      "cell_type": "code",
      "metadata": {
        "id": "_Fr381xR3AlU"
      },
      "source": [
        "selector = SelectPercentile(chi2, percentile=20)"
      ],
      "execution_count": 42,
      "outputs": []
    },
    {
      "cell_type": "code",
      "metadata": {
        "id": "IXxLTBw43Alm",
        "outputId": "454cca7a-234a-414c-9d90-696af9f40866",
        "colab": {
          "base_uri": "https://localhost:8080/",
          "height": 35
        }
      },
      "source": [
        "selector.fit(X_transformed, labels)"
      ],
      "execution_count": 43,
      "outputs": [
        {
          "output_type": "execute_result",
          "data": {
            "text/plain": [
              "SelectPercentile(percentile=20, score_func=<function chi2 at 0x7f690d5f7268>)"
            ]
          },
          "metadata": {
            "tags": []
          },
          "execution_count": 43
        }
      ]
    },
    {
      "cell_type": "code",
      "metadata": {
        "id": "NTsayQFA3Al0"
      },
      "source": [
        "selected_tokens_with_IDF = [tokens_with_IDF[idx] for idx in selector.get_support(indices=True)]"
      ],
      "execution_count": 44,
      "outputs": []
    },
    {
      "cell_type": "code",
      "metadata": {
        "id": "8rHFJO8P3AmB",
        "outputId": "9e3f3256-e4b0-4ca0-a937-321534ac71b4",
        "colab": {
          "base_uri": "https://localhost:8080/",
          "height": 35
        }
      },
      "source": [
        "print(len(selected_tokens_with_IDF))"
      ],
      "execution_count": 45,
      "outputs": [
        {
          "output_type": "stream",
          "text": [
            "1740\n"
          ],
          "name": "stdout"
        }
      ]
    },
    {
      "cell_type": "code",
      "metadata": {
        "id": "2ymE6BOk3AmR",
        "outputId": "fd68867d-2354-43b8-ad44-fae7cffe0a9e",
        "colab": {
          "base_uri": "https://localhost:8080/",
          "height": 380
        }
      },
      "source": [
        "for feature, idf in selected_tokens_with_IDF[0:20]: print('{0:.6f} => {1}'.format(idf, feature))"
      ],
      "execution_count": 46,
      "outputs": [
        {
          "output_type": "stream",
          "text": [
            "9.454573 => aberadez\n",
            "9.454573 => abunyasha\n",
            "9.454573 => adworningju\n",
            "8.761426 => akselenc\n",
            "9.454573 => alexigrey\n",
            "4.905973 => alfabank\n",
            "6.592372 => alfabankby\n",
            "9.454573 => alushin\n",
            "9.454573 => andreymalgin\n",
            "9.454573 => andreytr\n",
            "8.761426 => antimaydan\n",
            "9.049108 => apple\n",
            "9.454573 => appstore\n",
            "9.454573 => arhangelmisha\n",
            "9.454573 => artemycheros\n",
            "8.761426 => awards\n",
            "9.049108 => balamot\n",
            "9.454573 => bankitb\n",
            "8.538282 => bbb\n",
            "9.454573 => behlbride\n"
          ],
          "name": "stdout"
        }
      ]
    },
    {
      "cell_type": "code",
      "metadata": {
        "id": "XVEZ9yMy3Ame"
      },
      "source": [
        "selected_and_sorted_tokens_with_IDF = sorted(selected_tokens_with_IDF, key=lambda it: (-it[1], it[0]))"
      ],
      "execution_count": 47,
      "outputs": []
    },
    {
      "cell_type": "code",
      "metadata": {
        "id": "dHE8zK9p3Amq",
        "outputId": "06371f01-e417-4880-c64c-a9197a25c54b",
        "colab": {
          "base_uri": "https://localhost:8080/",
          "height": 380
        }
      },
      "source": [
        "for feature, idf in selected_and_sorted_tokens_with_IDF[0:20]: print('{0:.6f} => {1}'.format(idf, feature))"
      ],
      "execution_count": 68,
      "outputs": [
        {
          "output_type": "stream",
          "text": [
            "9.454573 => aberadez\n",
            "9.454573 => abunyasha\n",
            "9.454573 => adworningju\n",
            "9.454573 => alexigrey\n",
            "9.454573 => alushin\n",
            "9.454573 => andreymalgin\n",
            "9.454573 => andreytr\n",
            "9.454573 => appstore\n",
            "9.454573 => arhangelmisha\n",
            "9.454573 => artemycheros\n",
            "9.454573 => bankitb\n",
            "9.454573 => behlbride\n",
            "9.454573 => bosacoworavu\n",
            "9.454573 => bullethunter\n",
            "9.454573 => buribedixuk\n",
            "9.454573 => catspower\n",
            "9.454573 => cgillenpiy\n",
            "9.454573 => chumikov\n",
            "9.454573 => citybusicyti\n",
            "9.454573 => come\n"
          ],
          "name": "stdout"
        }
      ]
    },
    {
      "cell_type": "code",
      "metadata": {
        "id": "XDarHB9URuKQ"
      },
      "source": [
        "import time"
      ],
      "execution_count": 280,
      "outputs": []
    },
    {
      "cell_type": "markdown",
      "metadata": {
        "id": "sXQ3zYTVhnfv"
      },
      "source": [
        "# ~ Testing Logistic Regression (without search) ~\n",
        "\n"
      ]
    },
    {
      "cell_type": "code",
      "metadata": {
        "id": "CZ1bY-cF3Am0"
      },
      "source": [
        "from sklearn.linear_model import LogisticRegression"
      ],
      "execution_count": 281,
      "outputs": []
    },
    {
      "cell_type": "code",
      "metadata": {
        "id": "amxAcxE33Am-"
      },
      "source": [
        "cls = LogisticRegression(solver='liblinear', verbose=True)"
      ],
      "execution_count": 282,
      "outputs": []
    },
    {
      "cell_type": "code",
      "metadata": {
        "id": "rbgxghlW3AnL"
      },
      "source": [
        "X_transformed_and_selected = selector.transform(X_transformed)"
      ],
      "execution_count": 283,
      "outputs": []
    },
    {
      "cell_type": "code",
      "metadata": {
        "id": "PUHEy61d3AnV",
        "outputId": "e13852cb-1ab0-4e3e-a3a0-207fba7568af",
        "colab": {
          "base_uri": "https://localhost:8080/",
          "height": 0
        }
      },
      "source": [
        "cls.fit(X_transformed_and_selected, labels)"
      ],
      "execution_count": 284,
      "outputs": [
        {
          "output_type": "stream",
          "text": [
            "[LibLinear]"
          ],
          "name": "stdout"
        },
        {
          "output_type": "execute_result",
          "data": {
            "text/plain": [
              "LogisticRegression(C=1.0, class_weight=None, dual=False, fit_intercept=True,\n",
              "                   intercept_scaling=1, l1_ratio=None, max_iter=100,\n",
              "                   multi_class='auto', n_jobs=None, penalty='l2',\n",
              "                   random_state=None, solver='liblinear', tol=0.0001,\n",
              "                   verbose=True, warm_start=False)"
            ]
          },
          "metadata": {
            "tags": []
          },
          "execution_count": 284
        }
      ]
    },
    {
      "cell_type": "code",
      "metadata": {
        "id": "-5rsanfy3Anl"
      },
      "source": [
        "classes_list = list(cls.classes_)"
      ],
      "execution_count": 285,
      "outputs": []
    },
    {
      "cell_type": "code",
      "metadata": {
        "id": "Q4tZdIF73Anu",
        "outputId": "1c0def71-5558-48c2-c3f0-c3d1e5d175e9",
        "colab": {
          "base_uri": "https://localhost:8080/",
          "height": 0
        }
      },
      "source": [
        "print(classes_list)"
      ],
      "execution_count": 286,
      "outputs": [
        {
          "output_type": "stream",
          "text": [
            "['negative', 'neutral', 'positive']\n"
          ],
          "name": "stdout"
        }
      ]
    },
    {
      "cell_type": "code",
      "metadata": {
        "id": "gWYdp6G33An5"
      },
      "source": [
        "texts_for_testing, labels_for_testing = load_sentirueval_2016('/content/drive/My Drive/banks_test_etalon.xml')"
      ],
      "execution_count": 287,
      "outputs": []
    },
    {
      "cell_type": "code",
      "metadata": {
        "id": "7xING6JB3AoE"
      },
      "source": [
        "from sklearn.pipeline import Pipeline"
      ],
      "execution_count": 288,
      "outputs": []
    },
    {
      "cell_type": "code",
      "metadata": {
        "id": "aYhXAKBd3AoQ"
      },
      "source": [
        "pipeline_for_se = Pipeline(\n",
        "    [\n",
        "        ('vectorizer', vectorizer),\n",
        "        ('tfidf', transformer),\n",
        "        ('selector', selector),\n",
        "        ('final_classifier', cls)\n",
        "    ]\n",
        ")"
      ],
      "execution_count": 289,
      "outputs": []
    },
    {
      "cell_type": "code",
      "metadata": {
        "id": "6WrREaqR3Aoi"
      },
      "source": [
        "from sklearn.metrics import roc_curve\n",
        "import numpy as np"
      ],
      "execution_count": 290,
      "outputs": []
    },
    {
      "cell_type": "code",
      "metadata": {
        "id": "neF6YaI43Aor"
      },
      "source": [
        "probabilities = pipeline_for_se.predict_proba(texts_for_testing)"
      ],
      "execution_count": 291,
      "outputs": []
    },
    {
      "cell_type": "code",
      "metadata": {
        "id": "N9_U60_Z3Ao1"
      },
      "source": [
        "y_true_positives = list(map(lambda it: 1 if it == 'positive' else 0, labels_for_testing))\n",
        "y_score_positives = probabilities[:, classes_list.index('positive')]"
      ],
      "execution_count": 292,
      "outputs": []
    },
    {
      "cell_type": "code",
      "metadata": {
        "id": "zQgLkmmJ3Ao_"
      },
      "source": [
        "fpr_positives, tpr_positives, _, = roc_curve(y_true_positives, y_score_positives)"
      ],
      "execution_count": 293,
      "outputs": []
    },
    {
      "cell_type": "code",
      "metadata": {
        "id": "YLVCijyv3ApJ"
      },
      "source": [
        "y_true_negatives = list(map(lambda it: 1 if it == 'negative' else 0, labels_for_testing))\n",
        "y_score_negatives = probabilities[:, classes_list.index('negative')]\n",
        "fpr_negatives, tpr_negatives, _, = roc_curve(y_true_negatives, y_score_negatives)"
      ],
      "execution_count": 294,
      "outputs": []
    },
    {
      "cell_type": "code",
      "metadata": {
        "id": "xmMC82b43Apb"
      },
      "source": [
        "y_true_neutrals = list(map(lambda it: 1 if it == 'neutral' else 0, labels_for_testing))\n",
        "y_score_neutrals = probabilities[:, classes_list.index('neutral')]\n",
        "fpr_neutrals, tpr_neutrals, _, = roc_curve(y_true_neutrals, y_score_neutrals)"
      ],
      "execution_count": 295,
      "outputs": []
    },
    {
      "cell_type": "code",
      "metadata": {
        "id": "RAclBVn63AqJ",
        "outputId": "6fa42c7d-7578-4430-f86e-e69b26f54b59",
        "colab": {
          "base_uri": "https://localhost:8080/",
          "height": 0
        }
      },
      "source": [
        "import matplotlib.pyplot as plt\n",
        "plt.figure(1)\n",
        "plt.plot([0, 1], [0, 1], 'k--')\n",
        "plt.plot(fpr_positives, tpr_positives, label='Positive Sentiment')\n",
        "plt.plot(fpr_negatives, tpr_negatives, label='Negative Sentiment')\n",
        "plt.plot(fpr_neutrals, tpr_neutrals, label='Neutral Sentiment')\n",
        "plt.xlabel('False positive rate')\n",
        "plt.ylabel('True positive rate')\n",
        "plt.title('ROC curve')\n",
        "plt.legend(loc='best')\n",
        "plt.show()"
      ],
      "execution_count": 296,
      "outputs": [
        {
          "output_type": "display_data",
          "data": {
            "image/png": "[encoded data removed]",
            "text/plain": [
              "<Figure size 432x288 with 1 Axes>"
            ]
          },
          "metadata": {
            "tags": [],
            "needs_background": "light"
          }
        }
      ]
    },
    {
      "cell_type": "code",
      "metadata": {
        "id": "9VXpmg2p3AqS",
        "outputId": "fa5d49d7-467b-430a-ea8f-4bf40ed112c6",
        "colab": {
          "base_uri": "https://localhost:8080/",
          "height": 0
        }
      },
      "source": [
        "from sklearn.metrics import f1_score\n",
        "predicted_labels = pipeline_for_se.predict(texts_for_testing)\n",
        "print('F1-micro = {0:.6f}'.format(f1_score(labels_for_testing, predicted_labels, average='micro')))\n",
        "print('F1-macro = {0:.6f}'.format(f1_score(labels_for_testing, predicted_labels, average='macro')))"
      ],
      "execution_count": 297,
      "outputs": [
        {
          "output_type": "stream",
          "text": [
            "F1-micro = 0.744944\n",
            "F1-macro = 0.556631\n"
          ],
          "name": "stdout"
        }
      ]
    },
    {
      "cell_type": "code",
      "metadata": {
        "id": "CnubGC2n3Aqa",
        "outputId": "8008c664-de8f-4802-fbbc-89f5c2f13cd9",
        "colab": {
          "base_uri": "https://localhost:8080/",
          "height": 0
        }
      },
      "source": [
        "from sklearn.metrics import classification_report\n",
        "print(classification_report(labels_for_testing, predicted_labels, digits=6))"
      ],
      "execution_count": 298,
      "outputs": [
        {
          "output_type": "stream",
          "text": [
            "              precision    recall  f1-score   support\n",
            "\n",
            "    negative   0.618893  0.495437  0.550326       767\n",
            "     neutral   0.772589  0.909294  0.835386      2238\n",
            "    positive   0.815385  0.172078  0.284182       308\n",
            "\n",
            "    accuracy                       0.744944      3313\n",
            "   macro avg   0.735622  0.525603  0.556631      3313\n",
            "weighted avg   0.740985  0.744944  0.718147      3313\n",
            "\n"
          ],
          "name": "stdout"
        }
      ]
    },
    {
      "cell_type": "markdown",
      "metadata": {
        "id": "ndY7_Hs6h-KN"
      },
      "source": [
        "# ~ gCV + LogRegr ~"
      ]
    },
    {
      "cell_type": "code",
      "metadata": {
        "id": "QQNMMpwn3Aql"
      },
      "source": [
        "from sklearn.model_selection import GridSearchCV\n",
        "from sklearn.metrics import make_scorer\n",
        "f1_macro_scorer = make_scorer(f1_score, average='macro')\n",
        "gcv_lr = GridSearchCV(\n",
        "    estimator=LogisticRegression(solver='liblinear'),\n",
        "    param_grid={'C': [1e-2, 1e-1, 1, 1e+1, 1e+2, 1e+3], 'penalty': ['l1', 'l2', 'elasticnet']},\n",
        "    scoring=f1_macro_scorer,\n",
        "    n_jobs=-1,\n",
        ")"
      ],
      "execution_count": 299,
      "outputs": []
    },
    {
      "cell_type": "code",
      "metadata": {
        "id": "SeTxxFZ23Aqu",
        "outputId": "1959bd75-f442-49de-c9cd-4aebfff47908",
        "colab": {
          "base_uri": "https://localhost:8080/",
          "height": 0
        }
      },
      "source": [
        "gcv_lr_tp1 = time.time()\n",
        "gcv_lr.fit(X_transformed_and_selected, labels)\n",
        "gcv_lr_tp2 = time.time()\n",
        "print(f'Time needed for search: {gcv_lr_tp2 - gcv_lr_tp1}s')"
      ],
      "execution_count": 300,
      "outputs": [
        {
          "output_type": "stream",
          "text": [
            "Time needed for search: 6.408043384552002s\n"
          ],
          "name": "stdout"
        }
      ]
    },
    {
      "cell_type": "code",
      "metadata": {
        "id": "k8YZJ11T3Aq3",
        "outputId": "f8ad73c2-a503-4d37-eef8-4494dbf40cc4",
        "colab": {
          "base_uri": "https://localhost:8080/",
          "height": 0
        }
      },
      "source": [
        "gcv_lr_bp = gcv_lr.best_params_\n",
        "print(gcv_lr_bp)"
      ],
      "execution_count": 301,
      "outputs": [
        {
          "output_type": "stream",
          "text": [
            "{'C': 100.0, 'penalty': 'l2'}\n"
          ],
          "name": "stdout"
        }
      ]
    },
    {
      "cell_type": "code",
      "metadata": {
        "id": "kGdkcuar3ArA"
      },
      "source": [
        "bcls_gcv_lr = LogisticRegression(\n",
        "                                 solver='liblinear', \n",
        "                                 verbose=True, \n",
        "                                 C=gcv_lr_bp['C'], \n",
        "                                 penalty=gcv_lr_bp['penalty']\n",
        "                                )"
      ],
      "execution_count": 302,
      "outputs": []
    },
    {
      "cell_type": "code",
      "metadata": {
        "id": "mbZPs8m66_wv",
        "outputId": "6aa530d6-b4fb-431d-918a-c18d08725fd2",
        "colab": {
          "base_uri": "https://localhost:8080/",
          "height": 0
        }
      },
      "source": [
        "gcv_lr_tp3 = time.time()\n",
        "bcls_gcv_lr.fit(X_transformed_and_selected, labels)\n",
        "gcv_lr_tp4 = time.time()\n",
        "print(f'Time needed for computation: {gcv_lr_tp4 - gcv_lr_tp3}s')"
      ],
      "execution_count": 303,
      "outputs": [
        {
          "output_type": "stream",
          "text": [
            "[LibLinear]Time needed for computation: 0.17966341972351074s\n"
          ],
          "name": "stdout"
        }
      ]
    },
    {
      "cell_type": "code",
      "metadata": {
        "id": "8DkwlELZ3ArJ"
      },
      "source": [
        "best_pipeline_for_se = Pipeline(\n",
        "    [\n",
        "        ('vectorizer', vectorizer),\n",
        "        ('tfidf', transformer),\n",
        "        ('selector', selector),\n",
        "        ('final_classifier', bcls_gcv_lr)\n",
        "    ]\n",
        ")"
      ],
      "execution_count": 304,
      "outputs": []
    },
    {
      "cell_type": "code",
      "metadata": {
        "id": "Vi5OtXBa3ArR"
      },
      "source": [
        "probabilities = best_pipeline_for_se.predict_proba(texts_for_testing)\n",
        "\n",
        "y_true_positives = list(map(lambda it: 1 if it == 'positive' else 0, labels_for_testing))\n",
        "y_score_positives = probabilities[:, classes_list.index('positive')]\n",
        "fpr_positives, tpr_positives, _, = roc_curve(y_true_positives, y_score_positives)\n",
        "\n",
        "y_true_negatives = list(map(lambda it: 1 if it == 'negative' else 0, labels_for_testing))\n",
        "y_score_negatives = probabilities[:, classes_list.index('negative')]\n",
        "fpr_negatives, tpr_negatives, _, = roc_curve(y_true_negatives, y_score_negatives)\n",
        "\n",
        "y_true_neutrals = list(map(lambda it: 1 if it == 'neutral' else 0, labels_for_testing))\n",
        "y_score_neutrals = probabilities[:, classes_list.index('neutral')]\n",
        "fpr_neutrals, tpr_neutrals, _, = roc_curve(y_true_neutrals, y_score_neutrals)"
      ],
      "execution_count": 305,
      "outputs": []
    },
    {
      "cell_type": "code",
      "metadata": {
        "id": "4fmMWhuJ3ArY",
        "outputId": "cf3ee323-3a14-4423-8e60-c43b05037a98",
        "colab": {
          "base_uri": "https://localhost:8080/",
          "height": 0
        }
      },
      "source": [
        "plt.figure(2)\n",
        "plt.plot([0, 1], [0, 1], 'k--')\n",
        "plt.plot(fpr_positives, tpr_positives, label='Positive Sentiment')\n",
        "plt.plot(fpr_negatives, tpr_negatives, label='Negative Sentiment')\n",
        "plt.plot(fpr_neutrals, tpr_neutrals, label='Neutral Sentiment')\n",
        "plt.xlabel('False positive rate')\n",
        "plt.ylabel('True positive rate')\n",
        "plt.title('ROC curve')\n",
        "plt.legend(loc='best')\n",
        "plt.show()"
      ],
      "execution_count": 306,
      "outputs": [
        {
          "output_type": "display_data",
          "data": {
            "image/png": "[encoded data removed]",
            "text/plain": [
              "<Figure size 432x288 with 1 Axes>"
            ]
          },
          "metadata": {
            "tags": [],
            "needs_background": "light"
          }
        }
      ]
    },
    {
      "cell_type": "code",
      "metadata": {
        "id": "nszIVJ6B3Arh",
        "outputId": "3ed5dc31-7833-4dad-9b6b-c8085780a16a",
        "colab": {
          "base_uri": "https://localhost:8080/",
          "height": 0
        }
      },
      "source": [
        "predicted_labels = best_pipeline_for_se.predict(texts_for_testing)\n",
        "fmi_gcv_lr = f1_score(labels_for_testing, predicted_labels, average='micro')\n",
        "fma_gcv_lr = f1_score(labels_for_testing, predicted_labels, average='macro')\n",
        "print('F1-micro = {0:.6f}'.format(fmi_gcv_lr))\n",
        "print('F1-macro = {0:.6f}'.format(fma_gcv_lr))"
      ],
      "execution_count": 307,
      "outputs": [
        {
          "output_type": "stream",
          "text": [
            "F1-micro = 0.718080\n",
            "F1-macro = 0.584246\n"
          ],
          "name": "stdout"
        }
      ]
    },
    {
      "cell_type": "code",
      "metadata": {
        "id": "0xTP-OMd735q"
      },
      "source": [
        "clsrep_gcv_lr = classification_report(labels_for_testing, predicted_labels, digits=6)"
      ],
      "execution_count": 308,
      "outputs": []
    },
    {
      "cell_type": "code",
      "metadata": {
        "id": "XJD9M5gN3Arr",
        "outputId": "6088f684-811f-449b-b670-cd481ee2c535",
        "colab": {
          "base_uri": "https://localhost:8080/",
          "height": 0
        }
      },
      "source": [
        "print(clsrep_gcv_lr)"
      ],
      "execution_count": 309,
      "outputs": [
        {
          "output_type": "stream",
          "text": [
            "              precision    recall  f1-score   support\n",
            "\n",
            "    negative   0.552664  0.581486  0.566709       767\n",
            "     neutral   0.809376  0.817694  0.813514      2238\n",
            "    positive   0.420408  0.334416  0.372514       308\n",
            "\n",
            "    accuracy                       0.718080      3313\n",
            "   macro avg   0.594150  0.577865  0.584246      3313\n",
            "weighted avg   0.713783  0.718080  0.715377      3313\n",
            "\n"
          ],
          "name": "stdout"
        }
      ]
    },
    {
      "cell_type": "markdown",
      "metadata": {
        "id": "DuFpqZ7ajNfi"
      },
      "source": [
        "# ~ rCV + LogReg ~"
      ]
    },
    {
      "cell_type": "code",
      "metadata": {
        "id": "WWU98vzu3Ar3"
      },
      "source": [
        "from sklearn.model_selection import RandomizedSearchCV"
      ],
      "execution_count": 310,
      "outputs": []
    },
    {
      "cell_type": "code",
      "metadata": {
        "id": "e5GB1A_scs17"
      },
      "source": [
        "rcv_lr = RandomizedSearchCV(\n",
        "    estimator=LogisticRegression(solver='liblinear'),\n",
        "    param_distributions={\n",
        "                'C': [1e-2, 1e-1, 1, 1e+1, 1e+2, 1e+3], \n",
        "                'penalty': ['l1', 'l2', 'elasticnet']\n",
        "                },\n",
        "    n_iter = 100,\n",
        "    scoring=f1_macro_scorer,\n",
        "    n_jobs=-1\n",
        ")"
      ],
      "execution_count": 311,
      "outputs": []
    },
    {
      "cell_type": "code",
      "metadata": {
        "id": "Q2jqtSA_hPQh",
        "outputId": "bd0f757b-87f5-4ae2-8e1e-5b3359e908ad",
        "colab": {
          "base_uri": "https://localhost:8080/",
          "height": 0
        }
      },
      "source": [
        "rcv_lr_tp1 = time.time()\n",
        "rcv_lr.fit(X_transformed_and_selected, labels)\n",
        "rcv_lr_tp2 = time.time()"
      ],
      "execution_count": 312,
      "outputs": [
        {
          "output_type": "stream",
          "text": [
            "/usr/local/lib/python3.6/dist-packages/sklearn/model_selection/_search.py:281: UserWarning: The total space of parameters 18 is smaller than n_iter=100. Running 18 iterations. For exhaustive searches, use GridSearchCV.\n",
            "  % (grid_size, self.n_iter, grid_size), UserWarning)\n"
          ],
          "name": "stderr"
        }
      ]
    },
    {
      "cell_type": "code",
      "metadata": {
        "id": "i7nYQRGmhMMk",
        "outputId": "79288006-0c39-4934-ed8b-d2d0b4f765e0",
        "colab": {
          "base_uri": "https://localhost:8080/",
          "height": 0
        }
      },
      "source": [
        "print(f'Time needed for search: {rcv_lr_tp2 - rcv_lr_tp1}s')\n",
        "rcv_lr_bp = rcv_lr.best_params_\n",
        "print(rcv_lr_bp)"
      ],
      "execution_count": 313,
      "outputs": [
        {
          "output_type": "stream",
          "text": [
            "Time needed for search: 5.270565748214722s\n",
            "{'penalty': 'l2', 'C': 100.0}\n"
          ],
          "name": "stdout"
        }
      ]
    },
    {
      "cell_type": "code",
      "metadata": {
        "id": "MewoAqNJrhXN",
        "outputId": "aaafddab-7e16-49fd-a366-d91ac72a0fde",
        "colab": {
          "base_uri": "https://localhost:8080/",
          "height": 0
        }
      },
      "source": [
        "bcls_rcv_lr = LogisticRegression(\n",
        "                                 solver='liblinear', \n",
        "                                 verbose=True, \n",
        "                                 C=rcv_lr_bp['C'], \n",
        "                                 penalty=rcv_lr_bp['penalty']\n",
        "                                 )\n",
        "rcv_lr_tp3 = time.time()\n",
        "bcls_rcv_lr.fit(X_transformed_and_selected, labels)\n",
        "rcv_lr_tp4 = time.time()\n",
        "print('Time needed for computations: ', rcv_lr_tp4 - rcv_lr_tp3)"
      ],
      "execution_count": 314,
      "outputs": [
        {
          "output_type": "stream",
          "text": [
            "[LibLinear]Time needed for computations:  0.17204594612121582\n"
          ],
          "name": "stdout"
        }
      ]
    },
    {
      "cell_type": "code",
      "metadata": {
        "id": "PDFoSZNvsPq1"
      },
      "source": [
        "rand_pipeline_for_se = Pipeline(\n",
        "    [\n",
        "        ('vectorizer', vectorizer),\n",
        "        ('tfidf', transformer),\n",
        "        ('selector', selector),\n",
        "        ('final_classifier', bcls_rcv_lr)\n",
        "    ]\n",
        ")"
      ],
      "execution_count": 315,
      "outputs": []
    },
    {
      "cell_type": "code",
      "metadata": {
        "id": "cH4bO8pKsPr1"
      },
      "source": [
        "probabilities = rand_pipeline_for_se.predict_proba(texts_for_testing)\n",
        "\n",
        "y_true_positives = list(map(lambda it: 1 if it == 'positive' else 0, labels_for_testing))\n",
        "y_score_positives = probabilities[:, classes_list.index('positive')]\n",
        "fpr_positives, tpr_positives, _, = roc_curve(y_true_positives, y_score_positives)\n",
        "\n",
        "y_true_negatives = list(map(lambda it: 1 if it == 'negative' else 0, labels_for_testing))\n",
        "y_score_negatives = probabilities[:, classes_list.index('negative')]\n",
        "fpr_negatives, tpr_negatives, _, = roc_curve(y_true_negatives, y_score_negatives)\n",
        "\n",
        "y_true_neutrals = list(map(lambda it: 1 if it == 'neutral' else 0, labels_for_testing))\n",
        "y_score_neutrals = probabilities[:, classes_list.index('neutral')]\n",
        "fpr_neutrals, tpr_neutrals, _, = roc_curve(y_true_neutrals, y_score_neutrals)"
      ],
      "execution_count": 316,
      "outputs": []
    },
    {
      "cell_type": "code",
      "metadata": {
        "id": "-8T45I9vsPsd",
        "outputId": "6bb771b5-7d12-419c-b734-e7eab00e9c29",
        "colab": {
          "base_uri": "https://localhost:8080/",
          "height": 0
        }
      },
      "source": [
        "plt.figure(3)\n",
        "plt.plot([0, 1], [0, 1], 'k--')\n",
        "plt.plot(fpr_positives, tpr_positives, label='Positive Sentiment')\n",
        "plt.plot(fpr_negatives, tpr_negatives, label='Negative Sentiment')\n",
        "plt.plot(fpr_neutrals, tpr_neutrals, label='Neutral Sentiment')\n",
        "plt.xlabel('False positive rate')\n",
        "plt.ylabel('True positive rate')\n",
        "plt.title('ROC curve')\n",
        "plt.legend(loc='best')\n",
        "plt.show()"
      ],
      "execution_count": 317,
      "outputs": [
        {
          "output_type": "display_data",
          "data": {
            "image/png": "[encoded data removed]",
            "text/plain": [
              "<Figure size 432x288 with 1 Axes>"
            ]
          },
          "metadata": {
            "tags": [],
            "needs_background": "light"
          }
        }
      ]
    },
    {
      "cell_type": "code",
      "metadata": {
        "id": "prEV81HPsPs9",
        "outputId": "f0e16c0f-1ad9-4887-b456-2f8ba2fa66cb",
        "colab": {
          "base_uri": "https://localhost:8080/",
          "height": 0
        }
      },
      "source": [
        "predicted_labels = rand_pipeline_for_se.predict(texts_for_testing)\n",
        "fmi_rcv_lr = f1_score(labels_for_testing, predicted_labels, average='micro')\n",
        "fma_rcv_lr = f1_score(labels_for_testing, predicted_labels, average='macro')\n",
        "print('F1-micro = {0:.6f}'.format(fmi_rcv_lr))\n",
        "print('F1-macro = {0:.6f}'.format(fma_rcv_lr))"
      ],
      "execution_count": 318,
      "outputs": [
        {
          "output_type": "stream",
          "text": [
            "F1-micro = 0.718080\n",
            "F1-macro = 0.584246\n"
          ],
          "name": "stdout"
        }
      ]
    },
    {
      "cell_type": "code",
      "metadata": {
        "id": "PqkwLQK5sPtd",
        "outputId": "2a68c532-cedb-4f17-c9a8-91eb6f4b09a4",
        "colab": {
          "base_uri": "https://localhost:8080/",
          "height": 0
        }
      },
      "source": [
        "clsrep_rcv_lr = classification_report(labels_for_testing, predicted_labels, digits=6)\n",
        "print(clsrep_rcv_lr)"
      ],
      "execution_count": 319,
      "outputs": [
        {
          "output_type": "stream",
          "text": [
            "              precision    recall  f1-score   support\n",
            "\n",
            "    negative   0.552664  0.581486  0.566709       767\n",
            "     neutral   0.809376  0.817694  0.813514      2238\n",
            "    positive   0.420408  0.334416  0.372514       308\n",
            "\n",
            "    accuracy                       0.718080      3313\n",
            "   macro avg   0.594150  0.577865  0.584246      3313\n",
            "weighted avg   0.713783  0.718080  0.715377      3313\n",
            "\n"
          ],
          "name": "stdout"
        }
      ]
    },
    {
      "cell_type": "markdown",
      "metadata": {
        "id": "1LvOiBOqA3HZ"
      },
      "source": [
        "# ~ gCV + SGDC ~"
      ]
    },
    {
      "cell_type": "code",
      "metadata": {
        "id": "fTGkSbcZA45l"
      },
      "source": [
        "from sklearn.linear_model import SGDClassifier"
      ],
      "execution_count": 320,
      "outputs": []
    },
    {
      "cell_type": "code",
      "metadata": {
        "id": "_ppiipGcA46U"
      },
      "source": [
        "gcv_sgdc = GridSearchCV(\n",
        "    estimator=SGDClassifier(loss='log'),\n",
        "    param_grid={\n",
        "                'alpha': [1e-4, 1e-3, 1e-2, 1e-1, 1], \n",
        "                'penalty': ['l1', 'l2', 'elasticnet']\n",
        "                },\n",
        "    scoring=f1_macro_scorer,\n",
        "    n_jobs=-1\n",
        ")"
      ],
      "execution_count": 321,
      "outputs": []
    },
    {
      "cell_type": "code",
      "metadata": {
        "id": "9fKKeYtkA47B"
      },
      "source": [
        "gcv_sgdc_tp1 = time.time()\n",
        "gcv_sgdc.fit(X_transformed_and_selected, labels)\n",
        "gcv_sgdc_tp2 = time.time()"
      ],
      "execution_count": 322,
      "outputs": []
    },
    {
      "cell_type": "code",
      "metadata": {
        "id": "0LOmZcgOA47j",
        "outputId": "dbc48832-8cf4-4391-f44b-d5eca2a87f16",
        "colab": {
          "base_uri": "https://localhost:8080/",
          "height": 0
        }
      },
      "source": [
        "print(f'Time needed for search: {gcv_sgdc_tp2 - gcv_sgdc_tp1}s')\n",
        "gcv_sgdc_bp = gcv_sgdc.best_params_\n",
        "print(gcv_sgdc_bp)"
      ],
      "execution_count": 323,
      "outputs": [
        {
          "output_type": "stream",
          "text": [
            "Time needed for search: 3.8027780055999756s\n",
            "{'alpha': 0.0001, 'penalty': 'l1'}\n"
          ],
          "name": "stdout"
        }
      ]
    },
    {
      "cell_type": "code",
      "metadata": {
        "id": "GCjXVnQGA48A"
      },
      "source": [
        "bcls_gcv_sgdc = SGDClassifier( \n",
        "                     loss='log',\n",
        "                     penalty=gcv_sgdc_bp['penalty'],\n",
        "                     alpha=gcv_sgdc_bp['alpha'],\n",
        "                     max_iter=1000\n",
        "                    )"
      ],
      "execution_count": 324,
      "outputs": []
    },
    {
      "cell_type": "code",
      "metadata": {
        "id": "rHrpOtMNA48g"
      },
      "source": [
        "gcv_sgdc_tp3 = time.time()\n",
        "bcls_gcv_sgdc.fit(X_transformed_and_selected, labels)\n",
        "gcv_sgdc_tp4 = time.time()"
      ],
      "execution_count": 325,
      "outputs": []
    },
    {
      "cell_type": "code",
      "metadata": {
        "id": "AKui0lYCA487",
        "outputId": "095c5b93-987c-49d7-e29e-78ecf9c40747",
        "colab": {
          "base_uri": "https://localhost:8080/",
          "height": 0
        }
      },
      "source": [
        "print(f'Time needed for computations: {gcv_sgdc_tp4 - gcv_sgdc_tp3}s')"
      ],
      "execution_count": 326,
      "outputs": [
        {
          "output_type": "stream",
          "text": [
            "Time needed for computations: 0.07068109512329102s\n"
          ],
          "name": "stdout"
        }
      ]
    },
    {
      "cell_type": "code",
      "metadata": {
        "id": "a5u-AnAIA49Z"
      },
      "source": [
        "sgdc_pipeline_for_se = Pipeline(\n",
        "    [\n",
        "        ('vectorizer', vectorizer),\n",
        "        ('tfidf', transformer),\n",
        "        ('selector', selector),\n",
        "        ('final_classifier', bcls_gcv_sgdc)\n",
        "    ]\n",
        ")"
      ],
      "execution_count": 327,
      "outputs": []
    },
    {
      "cell_type": "code",
      "metadata": {
        "id": "zH-2ERK4A49z"
      },
      "source": [
        "probabilities = sgdc_pipeline_for_se.predict_proba(texts_for_testing)\n",
        "\n",
        "y_true_positives = list(map(lambda it: 1 if it == 'positive' else 0, labels_for_testing))\n",
        "y_score_positives = probabilities[:, classes_list.index('positive')]\n",
        "fpr_positives, tpr_positives, _, = roc_curve(y_true_positives, y_score_positives)\n",
        "\n",
        "y_true_negatives = list(map(lambda it: 1 if it == 'negative' else 0, labels_for_testing))\n",
        "y_score_negatives = probabilities[:, classes_list.index('negative')]\n",
        "fpr_negatives, tpr_negatives, _, = roc_curve(y_true_negatives, y_score_negatives)\n",
        "\n",
        "y_true_neutrals = list(map(lambda it: 1 if it == 'neutral' else 0, labels_for_testing))\n",
        "y_score_neutrals = probabilities[:, classes_list.index('neutral')]\n",
        "fpr_neutrals, tpr_neutrals, _, = roc_curve(y_true_neutrals, y_score_neutrals)"
      ],
      "execution_count": 328,
      "outputs": []
    },
    {
      "cell_type": "code",
      "metadata": {
        "id": "MprP2DsdA4-K",
        "outputId": "ab5e6774-e4b0-4606-894d-4f558ca55b66",
        "colab": {
          "base_uri": "https://localhost:8080/",
          "height": 0
        }
      },
      "source": [
        "plt.figure(4)\n",
        "plt.plot([0, 1], [0, 1], 'k--')\n",
        "plt.plot(fpr_positives, tpr_positives, label='Positive Sentiment')\n",
        "plt.plot(fpr_negatives, tpr_negatives, label='Negative Sentiment')\n",
        "plt.plot(fpr_neutrals, tpr_neutrals, label='Neutral Sentiment')\n",
        "plt.xlabel('False positive rate')\n",
        "plt.ylabel('True positive rate')\n",
        "plt.title('ROC curve')\n",
        "plt.legend(loc='best')\n",
        "plt.show()"
      ],
      "execution_count": 329,
      "outputs": [
        {
          "output_type": "display_data",
          "data": {
            "image/png": "[encoded data removed]",
            "text/plain": [
              "<Figure size 432x288 with 1 Axes>"
            ]
          },
          "metadata": {
            "tags": [],
            "needs_background": "light"
          }
        }
      ]
    },
    {
      "cell_type": "code",
      "metadata": {
        "id": "EfP84R5tA4-k",
        "outputId": "fd466215-02d7-4663-8091-e2cfaeb7d0eb",
        "colab": {
          "base_uri": "https://localhost:8080/",
          "height": 0
        }
      },
      "source": [
        "predicted_labels = sgdc_pipeline_for_se.predict(texts_for_testing)\n",
        "fmi_gcv_sgdc = f1_score(labels_for_testing, predicted_labels, average='micro')\n",
        "fma_gcv_sgdc = f1_score(labels_for_testing, predicted_labels, average='macro')\n",
        "print('F1-micro = {0:.6f}'.format(fmi_gcv_sgdc))\n",
        "print('F1-macro = {0:.6f}'.format(fma_gcv_sgdc))"
      ],
      "execution_count": 330,
      "outputs": [
        {
          "output_type": "stream",
          "text": [
            "F1-micro = 0.740115\n",
            "F1-macro = 0.584782\n"
          ],
          "name": "stdout"
        }
      ]
    },
    {
      "cell_type": "code",
      "metadata": {
        "id": "vusV9pqvA4-8",
        "outputId": "84de3e74-4dc9-4a9d-b9e3-f92fc4a7e1c7",
        "colab": {
          "base_uri": "https://localhost:8080/",
          "height": 0
        }
      },
      "source": [
        "clsrep_gcv_sgdc = classification_report(labels_for_testing, predicted_labels, digits=6)\n",
        "print(clsrep_gcv_sgdc)"
      ],
      "execution_count": 331,
      "outputs": [
        {
          "output_type": "stream",
          "text": [
            "              precision    recall  f1-score   support\n",
            "\n",
            "    negative   0.594918  0.518905  0.554318       767\n",
            "     neutral   0.781869  0.882484  0.829135      2238\n",
            "    positive   0.669492  0.256494  0.370892       308\n",
            "\n",
            "    accuracy                       0.740115      3313\n",
            "   macro avg   0.682093  0.552628  0.584782      3313\n",
            "weighted avg   0.728140  0.740115  0.722910      3313\n",
            "\n"
          ],
          "name": "stdout"
        }
      ]
    },
    {
      "cell_type": "markdown",
      "metadata": {
        "id": "iqGoxmwXjXe2"
      },
      "source": [
        "# ~ rCV + SGDClassifier ~"
      ]
    },
    {
      "cell_type": "code",
      "metadata": {
        "id": "ZHpBYh1ep9OG"
      },
      "source": [
        "from sklearn.linear_model import SGDClassifier"
      ],
      "execution_count": 332,
      "outputs": []
    },
    {
      "cell_type": "code",
      "metadata": {
        "id": "wKzxabpJ2-91"
      },
      "source": [
        "rcv_sgdc = RandomizedSearchCV(\n",
        "    estimator=SGDClassifier(loss='log'),\n",
        "    param_distributions={\n",
        "                'alpha': [1e-4, 1e-3, 1e-2, 1e-1, 1], \n",
        "                'penalty': ['l1', 'l2', 'elasticnet']\n",
        "                },\n",
        "    n_iter = 100,\n",
        "    scoring=f1_macro_scorer,\n",
        "    n_jobs=-1\n",
        ")"
      ],
      "execution_count": 333,
      "outputs": []
    },
    {
      "cell_type": "code",
      "metadata": {
        "id": "k-80-pKx4Ew9",
        "outputId": "fce7c973-32a1-4b73-f234-c124e740ca65",
        "colab": {
          "base_uri": "https://localhost:8080/",
          "height": 73
        }
      },
      "source": [
        "rcv_sgdc_tp1 = time.time()\n",
        "rcv_sgdc.fit(X_transformed_and_selected, labels)\n",
        "rcv_sgdc_tp2 = time.time()"
      ],
      "execution_count": 334,
      "outputs": [
        {
          "output_type": "stream",
          "text": [
            "/usr/local/lib/python3.6/dist-packages/sklearn/model_selection/_search.py:281: UserWarning: The total space of parameters 15 is smaller than n_iter=100. Running 15 iterations. For exhaustive searches, use GridSearchCV.\n",
            "  % (grid_size, self.n_iter, grid_size), UserWarning)\n"
          ],
          "name": "stderr"
        }
      ]
    },
    {
      "cell_type": "code",
      "metadata": {
        "id": "G4TaxxGW4G3h",
        "outputId": "9681bcd1-e663-4e29-d8e7-e99af1d532a8",
        "colab": {
          "base_uri": "https://localhost:8080/",
          "height": 53
        }
      },
      "source": [
        "print(f'Time needed for search: {rcv_sgdc_tp2 - rcv_sgdc_tp1}s')\n",
        "rcv_sgdc_bp = rcv_sgdc.best_params_\n",
        "print(rcv_sgdc_bp)"
      ],
      "execution_count": 335,
      "outputs": [
        {
          "output_type": "stream",
          "text": [
            "Time needed for search: 3.8100650310516357s\n",
            "{'penalty': 'l1', 'alpha': 0.0001}\n"
          ],
          "name": "stdout"
        }
      ]
    },
    {
      "cell_type": "code",
      "metadata": {
        "id": "MAlJFVX2wvfi"
      },
      "source": [
        "bcls_rcv_sgdc = SGDClassifier( \n",
        "                     loss='log',\n",
        "                     penalty=rcv_sgdc_bp['penalty'],\n",
        "                     alpha=rcv_sgdc_bp['alpha'],\n",
        "                     max_iter=1000\n",
        "                    )"
      ],
      "execution_count": 336,
      "outputs": []
    },
    {
      "cell_type": "code",
      "metadata": {
        "id": "8lR-xBh-xRqU"
      },
      "source": [
        "rcv_sgdc_tp3 = time.time()\n",
        "bcls_rcv_sgdc.fit(X_transformed_and_selected, labels)\n",
        "rcv_sgdc_tp4 = time.time()"
      ],
      "execution_count": 337,
      "outputs": []
    },
    {
      "cell_type": "code",
      "metadata": {
        "id": "K1-_8awAxlxo",
        "outputId": "b562364c-61f1-4232-bae4-d716a1701c72",
        "colab": {
          "base_uri": "https://localhost:8080/",
          "height": 35
        }
      },
      "source": [
        "print(f'Time needed for computations: {rcv_sgdc_tp4 - rcv_sgdc_tp3}s')"
      ],
      "execution_count": 338,
      "outputs": [
        {
          "output_type": "stream",
          "text": [
            "Time needed for computations: 0.06425952911376953s\n"
          ],
          "name": "stdout"
        }
      ]
    },
    {
      "cell_type": "code",
      "metadata": {
        "id": "3QqNn4X2yTS5"
      },
      "source": [
        "sgdc_pipeline_for_se = Pipeline(\n",
        "    [\n",
        "        ('vectorizer', vectorizer),\n",
        "        ('tfidf', transformer),\n",
        "        ('selector', selector),\n",
        "        ('final_classifier', bcls_rcv_sgdc)\n",
        "    ]\n",
        ")"
      ],
      "execution_count": 339,
      "outputs": []
    },
    {
      "cell_type": "code",
      "metadata": {
        "id": "wv53glKgyTUA"
      },
      "source": [
        "probabilities = sgdc_pipeline_for_se.predict_proba(texts_for_testing)\n",
        "\n",
        "y_true_positives = list(map(lambda it: 1 if it == 'positive' else 0, labels_for_testing))\n",
        "y_score_positives = probabilities[:, classes_list.index('positive')]\n",
        "fpr_positives, tpr_positives, _, = roc_curve(y_true_positives, y_score_positives)\n",
        "\n",
        "y_true_negatives = list(map(lambda it: 1 if it == 'negative' else 0, labels_for_testing))\n",
        "y_score_negatives = probabilities[:, classes_list.index('negative')]\n",
        "fpr_negatives, tpr_negatives, _, = roc_curve(y_true_negatives, y_score_negatives)\n",
        "\n",
        "y_true_neutrals = list(map(lambda it: 1 if it == 'neutral' else 0, labels_for_testing))\n",
        "y_score_neutrals = probabilities[:, classes_list.index('neutral')]\n",
        "fpr_neutrals, tpr_neutrals, _, = roc_curve(y_true_neutrals, y_score_neutrals)"
      ],
      "execution_count": 340,
      "outputs": []
    },
    {
      "cell_type": "code",
      "metadata": {
        "id": "KflXi6loyTUn",
        "outputId": "ec3d7d02-45bd-4e57-ac27-588540468437",
        "colab": {
          "base_uri": "https://localhost:8080/",
          "height": 295
        }
      },
      "source": [
        "plt.figure(4)\n",
        "plt.plot([0, 1], [0, 1], 'k--')\n",
        "plt.plot(fpr_positives, tpr_positives, label='Positive Sentiment')\n",
        "plt.plot(fpr_negatives, tpr_negatives, label='Negative Sentiment')\n",
        "plt.plot(fpr_neutrals, tpr_neutrals, label='Neutral Sentiment')\n",
        "plt.xlabel('False positive rate')\n",
        "plt.ylabel('True positive rate')\n",
        "plt.title('ROC curve')\n",
        "plt.legend(loc='best')\n",
        "plt.show()"
      ],
      "execution_count": 341,
      "outputs": [
        {
          "output_type": "display_data",
          "data": {
            "image/png": "[encoded data removed]",
            "text/plain": [
              "<Figure size 432x288 with 1 Axes>"
            ]
          },
          "metadata": {
            "tags": [],
            "needs_background": "light"
          }
        }
      ]
    },
    {
      "cell_type": "code",
      "metadata": {
        "id": "zBaI1ws3yTVK",
        "outputId": "ad7544ae-9075-47af-e63c-d13c2622ba88",
        "colab": {
          "base_uri": "https://localhost:8080/",
          "height": 53
        }
      },
      "source": [
        "predicted_labels = sgdc_pipeline_for_se.predict(texts_for_testing)\n",
        "fmi_rcv_sgdc = f1_score(labels_for_testing, predicted_labels, average='micro')\n",
        "fma_rcv_sgdc = f1_score(labels_for_testing, predicted_labels, average='macro')\n",
        "print('F1-micro = {0:.6f}'.format(fmi_rcv_sgdc))\n",
        "print('F1-macro = {0:.6f}'.format(fma_rcv_sgdc))"
      ],
      "execution_count": 342,
      "outputs": [
        {
          "output_type": "stream",
          "text": [
            "F1-micro = 0.732267\n",
            "F1-macro = 0.567577\n"
          ],
          "name": "stdout"
        }
      ]
    },
    {
      "cell_type": "code",
      "metadata": {
        "id": "DeVNOBaoyTVm",
        "outputId": "328e8b32-dcce-48e8-d40b-829dc88b4951",
        "colab": {
          "base_uri": "https://localhost:8080/",
          "height": 199
        }
      },
      "source": [
        "clsrep_rcv_sgdc = classification_report(labels_for_testing, predicted_labels, digits=6)\n",
        "print(clsrep_rcv_sgdc)"
      ],
      "execution_count": 343,
      "outputs": [
        {
          "output_type": "stream",
          "text": [
            "              precision    recall  f1-score   support\n",
            "\n",
            "    negative   0.575403  0.512386  0.542069       767\n",
            "     neutral   0.780430  0.876676  0.825758      2238\n",
            "    positive   0.612069  0.230519  0.334906       308\n",
            "\n",
            "    accuracy                       0.732267      3313\n",
            "   macro avg   0.655967  0.539860  0.567577      3313\n",
            "weighted avg   0.717311  0.732267  0.714447      3313\n",
            "\n"
          ],
          "name": "stdout"
        }
      ]
    },
    {
      "cell_type": "markdown",
      "metadata": {
        "id": "pGKjgVe4Ck3F"
      },
      "source": [
        "# ~ Выводы ~"
      ]
    },
    {
      "cell_type": "code",
      "metadata": {
        "id": "x3FqMFQTCo9c",
        "outputId": "470d47dd-ea3f-4f00-9341-eccf8ced701d",
        "colab": {
          "base_uri": "https://localhost:8080/",
          "height": 1000
        }
      },
      "source": [
        "scheme = '--- {}\\nSearch time: {}\\nComputation time: {}\\nF1-micro = {}\\nF1-macro = {}\\nReport:\\n{}\\n' \n",
        "print(scheme.format('gCV + LogReg', gcv_lr_tp2-gcv_lr_tp1, gcv_lr_tp4-gcv_lr_tp3, fmi_gcv_lr, fma_gcv_lr, clsrep_gcv_lr))\n",
        "print(scheme.format('rCV + LogReg', rcv_lr_tp2-rcv_lr_tp1, rcv_lr_tp4-rcv_lr_tp3, fmi_rcv_lr, fma_rcv_lr, clsrep_rcv_lr))\n",
        "print(scheme.format('gCV + SGDC', gcv_sgdc_tp2-gcv_sgdc_tp1, gcv_sgdc_tp4-gcv_sgdc_tp3, fmi_gcv_sgdc, fma_gcv_sgdc, clsrep_gcv_sgdc))\n",
        "print(scheme.format('rCV + SGDC', rcv_sgdc_tp2-rcv_sgdc_tp1, rcv_sgdc_tp4-rcv_sgdc_tp3, fmi_rcv_sgdc, fma_rcv_sgdc, clsrep_rcv_sgdc))"
      ],
      "execution_count": 344,
      "outputs": [
        {
          "output_type": "stream",
          "text": [
            "--- gCV + LogReg\n",
            "Search time: 6.408043384552002\n",
            "Computation time: 0.17966341972351074\n",
            "F1-micro = 0.7180802897675822\n",
            "F1-macro = 0.5842455660785356\n",
            "Report:\n",
            "              precision    recall  f1-score   support\n",
            "\n",
            "    negative   0.552664  0.581486  0.566709       767\n",
            "     neutral   0.809376  0.817694  0.813514      2238\n",
            "    positive   0.420408  0.334416  0.372514       308\n",
            "\n",
            "    accuracy                       0.718080      3313\n",
            "   macro avg   0.594150  0.577865  0.584246      3313\n",
            "weighted avg   0.713783  0.718080  0.715377      3313\n",
            "\n",
            "\n",
            "--- rCV + LogReg\n",
            "Search time: 5.270565748214722\n",
            "Computation time: 0.17204594612121582\n",
            "F1-micro = 0.7180802897675822\n",
            "F1-macro = 0.5842455660785356\n",
            "Report:\n",
            "              precision    recall  f1-score   support\n",
            "\n",
            "    negative   0.552664  0.581486  0.566709       767\n",
            "     neutral   0.809376  0.817694  0.813514      2238\n",
            "    positive   0.420408  0.334416  0.372514       308\n",
            "\n",
            "    accuracy                       0.718080      3313\n",
            "   macro avg   0.594150  0.577865  0.584246      3313\n",
            "weighted avg   0.713783  0.718080  0.715377      3313\n",
            "\n",
            "\n",
            "--- gCV + SGDC\n",
            "Search time: 3.8027780055999756\n",
            "Computation time: 0.07068109512329102\n",
            "F1-micro = 0.7401146996679746\n",
            "F1-macro = 0.584781582682144\n",
            "Report:\n",
            "              precision    recall  f1-score   support\n",
            "\n",
            "    negative   0.594918  0.518905  0.554318       767\n",
            "     neutral   0.781869  0.882484  0.829135      2238\n",
            "    positive   0.669492  0.256494  0.370892       308\n",
            "\n",
            "    accuracy                       0.740115      3313\n",
            "   macro avg   0.682093  0.552628  0.584782      3313\n",
            "weighted avg   0.728140  0.740115  0.722910      3313\n",
            "\n",
            "\n",
            "--- rCV + SGDC\n",
            "Search time: 3.8100650310516357\n",
            "Computation time: 0.06425952911376953\n",
            "F1-micro = 0.7322668276486568\n",
            "F1-macro = 0.5675774005507251\n",
            "Report:\n",
            "              precision    recall  f1-score   support\n",
            "\n",
            "    negative   0.575403  0.512386  0.542069       767\n",
            "     neutral   0.780430  0.876676  0.825758      2238\n",
            "    positive   0.612069  0.230519  0.334906       308\n",
            "\n",
            "    accuracy                       0.732267      3313\n",
            "   macro avg   0.655967  0.539860  0.567577      3313\n",
            "weighted avg   0.717311  0.732267  0.714447      3313\n",
            "\n",
            "\n"
          ],
          "name": "stdout"
        }
      ]
    }
  ]
}