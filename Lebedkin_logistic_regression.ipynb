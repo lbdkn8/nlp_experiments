{
  "nbformat": 4,
  "nbformat_minor": 0,
  "metadata": {
    "kernelspec": {
      "display_name": "Python 3",
      "language": "python",
      "name": "python3"
    },
    "language_info": {
      "codemirror_mode": {
        "name": "ipython",
        "version": 3
      },
      "file_extension": ".py",
      "mimetype": "text/x-python",
      "name": "python",
      "nbconvert_exporter": "python",
      "pygments_lexer": "ipython3",
      "version": "3.6.9"
    },
    "colab": {
      "name": "Lebedkin - logistic_regression.ipynb",
      "provenance": [],
      "collapsed_sections": [],
      "include_colab_link": true
    }
  },
  "cells": [
    {
      "cell_type": "markdown",
      "metadata": {
        "id": "view-in-github",
        "colab_type": "text"
      },
      "source": [
        "<a href=\"https://colab.research.google.com/github/lbdkn8/nlp_experiments/blob/main/Lebedkin_logistic_regression.ipynb\" target=\"_parent\"><img src=\"https://colab.research.google.com/assets/colab-badge.svg\" alt=\"Open In Colab\"/></a>"
      ]
    },
    {
      "cell_type": "code",
      "metadata": {
        "id": "rJet2XaaK8TJ",
        "outputId": "147ddfa8-7cd7-4d87-a7c5-5d96704c69bf",
        "colab": {
          "base_uri": "https://localhost:8080/",
          "height": 35
        }
      },
      "source": [
        "from google.colab import drive\n",
        "drive.mount('/content/drive')"
      ],
      "execution_count": 23,
      "outputs": [
        {
          "output_type": "stream",
          "text": [
            "Drive already mounted at /content/drive; to attempt to forcibly remount, call drive.mount(\"/content/drive\", force_remount=True).\n"
          ],
          "name": "stdout"
        }
      ]
    },
    {
      "cell_type": "code",
      "metadata": {
        "id": "C8BYW0pJ3AZl"
      },
      "source": [
        "from lxml import etree"
      ],
      "execution_count": 106,
      "outputs": []
    },
    {
      "cell_type": "code",
      "metadata": {
        "id": "gMkYasFT3AaO"
      },
      "source": [
        "from typing import List, Tuple"
      ],
      "execution_count": 107,
      "outputs": []
    },
    {
      "cell_type": "code",
      "metadata": {
        "id": "n_rg0nSpFIdV",
        "outputId": "3c4f12db-f6a1-4f7b-8764-270878fc5c76",
        "colab": {
          "base_uri": "https://localhost:8080/",
          "height": 528
        }
      },
      "source": [
        "%pip install spacy-udpipe\n",
        "%pip install pymorphy2==0.8\n",
        "\n",
        "import spacy_udpipe\n",
        "import string, re\n",
        "\n",
        "spacy_udpipe.download(\"ru-syntagrus\") \n",
        "nlp = spacy_udpipe.load(\"ru-syntagrus\")"
      ],
      "execution_count": 108,
      "outputs": [
        {
          "output_type": "stream",
          "text": [
            "Requirement already satisfied: spacy-udpipe in /usr/local/lib/python3.6/dist-packages (0.3.2)\n",
            "Requirement already satisfied: ufal.udpipe>=1.2.0 in /usr/local/lib/python3.6/dist-packages (from spacy-udpipe) (1.2.0.3)\n",
            "Requirement already satisfied: spacy<3.0.0,>=2.1.0 in /usr/local/lib/python3.6/dist-packages (from spacy-udpipe) (2.2.4)\n",
            "Requirement already satisfied: blis<0.5.0,>=0.4.0 in /usr/local/lib/python3.6/dist-packages (from spacy<3.0.0,>=2.1.0->spacy-udpipe) (0.4.1)\n",
            "Requirement already satisfied: preshed<3.1.0,>=3.0.2 in /usr/local/lib/python3.6/dist-packages (from spacy<3.0.0,>=2.1.0->spacy-udpipe) (3.0.2)\n",
            "Requirement already satisfied: requests<3.0.0,>=2.13.0 in /usr/local/lib/python3.6/dist-packages (from spacy<3.0.0,>=2.1.0->spacy-udpipe) (2.23.0)\n",
            "Requirement already satisfied: murmurhash<1.1.0,>=0.28.0 in /usr/local/lib/python3.6/dist-packages (from spacy<3.0.0,>=2.1.0->spacy-udpipe) (1.0.2)\n",
            "Requirement already satisfied: cymem<2.1.0,>=2.0.2 in /usr/local/lib/python3.6/dist-packages (from spacy<3.0.0,>=2.1.0->spacy-udpipe) (2.0.3)\n",
            "Requirement already satisfied: wasabi<1.1.0,>=0.4.0 in /usr/local/lib/python3.6/dist-packages (from spacy<3.0.0,>=2.1.0->spacy-udpipe) (0.8.0)\n",
            "Requirement already satisfied: srsly<1.1.0,>=1.0.2 in /usr/local/lib/python3.6/dist-packages (from spacy<3.0.0,>=2.1.0->spacy-udpipe) (1.0.2)\n",
            "Requirement already satisfied: catalogue<1.1.0,>=0.0.7 in /usr/local/lib/python3.6/dist-packages (from spacy<3.0.0,>=2.1.0->spacy-udpipe) (1.0.0)\n",
            "Requirement already satisfied: numpy>=1.15.0 in /usr/local/lib/python3.6/dist-packages (from spacy<3.0.0,>=2.1.0->spacy-udpipe) (1.18.5)\n",
            "Requirement already satisfied: tqdm<5.0.0,>=4.38.0 in /usr/local/lib/python3.6/dist-packages (from spacy<3.0.0,>=2.1.0->spacy-udpipe) (4.41.1)\n",
            "Requirement already satisfied: plac<1.2.0,>=0.9.6 in /usr/local/lib/python3.6/dist-packages (from spacy<3.0.0,>=2.1.0->spacy-udpipe) (1.1.3)\n",
            "Requirement already satisfied: thinc==7.4.0 in /usr/local/lib/python3.6/dist-packages (from spacy<3.0.0,>=2.1.0->spacy-udpipe) (7.4.0)\n",
            "Requirement already satisfied: setuptools in /usr/local/lib/python3.6/dist-packages (from spacy<3.0.0,>=2.1.0->spacy-udpipe) (50.3.0)\n",
            "Requirement already satisfied: idna<3,>=2.5 in /usr/local/lib/python3.6/dist-packages (from requests<3.0.0,>=2.13.0->spacy<3.0.0,>=2.1.0->spacy-udpipe) (2.10)\n",
            "Requirement already satisfied: urllib3!=1.25.0,!=1.25.1,<1.26,>=1.21.1 in /usr/local/lib/python3.6/dist-packages (from requests<3.0.0,>=2.13.0->spacy<3.0.0,>=2.1.0->spacy-udpipe) (1.24.3)\n",
            "Requirement already satisfied: certifi>=2017.4.17 in /usr/local/lib/python3.6/dist-packages (from requests<3.0.0,>=2.13.0->spacy<3.0.0,>=2.1.0->spacy-udpipe) (2020.6.20)\n",
            "Requirement already satisfied: chardet<4,>=3.0.2 in /usr/local/lib/python3.6/dist-packages (from requests<3.0.0,>=2.13.0->spacy<3.0.0,>=2.1.0->spacy-udpipe) (3.0.4)\n",
            "Requirement already satisfied: importlib-metadata>=0.20; python_version < \"3.8\" in /usr/local/lib/python3.6/dist-packages (from catalogue<1.1.0,>=0.0.7->spacy<3.0.0,>=2.1.0->spacy-udpipe) (2.0.0)\n",
            "Requirement already satisfied: zipp>=0.5 in /usr/local/lib/python3.6/dist-packages (from importlib-metadata>=0.20; python_version < \"3.8\"->catalogue<1.1.0,>=0.0.7->spacy<3.0.0,>=2.1.0->spacy-udpipe) (3.2.0)\n",
            "Requirement already satisfied: pymorphy2==0.8 in /usr/local/lib/python3.6/dist-packages (0.8)\n",
            "Requirement already satisfied: dawg-python>=0.7 in /usr/local/lib/python3.6/dist-packages (from pymorphy2==0.8) (0.7.2)\n",
            "Requirement already satisfied: pymorphy2-dicts<3.0,>=2.4 in /usr/local/lib/python3.6/dist-packages (from pymorphy2==0.8) (2.4.393442.3710985)\n",
            "Requirement already satisfied: docopt>=0.6 in /usr/local/lib/python3.6/dist-packages (from pymorphy2==0.8) (0.6.2)\n",
            "Already downloaded a model for the 'ru-syntagrus' language\n"
          ],
          "name": "stdout"
        }
      ]
    },
    {
      "cell_type": "code",
      "metadata": {
        "id": "_kfE83V3KlED"
      },
      "source": [
        "def chewable(s):                                                # Убираем лишнее \n",
        "  lemmas = [token.lemma_ for token in nlp(s)]\n",
        "  s_lemmd = ' '.join(lemmas)                                                \n",
        "  webs = '(\\S+\\.\\S+\\.?\\S+[\\s^\\v]?)'\n",
        "  nums = '(\\d+[\\s^\\v]?)'\n",
        "  re_webs = re.compile(webs)                                    # Убираем сслыки\n",
        "  re_pnct = re.compile('[%s]' % re.escape(string.punctuation))  # Пунктуацию\n",
        "  re_nums = re.compile(nums)                                    # Почему-то числа становились наиболее значимыми признаками - убираю\n",
        "  s_dewebbed = re_webs.sub('', s_lemmd)\n",
        "  s_stripped = re_pnct.sub('', s_dewebbed)\n",
        "  s_denummed = re_nums.sub('', s_stripped)\n",
        "  return s_denummed"
      ],
      "execution_count": 109,
      "outputs": []
    },
    {
      "cell_type": "code",
      "metadata": {
        "id": "b6FY8LP43Aa0"
      },
      "source": [
        "def load_sentirueval_2016(file_name: str) -> Tuple[List[str], List[str]]:\n",
        "    texts = []\n",
        "    labels = []\n",
        "    with open(file_name, mode='rb') as fp:\n",
        "        xml_data = fp.read()\n",
        "    root = etree.fromstring(xml_data)\n",
        "    for database in root.getchildren():\n",
        "        if database.tag == 'database':\n",
        "            for table in database.getchildren():\n",
        "                if table.tag != 'table':\n",
        "                    continue\n",
        "                new_text = None\n",
        "                new_label = None\n",
        "                for column in table.getchildren():\n",
        "                    if column.get('name') == 'text':\n",
        "                        new_text = chewable(column.text)\n",
        "                        if new_label is not None:\n",
        "                            break\n",
        "                    elif column.get('name') not in {'id', 'twitid', 'date'}:\n",
        "                        if new_label is None:\n",
        "                            label_candidate = str(column.text).strip()\n",
        "                            if label_candidate in {'0', '1', '-1'}:\n",
        "                                new_label = 'negative' if label_candidate == '-1' else \\\n",
        "                                    ('positive' if label_candidate == '1' else 'neutral')\n",
        "                                if new_text is not None:\n",
        "                                    break\n",
        "                if (new_text is None) or (new_label is None):\n",
        "                    raise ValueError('File `{0}` contains some error!'.format(file_name))\n",
        "                texts.append(new_text)\n",
        "                labels.append(new_label)\n",
        "            break\n",
        "    return texts, labels"
      ],
      "execution_count": 110,
      "outputs": []
    },
    {
      "cell_type": "code",
      "metadata": {
        "id": "ZS1J18J4Ls4T"
      },
      "source": [
        "fXML = '/content/drive/My Drive/bank_train_2016.xml'"
      ],
      "execution_count": 111,
      "outputs": []
    },
    {
      "cell_type": "code",
      "metadata": {
        "id": "EL-Lbw7B3AbS"
      },
      "source": [
        "texts, labels = load_sentirueval_2016(fXML)"
      ],
      "execution_count": 112,
      "outputs": []
    },
    {
      "cell_type": "code",
      "metadata": {
        "id": "IQAeR79F3Abo",
        "outputId": "e83abc32-66b5-4660-98be-3890483efc4f",
        "colab": {
          "base_uri": "https://localhost:8080/",
          "height": 35
        }
      },
      "source": [
        "print('Number of texts is {0}, number of labels is {1}.'.format(len(texts), len(labels)))"
      ],
      "execution_count": 113,
      "outputs": [
        {
          "output_type": "stream",
          "text": [
            "Number of texts is 9392, number of labels is 9392.\n"
          ],
          "name": "stdout"
        }
      ]
    },
    {
      "cell_type": "code",
      "metadata": {
        "id": "118Hinks3AcU"
      },
      "source": [
        "import random"
      ],
      "execution_count": 114,
      "outputs": []
    },
    {
      "cell_type": "code",
      "metadata": {
        "id": "JXpuvxXN3Ac4",
        "outputId": "ecd66a4a-6951-4bd1-edd5-654028edfae0",
        "colab": {
          "base_uri": "https://localhost:8080/",
          "height": 380
        }
      },
      "source": [
        "for idx in random.choices(list(range(len(texts))), k=20):\n",
        "    print('{0} => {1}'.format(labels[idx], texts[idx]))"
      ],
      "execution_count": 115,
      "outputs": [
        {
          "output_type": "stream",
          "text": [
            "neutral => в Сочи появиться банкомат Сбербанк на китайский и французский язык\n",
            "neutral => Кировчанин оплатить в Сбербанк услуга ЖКХ на сумма более миллиард  рубль  свежий новость  Сбербанк     \n",
            "neutral => банк ВТБ продать  акция Росбанк  news\n",
            "neutral => как получить кредит в сбербанок ногинск\n",
            "negative => нормально sberbank зарабатывать  размен  от сумма \n",
            "neutral => Rt tulbox  tula  Тул  Друзье   число в помещение сбербанок по адрес пр Ленин  с до час быть проходить   …\n",
            "neutral => ипотечный кредит в сбербанок условие  ипотечный кредит в сбербанок условие \n",
            "neutral => банк Москва продать белорусский  дочка   бизнес \n",
            "positive => у я теперь в Сбербанк онлайн нормальный логин и пароль для вход который я выбрать сам  годнота \n",
            "neutral => кредит вт для ип \n",
            "neutral =>  Газпромбанк потребительский  кредит оренбург\n",
            "neutral => банк Москва  корпоративный ролик \n",
            "negative => RT RomanMandziak  altairsakha пора уже переименовать Сбербанк в Зверьбанк \n",
            "negative => Rt wwwejru  автор   ус Песков  в глубина сибирский руда Хранить ваш сбереженье  Пок Сбербанк и ВТБ    стоять в неловкий   …\n",
            "neutral => автокредит райффайзенбанка\n",
            "negative => сбербанк навязывать кредитный карта \n",
            "neutral => про Теле Сбербанк и лучший  SMM  профессионал на планета\n",
            "neutral => вт форекс брокер  \n",
            "neutral => брать кредит в втб ель работать месяц\n",
            "neutral => RT TravaxIke  Сбербанк и российский Гильдия риэлтор упростить проведение ипотечный сделка\n"
          ],
          "name": "stdout"
        }
      ]
    },
    {
      "cell_type": "code",
      "metadata": {
        "id": "pP2OXqLc3AdM"
      },
      "source": [
        "positive_tweets = [texts[idx] for idx in range(len(texts)) if labels[idx] == 'positive']\n",
        "negative_tweets = [texts[idx] for idx in range(len(texts)) if labels[idx] == 'negative']"
      ],
      "execution_count": 116,
      "outputs": []
    },
    {
      "cell_type": "code",
      "metadata": {
        "id": "RXkkPGug3Adg",
        "outputId": "b5f273e3-aaf0-42b7-cc0f-96a7e9896845",
        "colab": {
          "base_uri": "https://localhost:8080/",
          "height": 108
        }
      },
      "source": [
        "for cur in positive_tweets[:5]: print(cur)"
      ],
      "execution_count": 117,
      "outputs": [
        {
          "output_type": "stream",
          "text": [
            "sawikshuster YevhenS главный чтобы банк СБЕР и ВТБ   \n",
            "самый выгодный автокредит в втб \n",
            "легко можно получить денежный кредит ы вт банк\n",
            "снижение процентный ставка по кредит на недвижимость сбербанк \n",
            "в наш сбербанк прийти американец и просить сфоткаться с он у банкомат  D я васто быть в шок и на фотка полюбому получиться смешной xD\n"
          ],
          "name": "stdout"
        }
      ]
    },
    {
      "cell_type": "code",
      "metadata": {
        "id": "60DkKK9W3Ad2",
        "outputId": "f2775d2f-0132-4998-9f39-7aba90dff7ca",
        "colab": {
          "base_uri": "https://localhost:8080/",
          "height": 108
        }
      },
      "source": [
        "for cur in negative_tweets[:5]: print(cur)"
      ],
      "execution_count": 118,
      "outputs": [
        {
          "output_type": "stream",
          "text": [
            "ShtirliZ Zhukovaolga winzard tereshenkov обязательно про сбербанк писать  временами хлестко интерать магазин финт выкручивать \n",
            "UmkaAlfariusigorsechin втб и сбер точно  вопрос  блокировка операция или запрет на кредит \n",
            "Канада ввести санкция против Газпромбанк  ВЭБ  Новатэк и российский оборонный компания\n",
            "RT letokot  если Сбер и ВТБ попасть под санкция  быть жоп\n",
            "RT tvru   Канада ввести санкция против оборонный и сырьевой компания и банк РФ  среди они  в частность    Газпромбанк     Внешэк …\n"
          ],
          "name": "stdout"
        }
      ]
    },
    {
      "cell_type": "code",
      "metadata": {
        "id": "zjbfjf7Z3AeM",
        "outputId": "e1d35017-7dfa-48dd-dd63-759106689f8d",
        "colab": {
          "base_uri": "https://localhost:8080/",
          "height": 72
        }
      },
      "source": [
        "import nltk\n",
        "from nltk import word_tokenize\n",
        "\n",
        "nltk.download('punkt')"
      ],
      "execution_count": 119,
      "outputs": [
        {
          "output_type": "stream",
          "text": [
            "[nltk_data] Downloading package punkt to /root/nltk_data...\n",
            "[nltk_data]   Package punkt is already up-to-date!\n"
          ],
          "name": "stdout"
        },
        {
          "output_type": "execute_result",
          "data": {
            "text/plain": [
              "True"
            ]
          },
          "metadata": {
            "tags": []
          },
          "execution_count": 119
        }
      ]
    },
    {
      "cell_type": "code",
      "metadata": {
        "id": "XuZBKsjA3Aeh"
      },
      "source": [
        "from sklearn.feature_extraction.text import CountVectorizer"
      ],
      "execution_count": 120,
      "outputs": []
    },
    {
      "cell_type": "code",
      "metadata": {
        "id": "hxAqehMp3Ae2"
      },
      "source": [
        "vectorizer = CountVectorizer(lowercase=True, tokenizer=word_tokenize)"
      ],
      "execution_count": 121,
      "outputs": []
    },
    {
      "cell_type": "code",
      "metadata": {
        "id": "Flacy_lj3AfN",
        "outputId": "2482bcb1-728d-4445-e5e5-f568ca656464",
        "colab": {
          "base_uri": "https://localhost:8080/",
          "height": 201
        }
      },
      "source": [
        "vectorizer.fit(texts)"
      ],
      "execution_count": 122,
      "outputs": [
        {
          "output_type": "stream",
          "text": [
            "/usr/local/lib/python3.6/dist-packages/sklearn/feature_extraction/text.py:507: UserWarning: The parameter 'token_pattern' will not be used since 'tokenizer' is not None'\n",
            "  warnings.warn(\"The parameter 'token_pattern' will not be used\"\n"
          ],
          "name": "stderr"
        },
        {
          "output_type": "execute_result",
          "data": {
            "text/plain": [
              "CountVectorizer(analyzer='word', binary=False, decode_error='strict',\n",
              "                dtype=<class 'numpy.int64'>, encoding='utf-8', input='content',\n",
              "                lowercase=True, max_df=1.0, max_features=None, min_df=1,\n",
              "                ngram_range=(1, 1), preprocessor=None, stop_words=None,\n",
              "                strip_accents=None, token_pattern='(?u)\\\\b\\\\w\\\\w+\\\\b',\n",
              "                tokenizer=<function word_tokenize at 0x7f082e99f6a8>,\n",
              "                vocabulary=None)"
            ]
          },
          "metadata": {
            "tags": []
          },
          "execution_count": 122
        }
      ]
    },
    {
      "cell_type": "code",
      "metadata": {
        "id": "On7DhL193Afg",
        "outputId": "a226d0e7-5084-4742-e088-c0c52fa287ff",
        "colab": {
          "base_uri": "https://localhost:8080/",
          "height": 55
        }
      },
      "source": [
        "print(vectorizer.get_feature_names()[0:20])"
      ],
      "execution_count": 123,
      "outputs": [
        {
          "output_type": "stream",
          "text": [
            "['a', 'abaradagaнлат', 'aberadez', 'abetaa', 'abncapital', 'abramovdeputat', 'abunyasha', 'abysov', 'adagamov', 'adairrasi', 'adaron', 'aday', 'adenisenko', 'adindex', 'adlarguan', 'admeru', 'admitad', 'adubter', 'adworningju', 'aeroflot']\n"
          ],
          "name": "stdout"
        }
      ]
    },
    {
      "cell_type": "code",
      "metadata": {
        "id": "VTJsy6DD3Af0",
        "outputId": "f0cc917d-e155-4b81-9671-7fdaacf3ec6a",
        "colab": {
          "base_uri": "https://localhost:8080/",
          "height": 35
        }
      },
      "source": [
        "print(len(vectorizer.get_feature_names()))"
      ],
      "execution_count": 124,
      "outputs": [
        {
          "output_type": "stream",
          "text": [
            "8698\n"
          ],
          "name": "stdout"
        }
      ]
    },
    {
      "cell_type": "code",
      "metadata": {
        "id": "uKL9wpSD3AgE"
      },
      "source": [
        "X = vectorizer.transform(texts)"
      ],
      "execution_count": 125,
      "outputs": []
    },
    {
      "cell_type": "code",
      "metadata": {
        "id": "2zSqZhWD3AgV",
        "outputId": "960e401d-2bc4-48f1-f9bd-941c71f2da41",
        "colab": {
          "base_uri": "https://localhost:8080/",
          "height": 35
        }
      },
      "source": [
        "print(type(X))"
      ],
      "execution_count": 126,
      "outputs": [
        {
          "output_type": "stream",
          "text": [
            "<class 'scipy.sparse.csr.csr_matrix'>\n"
          ],
          "name": "stdout"
        }
      ]
    },
    {
      "cell_type": "code",
      "metadata": {
        "id": "CfTJP9tw3Agp",
        "outputId": "595bb62d-54fb-46c3-f154-ad5e095b57fd",
        "colab": {
          "base_uri": "https://localhost:8080/",
          "height": 35
        }
      },
      "source": [
        "print(texts[0])"
      ],
      "execution_count": 127,
      "outputs": [
        {
          "output_type": "stream",
          "text": [
            "брать кредит тюмень альфа банк\n"
          ],
          "name": "stdout"
        }
      ]
    },
    {
      "cell_type": "code",
      "metadata": {
        "id": "6_JizZSp3Ag9",
        "outputId": "30a4563f-cd3a-44a6-d910-50a40f3d2528",
        "colab": {
          "base_uri": "https://localhost:8080/",
          "height": 108
        }
      },
      "source": [
        "print(X[0])"
      ],
      "execution_count": 128,
      "outputs": [
        {
          "output_type": "stream",
          "text": [
            "  (0, 1815)\t1\n",
            "  (0, 1965)\t1\n",
            "  (0, 2144)\t1\n",
            "  (0, 4118)\t1\n",
            "  (0, 7898)\t1\n"
          ],
          "name": "stdout"
        }
      ]
    },
    {
      "cell_type": "code",
      "metadata": {
        "id": "30eo382I3AhO",
        "outputId": "7fd4225f-05ef-46f5-e273-776585e1545f",
        "colab": {
          "base_uri": "https://localhost:8080/",
          "height": 35
        }
      },
      "source": [
        "print(vectorizer.get_feature_names()[6321])"
      ],
      "execution_count": 129,
      "outputs": [
        {
          "output_type": "stream",
          "text": [
            "пришлть\n"
          ],
          "name": "stdout"
        }
      ]
    },
    {
      "cell_type": "code",
      "metadata": {
        "id": "XoBiF1GO3Aht",
        "outputId": "57813fad-2971-4e0b-f478-1cca0fcb4216",
        "colab": {
          "base_uri": "https://localhost:8080/",
          "height": 35
        }
      },
      "source": [
        "print(vectorizer.get_feature_names()[6000])"
      ],
      "execution_count": 130,
      "outputs": [
        {
          "output_type": "stream",
          "text": [
            "попадаться\n"
          ],
          "name": "stdout"
        }
      ]
    },
    {
      "cell_type": "code",
      "metadata": {
        "id": "TYZjLpGD3AiK",
        "outputId": "7cdbf9ea-5793-46f7-c0ea-588bbcadc957",
        "colab": {
          "base_uri": "https://localhost:8080/",
          "height": 35
        }
      },
      "source": [
        "print(vectorizer.get_feature_names()[5000])"
      ],
      "execution_count": 131,
      "outputs": [
        {
          "output_type": "stream",
          "text": [
            "нижний\n"
          ],
          "name": "stdout"
        }
      ]
    },
    {
      "cell_type": "code",
      "metadata": {
        "id": "BQsuW0sx3Aid"
      },
      "source": [
        "from sklearn.feature_extraction.text import TfidfTransformer"
      ],
      "execution_count": 132,
      "outputs": []
    },
    {
      "cell_type": "code",
      "metadata": {
        "id": "UfggEfY-3Aix"
      },
      "source": [
        "transformer = TfidfTransformer().fit(X)"
      ],
      "execution_count": 133,
      "outputs": []
    },
    {
      "cell_type": "code",
      "metadata": {
        "id": "3VPBGaTO3AjC"
      },
      "source": [
        "X_transformed = transformer.transform(X)"
      ],
      "execution_count": 134,
      "outputs": []
    },
    {
      "cell_type": "code",
      "metadata": {
        "id": "onguvE4C3AjU",
        "outputId": "34729f33-ce15-44bb-d1aa-6f4ec46bb2aa",
        "colab": {
          "base_uri": "https://localhost:8080/",
          "height": 108
        }
      },
      "source": [
        "print(X_transformed[0])"
      ],
      "execution_count": 135,
      "outputs": [
        {
          "output_type": "stream",
          "text": [
            "  (0, 7898)\t0.7639100517232897\n",
            "  (0, 4118)\t0.2173288930139871\n",
            "  (0, 2144)\t0.4039888226437941\n",
            "  (0, 1965)\t0.24576972473891776\n",
            "  (0, 1815)\t0.38157549543710667\n"
          ],
          "name": "stdout"
        }
      ]
    },
    {
      "cell_type": "code",
      "metadata": {
        "id": "XV2Zvrax3Ajp",
        "outputId": "9f5a559c-e468-48b7-c628-f82bdea027a0",
        "colab": {
          "base_uri": "https://localhost:8080/",
          "height": 35
        }
      },
      "source": [
        "print(vectorizer.get_feature_names()[4000])"
      ],
      "execution_count": 136,
      "outputs": [
        {
          "output_type": "stream",
          "text": [
            "конверт\n"
          ],
          "name": "stdout"
        }
      ]
    },
    {
      "cell_type": "code",
      "metadata": {
        "id": "AOy_0vae3Aj7",
        "outputId": "84bfba6f-c588-489a-a3f4-5ed127d3ed34",
        "colab": {
          "base_uri": "https://localhost:8080/",
          "height": 35
        }
      },
      "source": [
        "print(vectorizer.get_feature_names()[7199])"
      ],
      "execution_count": 137,
      "outputs": [
        {
          "output_type": "stream",
          "text": [
            "скупка\n"
          ],
          "name": "stdout"
        }
      ]
    },
    {
      "cell_type": "code",
      "metadata": {
        "id": "QMFUL9qQ3AkR"
      },
      "source": [
        "tokens_with_IDF = list(zip(vectorizer.get_feature_names(), transformer.idf_))"
      ],
      "execution_count": 138,
      "outputs": []
    },
    {
      "cell_type": "code",
      "metadata": {
        "id": "jRSHi6cO3Akf",
        "outputId": "534753ba-ff46-4867-bc4a-23d7e6165697",
        "colab": {
          "base_uri": "https://localhost:8080/",
          "height": 380
        }
      },
      "source": [
        "for feature, idf in tokens_with_IDF[0:20]: print('{0:.6f} => {1}'.format(idf, feature))"
      ],
      "execution_count": 139,
      "outputs": [
        {
          "output_type": "stream",
          "text": [
            "9.049108 => a\n",
            "9.454573 => abaradagaнлат\n",
            "9.454573 => aberadez\n",
            "9.454573 => abetaa\n",
            "9.454573 => abncapital\n",
            "9.454573 => abramovdeputat\n",
            "9.454573 => abunyasha\n",
            "9.454573 => abysov\n",
            "9.454573 => adagamov\n",
            "9.454573 => adairrasi\n",
            "9.454573 => adaron\n",
            "9.454573 => aday\n",
            "9.454573 => adenisenko\n",
            "9.454573 => adindex\n",
            "9.454573 => adlarguan\n",
            "9.454573 => admeru\n",
            "9.454573 => admitad\n",
            "9.454573 => adubter\n",
            "9.454573 => adworningju\n",
            "8.538282 => aeroflot\n"
          ],
          "name": "stdout"
        }
      ]
    },
    {
      "cell_type": "code",
      "metadata": {
        "id": "TCX8XJ7v3Akt"
      },
      "source": [
        "sorted_tokens_with_IDF = sorted(tokens_with_IDF, key=lambda it: (-it[1], it[0]))"
      ],
      "execution_count": 140,
      "outputs": []
    },
    {
      "cell_type": "code",
      "metadata": {
        "id": "uVk0UiaV3Ak4",
        "outputId": "a82efdc1-e14f-4db9-d756-222ad3e05994",
        "colab": {
          "base_uri": "https://localhost:8080/",
          "height": 380
        }
      },
      "source": [
        "for feature, idf in sorted_tokens_with_IDF[0:20]: print('{0:.6f} => {1}'.format(idf, feature))"
      ],
      "execution_count": 141,
      "outputs": [
        {
          "output_type": "stream",
          "text": [
            "9.454573 => abaradagaнлат\n",
            "9.454573 => aberadez\n",
            "9.454573 => abetaa\n",
            "9.454573 => abncapital\n",
            "9.454573 => abramovdeputat\n",
            "9.454573 => abunyasha\n",
            "9.454573 => abysov\n",
            "9.454573 => adagamov\n",
            "9.454573 => adairrasi\n",
            "9.454573 => adaron\n",
            "9.454573 => aday\n",
            "9.454573 => adenisenko\n",
            "9.454573 => adindex\n",
            "9.454573 => adlarguan\n",
            "9.454573 => admeru\n",
            "9.454573 => admitad\n",
            "9.454573 => adubter\n",
            "9.454573 => adworningju\n",
            "9.454573 => afyanik\n",
            "9.454573 => agatacrysty\n"
          ],
          "name": "stdout"
        }
      ]
    },
    {
      "cell_type": "code",
      "metadata": {
        "id": "dlwTN1vO3AlH"
      },
      "source": [
        "from sklearn.feature_selection import SelectPercentile, chi2"
      ],
      "execution_count": 142,
      "outputs": []
    },
    {
      "cell_type": "code",
      "metadata": {
        "id": "_Fr381xR3AlU"
      },
      "source": [
        "selector = SelectPercentile(chi2, percentile=20)"
      ],
      "execution_count": 143,
      "outputs": []
    },
    {
      "cell_type": "code",
      "metadata": {
        "id": "IXxLTBw43Alm",
        "outputId": "d7552fe2-937d-4805-a4b8-0e918dc531bd",
        "colab": {
          "base_uri": "https://localhost:8080/",
          "height": 35
        }
      },
      "source": [
        "selector.fit(X_transformed, labels)"
      ],
      "execution_count": 144,
      "outputs": [
        {
          "output_type": "execute_result",
          "data": {
            "text/plain": [
              "SelectPercentile(percentile=20, score_func=<function chi2 at 0x7f083ede2730>)"
            ]
          },
          "metadata": {
            "tags": []
          },
          "execution_count": 144
        }
      ]
    },
    {
      "cell_type": "code",
      "metadata": {
        "id": "NTsayQFA3Al0"
      },
      "source": [
        "selected_tokens_with_IDF = [tokens_with_IDF[idx] for idx in selector.get_support(indices=True)]"
      ],
      "execution_count": 145,
      "outputs": []
    },
    {
      "cell_type": "code",
      "metadata": {
        "id": "8rHFJO8P3AmB",
        "outputId": "ad0f8109-0eea-4179-b5e9-f3546d0720eb",
        "colab": {
          "base_uri": "https://localhost:8080/",
          "height": 35
        }
      },
      "source": [
        "print(len(selected_tokens_with_IDF))"
      ],
      "execution_count": 146,
      "outputs": [
        {
          "output_type": "stream",
          "text": [
            "1740\n"
          ],
          "name": "stdout"
        }
      ]
    },
    {
      "cell_type": "code",
      "metadata": {
        "id": "2ymE6BOk3AmR",
        "outputId": "9f1da244-8e70-4181-9040-736395bfa58d",
        "colab": {
          "base_uri": "https://localhost:8080/",
          "height": 380
        }
      },
      "source": [
        "for feature, idf in selected_tokens_with_IDF[0:20]: print('{0:.6f} => {1}'.format(idf, feature))"
      ],
      "execution_count": 147,
      "outputs": [
        {
          "output_type": "stream",
          "text": [
            "9.454573 => aberadez\n",
            "9.454573 => abunyasha\n",
            "9.454573 => adworningju\n",
            "8.761426 => akselenc\n",
            "9.454573 => alexigrey\n",
            "4.905973 => alfabank\n",
            "6.592372 => alfabankby\n",
            "9.454573 => alushin\n",
            "9.454573 => andreymalgin\n",
            "9.454573 => andreytr\n",
            "8.761426 => antimaydan\n",
            "9.049108 => apple\n",
            "9.454573 => appstore\n",
            "9.454573 => arhangelmisha\n",
            "9.454573 => artemycheros\n",
            "8.761426 => awards\n",
            "9.049108 => balamot\n",
            "9.454573 => bankitb\n",
            "8.538282 => bbb\n",
            "9.454573 => behlbride\n"
          ],
          "name": "stdout"
        }
      ]
    },
    {
      "cell_type": "code",
      "metadata": {
        "id": "XVEZ9yMy3Ame"
      },
      "source": [
        "selected_and_sorted_tokens_with_IDF = sorted(selected_tokens_with_IDF, key=lambda it: (-it[1], it[0]))"
      ],
      "execution_count": 148,
      "outputs": []
    },
    {
      "cell_type": "code",
      "metadata": {
        "id": "dHE8zK9p3Amq",
        "outputId": "da86bc5a-ac39-42cf-aea4-fb26f8884bf8",
        "colab": {
          "base_uri": "https://localhost:8080/",
          "height": 380
        }
      },
      "source": [
        "for feature, idf in selected_and_sorted_tokens_with_IDF[0:20]: print('{0:.6f} => {1}'.format(idf, feature))"
      ],
      "execution_count": 149,
      "outputs": [
        {
          "output_type": "stream",
          "text": [
            "9.454573 => aberadez\n",
            "9.454573 => abunyasha\n",
            "9.454573 => adworningju\n",
            "9.454573 => alexigrey\n",
            "9.454573 => alushin\n",
            "9.454573 => andreymalgin\n",
            "9.454573 => andreytr\n",
            "9.454573 => appstore\n",
            "9.454573 => arhangelmisha\n",
            "9.454573 => artemycheros\n",
            "9.454573 => bankitb\n",
            "9.454573 => behlbride\n",
            "9.454573 => bosacoworavu\n",
            "9.454573 => bullethunter\n",
            "9.454573 => buribedixuk\n",
            "9.454573 => catspower\n",
            "9.454573 => cgillenpiy\n",
            "9.454573 => chumikov\n",
            "9.454573 => citybusicyti\n",
            "9.454573 => come\n"
          ],
          "name": "stdout"
        }
      ]
    },
    {
      "cell_type": "markdown",
      "metadata": {
        "id": "sXQ3zYTVhnfv"
      },
      "source": [
        "~ Testing Logistic Regression (no super params) ~\n",
        "\n"
      ]
    },
    {
      "cell_type": "code",
      "metadata": {
        "id": "CZ1bY-cF3Am0"
      },
      "source": [
        "from sklearn.linear_model import LogisticRegression"
      ],
      "execution_count": 150,
      "outputs": []
    },
    {
      "cell_type": "code",
      "metadata": {
        "id": "amxAcxE33Am-"
      },
      "source": [
        "cls = LogisticRegression(solver='liblinear', verbose=True)"
      ],
      "execution_count": 151,
      "outputs": []
    },
    {
      "cell_type": "code",
      "metadata": {
        "id": "rbgxghlW3AnL"
      },
      "source": [
        "X_transformed_and_selected = selector.transform(X_transformed)"
      ],
      "execution_count": 152,
      "outputs": []
    },
    {
      "cell_type": "code",
      "metadata": {
        "id": "PUHEy61d3AnV",
        "outputId": "345feec7-97f7-4fd6-cdd6-f63b9f71b4b7",
        "colab": {
          "base_uri": "https://localhost:8080/",
          "height": 108
        }
      },
      "source": [
        "cls.fit(X_transformed_and_selected, labels)"
      ],
      "execution_count": 153,
      "outputs": [
        {
          "output_type": "stream",
          "text": [
            "[LibLinear]"
          ],
          "name": "stdout"
        },
        {
          "output_type": "execute_result",
          "data": {
            "text/plain": [
              "LogisticRegression(C=1.0, class_weight=None, dual=False, fit_intercept=True,\n",
              "                   intercept_scaling=1, l1_ratio=None, max_iter=100,\n",
              "                   multi_class='auto', n_jobs=None, penalty='l2',\n",
              "                   random_state=None, solver='liblinear', tol=0.0001,\n",
              "                   verbose=True, warm_start=False)"
            ]
          },
          "metadata": {
            "tags": []
          },
          "execution_count": 153
        }
      ]
    },
    {
      "cell_type": "code",
      "metadata": {
        "id": "-5rsanfy3Anl"
      },
      "source": [
        "classes_list = list(cls.classes_)"
      ],
      "execution_count": 154,
      "outputs": []
    },
    {
      "cell_type": "code",
      "metadata": {
        "id": "Q4tZdIF73Anu",
        "outputId": "9a3bec86-c262-4f5c-9c57-b3affe08d907",
        "colab": {
          "base_uri": "https://localhost:8080/",
          "height": 35
        }
      },
      "source": [
        "print(classes_list)"
      ],
      "execution_count": 155,
      "outputs": [
        {
          "output_type": "stream",
          "text": [
            "['negative', 'neutral', 'positive']\n"
          ],
          "name": "stdout"
        }
      ]
    },
    {
      "cell_type": "code",
      "metadata": {
        "id": "gWYdp6G33An5"
      },
      "source": [
        "texts_for_testing, labels_for_testing = load_sentirueval_2016('/content/drive/My Drive/banks_test_etalon.xml')"
      ],
      "execution_count": 156,
      "outputs": []
    },
    {
      "cell_type": "code",
      "metadata": {
        "id": "7xING6JB3AoE"
      },
      "source": [
        "from sklearn.pipeline import Pipeline"
      ],
      "execution_count": 157,
      "outputs": []
    },
    {
      "cell_type": "code",
      "metadata": {
        "id": "aYhXAKBd3AoQ"
      },
      "source": [
        "pipeline_for_se = Pipeline(\n",
        "    [\n",
        "        ('vectorizer', vectorizer),\n",
        "        ('tfidf', transformer),\n",
        "        ('selector', selector),\n",
        "        ('final_classifier', cls)\n",
        "    ]\n",
        ")"
      ],
      "execution_count": 158,
      "outputs": []
    },
    {
      "cell_type": "code",
      "metadata": {
        "id": "6WrREaqR3Aoi"
      },
      "source": [
        "from sklearn.metrics import roc_curve\n",
        "import numpy as np"
      ],
      "execution_count": 159,
      "outputs": []
    },
    {
      "cell_type": "code",
      "metadata": {
        "id": "neF6YaI43Aor"
      },
      "source": [
        "probabilities = pipeline_for_se.predict_proba(texts_for_testing)"
      ],
      "execution_count": 160,
      "outputs": []
    },
    {
      "cell_type": "code",
      "metadata": {
        "id": "N9_U60_Z3Ao1"
      },
      "source": [
        "y_true_positives = list(map(lambda it: 1 if it == 'positive' else 0, labels_for_testing))\n",
        "y_score_positives = probabilities[:, classes_list.index('positive')]"
      ],
      "execution_count": 161,
      "outputs": []
    },
    {
      "cell_type": "code",
      "metadata": {
        "id": "zQgLkmmJ3Ao_"
      },
      "source": [
        "fpr_positives, tpr_positives, _, = roc_curve(y_true_positives, y_score_positives)"
      ],
      "execution_count": 162,
      "outputs": []
    },
    {
      "cell_type": "code",
      "metadata": {
        "id": "YLVCijyv3ApJ"
      },
      "source": [
        "y_true_negatives = list(map(lambda it: 1 if it == 'negative' else 0, labels_for_testing))\n",
        "y_score_negatives = probabilities[:, classes_list.index('negative')]\n",
        "fpr_negatives, tpr_negatives, _, = roc_curve(y_true_negatives, y_score_negatives)"
      ],
      "execution_count": 163,
      "outputs": []
    },
    {
      "cell_type": "code",
      "metadata": {
        "id": "xmMC82b43Apb"
      },
      "source": [
        "y_true_neutrals = list(map(lambda it: 1 if it == 'neutral' else 0, labels_for_testing))\n",
        "y_score_neutrals = probabilities[:, classes_list.index('neutral')]\n",
        "fpr_neutrals, tpr_neutrals, _, = roc_curve(y_true_neutrals, y_score_neutrals)"
      ],
      "execution_count": 164,
      "outputs": []
    },
    {
      "cell_type": "code",
      "metadata": {
        "id": "RAclBVn63AqJ",
        "outputId": "4f68cf9a-e52c-42bd-e172-15cf5be70e76",
        "colab": {
          "base_uri": "https://localhost:8080/",
          "height": 295
        }
      },
      "source": [
        "import matplotlib.pyplot as plt\n",
        "plt.figure(1)\n",
        "plt.plot([0, 1], [0, 1], 'k--')\n",
        "plt.plot(fpr_positives, tpr_positives, label='Positive Sentiment')\n",
        "plt.plot(fpr_negatives, tpr_negatives, label='Negative Sentiment')\n",
        "plt.plot(fpr_neutrals, tpr_neutrals, label='Neutral Sentiment')\n",
        "plt.xlabel('False positive rate')\n",
        "plt.ylabel('True positive rate')\n",
        "plt.title('ROC curve')\n",
        "plt.legend(loc='best')\n",
        "plt.show()"
      ],
      "execution_count": 165,
      "outputs": [
        {
          "output_type": "display_data",
          "data": {
            "image/png": "[encoded data removed]",
            "text/plain": [
              "<Figure size 432x288 with 1 Axes>"
            ]
          },
          "metadata": {
            "tags": [],
            "needs_background": "light"
          }
        }
      ]
    },
    {
      "cell_type": "code",
      "metadata": {
        "id": "9VXpmg2p3AqS",
        "outputId": "f38eac6b-f9ac-4552-fdff-3eb31090af09",
        "colab": {
          "base_uri": "https://localhost:8080/",
          "height": 53
        }
      },
      "source": [
        "from sklearn.metrics import f1_score\n",
        "predicted_labels = pipeline_for_se.predict(texts_for_testing)\n",
        "print('F1-micro = {0:.6f}'.format(f1_score(labels_for_testing, predicted_labels, average='micro')))\n",
        "print('F1-macro = {0:.6f}'.format(f1_score(labels_for_testing, predicted_labels, average='macro')))"
      ],
      "execution_count": 166,
      "outputs": [
        {
          "output_type": "stream",
          "text": [
            "F1-micro = 0.744944\n",
            "F1-macro = 0.556631\n"
          ],
          "name": "stdout"
        }
      ]
    },
    {
      "cell_type": "code",
      "metadata": {
        "id": "CnubGC2n3Aqa",
        "outputId": "546d2483-e792-4c09-b3d2-9bda066c2396",
        "colab": {
          "base_uri": "https://localhost:8080/",
          "height": 199
        }
      },
      "source": [
        "from sklearn.metrics import classification_report\n",
        "print(classification_report(labels_for_testing, predicted_labels, digits=6))"
      ],
      "execution_count": 167,
      "outputs": [
        {
          "output_type": "stream",
          "text": [
            "              precision    recall  f1-score   support\n",
            "\n",
            "    negative   0.618893  0.495437  0.550326       767\n",
            "     neutral   0.772589  0.909294  0.835386      2238\n",
            "    positive   0.815385  0.172078  0.284182       308\n",
            "\n",
            "    accuracy                       0.744944      3313\n",
            "   macro avg   0.735622  0.525603  0.556631      3313\n",
            "weighted avg   0.740985  0.744944  0.718147      3313\n",
            "\n"
          ],
          "name": "stdout"
        }
      ]
    },
    {
      "cell_type": "markdown",
      "metadata": {
        "id": "ndY7_Hs6h-KN"
      },
      "source": [
        "~ Searching for params (Grid CV) ~"
      ]
    },
    {
      "cell_type": "code",
      "metadata": {
        "id": "QQNMMpwn3Aql"
      },
      "source": [
        "from sklearn.model_selection import GridSearchCV\n",
        "from sklearn.metrics import make_scorer\n",
        "f1_macro_scorer = make_scorer(f1_score, average='macro')\n",
        "cv = GridSearchCV(\n",
        "    estimator=LogisticRegression(solver='liblinear'),\n",
        "    param_grid={'C': [1e-2, 1e-1, 1, 1e+1, 1e+2, 1e+3], 'penalty': ['l1', 'l2']},\n",
        "    scoring=f1_macro_scorer,\n",
        "    n_jobs=-1\n",
        ")"
      ],
      "execution_count": 168,
      "outputs": []
    },
    {
      "cell_type": "code",
      "metadata": {
        "id": "SeTxxFZ23Aqu",
        "outputId": "d3095450-2fe8-45a3-d770-402a91afb47c",
        "colab": {
          "base_uri": "https://localhost:8080/",
          "height": 271
        }
      },
      "source": [
        "cv.fit(X_transformed_and_selected, labels)"
      ],
      "execution_count": 169,
      "outputs": [
        {
          "output_type": "execute_result",
          "data": {
            "text/plain": [
              "GridSearchCV(cv=None, error_score=nan,\n",
              "             estimator=LogisticRegression(C=1.0, class_weight=None, dual=False,\n",
              "                                          fit_intercept=True,\n",
              "                                          intercept_scaling=1, l1_ratio=None,\n",
              "                                          max_iter=100, multi_class='auto',\n",
              "                                          n_jobs=None, penalty='l2',\n",
              "                                          random_state=None, solver='liblinear',\n",
              "                                          tol=0.0001, verbose=0,\n",
              "                                          warm_start=False),\n",
              "             iid='deprecated', n_jobs=-1,\n",
              "             param_grid={'C': [0.01, 0.1, 1, 10.0, 100.0, 1000.0],\n",
              "                         'penalty': ['l1', 'l2']},\n",
              "             pre_dispatch='2*n_jobs', refit=True, return_train_score=False,\n",
              "             scoring=make_scorer(f1_score, average=macro), verbose=0)"
            ]
          },
          "metadata": {
            "tags": []
          },
          "execution_count": 169
        }
      ]
    },
    {
      "cell_type": "code",
      "metadata": {
        "id": "k8YZJ11T3Aq3",
        "outputId": "bc90c975-954b-4347-ed03-23856a65d67a",
        "colab": {
          "base_uri": "https://localhost:8080/",
          "height": 35
        }
      },
      "source": [
        "print(cv.best_params_)"
      ],
      "execution_count": 170,
      "outputs": [
        {
          "output_type": "stream",
          "text": [
            "{'C': 100.0, 'penalty': 'l2'}\n"
          ],
          "name": "stdout"
        }
      ]
    },
    {
      "cell_type": "markdown",
      "metadata": {
        "id": "W3KBqTMjiX3n"
      },
      "source": [
        "~ Testing Logistic Regression (with super params) ~"
      ]
    },
    {
      "cell_type": "code",
      "metadata": {
        "id": "kGdkcuar3ArA",
        "outputId": "6ed3e5e9-7f9b-4408-de3b-cddbe6c0b9f0",
        "colab": {
          "base_uri": "https://localhost:8080/",
          "height": 108
        }
      },
      "source": [
        "best_cls = LogisticRegression(solver='liblinear', verbose=True, C=10.0, penalty='l1')\n",
        "best_cls.fit(X_transformed_and_selected, labels)"
      ],
      "execution_count": 171,
      "outputs": [
        {
          "output_type": "stream",
          "text": [
            "[LibLinear]"
          ],
          "name": "stdout"
        },
        {
          "output_type": "execute_result",
          "data": {
            "text/plain": [
              "LogisticRegression(C=10.0, class_weight=None, dual=False, fit_intercept=True,\n",
              "                   intercept_scaling=1, l1_ratio=None, max_iter=100,\n",
              "                   multi_class='auto', n_jobs=None, penalty='l1',\n",
              "                   random_state=None, solver='liblinear', tol=0.0001,\n",
              "                   verbose=True, warm_start=False)"
            ]
          },
          "metadata": {
            "tags": []
          },
          "execution_count": 171
        }
      ]
    },
    {
      "cell_type": "code",
      "metadata": {
        "id": "8DkwlELZ3ArJ"
      },
      "source": [
        "best_pipeline_for_se = Pipeline(\n",
        "    [\n",
        "        ('vectorizer', vectorizer),\n",
        "        ('tfidf', transformer),\n",
        "        ('selector', selector),\n",
        "        ('final_classifier', best_cls)\n",
        "    ]\n",
        ")"
      ],
      "execution_count": 172,
      "outputs": []
    },
    {
      "cell_type": "code",
      "metadata": {
        "id": "Vi5OtXBa3ArR"
      },
      "source": [
        "probabilities = best_pipeline_for_se.predict_proba(texts_for_testing)\n",
        "\n",
        "y_true_positives = list(map(lambda it: 1 if it == 'positive' else 0, labels_for_testing))\n",
        "y_score_positives = probabilities[:, classes_list.index('positive')]\n",
        "fpr_positives, tpr_positives, _, = roc_curve(y_true_positives, y_score_positives)\n",
        "\n",
        "y_true_negatives = list(map(lambda it: 1 if it == 'negative' else 0, labels_for_testing))\n",
        "y_score_negatives = probabilities[:, classes_list.index('negative')]\n",
        "fpr_negatives, tpr_negatives, _, = roc_curve(y_true_negatives, y_score_negatives)\n",
        "\n",
        "y_true_neutrals = list(map(lambda it: 1 if it == 'neutral' else 0, labels_for_testing))\n",
        "y_score_neutrals = probabilities[:, classes_list.index('neutral')]\n",
        "fpr_neutrals, tpr_neutrals, _, = roc_curve(y_true_neutrals, y_score_neutrals)"
      ],
      "execution_count": 173,
      "outputs": []
    },
    {
      "cell_type": "code",
      "metadata": {
        "id": "4fmMWhuJ3ArY",
        "outputId": "988b32cd-a332-477a-c5bf-0ff7d0ec8158",
        "colab": {
          "base_uri": "https://localhost:8080/",
          "height": 295
        }
      },
      "source": [
        "plt.figure(2)\n",
        "plt.plot([0, 1], [0, 1], 'k--')\n",
        "plt.plot(fpr_positives, tpr_positives, label='Positive Sentiment')\n",
        "plt.plot(fpr_negatives, tpr_negatives, label='Negative Sentiment')\n",
        "plt.plot(fpr_neutrals, tpr_neutrals, label='Neutral Sentiment')\n",
        "plt.xlabel('False positive rate')\n",
        "plt.ylabel('True positive rate')\n",
        "plt.title('ROC curve')\n",
        "plt.legend(loc='best')\n",
        "plt.show()"
      ],
      "execution_count": 174,
      "outputs": [
        {
          "output_type": "display_data",
          "data": {
            "image/png": "[encoded data removed]",
            "text/plain": [
              "<Figure size 432x288 with 1 Axes>"
            ]
          },
          "metadata": {
            "tags": [],
            "needs_background": "light"
          }
        }
      ]
    },
    {
      "cell_type": "code",
      "metadata": {
        "id": "nszIVJ6B3Arh",
        "outputId": "635bca62-12bb-4dbc-93ed-adf2599e61e6",
        "colab": {
          "base_uri": "https://localhost:8080/",
          "height": 53
        }
      },
      "source": [
        "predicted_labels = best_pipeline_for_se.predict(texts_for_testing)\n",
        "print('F1-micro = {0:.6f}'.format(f1_score(labels_for_testing, predicted_labels, average='micro')))\n",
        "print('F1-macro = {0:.6f}'.format(f1_score(labels_for_testing, predicted_labels, average='macro')))"
      ],
      "execution_count": 175,
      "outputs": [
        {
          "output_type": "stream",
          "text": [
            "F1-micro = 0.721401\n",
            "F1-macro = 0.589156\n"
          ],
          "name": "stdout"
        }
      ]
    },
    {
      "cell_type": "code",
      "metadata": {
        "id": "XJD9M5gN3Arr",
        "outputId": "be333827-5f50-441a-fb13-aca03d1ba5fb",
        "colab": {
          "base_uri": "https://localhost:8080/",
          "height": 199
        }
      },
      "source": [
        "print(classification_report(labels_for_testing, predicted_labels, digits=6))"
      ],
      "execution_count": 176,
      "outputs": [
        {
          "output_type": "stream",
          "text": [
            "              precision    recall  f1-score   support\n",
            "\n",
            "    negative   0.564935  0.567145  0.566038       767\n",
            "     neutral   0.807877  0.824844  0.816272      2238\n",
            "    positive   0.422481  0.353896  0.385159       308\n",
            "\n",
            "    accuracy                       0.721401      3313\n",
            "   macro avg   0.598431  0.581961  0.589156      3313\n",
            "weighted avg   0.715804  0.721401  0.718261      3313\n",
            "\n"
          ],
          "name": "stdout"
        }
      ]
    },
    {
      "cell_type": "code",
      "metadata": {
        "id": "YLjRbPZBqHEq"
      },
      "source": [
        "import time"
      ],
      "execution_count": 180,
      "outputs": []
    },
    {
      "cell_type": "markdown",
      "metadata": {
        "id": "DuFpqZ7ajNfi"
      },
      "source": [
        "~ Searching for params (Randomized CV) ~"
      ]
    },
    {
      "cell_type": "code",
      "metadata": {
        "id": "WWU98vzu3Ar3"
      },
      "source": [
        "from sklearn.model_selection import RandomizedSearchCV"
      ],
      "execution_count": 177,
      "outputs": []
    },
    {
      "cell_type": "code",
      "metadata": {
        "id": "e5GB1A_scs17"
      },
      "source": [
        "rand_cv = RandomizedSearchCV(\n",
        "    estimator=LogisticRegression(solver='liblinear'),\n",
        "    param_distributions={\n",
        "                'C': [1e-2, 1e-1, 1, 1e+1, 1e+2, 1e+3], \n",
        "                'penalty': ['l1', 'l2', 'elasticnet']\n",
        "                },\n",
        "    n_iter = 100,\n",
        "    scoring=f1_macro_scorer,\n",
        "    n_jobs=-1\n",
        ")"
      ],
      "execution_count": 186,
      "outputs": []
    },
    {
      "cell_type": "code",
      "metadata": {
        "id": "Q2jqtSA_hPQh",
        "outputId": "dcfc56fc-491b-4371-eeae-55afc18def8a",
        "colab": {
          "base_uri": "https://localhost:8080/",
          "height": 73
        }
      },
      "source": [
        "t_sps1 = time.time()\n",
        "\n",
        "rand_cv.fit(X_transformed_and_selected, labels)\n",
        "\n",
        "t_sps2 = time.time()"
      ],
      "execution_count": 187,
      "outputs": [
        {
          "output_type": "stream",
          "text": [
            "/usr/local/lib/python3.6/dist-packages/sklearn/model_selection/_search.py:281: UserWarning: The total space of parameters 18 is smaller than n_iter=100. Running 18 iterations. For exhaustive searches, use GridSearchCV.\n",
            "  % (grid_size, self.n_iter, grid_size), UserWarning)\n"
          ],
          "name": "stderr"
        }
      ]
    },
    {
      "cell_type": "code",
      "metadata": {
        "id": "i7nYQRGmhMMk",
        "outputId": "8e6b1baf-365c-4aee-83ec-f88f9b434d53",
        "colab": {
          "base_uri": "https://localhost:8080/",
          "height": 53
        }
      },
      "source": [
        "print('Time needed for search: ', t_sps2 - t_sps1)\n",
        "print(rand_cv.best_params_)"
      ],
      "execution_count": 188,
      "outputs": [
        {
          "output_type": "stream",
          "text": [
            "Time needed for search:  6.416665077209473\n",
            "{'penalty': 'l2', 'C': 100.0}\n"
          ],
          "name": "stdout"
        }
      ]
    },
    {
      "cell_type": "code",
      "metadata": {
        "id": "MewoAqNJrhXN",
        "outputId": "e7486abd-1418-44b6-b1f4-fafc5c6d7693",
        "colab": {
          "base_uri": "https://localhost:8080/",
          "height": 35
        }
      },
      "source": [
        "t_sps3 = time.time()\n",
        "\n",
        "rand_cls = LogisticRegression(solver='liblinear', verbose=True, C=100.0, penalty='l2')\n",
        "rand_cls.fit(X_transformed_and_selected, labels)\n",
        "\n",
        "t_sps4 = time.time()\n",
        "print('Time needed for computations: ', t_sps4 - t_sps3)"
      ],
      "execution_count": 189,
      "outputs": [
        {
          "output_type": "stream",
          "text": [
            "[LibLinear]Time needed for computations:  0.1839313507080078\n"
          ],
          "name": "stdout"
        }
      ]
    },
    {
      "cell_type": "code",
      "metadata": {
        "id": "PDFoSZNvsPq1"
      },
      "source": [
        "rand_pipeline_for_se = Pipeline(\n",
        "    [\n",
        "        ('vectorizer', vectorizer),\n",
        "        ('tfidf', transformer),\n",
        "        ('selector', selector),\n",
        "        ('final_classifier', rand_cls)\n",
        "    ]\n",
        ")"
      ],
      "execution_count": 202,
      "outputs": []
    },
    {
      "cell_type": "code",
      "metadata": {
        "id": "cH4bO8pKsPr1"
      },
      "source": [
        "probabilities = rand_pipeline_for_se.predict_proba(texts_for_testing)\n",
        "\n",
        "y_true_positives = list(map(lambda it: 1 if it == 'positive' else 0, labels_for_testing))\n",
        "y_score_positives = probabilities[:, classes_list.index('positive')]\n",
        "fpr_positives, tpr_positives, _, = roc_curve(y_true_positives, y_score_positives)\n",
        "\n",
        "y_true_negatives = list(map(lambda it: 1 if it == 'negative' else 0, labels_for_testing))\n",
        "y_score_negatives = probabilities[:, classes_list.index('negative')]\n",
        "fpr_negatives, tpr_negatives, _, = roc_curve(y_true_negatives, y_score_negatives)\n",
        "\n",
        "y_true_neutrals = list(map(lambda it: 1 if it == 'neutral' else 0, labels_for_testing))\n",
        "y_score_neutrals = probabilities[:, classes_list.index('neutral')]\n",
        "fpr_neutrals, tpr_neutrals, _, = roc_curve(y_true_neutrals, y_score_neutrals)"
      ],
      "execution_count": 191,
      "outputs": []
    },
    {
      "cell_type": "code",
      "metadata": {
        "id": "-8T45I9vsPsd",
        "outputId": "ded68c81-aca8-4e4c-cd8a-d3790e4584b2",
        "colab": {
          "base_uri": "https://localhost:8080/",
          "height": 295
        }
      },
      "source": [
        "plt.figure(3)\n",
        "plt.plot([0, 1], [0, 1], 'k--')\n",
        "plt.plot(fpr_positives, tpr_positives, label='Positive Sentiment')\n",
        "plt.plot(fpr_negatives, tpr_negatives, label='Negative Sentiment')\n",
        "plt.plot(fpr_neutrals, tpr_neutrals, label='Neutral Sentiment')\n",
        "plt.xlabel('False positive rate')\n",
        "plt.ylabel('True positive rate')\n",
        "plt.title('ROC curve')\n",
        "plt.legend(loc='best')\n",
        "plt.show()"
      ],
      "execution_count": 192,
      "outputs": [
        {
          "output_type": "display_data",
          "data": {
            "image/png": "[encoded data removed]",
            "text/plain": [
              "<Figure size 432x288 with 1 Axes>"
            ]
          },
          "metadata": {
            "tags": [],
            "needs_background": "light"
          }
        }
      ]
    },
    {
      "cell_type": "code",
      "metadata": {
        "id": "prEV81HPsPs9",
        "outputId": "a4f4dbb6-c1a4-4943-88f5-ff7200fafc65",
        "colab": {
          "base_uri": "https://localhost:8080/",
          "height": 53
        }
      },
      "source": [
        "predicted_labels = rand_pipeline_for_se.predict(texts_for_testing)\n",
        "print('F1-micro = {0:.6f}'.format(f1_score(labels_for_testing, predicted_labels, average='micro')))\n",
        "print('F1-macro = {0:.6f}'.format(f1_score(labels_for_testing, predicted_labels, average='macro')))"
      ],
      "execution_count": 193,
      "outputs": [
        {
          "output_type": "stream",
          "text": [
            "F1-micro = 0.718080\n",
            "F1-macro = 0.584246\n"
          ],
          "name": "stdout"
        }
      ]
    },
    {
      "cell_type": "code",
      "metadata": {
        "id": "PqkwLQK5sPtd",
        "outputId": "5286627a-0741-4789-bad0-4bba10992686",
        "colab": {
          "base_uri": "https://localhost:8080/",
          "height": 199
        }
      },
      "source": [
        "print(classification_report(labels_for_testing, predicted_labels, digits=6))"
      ],
      "execution_count": 194,
      "outputs": [
        {
          "output_type": "stream",
          "text": [
            "              precision    recall  f1-score   support\n",
            "\n",
            "    negative   0.552664  0.581486  0.566709       767\n",
            "     neutral   0.809376  0.817694  0.813514      2238\n",
            "    positive   0.420408  0.334416  0.372514       308\n",
            "\n",
            "    accuracy                       0.718080      3313\n",
            "   macro avg   0.594150  0.577865  0.584246      3313\n",
            "weighted avg   0.713783  0.718080  0.715377      3313\n",
            "\n"
          ],
          "name": "stdout"
        }
      ]
    },
    {
      "cell_type": "markdown",
      "metadata": {
        "id": "iqGoxmwXjXe2"
      },
      "source": [
        "~ Testing SGDClassifier ~"
      ]
    },
    {
      "cell_type": "code",
      "metadata": {
        "id": "ZHpBYh1ep9OG"
      },
      "source": [
        "from sklearn.linear_model import SGDClassifier"
      ],
      "execution_count": 216,
      "outputs": []
    },
    {
      "cell_type": "code",
      "metadata": {
        "id": "MAlJFVX2wvfi"
      },
      "source": [
        "sgdc = SGDClassifier( \n",
        "                     loss='log',\n",
        "                     max_iter=100\n",
        "                    )"
      ],
      "execution_count": 217,
      "outputs": []
    },
    {
      "cell_type": "code",
      "metadata": {
        "id": "8lR-xBh-xRqU"
      },
      "source": [
        "tp1 = time.time()\n",
        "\n",
        "sgdc.fit(X_transformed_and_selected, labels)\n",
        "\n",
        "tp2 = time.time()"
      ],
      "execution_count": 218,
      "outputs": []
    },
    {
      "cell_type": "code",
      "metadata": {
        "id": "K1-_8awAxlxo",
        "outputId": "f6f38b8b-aa4a-4ece-cfca-dd5cd2c2a371",
        "colab": {
          "base_uri": "https://localhost:8080/",
          "height": 35
        }
      },
      "source": [
        "print('Time needed for computations: ', tp2 - tp1)"
      ],
      "execution_count": 219,
      "outputs": [
        {
          "output_type": "stream",
          "text": [
            "Time needed for computations:  0.049811363220214844\n"
          ],
          "name": "stdout"
        }
      ]
    },
    {
      "cell_type": "code",
      "metadata": {
        "id": "3QqNn4X2yTS5"
      },
      "source": [
        "sgdc_pipeline_for_se = Pipeline(\n",
        "    [\n",
        "        ('vectorizer', vectorizer),\n",
        "        ('tfidf', transformer),\n",
        "        ('selector', selector),\n",
        "        ('final_classifier', sgdc)\n",
        "    ]\n",
        ")"
      ],
      "execution_count": 220,
      "outputs": []
    },
    {
      "cell_type": "code",
      "metadata": {
        "id": "wv53glKgyTUA"
      },
      "source": [
        "probabilities = sgdc_pipeline_for_se.predict_proba(texts_for_testing)\n",
        "\n",
        "y_true_positives = list(map(lambda it: 1 if it == 'positive' else 0, labels_for_testing))\n",
        "y_score_positives = probabilities[:, classes_list.index('positive')]\n",
        "fpr_positives, tpr_positives, _, = roc_curve(y_true_positives, y_score_positives)\n",
        "\n",
        "y_true_negatives = list(map(lambda it: 1 if it == 'negative' else 0, labels_for_testing))\n",
        "y_score_negatives = probabilities[:, classes_list.index('negative')]\n",
        "fpr_negatives, tpr_negatives, _, = roc_curve(y_true_negatives, y_score_negatives)\n",
        "\n",
        "y_true_neutrals = list(map(lambda it: 1 if it == 'neutral' else 0, labels_for_testing))\n",
        "y_score_neutrals = probabilities[:, classes_list.index('neutral')]\n",
        "fpr_neutrals, tpr_neutrals, _, = roc_curve(y_true_neutrals, y_score_neutrals)"
      ],
      "execution_count": 221,
      "outputs": []
    },
    {
      "cell_type": "code",
      "metadata": {
        "id": "KflXi6loyTUn",
        "outputId": "1f53a171-3b22-4c9c-9300-6c1b475e1eab",
        "colab": {
          "base_uri": "https://localhost:8080/",
          "height": 295
        }
      },
      "source": [
        "plt.figure(4)\n",
        "plt.plot([0, 1], [0, 1], 'k--')\n",
        "plt.plot(fpr_positives, tpr_positives, label='Positive Sentiment')\n",
        "plt.plot(fpr_negatives, tpr_negatives, label='Negative Sentiment')\n",
        "plt.plot(fpr_neutrals, tpr_neutrals, label='Neutral Sentiment')\n",
        "plt.xlabel('False positive rate')\n",
        "plt.ylabel('True positive rate')\n",
        "plt.title('ROC curve')\n",
        "plt.legend(loc='best')\n",
        "plt.show()"
      ],
      "execution_count": 222,
      "outputs": [
        {
          "output_type": "display_data",
          "data": {
            "image/png": "[encoded data removed]",
            "text/plain": [
              "<Figure size 432x288 with 1 Axes>"
            ]
          },
          "metadata": {
            "tags": [],
            "needs_background": "light"
          }
        }
      ]
    },
    {
      "cell_type": "code",
      "metadata": {
        "id": "zBaI1ws3yTVK",
        "outputId": "c1d0cc65-92b7-42e5-8031-58a3e058dd64",
        "colab": {
          "base_uri": "https://localhost:8080/",
          "height": 53
        }
      },
      "source": [
        "predicted_labels = sgdc_pipeline_for_se.predict(texts_for_testing)\n",
        "print('F1-micro = {0:.6f}'.format(f1_score(labels_for_testing, predicted_labels, average='micro')))\n",
        "print('F1-macro = {0:.6f}'.format(f1_score(labels_for_testing, predicted_labels, average='macro')))"
      ],
      "execution_count": 223,
      "outputs": [
        {
          "output_type": "stream",
          "text": [
            "F1-micro = 0.744340\n",
            "F1-macro = 0.557331\n"
          ],
          "name": "stdout"
        }
      ]
    },
    {
      "cell_type": "code",
      "metadata": {
        "id": "DeVNOBaoyTVm",
        "outputId": "6ba29184-f515-4d5c-9dca-540e51fa58d2",
        "colab": {
          "base_uri": "https://localhost:8080/",
          "height": 199
        }
      },
      "source": [
        "print(classification_report(labels_for_testing, predicted_labels, digits=6))"
      ],
      "execution_count": 224,
      "outputs": [
        {
          "output_type": "stream",
          "text": [
            "              precision    recall  f1-score   support\n",
            "\n",
            "    negative   0.617504  0.496741  0.550578       767\n",
            "     neutral   0.773125  0.907507  0.834943      2238\n",
            "    positive   0.782609  0.175325  0.286472       308\n",
            "\n",
            "    accuracy                       0.744340      3313\n",
            "   macro avg   0.724413  0.526524  0.557331      3313\n",
            "weighted avg   0.737979  0.744340  0.718120      3313\n",
            "\n"
          ],
          "name": "stdout"
        }
      ]
    },
    {
      "cell_type": "markdown",
      "metadata": {
        "id": "qIEy_72T6dA5"
      },
      "source": [
        "~ Итоги ~"
      ]
    },
    {
      "cell_type": "code",
      "metadata": {
        "id": "_gjiELzS6g__"
      },
      "source": [
        "'''\n",
        "              --- RandomSCV + LogRegr ---\n",
        "               (time for search = 6.41s)\n",
        "              F1-micro = 0.718080\n",
        "              F1-macro = 0.584246\n",
        "\n",
        "              precision    recall  f1-score   support\n",
        "\n",
        "    negative   0.552664  0.581486  0.566709       767\n",
        "     neutral   0.809376  0.817694  0.813514      2238\n",
        "    positive   0.420408  0.334416  0.372514       308\n",
        "\n",
        "    accuracy                       0.718080      3313\n",
        "   macro avg   0.594150  0.577865  0.584246      3313\n",
        "weighted avg   0.713783  0.718080  0.715377      3313\n",
        "\n",
        "\n",
        "                 --- SGDClassifier ---\n",
        "              (time for computation = 0.49s)\n",
        "                F1-micro = 0.744340\n",
        "                F1-macro = 0.557331\n",
        "                  \n",
        "                  precision    recall  f1-score   support\n",
        "        negative   0.617504  0.496741  0.550578       767\n",
        "         neutral   0.773125  0.907507  0.834943      2238\n",
        "        positive   0.782609  0.175325  0.286472       308\n",
        "\n",
        "        accuracy                       0.744340      3313\n",
        "       macro avg   0.724413  0.526524  0.557331      3313\n",
        "    weighted avg   0.737979  0.744340  0.718120      3313\n",
        "    \n",
        "    # по качеству схоластический градиентный спуск ближе к той регрессии, \n",
        "      параметры для которой мы подобрали не самым оптимальным образом \n",
        "'''"
      ],
      "execution_count": null,
      "outputs": []
    }
  ]
}