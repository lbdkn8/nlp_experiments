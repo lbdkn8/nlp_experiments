{
  "nbformat": 4,
  "nbformat_minor": 0,
  "metadata": {
    "kernelspec": {
      "display_name": "Python 3",
      "language": "python",
      "name": "python3"
    },
    "language_info": {
      "codemirror_mode": {
        "name": "ipython",
        "version": 3
      },
      "file_extension": ".py",
      "mimetype": "text/x-python",
      "name": "python",
      "nbconvert_exporter": "python",
      "pygments_lexer": "ipython3",
      "version": "3.6.9"
    },
    "colab": {
      "name": "Lebedkin - logistic_regression.ipynb",
      "provenance": [],
      "collapsed_sections": [],
      "include_colab_link": true
    }
  },
  "cells": [
    {
      "cell_type": "markdown",
      "metadata": {
        "id": "view-in-github",
        "colab_type": "text"
      },
      "source": [
        "<a href=\"https://colab.research.google.com/github/lbdkn8/nlp_experiments/blob/main/Lebedkin_logistic_regression.ipynb\" target=\"_parent\"><img src=\"https://colab.research.google.com/assets/colab-badge.svg\" alt=\"Open In Colab\"/></a>"
      ]
    },
    {
      "cell_type": "code",
      "metadata": {
        "id": "rJet2XaaK8TJ",
        "colab": {
          "base_uri": "https://localhost:8080/"
        },
        "outputId": "bf1a436a-58b8-4252-87c6-c15a62591819"
      },
      "source": [
        "from google.colab import drive\n",
        "drive.mount('/content/drive')"
      ],
      "execution_count": 1,
      "outputs": [
        {
          "output_type": "stream",
          "text": [
            "Mounted at /content/drive\n"
          ],
          "name": "stdout"
        }
      ]
    },
    {
      "cell_type": "code",
      "metadata": {
        "id": "C8BYW0pJ3AZl"
      },
      "source": [
        "from lxml import etree"
      ],
      "execution_count": 2,
      "outputs": []
    },
    {
      "cell_type": "code",
      "metadata": {
        "id": "gMkYasFT3AaO"
      },
      "source": [
        "from typing import List, Tuple"
      ],
      "execution_count": 3,
      "outputs": []
    },
    {
      "cell_type": "code",
      "metadata": {
        "id": "n_rg0nSpFIdV",
        "colab": {
          "base_uri": "https://localhost:8080/"
        },
        "outputId": "340fb6e1-f66d-4fdb-fa84-588542080201"
      },
      "source": [
        "%pip install spacy-udpipe\n",
        "%pip install pymorphy2==0.8\n",
        "\n",
        "import spacy_udpipe\n",
        "import string, re\n",
        "\n",
        "spacy_udpipe.download(\"ru-syntagrus\") \n",
        "nlp = spacy_udpipe.load(\"ru-syntagrus\")"
      ],
      "execution_count": 4,
      "outputs": [
        {
          "output_type": "stream",
          "text": [
            "Collecting spacy-udpipe\n",
            "  Downloading https://files.pythonhosted.org/packages/16/60/2a985e25f6a398655f018e5e43d16ba3dbd65f0d4d6ae22add90578669a5/spacy_udpipe-0.3.2-py3-none-any.whl\n",
            "Collecting ufal.udpipe>=1.2.0\n",
            "\u001b[?25l  Downloading https://files.pythonhosted.org/packages/e5/72/2b8b9dc7c80017c790bb3308bbad34b57accfed2ac2f1f4ab252ff4e9cb2/ufal.udpipe-1.2.0.3.tar.gz (304kB)\n",
            "\u001b[K     |████████████████████████████████| 307kB 5.1MB/s \n",
            "\u001b[?25hRequirement already satisfied: spacy<3.0.0,>=2.1.0 in /usr/local/lib/python3.6/dist-packages (from spacy-udpipe) (2.2.4)\n",
            "Requirement already satisfied: plac<1.2.0,>=0.9.6 in /usr/local/lib/python3.6/dist-packages (from spacy<3.0.0,>=2.1.0->spacy-udpipe) (1.1.3)\n",
            "Requirement already satisfied: catalogue<1.1.0,>=0.0.7 in /usr/local/lib/python3.6/dist-packages (from spacy<3.0.0,>=2.1.0->spacy-udpipe) (1.0.0)\n",
            "Requirement already satisfied: cymem<2.1.0,>=2.0.2 in /usr/local/lib/python3.6/dist-packages (from spacy<3.0.0,>=2.1.0->spacy-udpipe) (2.0.5)\n",
            "Requirement already satisfied: murmurhash<1.1.0,>=0.28.0 in /usr/local/lib/python3.6/dist-packages (from spacy<3.0.0,>=2.1.0->spacy-udpipe) (1.0.5)\n",
            "Requirement already satisfied: blis<0.5.0,>=0.4.0 in /usr/local/lib/python3.6/dist-packages (from spacy<3.0.0,>=2.1.0->spacy-udpipe) (0.4.1)\n",
            "Requirement already satisfied: numpy>=1.15.0 in /usr/local/lib/python3.6/dist-packages (from spacy<3.0.0,>=2.1.0->spacy-udpipe) (1.19.5)\n",
            "Requirement already satisfied: setuptools in /usr/local/lib/python3.6/dist-packages (from spacy<3.0.0,>=2.1.0->spacy-udpipe) (51.3.3)\n",
            "Requirement already satisfied: requests<3.0.0,>=2.13.0 in /usr/local/lib/python3.6/dist-packages (from spacy<3.0.0,>=2.1.0->spacy-udpipe) (2.23.0)\n",
            "Requirement already satisfied: srsly<1.1.0,>=1.0.2 in /usr/local/lib/python3.6/dist-packages (from spacy<3.0.0,>=2.1.0->spacy-udpipe) (1.0.5)\n",
            "Requirement already satisfied: thinc==7.4.0 in /usr/local/lib/python3.6/dist-packages (from spacy<3.0.0,>=2.1.0->spacy-udpipe) (7.4.0)\n",
            "Requirement already satisfied: wasabi<1.1.0,>=0.4.0 in /usr/local/lib/python3.6/dist-packages (from spacy<3.0.0,>=2.1.0->spacy-udpipe) (0.8.0)\n",
            "Requirement already satisfied: preshed<3.1.0,>=3.0.2 in /usr/local/lib/python3.6/dist-packages (from spacy<3.0.0,>=2.1.0->spacy-udpipe) (3.0.5)\n",
            "Requirement already satisfied: tqdm<5.0.0,>=4.38.0 in /usr/local/lib/python3.6/dist-packages (from spacy<3.0.0,>=2.1.0->spacy-udpipe) (4.41.1)\n",
            "Requirement already satisfied: importlib-metadata>=0.20; python_version < \"3.8\" in /usr/local/lib/python3.6/dist-packages (from catalogue<1.1.0,>=0.0.7->spacy<3.0.0,>=2.1.0->spacy-udpipe) (3.3.0)\n",
            "Requirement already satisfied: certifi>=2017.4.17 in /usr/local/lib/python3.6/dist-packages (from requests<3.0.0,>=2.13.0->spacy<3.0.0,>=2.1.0->spacy-udpipe) (2020.12.5)\n",
            "Requirement already satisfied: urllib3!=1.25.0,!=1.25.1,<1.26,>=1.21.1 in /usr/local/lib/python3.6/dist-packages (from requests<3.0.0,>=2.13.0->spacy<3.0.0,>=2.1.0->spacy-udpipe) (1.24.3)\n",
            "Requirement already satisfied: idna<3,>=2.5 in /usr/local/lib/python3.6/dist-packages (from requests<3.0.0,>=2.13.0->spacy<3.0.0,>=2.1.0->spacy-udpipe) (2.10)\n",
            "Requirement already satisfied: chardet<4,>=3.0.2 in /usr/local/lib/python3.6/dist-packages (from requests<3.0.0,>=2.13.0->spacy<3.0.0,>=2.1.0->spacy-udpipe) (3.0.4)\n",
            "Requirement already satisfied: typing-extensions>=3.6.4; python_version < \"3.8\" in /usr/local/lib/python3.6/dist-packages (from importlib-metadata>=0.20; python_version < \"3.8\"->catalogue<1.1.0,>=0.0.7->spacy<3.0.0,>=2.1.0->spacy-udpipe) (3.7.4.3)\n",
            "Requirement already satisfied: zipp>=0.5 in /usr/local/lib/python3.6/dist-packages (from importlib-metadata>=0.20; python_version < \"3.8\"->catalogue<1.1.0,>=0.0.7->spacy<3.0.0,>=2.1.0->spacy-udpipe) (3.4.0)\n",
            "Building wheels for collected packages: ufal.udpipe\n",
            "  Building wheel for ufal.udpipe (setup.py) ... \u001b[?25l\u001b[?25hdone\n",
            "  Created wheel for ufal.udpipe: filename=ufal.udpipe-1.2.0.3-cp36-cp36m-linux_x86_64.whl size=5625268 sha256=3d7ffa5d0bdcdd4b26905e137c3fd644bcccead9e450d59342cfe7b83a4d54a4\n",
            "  Stored in directory: /root/.cache/pip/wheels/0c/9d/db/6d3404c33da5b7adb6c6972853efb6a27649d3ba15f7e9bebb\n",
            "Successfully built ufal.udpipe\n",
            "Installing collected packages: ufal.udpipe, spacy-udpipe\n",
            "Successfully installed spacy-udpipe-0.3.2 ufal.udpipe-1.2.0.3\n",
            "Collecting pymorphy2==0.8\n",
            "\u001b[?25l  Downloading https://files.pythonhosted.org/packages/a3/33/fff9675c68b5f6c63ec8c6e6ff57827dda28a1fa5b2c2d727dffff92dd47/pymorphy2-0.8-py2.py3-none-any.whl (46kB)\n",
            "\u001b[K     |████████████████████████████████| 51kB 2.7MB/s \n",
            "\u001b[?25hCollecting pymorphy2-dicts<3.0,>=2.4\n",
            "\u001b[?25l  Downloading https://files.pythonhosted.org/packages/02/51/2465fd4f72328ab50877b54777764d928da8cb15b74e2680fc1bd8cb3173/pymorphy2_dicts-2.4.393442.3710985-py2.py3-none-any.whl (7.1MB)\n",
            "\u001b[K     |████████████████████████████████| 7.1MB 5.0MB/s \n",
            "\u001b[?25hRequirement already satisfied: docopt>=0.6 in /usr/local/lib/python3.6/dist-packages (from pymorphy2==0.8) (0.6.2)\n",
            "Collecting dawg-python>=0.7\n",
            "  Downloading https://files.pythonhosted.org/packages/6a/84/ff1ce2071d4c650ec85745766c0047ccc3b5036f1d03559fd46bb38b5eeb/DAWG_Python-0.7.2-py2.py3-none-any.whl\n",
            "Installing collected packages: pymorphy2-dicts, dawg-python, pymorphy2\n",
            "Successfully installed dawg-python-0.7.2 pymorphy2-0.8 pymorphy2-dicts-2.4.393442.3710985\n",
            "Downloaded pre-trained UDPipe model for 'ru-syntagrus' language\n"
          ],
          "name": "stdout"
        }
      ]
    },
    {
      "cell_type": "code",
      "metadata": {
        "id": "_kfE83V3KlED"
      },
      "source": [
        "def chewable(s):                                                # Убираем лишнее \n",
        "  lemmas = [token.lemma_ for token in nlp(s)]\n",
        "  s_lemmd = ' '.join(lemmas)                                                \n",
        "  webs = '(\\S+\\.\\S+\\.?\\S+[\\s^\\v]?)'\n",
        "  nums = '(\\d+[\\s^\\v]?)'\n",
        "  re_webs = re.compile(webs)                                    # Убираем сслыки\n",
        "  re_pnct = re.compile('[%s]' % re.escape(string.punctuation))  # Пунктуацию\n",
        "  re_nums = re.compile(nums)                                    # Почему-то числа становились наиболее значимыми признаками - убираю\n",
        "  s_dewebbed = re_webs.sub('', s_lemmd)\n",
        "  s_stripped = re_pnct.sub('', s_dewebbed)\n",
        "  s_denummed = re_nums.sub('', s_stripped)\n",
        "  return s_denummed"
      ],
      "execution_count": 5,
      "outputs": []
    },
    {
      "cell_type": "code",
      "metadata": {
        "id": "b6FY8LP43Aa0"
      },
      "source": [
        "def load_sentirueval_2016(file_name: str) -> Tuple[List[str], List[str]]:\n",
        "    texts = []\n",
        "    labels = []\n",
        "    with open(file_name, mode='rb') as fp:\n",
        "        xml_data = fp.read()\n",
        "    root = etree.fromstring(xml_data)\n",
        "    for database in root.getchildren():\n",
        "        if database.tag == 'database':\n",
        "            for table in database.getchildren():\n",
        "                if table.tag != 'table':\n",
        "                    continue\n",
        "                new_text = None\n",
        "                new_label = None\n",
        "                for column in table.getchildren():\n",
        "                    if column.get('name') == 'text':\n",
        "                        new_text = chewable(column.text)\n",
        "                        if new_label is not None:\n",
        "                            break\n",
        "                    elif column.get('name') not in {'id', 'twitid', 'date'}:\n",
        "                        if new_label is None:\n",
        "                            label_candidate = str(column.text).strip()\n",
        "                            if label_candidate in {'0', '1', '-1'}:\n",
        "                                new_label = 'negative' if label_candidate == '-1' else \\\n",
        "                                    ('positive' if label_candidate == '1' else 'neutral')\n",
        "                                if new_text is not None:\n",
        "                                    break\n",
        "                if (new_text is None) or (new_label is None):\n",
        "                    raise ValueError('File `{0}` contains some error!'.format(file_name))\n",
        "                texts.append(new_text)\n",
        "                labels.append(new_label)\n",
        "            break\n",
        "    return texts, labels"
      ],
      "execution_count": 6,
      "outputs": []
    },
    {
      "cell_type": "code",
      "metadata": {
        "id": "ZS1J18J4Ls4T"
      },
      "source": [
        "fXML = '/content/drive/My Drive/bank_train_2016.xml'"
      ],
      "execution_count": 54,
      "outputs": []
    },
    {
      "cell_type": "code",
      "metadata": {
        "id": "EL-Lbw7B3AbS"
      },
      "source": [
        "texts, labels = load_sentirueval_2016(fXML)"
      ],
      "execution_count": 55,
      "outputs": []
    },
    {
      "cell_type": "code",
      "metadata": {
        "id": "IQAeR79F3Abo",
        "colab": {
          "base_uri": "https://localhost:8080/"
        },
        "outputId": "0dec0029-1506-4bcb-d5c5-0eea323e1f17"
      },
      "source": [
        "print('Number of texts is {0}, number of labels is {1}.'.format(len(texts), len(labels)))"
      ],
      "execution_count": 56,
      "outputs": [
        {
          "output_type": "stream",
          "text": [
            "Number of texts is 9392, number of labels is 9392.\n"
          ],
          "name": "stdout"
        }
      ]
    },
    {
      "cell_type": "code",
      "metadata": {
        "id": "118Hinks3AcU"
      },
      "source": [
        "import random"
      ],
      "execution_count": 57,
      "outputs": []
    },
    {
      "cell_type": "code",
      "metadata": {
        "id": "JXpuvxXN3Ac4",
        "colab": {
          "base_uri": "https://localhost:8080/"
        },
        "outputId": "62044aa9-04c5-40a1-c492-734d3ffdc86f"
      },
      "source": [
        "for idx in random.choices(list(range(len(texts))), k=20):\n",
        "    print('{0} => {1}'.format(labels[idx], texts[idx]))"
      ],
      "execution_count": 58,
      "outputs": [
        {
          "output_type": "stream",
          "text": [
            "neutral => RT tohizecahary  заполнить заявка на кредит в альфа банк расчесть \n",
            "neutral => Kyevegni весь схема проходить через Германия банк ЗАО РАЙФФАЙЗЕНБАНК мой личный для строительство и завод в Хорватия\n",
            "positive => я понравиться видео  новый реклама Сбербанк    на YouTube \n",
            "neutral => кредит наличный орел сбербанк \n",
            "negative => RT Zgorevna  сразу после приговор падать и индекс ММВБ  и акция Сбербанк  и акция «Газпрома» \n",
            "negative => в Москва прийти в Сбербанк сразу подумывать  что начаться митинг \n",
            "neutral =>  news Сбербанк приступить к выпуск банковский карта ПРО читать  ruff  seo\n",
            "neutral => ставка пенсионный кредит в россельхозбанк \n",
            "neutral => скачать мобильный приложение сбербанк онлайн для blackberry \n",
            "neutral => anitakarnik  вт саранск кредит \n",
            "neutral => RT realtyagency  сегодня у мы обзор Альфабанк и он ипотечный программа \n",
            "neutral => руководство тувинский филиал россельхозбанка  филиал  россельхозбанка\n",
            "neutral => мобильный банк сбербанк памяток \n",
            "neutral => zaletchikya в Сочи банкомат Сбербанк быть на китайский и французский язык\n",
            "negative => RT zirycalab  Сбербанк в ночь на август приостановить работа банкомат\n",
            "neutral => банк уралсиб в калининграда кредит \n",
            "neutral => Сбербанк и Пермский театр опера и балет провести елка для детейamp  \n",
            "neutral => RT Marishkarus  кредитование малый бизнес альфа банк \n",
            "neutral => на возврат вклад Сбербанк СССР в год выделить миллиард гривна\n",
            "neutral => fott теперь партнер Райффайзен  Збс \n"
          ],
          "name": "stdout"
        }
      ]
    },
    {
      "cell_type": "code",
      "metadata": {
        "id": "pP2OXqLc3AdM"
      },
      "source": [
        "positive_tweets = [texts[idx] for idx in range(len(texts)) if labels[idx] == 'positive']\n",
        "negative_tweets = [texts[idx] for idx in range(len(texts)) if labels[idx] == 'negative']"
      ],
      "execution_count": 59,
      "outputs": []
    },
    {
      "cell_type": "code",
      "metadata": {
        "id": "RXkkPGug3Adg",
        "colab": {
          "base_uri": "https://localhost:8080/"
        },
        "outputId": "c1e5aecf-0a4f-424a-fabb-84ce3d239077"
      },
      "source": [
        "for cur in positive_tweets[:5]: print(cur)"
      ],
      "execution_count": 60,
      "outputs": [
        {
          "output_type": "stream",
          "text": [
            "sawikshuster YevhenS главный чтобы банк СБЕР и ВТБ   \n",
            "самый выгодный автокредит в втб \n",
            "легко можно получить денежный кредит ы вт банк\n",
            "снижение процентный ставка по кредит на недвижимость сбербанк \n",
            "в наш сбербанк прийти американец и просить сфоткаться с он у банкомат  D я васто быть в шок и на фотка полюбому получиться смешной xD\n"
          ],
          "name": "stdout"
        }
      ]
    },
    {
      "cell_type": "code",
      "metadata": {
        "id": "60DkKK9W3Ad2",
        "colab": {
          "base_uri": "https://localhost:8080/"
        },
        "outputId": "39a25522-7664-46a3-f511-27921efaa922"
      },
      "source": [
        "for cur in negative_tweets[:5]: print(cur)"
      ],
      "execution_count": 61,
      "outputs": [
        {
          "output_type": "stream",
          "text": [
            "ShtirliZ Zhukovaolga winzard tereshenkov обязательно про сбербанк писать  временами хлестко интерать магазин финт выкручивать \n",
            "UmkaAlfariusigorsechin втб и сбер точно  вопрос  блокировка операция или запрет на кредит \n",
            "Канада ввести санкция против Газпромбанк  ВЭБ  Новатэк и российский оборонный компания\n",
            "RT letokot  если Сбер и ВТБ попасть под санкция  быть жоп\n",
            "RT tvru   Канада ввести санкция против оборонный и сырьевой компания и банк РФ  среди они  в частность    Газпромбанк     Внешэк …\n"
          ],
          "name": "stdout"
        }
      ]
    },
    {
      "cell_type": "code",
      "metadata": {
        "id": "zjbfjf7Z3AeM",
        "colab": {
          "base_uri": "https://localhost:8080/"
        },
        "outputId": "ed7795c5-efec-4df9-e0c0-3d4977d80fd7"
      },
      "source": [
        "import nltk\n",
        "from nltk import word_tokenize\n",
        "\n",
        "nltk.download('punkt')"
      ],
      "execution_count": 62,
      "outputs": [
        {
          "output_type": "stream",
          "text": [
            "[nltk_data] Downloading package punkt to /root/nltk_data...\n",
            "[nltk_data]   Package punkt is already up-to-date!\n"
          ],
          "name": "stdout"
        },
        {
          "output_type": "execute_result",
          "data": {
            "text/plain": [
              "True"
            ]
          },
          "metadata": {
            "tags": []
          },
          "execution_count": 62
        }
      ]
    },
    {
      "cell_type": "code",
      "metadata": {
        "id": "XuZBKsjA3Aeh"
      },
      "source": [
        "from sklearn.feature_extraction.text import CountVectorizer"
      ],
      "execution_count": 63,
      "outputs": []
    },
    {
      "cell_type": "code",
      "metadata": {
        "id": "hxAqehMp3Ae2"
      },
      "source": [
        "vectorizer = CountVectorizer(lowercase=True, tokenizer=word_tokenize)"
      ],
      "execution_count": 64,
      "outputs": []
    },
    {
      "cell_type": "code",
      "metadata": {
        "id": "bXwK1r-HiJWE"
      },
      "source": [
        "texts = [texts[i] for i in range(len(texts)) if labels[i] != 'neutral']\r\n",
        "labels = [l for l in labels if l != 'neutral']"
      ],
      "execution_count": 65,
      "outputs": []
    },
    {
      "cell_type": "code",
      "metadata": {
        "id": "Flacy_lj3AfN",
        "colab": {
          "base_uri": "https://localhost:8080/"
        },
        "outputId": "1733eac6-9633-4e98-afb4-190a21be52f0"
      },
      "source": [
        "vectorizer.fit(texts)"
      ],
      "execution_count": 66,
      "outputs": [
        {
          "output_type": "stream",
          "text": [
            "/usr/local/lib/python3.6/dist-packages/sklearn/feature_extraction/text.py:507: UserWarning: The parameter 'token_pattern' will not be used since 'tokenizer' is not None'\n",
            "  warnings.warn(\"The parameter 'token_pattern' will not be used\"\n"
          ],
          "name": "stderr"
        },
        {
          "output_type": "execute_result",
          "data": {
            "text/plain": [
              "CountVectorizer(analyzer='word', binary=False, decode_error='strict',\n",
              "                dtype=<class 'numpy.int64'>, encoding='utf-8', input='content',\n",
              "                lowercase=True, max_df=1.0, max_features=None, min_df=1,\n",
              "                ngram_range=(1, 1), preprocessor=None, stop_words=None,\n",
              "                strip_accents=None, token_pattern='(?u)\\\\b\\\\w\\\\w+\\\\b',\n",
              "                tokenizer=<function word_tokenize at 0x7f753e13ed90>,\n",
              "                vocabulary=None)"
            ]
          },
          "metadata": {
            "tags": []
          },
          "execution_count": 66
        }
      ]
    },
    {
      "cell_type": "code",
      "metadata": {
        "id": "On7DhL193Afg",
        "colab": {
          "base_uri": "https://localhost:8080/"
        },
        "outputId": "fffb175e-09b5-4da7-aa54-4e6831bdf895"
      },
      "source": [
        "print(vectorizer.get_feature_names()[0:20])"
      ],
      "execution_count": 67,
      "outputs": [
        {
          "output_type": "stream",
          "text": [
            "['aberadez', 'abunyasha', 'abysov', 'adlarguan', 'admeru', 'adworningju', 'aeroflot', 'agatacrysty', 'airbnb', 'akarpova', 'akselenc', 'akterpnd', 'alekckuzya', 'alekko', 'alekzzzzz', 'alenkamalenkaa', 'alex', 'alexeyenko', 'alexigrey', 'alextofa']\n"
          ],
          "name": "stdout"
        }
      ]
    },
    {
      "cell_type": "code",
      "metadata": {
        "id": "VTJsy6DD3Af0",
        "colab": {
          "base_uri": "https://localhost:8080/"
        },
        "outputId": "ff551920-8d2f-49fa-e452-da5cfad4030f"
      },
      "source": [
        "fnids = len(vectorizer.get_feature_names())\r\n",
        "print(fnids)"
      ],
      "execution_count": 83,
      "outputs": [
        {
          "output_type": "stream",
          "text": [
            "4880\n"
          ],
          "name": "stdout"
        }
      ]
    },
    {
      "cell_type": "code",
      "metadata": {
        "id": "uKL9wpSD3AgE"
      },
      "source": [
        "X = vectorizer.transform(texts)"
      ],
      "execution_count": 84,
      "outputs": []
    },
    {
      "cell_type": "code",
      "metadata": {
        "id": "2zSqZhWD3AgV",
        "colab": {
          "base_uri": "https://localhost:8080/"
        },
        "outputId": "7e27218c-bfcd-479c-e0d9-c9cabdcc04ae"
      },
      "source": [
        "print(type(X))"
      ],
      "execution_count": 85,
      "outputs": [
        {
          "output_type": "stream",
          "text": [
            "<class 'scipy.sparse.csr.csr_matrix'>\n"
          ],
          "name": "stdout"
        }
      ]
    },
    {
      "cell_type": "code",
      "metadata": {
        "id": "CfTJP9tw3Agp",
        "colab": {
          "base_uri": "https://localhost:8080/"
        },
        "outputId": "767f621d-245f-45f6-e7db-7be6be930e7d"
      },
      "source": [
        "print(texts[0])"
      ],
      "execution_count": 86,
      "outputs": [
        {
          "output_type": "stream",
          "text": [
            "sawikshuster YevhenS главный чтобы банк СБЕР и ВТБ   \n"
          ],
          "name": "stdout"
        }
      ]
    },
    {
      "cell_type": "code",
      "metadata": {
        "id": "6_JizZSp3Ag9",
        "colab": {
          "base_uri": "https://localhost:8080/"
        },
        "outputId": "572505f4-b640-42da-e3cf-065b77f97e00"
      },
      "source": [
        "print(X[0])"
      ],
      "execution_count": 87,
      "outputs": [
        {
          "output_type": "stream",
          "text": [
            "  (0, 595)\t1\n",
            "  (0, 787)\t1\n",
            "  (0, 935)\t1\n",
            "  (0, 1284)\t1\n",
            "  (0, 1403)\t1\n",
            "  (0, 1887)\t1\n",
            "  (0, 3890)\t1\n",
            "  (0, 4737)\t1\n"
          ],
          "name": "stdout"
        }
      ]
    },
    {
      "cell_type": "code",
      "metadata": {
        "id": "30eo382I3AhO",
        "colab": {
          "base_uri": "https://localhost:8080/"
        },
        "outputId": "0b6afc6e-8791-459b-c76d-936b6c071d53"
      },
      "source": [
        "print(vectorizer.get_feature_names()[fnids - 1000])"
      ],
      "execution_count": 88,
      "outputs": [
        {
          "output_type": "stream",
          "text": [
            "санкциом\n"
          ],
          "name": "stdout"
        }
      ]
    },
    {
      "cell_type": "code",
      "metadata": {
        "id": "XoBiF1GO3Aht",
        "colab": {
          "base_uri": "https://localhost:8080/"
        },
        "outputId": "6a410547-6ff8-4cef-9e54-9ed26830b56f"
      },
      "source": [
        "print(vectorizer.get_feature_names()[fnids - 200])"
      ],
      "execution_count": 89,
      "outputs": [
        {
          "output_type": "stream",
          "text": [
            "хуя\n"
          ],
          "name": "stdout"
        }
      ]
    },
    {
      "cell_type": "code",
      "metadata": {
        "id": "TYZjLpGD3AiK",
        "colab": {
          "base_uri": "https://localhost:8080/"
        },
        "outputId": "56ffe576-fb6a-4b9f-c09e-c00873f11f59"
      },
      "source": [
        "print(vectorizer.get_feature_names()[fnids - 3000])"
      ],
      "execution_count": 90,
      "outputs": [
        {
          "output_type": "stream",
          "text": [
            "значит\n"
          ],
          "name": "stdout"
        }
      ]
    },
    {
      "cell_type": "code",
      "metadata": {
        "id": "BQsuW0sx3Aid"
      },
      "source": [
        "from sklearn.feature_extraction.text import TfidfTransformer"
      ],
      "execution_count": 91,
      "outputs": []
    },
    {
      "cell_type": "code",
      "metadata": {
        "id": "UfggEfY-3Aix"
      },
      "source": [
        "transformer = TfidfTransformer().fit(X)"
      ],
      "execution_count": 92,
      "outputs": []
    },
    {
      "cell_type": "code",
      "metadata": {
        "id": "3VPBGaTO3AjC"
      },
      "source": [
        "X_transformed = transformer.transform(X)"
      ],
      "execution_count": 93,
      "outputs": []
    },
    {
      "cell_type": "code",
      "metadata": {
        "id": "onguvE4C3AjU",
        "colab": {
          "base_uri": "https://localhost:8080/"
        },
        "outputId": "70dc8e68-3b3f-4608-ead0-1f6214d8cfda"
      },
      "source": [
        "print(X_transformed[0])"
      ],
      "execution_count": 94,
      "outputs": [
        {
          "output_type": "stream",
          "text": [
            "  (0, 4737)\t0.3507418062026665\n",
            "  (0, 3890)\t0.3105785825654829\n",
            "  (0, 1887)\t0.12046126217115213\n",
            "  (0, 1403)\t0.44367318629350966\n",
            "  (0, 1284)\t0.14360200651247523\n",
            "  (0, 935)\t0.1469358767326717\n",
            "  (0, 787)\t0.5132994395905748\n",
            "  (0, 595)\t0.5132994395905748\n"
          ],
          "name": "stdout"
        }
      ]
    },
    {
      "cell_type": "code",
      "metadata": {
        "id": "XV2Zvrax3Ajp",
        "colab": {
          "base_uri": "https://localhost:8080/"
        },
        "outputId": "1b168ef5-5443-4903-e729-c6a74d10b18e"
      },
      "source": [
        "print(vectorizer.get_feature_names()[fnids - 10])"
      ],
      "execution_count": 95,
      "outputs": [
        {
          "output_type": "stream",
          "text": [
            "–\n"
          ],
          "name": "stdout"
        }
      ]
    },
    {
      "cell_type": "code",
      "metadata": {
        "id": "AOy_0vae3Aj7",
        "colab": {
          "base_uri": "https://localhost:8080/"
        },
        "outputId": "0c7fbfea-8ddb-4243-c588-1e9124baedfc"
      },
      "source": [
        "print(vectorizer.get_feature_names()[fnids - 1])"
      ],
      "execution_count": 96,
      "outputs": [
        {
          "output_type": "stream",
          "text": [
            "❤️\n"
          ],
          "name": "stdout"
        }
      ]
    },
    {
      "cell_type": "code",
      "metadata": {
        "id": "QMFUL9qQ3AkR"
      },
      "source": [
        "tokens_with_IDF = list(zip(vectorizer.get_feature_names(), transformer.idf_))"
      ],
      "execution_count": 97,
      "outputs": []
    },
    {
      "cell_type": "code",
      "metadata": {
        "id": "jRSHi6cO3Akf",
        "colab": {
          "base_uri": "https://localhost:8080/"
        },
        "outputId": "c0ea065e-81d8-4198-ff19-90257a98a689"
      },
      "source": [
        "for feature, idf in tokens_with_IDF[0:20]: print('{0:.6f} => {1}'.format(idf, feature))"
      ],
      "execution_count": 98,
      "outputs": [
        {
          "output_type": "stream",
          "text": [
            "8.099202 => aberadez\n",
            "8.099202 => abunyasha\n",
            "8.099202 => abysov\n",
            "8.099202 => adlarguan\n",
            "8.099202 => admeru\n",
            "8.099202 => adworningju\n",
            "8.099202 => aeroflot\n",
            "8.099202 => agatacrysty\n",
            "8.099202 => airbnb\n",
            "8.099202 => akarpova\n",
            "7.406055 => akselenc\n",
            "8.099202 => akterpnd\n",
            "8.099202 => alekckuzya\n",
            "8.099202 => alekko\n",
            "8.099202 => alekzzzzz\n",
            "8.099202 => alenkamalenkaa\n",
            "7.693737 => alex\n",
            "8.099202 => alexeyenko\n",
            "8.099202 => alexigrey\n",
            "8.099202 => alextofa\n"
          ],
          "name": "stdout"
        }
      ]
    },
    {
      "cell_type": "code",
      "metadata": {
        "id": "TCX8XJ7v3Akt"
      },
      "source": [
        "sorted_tokens_with_IDF = sorted(tokens_with_IDF, key=lambda it: (-it[1], it[0]))"
      ],
      "execution_count": 99,
      "outputs": []
    },
    {
      "cell_type": "code",
      "metadata": {
        "id": "uVk0UiaV3Ak4",
        "colab": {
          "base_uri": "https://localhost:8080/"
        },
        "outputId": "b3cd62bb-3359-4de5-f0f3-a3c6dfcfe871"
      },
      "source": [
        "for feature, idf in sorted_tokens_with_IDF[0:20]: print('{0:.6f} => {1}'.format(idf, feature))"
      ],
      "execution_count": 100,
      "outputs": [
        {
          "output_type": "stream",
          "text": [
            "8.099202 => aberadez\n",
            "8.099202 => abunyasha\n",
            "8.099202 => abysov\n",
            "8.099202 => adlarguan\n",
            "8.099202 => admeru\n",
            "8.099202 => adworningju\n",
            "8.099202 => aeroflot\n",
            "8.099202 => agatacrysty\n",
            "8.099202 => airbnb\n",
            "8.099202 => akarpova\n",
            "8.099202 => akterpnd\n",
            "8.099202 => alekckuzya\n",
            "8.099202 => alekko\n",
            "8.099202 => alekzzzzz\n",
            "8.099202 => alenkamalenkaa\n",
            "8.099202 => alexeyenko\n",
            "8.099202 => alexigrey\n",
            "8.099202 => alextofa\n",
            "8.099202 => alfaonlineru\n",
            "8.099202 => aliexpress\n"
          ],
          "name": "stdout"
        }
      ]
    },
    {
      "cell_type": "code",
      "metadata": {
        "id": "dlwTN1vO3AlH"
      },
      "source": [
        "from sklearn.feature_selection import SelectPercentile, chi2"
      ],
      "execution_count": 101,
      "outputs": []
    },
    {
      "cell_type": "code",
      "metadata": {
        "id": "_Fr381xR3AlU"
      },
      "source": [
        "selector = SelectPercentile(chi2, percentile=20)"
      ],
      "execution_count": 102,
      "outputs": []
    },
    {
      "cell_type": "code",
      "metadata": {
        "id": "IXxLTBw43Alm",
        "colab": {
          "base_uri": "https://localhost:8080/"
        },
        "outputId": "d46a115b-2383-4858-e407-6d674b03f6af"
      },
      "source": [
        "selector.fit(X_transformed, labels)"
      ],
      "execution_count": 103,
      "outputs": [
        {
          "output_type": "execute_result",
          "data": {
            "text/plain": [
              "SelectPercentile(percentile=20, score_func=<function chi2 at 0x7f753d5bc488>)"
            ]
          },
          "metadata": {
            "tags": []
          },
          "execution_count": 103
        }
      ]
    },
    {
      "cell_type": "code",
      "metadata": {
        "id": "NTsayQFA3Al0"
      },
      "source": [
        "selected_tokens_with_IDF = [tokens_with_IDF[idx] for idx in selector.get_support(indices=True)]"
      ],
      "execution_count": 104,
      "outputs": []
    },
    {
      "cell_type": "code",
      "metadata": {
        "id": "8rHFJO8P3AmB",
        "colab": {
          "base_uri": "https://localhost:8080/"
        },
        "outputId": "059b8a89-13b4-4111-8ee1-ee2b078f42a2"
      },
      "source": [
        "print(len(selected_tokens_with_IDF))"
      ],
      "execution_count": 105,
      "outputs": [
        {
          "output_type": "stream",
          "text": [
            "976\n"
          ],
          "name": "stdout"
        }
      ]
    },
    {
      "cell_type": "code",
      "metadata": {
        "id": "2ymE6BOk3AmR",
        "colab": {
          "base_uri": "https://localhost:8080/"
        },
        "outputId": "2237553c-5b8d-4304-d7db-5d0edaa06c1f"
      },
      "source": [
        "for feature, idf in selected_tokens_with_IDF[0:20]: print('{0:.6f} => {1}'.format(idf, feature))"
      ],
      "execution_count": 106,
      "outputs": [
        {
          "output_type": "stream",
          "text": [
            "8.099202 => aberadez\n",
            "8.099202 => adworningju\n",
            "5.959136 => alfabankby\n",
            "8.099202 => alushin\n",
            "8.099202 => andreytr\n",
            "7.693737 => apple\n",
            "7.406055 => awards\n",
            "8.099202 => bank\n",
            "8.099202 => behlbride\n",
            "8.099202 => berukyqenuc\n",
            "7.182911 => boerse\n",
            "8.099202 => buribedixuk\n",
            "8.099202 => catspower\n",
            "8.099202 => chumikov\n",
            "8.099202 => citybusicyti\n",
            "8.099202 => come\n",
            "8.099202 => coppolaney\n",
            "7.406055 => d\n",
            "8.099202 => danielschvets\n",
            "8.099202 => dbabich\n"
          ],
          "name": "stdout"
        }
      ]
    },
    {
      "cell_type": "code",
      "metadata": {
        "id": "XVEZ9yMy3Ame"
      },
      "source": [
        "selected_and_sorted_tokens_with_IDF = sorted(selected_tokens_with_IDF, key=lambda it: (-it[1], it[0]))"
      ],
      "execution_count": 107,
      "outputs": []
    },
    {
      "cell_type": "code",
      "metadata": {
        "id": "dHE8zK9p3Amq",
        "colab": {
          "base_uri": "https://localhost:8080/"
        },
        "outputId": "a8cc87de-7961-4e14-e44c-5e849cba4059"
      },
      "source": [
        "for feature, idf in selected_and_sorted_tokens_with_IDF[0:20]: print('{0:.6f} => {1}'.format(idf, feature))"
      ],
      "execution_count": 108,
      "outputs": [
        {
          "output_type": "stream",
          "text": [
            "8.099202 => aberadez\n",
            "8.099202 => adworningju\n",
            "8.099202 => alushin\n",
            "8.099202 => andreytr\n",
            "8.099202 => bank\n",
            "8.099202 => behlbride\n",
            "8.099202 => berukyqenuc\n",
            "8.099202 => buribedixuk\n",
            "8.099202 => catspower\n",
            "8.099202 => chumikov\n",
            "8.099202 => citybusicyti\n",
            "8.099202 => come\n",
            "8.099202 => coppolaney\n",
            "8.099202 => danielschvets\n",
            "8.099202 => dbabich\n",
            "8.099202 => denizbank\n",
            "8.099202 => domosedbuhi\n",
            "8.099202 => donornoha\n",
            "8.099202 => drasgo\n",
            "8.099202 => dyrbkone\n"
          ],
          "name": "stdout"
        }
      ]
    },
    {
      "cell_type": "code",
      "metadata": {
        "id": "XDarHB9URuKQ"
      },
      "source": [
        "import time"
      ],
      "execution_count": 109,
      "outputs": []
    },
    {
      "cell_type": "markdown",
      "metadata": {
        "id": "sXQ3zYTVhnfv"
      },
      "source": [
        "# ~ Testing Logistic Regression (without search) ~\n",
        "\n"
      ]
    },
    {
      "cell_type": "code",
      "metadata": {
        "id": "CZ1bY-cF3Am0"
      },
      "source": [
        "from sklearn.linear_model import LogisticRegression"
      ],
      "execution_count": 110,
      "outputs": []
    },
    {
      "cell_type": "code",
      "metadata": {
        "id": "amxAcxE33Am-"
      },
      "source": [
        "cls = LogisticRegression(solver='liblinear', verbose=True)"
      ],
      "execution_count": 111,
      "outputs": []
    },
    {
      "cell_type": "code",
      "metadata": {
        "id": "rbgxghlW3AnL"
      },
      "source": [
        "X_transformed_and_selected = selector.transform(X_transformed)"
      ],
      "execution_count": 112,
      "outputs": []
    },
    {
      "cell_type": "code",
      "metadata": {
        "id": "PUHEy61d3AnV",
        "colab": {
          "base_uri": "https://localhost:8080/"
        },
        "outputId": "bb11fff6-820d-4d73-be25-b20cb3d06dd8"
      },
      "source": [
        "cls.fit(X_transformed_and_selected, labels)"
      ],
      "execution_count": 113,
      "outputs": [
        {
          "output_type": "stream",
          "text": [
            "[LibLinear]"
          ],
          "name": "stdout"
        },
        {
          "output_type": "execute_result",
          "data": {
            "text/plain": [
              "LogisticRegression(C=1.0, class_weight=None, dual=False, fit_intercept=True,\n",
              "                   intercept_scaling=1, l1_ratio=None, max_iter=100,\n",
              "                   multi_class='auto', n_jobs=None, penalty='l2',\n",
              "                   random_state=None, solver='liblinear', tol=0.0001,\n",
              "                   verbose=True, warm_start=False)"
            ]
          },
          "metadata": {
            "tags": []
          },
          "execution_count": 113
        }
      ]
    },
    {
      "cell_type": "code",
      "metadata": {
        "id": "-5rsanfy3Anl"
      },
      "source": [
        "classes_list = list(cls.classes_)"
      ],
      "execution_count": 114,
      "outputs": []
    },
    {
      "cell_type": "code",
      "metadata": {
        "id": "Q4tZdIF73Anu",
        "colab": {
          "base_uri": "https://localhost:8080/"
        },
        "outputId": "d7b2afd6-a2e8-45b0-ded0-fc8b3e0c3a0a"
      },
      "source": [
        "print(classes_list)"
      ],
      "execution_count": 115,
      "outputs": [
        {
          "output_type": "stream",
          "text": [
            "['negative', 'positive']\n"
          ],
          "name": "stdout"
        }
      ]
    },
    {
      "cell_type": "code",
      "metadata": {
        "id": "gWYdp6G33An5"
      },
      "source": [
        "txts, lbls = load_sentirueval_2016('/content/drive/My Drive/banks_test_etalon.xml')"
      ],
      "execution_count": 116,
      "outputs": []
    },
    {
      "cell_type": "code",
      "metadata": {
        "id": "AV7UgtCR2J44"
      },
      "source": [
        "# удаляем нейтральные твиты для последующего рассчёта F1-меры\r\n",
        "texts_for_testing = [txts[i] for i in range(len(txts)) if lbls[i] != 'neutral']\r\n",
        "labels_for_testing = [l for l in lbls if l != 'neutral']"
      ],
      "execution_count": 117,
      "outputs": []
    },
    {
      "cell_type": "code",
      "metadata": {
        "id": "7xING6JB3AoE"
      },
      "source": [
        "from sklearn.pipeline import Pipeline"
      ],
      "execution_count": 118,
      "outputs": []
    },
    {
      "cell_type": "code",
      "metadata": {
        "id": "aYhXAKBd3AoQ"
      },
      "source": [
        "pipeline_for_se = Pipeline(\n",
        "    [\n",
        "        ('vectorizer', vectorizer),\n",
        "        ('tfidf', transformer),\n",
        "        ('selector', selector),\n",
        "        ('final_classifier', cls)\n",
        "    ]\n",
        ")"
      ],
      "execution_count": 119,
      "outputs": []
    },
    {
      "cell_type": "code",
      "metadata": {
        "id": "6WrREaqR3Aoi"
      },
      "source": [
        "from sklearn.metrics import roc_curve\n",
        "import numpy as np"
      ],
      "execution_count": 120,
      "outputs": []
    },
    {
      "cell_type": "code",
      "metadata": {
        "id": "neF6YaI43Aor"
      },
      "source": [
        "probabilities = pipeline_for_se.predict_proba(texts_for_testing)"
      ],
      "execution_count": 121,
      "outputs": []
    },
    {
      "cell_type": "code",
      "metadata": {
        "id": "N9_U60_Z3Ao1"
      },
      "source": [
        "y_true_positives = list(map(lambda it: 1 if it == 'positive' else 0, labels_for_testing))\n",
        "y_score_positives = probabilities[:, classes_list.index('positive')]"
      ],
      "execution_count": 122,
      "outputs": []
    },
    {
      "cell_type": "code",
      "metadata": {
        "id": "zQgLkmmJ3Ao_"
      },
      "source": [
        "fpr_positives, tpr_positives, _, = roc_curve(y_true_positives, y_score_positives)"
      ],
      "execution_count": 123,
      "outputs": []
    },
    {
      "cell_type": "code",
      "metadata": {
        "id": "YLVCijyv3ApJ"
      },
      "source": [
        "y_true_negatives = list(map(lambda it: 1 if it == 'negative' else 0, labels_for_testing))\n",
        "y_score_negatives = probabilities[:, classes_list.index('negative')]\n",
        "fpr_negatives, tpr_negatives, _, = roc_curve(y_true_negatives, y_score_negatives)"
      ],
      "execution_count": 124,
      "outputs": []
    },
    {
      "cell_type": "code",
      "metadata": {
        "id": "xmMC82b43Apb"
      },
      "source": [
        "# y_true_neutrals = list(map(lambda it: 1 if it == 'neutral' else 0, labels_for_testing))\n",
        "# y_score_neutrals = probabilities[:, classes_list.index('neutral')]\n",
        "# fpr_neutrals, tpr_neutrals, _, = roc_curve(y_true_neutrals, y_score_neutrals)"
      ],
      "execution_count": 125,
      "outputs": []
    },
    {
      "cell_type": "code",
      "metadata": {
        "id": "RAclBVn63AqJ",
        "colab": {
          "base_uri": "https://localhost:8080/",
          "height": 295
        },
        "outputId": "6b8800c4-bf68-4fef-df3a-0967a64f1abe"
      },
      "source": [
        "import matplotlib.pyplot as plt\n",
        "plt.figure(1)\n",
        "plt.plot([0, 1], [0, 1], 'k--')\n",
        "plt.plot(fpr_positives, tpr_positives, label='Positive Sentiment')\n",
        "plt.plot(fpr_negatives, tpr_negatives, label='Negative Sentiment')\n",
        "# plt.plot(fpr_neutrals, tpr_neutrals, label='Neutral Sentiment')\n",
        "plt.xlabel('False positive rate')\n",
        "plt.ylabel('True positive rate')\n",
        "plt.title('ROC curve')\n",
        "plt.legend(loc='best')\n",
        "plt.show()"
      ],
      "execution_count": 126,
      "outputs": [
        {
          "output_type": "display_data",
          "data": {
            "image/png": "[encoded data removed]",
            "text/plain": [
              "<Figure size 432x288 with 1 Axes>"
            ]
          },
          "metadata": {
            "tags": [],
            "needs_background": "light"
          }
        }
      ]
    },
    {
      "cell_type": "code",
      "metadata": {
        "id": "9VXpmg2p3AqS",
        "colab": {
          "base_uri": "https://localhost:8080/"
        },
        "outputId": "724795a8-b67c-4b26-fe38-e8349fdecbb6"
      },
      "source": [
        "from sklearn.metrics import f1_score\n",
        "predicted_labels = pipeline_for_se.predict(texts_for_testing)\n",
        "print('F1-micro = {0:.6f}'.format(f1_score(labels_for_testing, predicted_labels, average='micro')))\n",
        "print('F1-macro = {0:.6f}'.format(f1_score(labels_for_testing, predicted_labels, average='macro')))"
      ],
      "execution_count": 127,
      "outputs": [
        {
          "output_type": "stream",
          "text": [
            "F1-micro = 0.802791\n",
            "F1-macro = 0.719008\n"
          ],
          "name": "stdout"
        }
      ]
    },
    {
      "cell_type": "code",
      "metadata": {
        "id": "CnubGC2n3Aqa",
        "colab": {
          "base_uri": "https://localhost:8080/"
        },
        "outputId": "6e30ab9c-bf04-4375-af13-540d4c7238e5"
      },
      "source": [
        "from sklearn.metrics import classification_report\n",
        "print(classification_report(labels_for_testing, predicted_labels, digits=6))"
      ],
      "execution_count": 128,
      "outputs": [
        {
          "output_type": "stream",
          "text": [
            "              precision    recall  f1-score   support\n",
            "\n",
            "    negative   0.810056  0.945241  0.872443       767\n",
            "    positive   0.766667  0.448052  0.565574       308\n",
            "\n",
            "    accuracy                       0.802791      1075\n",
            "   macro avg   0.788361  0.696647  0.719008      1075\n",
            "weighted avg   0.797624  0.802791  0.784521      1075\n",
            "\n"
          ],
          "name": "stdout"
        }
      ]
    },
    {
      "cell_type": "markdown",
      "metadata": {
        "id": "ndY7_Hs6h-KN"
      },
      "source": [
        "# ~ gCV + LogRegr ~"
      ]
    },
    {
      "cell_type": "code",
      "metadata": {
        "id": "QQNMMpwn3Aql"
      },
      "source": [
        "from sklearn.model_selection import GridSearchCV\n",
        "from sklearn.metrics import make_scorer\n",
        "f1_macro_scorer = make_scorer(f1_score, average='macro')\n",
        "gcv_lr = GridSearchCV(\n",
        "    estimator=LogisticRegression(solver='liblinear'),\n",
        "    param_grid={'C': [1e-2, 1e-1, 1, 1e+1, 1e+2, 1e+3], 'penalty': ['l1', 'l2', 'elasticnet']},\n",
        "    scoring=f1_macro_scorer,\n",
        "    n_jobs=-1,\n",
        ")"
      ],
      "execution_count": 129,
      "outputs": []
    },
    {
      "cell_type": "code",
      "metadata": {
        "id": "SeTxxFZ23Aqu",
        "colab": {
          "base_uri": "https://localhost:8080/"
        },
        "outputId": "f1df5dea-62c4-4f8f-c899-b48f957f74c8"
      },
      "source": [
        "gcv_lr_tp1 = time.time()\n",
        "gcv_lr.fit(X_transformed_and_selected, labels)\n",
        "gcv_lr_tp2 = time.time()\n",
        "print(f'Time needed for search: {gcv_lr_tp2 - gcv_lr_tp1}s')"
      ],
      "execution_count": 130,
      "outputs": [
        {
          "output_type": "stream",
          "text": [
            "Time needed for search: 2.100088357925415s\n"
          ],
          "name": "stdout"
        }
      ]
    },
    {
      "cell_type": "code",
      "metadata": {
        "id": "k8YZJ11T3Aq3",
        "colab": {
          "base_uri": "https://localhost:8080/"
        },
        "outputId": "28cd9c25-922e-4bda-e226-e1e60ed7751e"
      },
      "source": [
        "gcv_lr_bp = gcv_lr.best_params_\n",
        "print(gcv_lr_bp)"
      ],
      "execution_count": 131,
      "outputs": [
        {
          "output_type": "stream",
          "text": [
            "{'C': 100.0, 'penalty': 'l2'}\n"
          ],
          "name": "stdout"
        }
      ]
    },
    {
      "cell_type": "code",
      "metadata": {
        "id": "kGdkcuar3ArA"
      },
      "source": [
        "bcls_gcv_lr = LogisticRegression(\n",
        "                                 solver='liblinear', \n",
        "                                 verbose=True, \n",
        "                                 C=gcv_lr_bp['C'], \n",
        "                                 penalty=gcv_lr_bp['penalty']\n",
        "                                )"
      ],
      "execution_count": 132,
      "outputs": []
    },
    {
      "cell_type": "code",
      "metadata": {
        "id": "mbZPs8m66_wv",
        "colab": {
          "base_uri": "https://localhost:8080/"
        },
        "outputId": "a38e27c2-f8e1-4ab4-8f73-b3df24a8790f"
      },
      "source": [
        "gcv_lr_tp3 = time.time()\n",
        "bcls_gcv_lr.fit(X_transformed_and_selected, labels)\n",
        "gcv_lr_tp4 = time.time()\n",
        "print(f'Time needed for computation: {gcv_lr_tp4 - gcv_lr_tp3}s')"
      ],
      "execution_count": 133,
      "outputs": [
        {
          "output_type": "stream",
          "text": [
            "[LibLinear]Time needed for computation: 0.01811528205871582s\n"
          ],
          "name": "stdout"
        }
      ]
    },
    {
      "cell_type": "code",
      "metadata": {
        "id": "8DkwlELZ3ArJ"
      },
      "source": [
        "best_pipeline_for_se = Pipeline(\n",
        "    [\n",
        "        ('vectorizer', vectorizer),\n",
        "        ('tfidf', transformer),\n",
        "        ('selector', selector),\n",
        "        ('final_classifier', bcls_gcv_lr)\n",
        "    ]\n",
        ")"
      ],
      "execution_count": 134,
      "outputs": []
    },
    {
      "cell_type": "code",
      "metadata": {
        "id": "Vi5OtXBa3ArR"
      },
      "source": [
        "probabilities = best_pipeline_for_se.predict_proba(texts_for_testing)\n",
        "\n",
        "y_true_positives = list(map(lambda it: 1 if it == 'positive' else 0, labels_for_testing))\n",
        "y_score_positives = probabilities[:, classes_list.index('positive')]\n",
        "fpr_positives, tpr_positives, _, = roc_curve(y_true_positives, y_score_positives)\n",
        "\n",
        "y_true_negatives = list(map(lambda it: 1 if it == 'negative' else 0, labels_for_testing))\n",
        "y_score_negatives = probabilities[:, classes_list.index('negative')]\n",
        "fpr_negatives, tpr_negatives, _, = roc_curve(y_true_negatives, y_score_negatives)\n",
        "\n",
        "# y_true_neutrals = list(map(lambda it: 1 if it == 'neutral' else 0, labels_for_testing))\n",
        "# y_score_neutrals = probabilities[:, classes_list.index('neutral')]\n",
        "# fpr_neutrals, tpr_neutrals, _, = roc_curve(y_true_neutrals, y_score_neutrals)"
      ],
      "execution_count": 135,
      "outputs": []
    },
    {
      "cell_type": "code",
      "metadata": {
        "id": "4fmMWhuJ3ArY",
        "colab": {
          "base_uri": "https://localhost:8080/",
          "height": 295
        },
        "outputId": "510ab5e5-7fed-4755-d392-4c3ac39b21a7"
      },
      "source": [
        "plt.figure(2)\n",
        "plt.plot([0, 1], [0, 1], 'k--')\n",
        "plt.plot(fpr_positives, tpr_positives, label='Positive Sentiment')\n",
        "plt.plot(fpr_negatives, tpr_negatives, label='Negative Sentiment')\n",
        "# plt.plot(fpr_neutrals, tpr_neutrals, label='Neutral Sentiment')\n",
        "plt.xlabel('False positive rate')\n",
        "plt.ylabel('True positive rate')\n",
        "plt.title('ROC curve')\n",
        "plt.legend(loc='best')\n",
        "plt.show()"
      ],
      "execution_count": 136,
      "outputs": [
        {
          "output_type": "display_data",
          "data": {
            "image/png": "[encoded data removed]",
            "text/plain": [
              "<Figure size 432x288 with 1 Axes>"
            ]
          },
          "metadata": {
            "tags": [],
            "needs_background": "light"
          }
        }
      ]
    },
    {
      "cell_type": "code",
      "metadata": {
        "id": "nszIVJ6B3Arh",
        "colab": {
          "base_uri": "https://localhost:8080/"
        },
        "outputId": "88d532f0-61f6-47cb-8220-200ad9102397"
      },
      "source": [
        "predicted_labels = best_pipeline_for_se.predict(texts_for_testing)\n",
        "fmi_gcv_lr = f1_score(labels_for_testing, predicted_labels, average='micro')\n",
        "fma_gcv_lr = f1_score(labels_for_testing, predicted_labels, average='macro')\n",
        "print('F1-micro = {0:.6f}'.format(fmi_gcv_lr))\n",
        "print('F1-macro = {0:.6f}'.format(fma_gcv_lr))"
      ],
      "execution_count": 137,
      "outputs": [
        {
          "output_type": "stream",
          "text": [
            "F1-micro = 0.814884\n",
            "F1-macro = 0.753636\n"
          ],
          "name": "stdout"
        }
      ]
    },
    {
      "cell_type": "code",
      "metadata": {
        "id": "0xTP-OMd735q"
      },
      "source": [
        "clsrep_gcv_lr = classification_report(labels_for_testing, predicted_labels, digits=6)"
      ],
      "execution_count": 138,
      "outputs": []
    },
    {
      "cell_type": "code",
      "metadata": {
        "id": "XJD9M5gN3Arr",
        "colab": {
          "base_uri": "https://localhost:8080/"
        },
        "outputId": "0df4648e-54b0-49e3-91d5-87a08d4316e3"
      },
      "source": [
        "print(clsrep_gcv_lr)"
      ],
      "execution_count": 139,
      "outputs": [
        {
          "output_type": "stream",
          "text": [
            "              precision    recall  f1-score   support\n",
            "\n",
            "    negative   0.836493  0.920469  0.876474       767\n",
            "    positive   0.735931  0.551948  0.630798       308\n",
            "\n",
            "    accuracy                       0.814884      1075\n",
            "   macro avg   0.786212  0.736209  0.753636      1075\n",
            "weighted avg   0.807681  0.814884  0.806085      1075\n",
            "\n"
          ],
          "name": "stdout"
        }
      ]
    },
    {
      "cell_type": "markdown",
      "metadata": {
        "id": "DuFpqZ7ajNfi"
      },
      "source": [
        "# ~ rCV + LogReg ~"
      ]
    },
    {
      "cell_type": "code",
      "metadata": {
        "id": "WWU98vzu3Ar3"
      },
      "source": [
        "from sklearn.model_selection import RandomizedSearchCV"
      ],
      "execution_count": 140,
      "outputs": []
    },
    {
      "cell_type": "code",
      "metadata": {
        "id": "e5GB1A_scs17"
      },
      "source": [
        "rcv_lr = RandomizedSearchCV(\n",
        "    estimator=LogisticRegression(solver='liblinear'),\n",
        "    param_distributions={\n",
        "                'C': [1e-2, 1e-1, 1, 1e+1, 1e+2, 1e+3], \n",
        "                'penalty': ['l1', 'l2', 'elasticnet']\n",
        "                },\n",
        "    n_iter = 100,\n",
        "    scoring=f1_macro_scorer,\n",
        "    n_jobs=-1\n",
        ")"
      ],
      "execution_count": 141,
      "outputs": []
    },
    {
      "cell_type": "code",
      "metadata": {
        "id": "Q2jqtSA_hPQh",
        "colab": {
          "base_uri": "https://localhost:8080/"
        },
        "outputId": "feac6ab9-856a-4c4a-e865-7855de9fa65e"
      },
      "source": [
        "rcv_lr_tp1 = time.time()\n",
        "rcv_lr.fit(X_transformed_and_selected, labels)\n",
        "rcv_lr_tp2 = time.time()"
      ],
      "execution_count": 142,
      "outputs": [
        {
          "output_type": "stream",
          "text": [
            "/usr/local/lib/python3.6/dist-packages/sklearn/model_selection/_search.py:281: UserWarning: The total space of parameters 18 is smaller than n_iter=100. Running 18 iterations. For exhaustive searches, use GridSearchCV.\n",
            "  % (grid_size, self.n_iter, grid_size), UserWarning)\n"
          ],
          "name": "stderr"
        }
      ]
    },
    {
      "cell_type": "code",
      "metadata": {
        "id": "i7nYQRGmhMMk",
        "colab": {
          "base_uri": "https://localhost:8080/"
        },
        "outputId": "29083296-4a6d-47d1-c125-3affbe0bccf4"
      },
      "source": [
        "print(f'Time needed for search: {rcv_lr_tp2 - rcv_lr_tp1}s')\n",
        "rcv_lr_bp = rcv_lr.best_params_\n",
        "print(rcv_lr_bp)"
      ],
      "execution_count": 143,
      "outputs": [
        {
          "output_type": "stream",
          "text": [
            "Time needed for search: 0.9442722797393799s\n",
            "{'penalty': 'l2', 'C': 100.0}\n"
          ],
          "name": "stdout"
        }
      ]
    },
    {
      "cell_type": "code",
      "metadata": {
        "id": "MewoAqNJrhXN",
        "colab": {
          "base_uri": "https://localhost:8080/"
        },
        "outputId": "45e9b960-fce6-4db4-ca92-a59d4d5b92ed"
      },
      "source": [
        "bcls_rcv_lr = LogisticRegression(\n",
        "                                 solver='liblinear', \n",
        "                                 verbose=True, \n",
        "                                 C=rcv_lr_bp['C'], \n",
        "                                 penalty=rcv_lr_bp['penalty']\n",
        "                                 )\n",
        "rcv_lr_tp3 = time.time()\n",
        "bcls_rcv_lr.fit(X_transformed_and_selected, labels)\n",
        "rcv_lr_tp4 = time.time()\n",
        "print('Time needed for computations: ', rcv_lr_tp4 - rcv_lr_tp3)"
      ],
      "execution_count": 144,
      "outputs": [
        {
          "output_type": "stream",
          "text": [
            "[LibLinear]Time needed for computations:  0.015109539031982422\n"
          ],
          "name": "stdout"
        }
      ]
    },
    {
      "cell_type": "code",
      "metadata": {
        "id": "PDFoSZNvsPq1"
      },
      "source": [
        "rand_pipeline_for_se = Pipeline(\n",
        "    [\n",
        "        ('vectorizer', vectorizer),\n",
        "        ('tfidf', transformer),\n",
        "        ('selector', selector),\n",
        "        ('final_classifier', bcls_rcv_lr)\n",
        "    ]\n",
        ")"
      ],
      "execution_count": 145,
      "outputs": []
    },
    {
      "cell_type": "code",
      "metadata": {
        "id": "cH4bO8pKsPr1"
      },
      "source": [
        "probabilities = rand_pipeline_for_se.predict_proba(texts_for_testing)\n",
        "\n",
        "y_true_positives = list(map(lambda it: 1 if it == 'positive' else 0, labels_for_testing))\n",
        "y_score_positives = probabilities[:, classes_list.index('positive')]\n",
        "fpr_positives, tpr_positives, _, = roc_curve(y_true_positives, y_score_positives)\n",
        "\n",
        "y_true_negatives = list(map(lambda it: 1 if it == 'negative' else 0, labels_for_testing))\n",
        "y_score_negatives = probabilities[:, classes_list.index('negative')]\n",
        "fpr_negatives, tpr_negatives, _, = roc_curve(y_true_negatives, y_score_negatives)\n",
        "\n",
        "# y_true_neutrals = list(map(lambda it: 1 if it == 'neutral' else 0, labels_for_testing))\n",
        "# y_score_neutrals = probabilities[:, classes_list.index('neutral')]\n",
        "# fpr_neutrals, tpr_neutrals, _, = roc_curve(y_true_neutrals, y_score_neutrals)"
      ],
      "execution_count": 146,
      "outputs": []
    },
    {
      "cell_type": "code",
      "metadata": {
        "id": "-8T45I9vsPsd",
        "colab": {
          "base_uri": "https://localhost:8080/",
          "height": 295
        },
        "outputId": "5c234272-918b-4cb2-f5fe-f8d3ad773570"
      },
      "source": [
        "plt.figure(3)\n",
        "plt.plot([0, 1], [0, 1], 'k--')\n",
        "plt.plot(fpr_positives, tpr_positives, label='Positive Sentiment')\n",
        "plt.plot(fpr_negatives, tpr_negatives, label='Negative Sentiment')\n",
        "# plt.plot(fpr_neutrals, tpr_neutrals, label='Neutral Sentiment')\n",
        "plt.xlabel('False positive rate')\n",
        "plt.ylabel('True positive rate')\n",
        "plt.title('ROC curve')\n",
        "plt.legend(loc='best')\n",
        "plt.show()"
      ],
      "execution_count": 147,
      "outputs": [
        {
          "output_type": "display_data",
          "data": {
            "image/png": "[encoded data removed]",
            "text/plain": [
              "<Figure size 432x288 with 1 Axes>"
            ]
          },
          "metadata": {
            "tags": [],
            "needs_background": "light"
          }
        }
      ]
    },
    {
      "cell_type": "code",
      "metadata": {
        "id": "prEV81HPsPs9",
        "colab": {
          "base_uri": "https://localhost:8080/"
        },
        "outputId": "a5e0f689-e44a-4789-898e-1d33edc07b72"
      },
      "source": [
        "predicted_labels = rand_pipeline_for_se.predict(texts_for_testing)\n",
        "fmi_rcv_lr = f1_score(labels_for_testing, predicted_labels, average='micro')\n",
        "fma_rcv_lr = f1_score(labels_for_testing, predicted_labels, average='macro')\n",
        "print('F1-micro = {0:.6f}'.format(fmi_rcv_lr))\n",
        "print('F1-macro = {0:.6f}'.format(fma_rcv_lr))"
      ],
      "execution_count": 148,
      "outputs": [
        {
          "output_type": "stream",
          "text": [
            "F1-micro = 0.814884\n",
            "F1-macro = 0.753636\n"
          ],
          "name": "stdout"
        }
      ]
    },
    {
      "cell_type": "code",
      "metadata": {
        "id": "PqkwLQK5sPtd",
        "colab": {
          "base_uri": "https://localhost:8080/"
        },
        "outputId": "44a0f88b-b982-4abe-90c4-3aece04aff79"
      },
      "source": [
        "clsrep_rcv_lr = classification_report(labels_for_testing, predicted_labels, digits=6)\n",
        "print(clsrep_rcv_lr)"
      ],
      "execution_count": 149,
      "outputs": [
        {
          "output_type": "stream",
          "text": [
            "              precision    recall  f1-score   support\n",
            "\n",
            "    negative   0.836493  0.920469  0.876474       767\n",
            "    positive   0.735931  0.551948  0.630798       308\n",
            "\n",
            "    accuracy                       0.814884      1075\n",
            "   macro avg   0.786212  0.736209  0.753636      1075\n",
            "weighted avg   0.807681  0.814884  0.806085      1075\n",
            "\n"
          ],
          "name": "stdout"
        }
      ]
    },
    {
      "cell_type": "markdown",
      "metadata": {
        "id": "1LvOiBOqA3HZ"
      },
      "source": [
        "# ~ gCV + SGDC ~"
      ]
    },
    {
      "cell_type": "code",
      "metadata": {
        "id": "fTGkSbcZA45l"
      },
      "source": [
        "from sklearn.linear_model import SGDClassifier"
      ],
      "execution_count": 150,
      "outputs": []
    },
    {
      "cell_type": "code",
      "metadata": {
        "id": "_ppiipGcA46U"
      },
      "source": [
        "gcv_sgdc = GridSearchCV(\n",
        "    estimator=SGDClassifier(loss='log'),\n",
        "    param_grid={\n",
        "                'alpha': [1e-4, 1e-3, 1e-2, 1e-1, 1], \n",
        "                'penalty': ['l1', 'l2', 'elasticnet']\n",
        "                },\n",
        "    scoring=f1_macro_scorer,\n",
        "    n_jobs=-1\n",
        ")"
      ],
      "execution_count": 151,
      "outputs": []
    },
    {
      "cell_type": "code",
      "metadata": {
        "id": "9fKKeYtkA47B"
      },
      "source": [
        "gcv_sgdc_tp1 = time.time()\n",
        "gcv_sgdc.fit(X_transformed_and_selected, labels)\n",
        "gcv_sgdc_tp2 = time.time()"
      ],
      "execution_count": 152,
      "outputs": []
    },
    {
      "cell_type": "code",
      "metadata": {
        "id": "0LOmZcgOA47j",
        "colab": {
          "base_uri": "https://localhost:8080/"
        },
        "outputId": "b2c6963e-89c8-4f0d-efad-0131460e1098"
      },
      "source": [
        "print(f'Time needed for search: {gcv_sgdc_tp2 - gcv_sgdc_tp1}s')\n",
        "gcv_sgdc_bp = gcv_sgdc.best_params_\n",
        "print(gcv_sgdc_bp)"
      ],
      "execution_count": 153,
      "outputs": [
        {
          "output_type": "stream",
          "text": [
            "Time needed for search: 0.732539176940918s\n",
            "{'alpha': 0.0001, 'penalty': 'elasticnet'}\n"
          ],
          "name": "stdout"
        }
      ]
    },
    {
      "cell_type": "code",
      "metadata": {
        "id": "GCjXVnQGA48A"
      },
      "source": [
        "bcls_gcv_sgdc = SGDClassifier( \n",
        "                     loss='log',\n",
        "                     penalty=gcv_sgdc_bp['penalty'],\n",
        "                     alpha=gcv_sgdc_bp['alpha'],\n",
        "                     max_iter=1000\n",
        "                    )"
      ],
      "execution_count": 154,
      "outputs": []
    },
    {
      "cell_type": "code",
      "metadata": {
        "id": "rHrpOtMNA48g"
      },
      "source": [
        "gcv_sgdc_tp3 = time.time()\n",
        "bcls_gcv_sgdc.fit(X_transformed_and_selected, labels)\n",
        "gcv_sgdc_tp4 = time.time()"
      ],
      "execution_count": 155,
      "outputs": []
    },
    {
      "cell_type": "code",
      "metadata": {
        "id": "AKui0lYCA487",
        "colab": {
          "base_uri": "https://localhost:8080/"
        },
        "outputId": "439c3804-e98a-4573-87c2-d4dc6ba92512"
      },
      "source": [
        "print(f'Time needed for computations: {gcv_sgdc_tp4 - gcv_sgdc_tp3}s')"
      ],
      "execution_count": 156,
      "outputs": [
        {
          "output_type": "stream",
          "text": [
            "Time needed for computations: 0.013571500778198242s\n"
          ],
          "name": "stdout"
        }
      ]
    },
    {
      "cell_type": "code",
      "metadata": {
        "id": "a5u-AnAIA49Z"
      },
      "source": [
        "sgdc_pipeline_for_se = Pipeline(\n",
        "    [\n",
        "        ('vectorizer', vectorizer),\n",
        "        ('tfidf', transformer),\n",
        "        ('selector', selector),\n",
        "        ('final_classifier', bcls_gcv_sgdc)\n",
        "    ]\n",
        ")"
      ],
      "execution_count": 157,
      "outputs": []
    },
    {
      "cell_type": "code",
      "metadata": {
        "id": "zH-2ERK4A49z"
      },
      "source": [
        "probabilities = sgdc_pipeline_for_se.predict_proba(texts_for_testing)\n",
        "\n",
        "y_true_positives = list(map(lambda it: 1 if it == 'positive' else 0, labels_for_testing))\n",
        "y_score_positives = probabilities[:, classes_list.index('positive')]\n",
        "fpr_positives, tpr_positives, _, = roc_curve(y_true_positives, y_score_positives)\n",
        "\n",
        "y_true_negatives = list(map(lambda it: 1 if it == 'negative' else 0, labels_for_testing))\n",
        "y_score_negatives = probabilities[:, classes_list.index('negative')]\n",
        "fpr_negatives, tpr_negatives, _, = roc_curve(y_true_negatives, y_score_negatives)\n",
        "\n",
        "# y_true_neutrals = list(map(lambda it: 1 if it == 'neutral' else 0, labels_for_testing))\n",
        "# y_score_neutrals = probabilities[:, classes_list.index('neutral')]\n",
        "# fpr_neutrals, tpr_neutrals, _, = roc_curve(y_true_neutrals, y_score_neutrals)"
      ],
      "execution_count": 158,
      "outputs": []
    },
    {
      "cell_type": "code",
      "metadata": {
        "id": "MprP2DsdA4-K",
        "colab": {
          "base_uri": "https://localhost:8080/",
          "height": 295
        },
        "outputId": "faf3a6d0-4eba-4a0a-fa73-c7067de17782"
      },
      "source": [
        "plt.figure(4)\n",
        "plt.plot([0, 1], [0, 1], 'k--')\n",
        "plt.plot(fpr_positives, tpr_positives, label='Positive Sentiment')\n",
        "plt.plot(fpr_negatives, tpr_negatives, label='Negative Sentiment')\n",
        "# plt.plot(fpr_neutrals, tpr_neutrals, label='Neutral Sentiment')\n",
        "plt.xlabel('False positive rate')\n",
        "plt.ylabel('True positive rate')\n",
        "plt.title('ROC curve')\n",
        "plt.legend(loc='best')\n",
        "plt.show()"
      ],
      "execution_count": 159,
      "outputs": [
        {
          "output_type": "display_data",
          "data": {
            "image/png": "[encoded data removed]",
            "text/plain": [
              "<Figure size 432x288 with 1 Axes>"
            ]
          },
          "metadata": {
            "tags": [],
            "needs_background": "light"
          }
        }
      ]
    },
    {
      "cell_type": "code",
      "metadata": {
        "id": "EfP84R5tA4-k",
        "colab": {
          "base_uri": "https://localhost:8080/"
        },
        "outputId": "1bf30125-5fff-429c-955f-306b80359703"
      },
      "source": [
        "predicted_labels = sgdc_pipeline_for_se.predict(texts_for_testing)\n",
        "fmi_gcv_sgdc = f1_score(labels_for_testing, predicted_labels, average='micro')\n",
        "fma_gcv_sgdc = f1_score(labels_for_testing, predicted_labels, average='macro')\n",
        "print('F1-micro = {0:.6f}'.format(fmi_gcv_sgdc))\n",
        "print('F1-macro = {0:.6f}'.format(fma_gcv_sgdc))"
      ],
      "execution_count": 160,
      "outputs": [
        {
          "output_type": "stream",
          "text": [
            "F1-micro = 0.816744\n",
            "F1-macro = 0.755507\n"
          ],
          "name": "stdout"
        }
      ]
    },
    {
      "cell_type": "code",
      "metadata": {
        "id": "vusV9pqvA4-8",
        "colab": {
          "base_uri": "https://localhost:8080/"
        },
        "outputId": "276901b9-b2a7-4e5a-9aef-1bca5fa7d33b"
      },
      "source": [
        "clsrep_gcv_sgdc = classification_report(labels_for_testing, predicted_labels, digits=6)\n",
        "print(clsrep_gcv_sgdc)"
      ],
      "execution_count": 161,
      "outputs": [
        {
          "output_type": "stream",
          "text": [
            "              precision    recall  f1-score   support\n",
            "\n",
            "    negative   0.836879  0.923077  0.877867       767\n",
            "    positive   0.742358  0.551948  0.633147       308\n",
            "\n",
            "    accuracy                       0.816744      1075\n",
            "   macro avg   0.789619  0.737512  0.755507      1075\n",
            "weighted avg   0.809798  0.816744  0.807752      1075\n",
            "\n"
          ],
          "name": "stdout"
        }
      ]
    },
    {
      "cell_type": "markdown",
      "metadata": {
        "id": "iqGoxmwXjXe2"
      },
      "source": [
        "# ~ rCV + SGDClassifier ~"
      ]
    },
    {
      "cell_type": "code",
      "metadata": {
        "id": "ZHpBYh1ep9OG"
      },
      "source": [
        "from sklearn.linear_model import SGDClassifier"
      ],
      "execution_count": 162,
      "outputs": []
    },
    {
      "cell_type": "code",
      "metadata": {
        "id": "wKzxabpJ2-91"
      },
      "source": [
        "rcv_sgdc = RandomizedSearchCV(\n",
        "    estimator=SGDClassifier(loss='log'),\n",
        "    param_distributions={\n",
        "                'alpha': [1e-4, 1e-3, 1e-2, 1e-1, 1], \n",
        "                'penalty': ['l1', 'l2', 'elasticnet']\n",
        "                },\n",
        "    n_iter = 100,\n",
        "    scoring=f1_macro_scorer,\n",
        "    n_jobs=-1\n",
        ")"
      ],
      "execution_count": 163,
      "outputs": []
    },
    {
      "cell_type": "code",
      "metadata": {
        "id": "k-80-pKx4Ew9",
        "colab": {
          "base_uri": "https://localhost:8080/"
        },
        "outputId": "2539945f-ecae-41d5-f6b9-586878f6b7cf"
      },
      "source": [
        "rcv_sgdc_tp1 = time.time()\n",
        "rcv_sgdc.fit(X_transformed_and_selected, labels)\n",
        "rcv_sgdc_tp2 = time.time()"
      ],
      "execution_count": 164,
      "outputs": [
        {
          "output_type": "stream",
          "text": [
            "/usr/local/lib/python3.6/dist-packages/sklearn/model_selection/_search.py:281: UserWarning: The total space of parameters 15 is smaller than n_iter=100. Running 15 iterations. For exhaustive searches, use GridSearchCV.\n",
            "  % (grid_size, self.n_iter, grid_size), UserWarning)\n"
          ],
          "name": "stderr"
        }
      ]
    },
    {
      "cell_type": "code",
      "metadata": {
        "id": "G4TaxxGW4G3h",
        "colab": {
          "base_uri": "https://localhost:8080/"
        },
        "outputId": "9362438e-5bed-481c-8098-f5c387d448af"
      },
      "source": [
        "print(f'Time needed for search: {rcv_sgdc_tp2 - rcv_sgdc_tp1}s')\n",
        "rcv_sgdc_bp = rcv_sgdc.best_params_\n",
        "print(rcv_sgdc_bp)"
      ],
      "execution_count": 165,
      "outputs": [
        {
          "output_type": "stream",
          "text": [
            "Time needed for search: 0.7332327365875244s\n",
            "{'penalty': 'elasticnet', 'alpha': 0.0001}\n"
          ],
          "name": "stdout"
        }
      ]
    },
    {
      "cell_type": "code",
      "metadata": {
        "id": "MAlJFVX2wvfi"
      },
      "source": [
        "bcls_rcv_sgdc = SGDClassifier( \n",
        "                     loss='log',\n",
        "                     penalty=rcv_sgdc_bp['penalty'],\n",
        "                     alpha=rcv_sgdc_bp['alpha'],\n",
        "                     max_iter=1000\n",
        "                    )"
      ],
      "execution_count": 166,
      "outputs": []
    },
    {
      "cell_type": "code",
      "metadata": {
        "id": "8lR-xBh-xRqU"
      },
      "source": [
        "rcv_sgdc_tp3 = time.time()\n",
        "bcls_rcv_sgdc.fit(X_transformed_and_selected, labels)\n",
        "rcv_sgdc_tp4 = time.time()"
      ],
      "execution_count": 167,
      "outputs": []
    },
    {
      "cell_type": "code",
      "metadata": {
        "id": "K1-_8awAxlxo",
        "colab": {
          "base_uri": "https://localhost:8080/"
        },
        "outputId": "565d84af-b9ef-40f6-9ea9-5eec37c36588"
      },
      "source": [
        "print(f'Time needed for computations: {rcv_sgdc_tp4 - rcv_sgdc_tp3}s')"
      ],
      "execution_count": 168,
      "outputs": [
        {
          "output_type": "stream",
          "text": [
            "Time needed for computations: 0.013298273086547852s\n"
          ],
          "name": "stdout"
        }
      ]
    },
    {
      "cell_type": "code",
      "metadata": {
        "id": "3QqNn4X2yTS5"
      },
      "source": [
        "sgdc_pipeline_for_se = Pipeline(\n",
        "    [\n",
        "        ('vectorizer', vectorizer),\n",
        "        ('tfidf', transformer),\n",
        "        ('selector', selector),\n",
        "        ('final_classifier', bcls_rcv_sgdc)\n",
        "    ]\n",
        ")"
      ],
      "execution_count": 169,
      "outputs": []
    },
    {
      "cell_type": "code",
      "metadata": {
        "id": "wv53glKgyTUA"
      },
      "source": [
        "probabilities = sgdc_pipeline_for_se.predict_proba(texts_for_testing)\n",
        "\n",
        "y_true_positives = list(map(lambda it: 1 if it == 'positive' else 0, labels_for_testing))\n",
        "y_score_positives = probabilities[:, classes_list.index('positive')]\n",
        "fpr_positives, tpr_positives, _, = roc_curve(y_true_positives, y_score_positives)\n",
        "\n",
        "y_true_negatives = list(map(lambda it: 1 if it == 'negative' else 0, labels_for_testing))\n",
        "y_score_negatives = probabilities[:, classes_list.index('negative')]\n",
        "fpr_negatives, tpr_negatives, _, = roc_curve(y_true_negatives, y_score_negatives)\n",
        "\n",
        "# y_true_neutrals = list(map(lambda it: 1 if it == 'neutral' else 0, labels_for_testing))\n",
        "# y_score_neutrals = probabilities[:, classes_list.index('neutral')]\n",
        "# fpr_neutrals, tpr_neutrals, _, = roc_curve(y_true_neutrals, y_score_neutrals)"
      ],
      "execution_count": 170,
      "outputs": []
    },
    {
      "cell_type": "code",
      "metadata": {
        "id": "KflXi6loyTUn",
        "colab": {
          "base_uri": "https://localhost:8080/",
          "height": 295
        },
        "outputId": "b9e6662c-3f04-449d-8e04-b20c83dd98c1"
      },
      "source": [
        "plt.figure(4)\n",
        "plt.plot([0, 1], [0, 1], 'k--')\n",
        "plt.plot(fpr_positives, tpr_positives, label='Positive Sentiment')\n",
        "plt.plot(fpr_negatives, tpr_negatives, label='Negative Sentiment')\n",
        "# plt.plot(fpr_neutrals, tpr_neutrals, label='Neutral Sentiment')\n",
        "plt.xlabel('False positive rate')\n",
        "plt.ylabel('True positive rate')\n",
        "plt.title('ROC curve')\n",
        "plt.legend(loc='best')\n",
        "plt.show()"
      ],
      "execution_count": 171,
      "outputs": [
        {
          "output_type": "display_data",
          "data": {
            "image/png": "[encoded data removed]",
            "text/plain": [
              "<Figure size 432x288 with 1 Axes>"
            ]
          },
          "metadata": {
            "tags": [],
            "needs_background": "light"
          }
        }
      ]
    },
    {
      "cell_type": "code",
      "metadata": {
        "id": "zBaI1ws3yTVK",
        "colab": {
          "base_uri": "https://localhost:8080/"
        },
        "outputId": "eafaabae-60bc-4ead-9965-6736cba66dd6"
      },
      "source": [
        "predicted_labels = sgdc_pipeline_for_se.predict(texts_for_testing)\n",
        "fmi_rcv_sgdc = f1_score(labels_for_testing, predicted_labels, average='micro')\n",
        "fma_rcv_sgdc = f1_score(labels_for_testing, predicted_labels, average='macro')\n",
        "print('F1-micro = {0:.6f}'.format(fmi_rcv_sgdc))\n",
        "print('F1-macro = {0:.6f}'.format(fma_rcv_sgdc))"
      ],
      "execution_count": 172,
      "outputs": [
        {
          "output_type": "stream",
          "text": [
            "F1-micro = 0.819535\n",
            "F1-macro = 0.758327\n"
          ],
          "name": "stdout"
        }
      ]
    },
    {
      "cell_type": "code",
      "metadata": {
        "id": "DeVNOBaoyTVm",
        "colab": {
          "base_uri": "https://localhost:8080/"
        },
        "outputId": "60358b87-9bb0-4bca-be2c-43197ddceb12"
      },
      "source": [
        "clsrep_rcv_sgdc = classification_report(labels_for_testing, predicted_labels, digits=6)\n",
        "print(clsrep_rcv_sgdc)"
      ],
      "execution_count": 173,
      "outputs": [
        {
          "output_type": "stream",
          "text": [
            "              precision    recall  f1-score   support\n",
            "\n",
            "    negative   0.837456  0.926988  0.879950       767\n",
            "    positive   0.752212  0.551948  0.636704       308\n",
            "\n",
            "    accuracy                       0.819535      1075\n",
            "   macro avg   0.794834  0.739468  0.758327      1075\n",
            "weighted avg   0.813033  0.819535  0.810258      1075\n",
            "\n"
          ],
          "name": "stdout"
        }
      ]
    },
    {
      "cell_type": "markdown",
      "metadata": {
        "id": "pGKjgVe4Ck3F"
      },
      "source": [
        "# ~ Выводы ~"
      ]
    },
    {
      "cell_type": "code",
      "metadata": {
        "id": "x3FqMFQTCo9c",
        "colab": {
          "base_uri": "https://localhost:8080/"
        },
        "outputId": "bfe1429d-6581-4175-cbed-2c6ec50743f7"
      },
      "source": [
        "scheme = '--- {}\\nSearch time: {}\\nComputation time: {}\\nF1-micro = {}\\nF1-macro = {}\\nReport:\\n{}\\n' \n",
        "print(scheme.format('gCV + LogReg', gcv_lr_tp2-gcv_lr_tp1, gcv_lr_tp4-gcv_lr_tp3, fmi_gcv_lr, fma_gcv_lr, clsrep_gcv_lr))\n",
        "print(scheme.format('rCV + LogReg', rcv_lr_tp2-rcv_lr_tp1, rcv_lr_tp4-rcv_lr_tp3, fmi_rcv_lr, fma_rcv_lr, clsrep_rcv_lr))\n",
        "print(scheme.format('gCV + SGDC', gcv_sgdc_tp2-gcv_sgdc_tp1, gcv_sgdc_tp4-gcv_sgdc_tp3, fmi_gcv_sgdc, fma_gcv_sgdc, clsrep_gcv_sgdc))\n",
        "print(scheme.format('rCV + SGDC', rcv_sgdc_tp2-rcv_sgdc_tp1, rcv_sgdc_tp4-rcv_sgdc_tp3, fmi_rcv_sgdc, fma_rcv_sgdc, clsrep_rcv_sgdc))"
      ],
      "execution_count": 174,
      "outputs": [
        {
          "output_type": "stream",
          "text": [
            "--- gCV + LogReg\n",
            "Search time: 2.100088357925415\n",
            "Computation time: 0.01811528205871582\n",
            "F1-micro = 0.8148837209302325\n",
            "F1-macro = 0.7536360066288239\n",
            "Report:\n",
            "              precision    recall  f1-score   support\n",
            "\n",
            "    negative   0.836493  0.920469  0.876474       767\n",
            "    positive   0.735931  0.551948  0.630798       308\n",
            "\n",
            "    accuracy                       0.814884      1075\n",
            "   macro avg   0.786212  0.736209  0.753636      1075\n",
            "weighted avg   0.807681  0.814884  0.806085      1075\n",
            "\n",
            "\n",
            "--- rCV + LogReg\n",
            "Search time: 0.9442722797393799\n",
            "Computation time: 0.015109539031982422\n",
            "F1-micro = 0.8148837209302325\n",
            "F1-macro = 0.7536360066288239\n",
            "Report:\n",
            "              precision    recall  f1-score   support\n",
            "\n",
            "    negative   0.836493  0.920469  0.876474       767\n",
            "    positive   0.735931  0.551948  0.630798       308\n",
            "\n",
            "    accuracy                       0.814884      1075\n",
            "   macro avg   0.786212  0.736209  0.753636      1075\n",
            "weighted avg   0.807681  0.814884  0.806085      1075\n",
            "\n",
            "\n",
            "--- gCV + SGDC\n",
            "Search time: 0.732539176940918\n",
            "Computation time: 0.013571500778198242\n",
            "F1-micro = 0.8167441860465117\n",
            "F1-macro = 0.7555072207771817\n",
            "Report:\n",
            "              precision    recall  f1-score   support\n",
            "\n",
            "    negative   0.836879  0.923077  0.877867       767\n",
            "    positive   0.742358  0.551948  0.633147       308\n",
            "\n",
            "    accuracy                       0.816744      1075\n",
            "   macro avg   0.789619  0.737512  0.755507      1075\n",
            "weighted avg   0.809798  0.816744  0.807752      1075\n",
            "\n",
            "\n",
            "--- rCV + SGDC\n",
            "Search time: 0.7332327365875244\n",
            "Computation time: 0.013298273086547852\n",
            "F1-micro = 0.8195348837209302\n",
            "F1-macro = 0.758327307449846\n",
            "Report:\n",
            "              precision    recall  f1-score   support\n",
            "\n",
            "    negative   0.837456  0.926988  0.879950       767\n",
            "    positive   0.752212  0.551948  0.636704       308\n",
            "\n",
            "    accuracy                       0.819535      1075\n",
            "   macro avg   0.794834  0.739468  0.758327      1075\n",
            "weighted avg   0.813033  0.819535  0.810258      1075\n",
            "\n",
            "\n"
          ],
          "name": "stdout"
        }
      ]
    }
  ]
}