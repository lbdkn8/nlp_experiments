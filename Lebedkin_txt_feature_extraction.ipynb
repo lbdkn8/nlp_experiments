{
  "nbformat": 4,
  "nbformat_minor": 0,
  "metadata": {
    "kernelspec": {
      "display_name": "Python 3",
      "language": "python",
      "name": "python3"
    },
    "language_info": {
      "codemirror_mode": {
        "name": "ipython",
        "version": 3
      },
      "file_extension": ".py",
      "mimetype": "text/x-python",
      "name": "python",
      "nbconvert_exporter": "python",
      "pygments_lexer": "ipython3",
      "version": "3.6.9"
    },
    "colab": {
      "name": "Lebedkin - txt_feature_extraction.ipynb",
      "provenance": [],
      "collapsed_sections": []
    }
  },
  "cells": [
    {
      "cell_type": "code",
      "metadata": {
        "id": "fclRK319Lj8p",
        "outputId": "8fd67ca3-acf9-481a-b0dc-010be8ee618c",
        "colab": {
          "base_uri": "https://localhost:8080/",
          "height": 35
        }
      },
      "source": [
        "from google.colab import drive\n",
        "drive.mount('/content/drive')"
      ],
      "execution_count": 1,
      "outputs": [
        {
          "output_type": "stream",
          "text": [
            "Mounted at /content/drive\n"
          ],
          "name": "stdout"
        }
      ]
    },
    {
      "cell_type": "code",
      "metadata": {
        "id": "wMbvvFkg7iCJ"
      },
      "source": [
        "from lxml import etree"
      ],
      "execution_count": 2,
      "outputs": []
    },
    {
      "cell_type": "code",
      "metadata": {
        "id": "Tq3bY8e77iC_"
      },
      "source": [
        "from typing import List, Tuple"
      ],
      "execution_count": 3,
      "outputs": []
    },
    {
      "cell_type": "code",
      "metadata": {
        "id": "GrphPQuELSYe"
      },
      "source": [
        "import string, re"
      ],
      "execution_count": 4,
      "outputs": []
    },
    {
      "cell_type": "code",
      "metadata": {
        "id": "Lg6iVmi0K462"
      },
      "source": [
        "# %pip install pymystem3==0.1.10 \n",
        "# Решил попробовать морфологический анализатор от Яндекса. Но у него, видимо, \n",
        "# какие-то проблемы с Колабом"
      ],
      "execution_count": 5,
      "outputs": []
    },
    {
      "cell_type": "code",
      "metadata": {
        "id": "RHtWhe5uMiFW",
        "outputId": "ae5807b6-140e-43eb-85bc-da23faaa5cc7",
        "colab": {
          "base_uri": "https://localhost:8080/",
          "height": 237
        }
      },
      "source": [
        "%pip install pymorphy2"
      ],
      "execution_count": 6,
      "outputs": [
        {
          "output_type": "stream",
          "text": [
            "Collecting pymorphy2\n",
            "\u001b[?25l  Downloading https://files.pythonhosted.org/packages/07/57/b2ff2fae3376d4f3c697b9886b64a54b476e1a332c67eee9f88e7f1ae8c9/pymorphy2-0.9.1-py3-none-any.whl (55kB)\n",
            "\r\u001b[K     |██████                          | 10kB 16.8MB/s eta 0:00:01\r\u001b[K     |███████████▉                    | 20kB 1.2MB/s eta 0:00:01\r\u001b[K     |█████████████████▊              | 30kB 1.6MB/s eta 0:00:01\r\u001b[K     |███████████████████████▋        | 40kB 1.8MB/s eta 0:00:01\r\u001b[K     |█████████████████████████████▌  | 51kB 1.4MB/s eta 0:00:01\r\u001b[K     |████████████████████████████████| 61kB 1.4MB/s \n",
            "\u001b[?25hCollecting dawg-python>=0.7.1\n",
            "  Downloading https://files.pythonhosted.org/packages/6a/84/ff1ce2071d4c650ec85745766c0047ccc3b5036f1d03559fd46bb38b5eeb/DAWG_Python-0.7.2-py2.py3-none-any.whl\n",
            "Requirement already satisfied: docopt>=0.6 in /usr/local/lib/python3.6/dist-packages (from pymorphy2) (0.6.2)\n",
            "Collecting pymorphy2-dicts-ru<3.0,>=2.4\n",
            "\u001b[?25l  Downloading https://files.pythonhosted.org/packages/3a/79/bea0021eeb7eeefde22ef9e96badf174068a2dd20264b9a378f2be1cdd9e/pymorphy2_dicts_ru-2.4.417127.4579844-py2.py3-none-any.whl (8.2MB)\n",
            "\u001b[K     |████████████████████████████████| 8.2MB 4.7MB/s \n",
            "\u001b[?25hInstalling collected packages: dawg-python, pymorphy2-dicts-ru, pymorphy2\n",
            "Successfully installed dawg-python-0.7.2 pymorphy2-0.9.1 pymorphy2-dicts-ru-2.4.417127.4579844\n"
          ],
          "name": "stdout"
        }
      ]
    },
    {
      "cell_type": "code",
      "metadata": {
        "id": "y_2YvaMVM4B6"
      },
      "source": [
        "import pymorphy2"
      ],
      "execution_count": 7,
      "outputs": []
    },
    {
      "cell_type": "code",
      "metadata": {
        "id": "TfbzzENqQ1fw"
      },
      "source": [
        "def chewable(s):                                                # Убираем лишнее \n",
        "  webs = '(\\S+\\.\\S+\\.?\\S+[\\s^\\v]?)'\n",
        "  nums = '(\\d+[\\s^\\v]?)'\n",
        "  re_webs = re.compile(webs)                                    # Убираем сслыки\n",
        "  re_pnct = re.compile('[%s]' % re.escape(string.punctuation))  # Пунктуацию\n",
        "  re_nums = re.compile(nums)                                    # Почему-то числа становились наиболее значимыми признаками - убираю\n",
        "  s_dewebbed = re_webs.sub('', s)\n",
        "  s_stripped = re_pnct.sub('', s_dewebbed)\n",
        "  s_denummed = re_nums.sub('', s_stripped)\n",
        "  m = pymorphy2.MorphAnalyzer()\n",
        "  lemmas = [m.parse(w)[0].normal_form for w in s_denummed.split()]\n",
        "  s_chewbl = ' '.join(lemmas)\n",
        "  return s_chewbl"
      ],
      "execution_count": 8,
      "outputs": []
    },
    {
      "cell_type": "code",
      "metadata": {
        "id": "IgiXZ7SX7iF_"
      },
      "source": [
        "def load_sentirueval_2016(file_name: str) -> Tuple[List[str], List[str]]:\n",
        "    texts = []\n",
        "    labels = []\n",
        "    with open(file_name, mode='rb') as fp:\n",
        "        xml_data = fp.read()\n",
        "    root = etree.fromstring(xml_data)\n",
        "    for database in root.getchildren():\n",
        "        if database.tag == 'database':\n",
        "            for table in database.getchildren():\n",
        "                if table.tag != 'table':\n",
        "                    continue\n",
        "                new_text = None\n",
        "                new_label = None\n",
        "                for column in table.getchildren():\n",
        "                    if column.get('name') == 'text':\n",
        "                        new_text = chewable(column.text)                                  #тут оно, собственно, и торчит\n",
        "                        if new_label is not None:\n",
        "                            break\n",
        "                    elif column.get('name') not in {'id', 'twitid', 'date'}:\n",
        "                        if new_label is None:\n",
        "                            label_candidate = str(column.text).strip()\n",
        "                            if label_candidate in {'0', '1', '-1'}:\n",
        "                                new_label = 'negative' if label_candidate == '-1' else \\\n",
        "                                    ('positive' if label_candidate == '1' else 'neutral')\n",
        "                                if new_text is not None:\n",
        "                                    break\n",
        "                if (new_text is None) or (new_label is None):\n",
        "                    raise ValueError('File `{0}` contains some error!'.format(file_name))\n",
        "                texts.append(new_text)\n",
        "                labels.append(new_label)\n",
        "            break\n",
        "    return texts, labels"
      ],
      "execution_count": 9,
      "outputs": []
    },
    {
      "cell_type": "code",
      "metadata": {
        "id": "UwJe0omSMhh2"
      },
      "source": [
        "fXML = '/content/drive/My Drive/bank_train_2016.xml'"
      ],
      "execution_count": 10,
      "outputs": []
    },
    {
      "cell_type": "code",
      "metadata": {
        "id": "faDu3TvX7iKR"
      },
      "source": [
        "texts, labels = load_sentirueval_2016(fXML)"
      ],
      "execution_count": 11,
      "outputs": []
    },
    {
      "cell_type": "code",
      "metadata": {
        "id": "_aAKVRrF7iLO",
        "outputId": "4161b03f-568e-4a01-b86e-11363c893302",
        "colab": {
          "base_uri": "https://localhost:8080/",
          "height": 35
        }
      },
      "source": [
        "print('Number of texts is {0}, number of labels is {1}.'.format(len(texts), len(labels)))"
      ],
      "execution_count": 12,
      "outputs": [
        {
          "output_type": "stream",
          "text": [
            "Number of texts is 9392, number of labels is 9392.\n"
          ],
          "name": "stdout"
        }
      ]
    },
    {
      "cell_type": "code",
      "metadata": {
        "id": "OKJjYL257iMi"
      },
      "source": [
        "import random"
      ],
      "execution_count": 13,
      "outputs": []
    },
    {
      "cell_type": "code",
      "metadata": {
        "id": "YcMOI5-y7iNI",
        "outputId": "b3b6f412-f8b6-4fb2-bdba-9ab0513d3745",
        "colab": {
          "base_uri": "https://localhost:8080/",
          "height": 380
        }
      },
      "source": [
        "for idx in random.choices(list(range(len(texts))), k=20):\n",
        "    print('{0} => {1}'.format(labels[idx], texts[idx]))"
      ],
      "execution_count": 14,
      "outputs": [
        {
          "output_type": "stream",
          "text": [
            "neutral => банк москва ипотечный кредит условие\n",
            "neutral => johncorкредить сбербанк онлайн заявка\n",
            "positive => санкция ес не нарушить финансовый устойчивость газпромбанк ampquotвведенный европейский союз в отношение ряд российский\n",
            "neutral => за месяц текущий год сбербанк заработать млрд рубль\n",
            "positive => первый канал visa и mastercard продолжить работать с втб россельхозбанк и банк москва в обычный режим\n",
            "neutral => сбербанк кредит н новгород\n",
            "neutral => российский альфагруппа находиться в шаг от приобретение raiffeisen райффайзный банк аваль\n",
            "neutral => автокредит втб самара\n",
            "neutral => сбербанк кредит получить в санкт петербург\n",
            "neutral => банк втб казань потребительский кредит\n",
            "neutral => сбербанк киб предоставить кредит на сумма млрд антипинский нпз бизнес\n",
            "positive => по новый банковский программа вологжанин мочь избежать выплата неустойка ноябрь год сбербанк россия запустить программа в рамка к\n",
            "neutral => корпоративный портфель дагестанский филиал россельхозбанк составить порядок млрд рубль\n",
            "neutral => кравченко инга москва сбербанк\n",
            "neutral => втб ипотека на строительство\n",
            "neutral => рассчитать стоимость ипотека в сбербанк просимфильмджастина\n",
            "neutral => сбербанк кредит хант мансийск\n",
            "negative => rt andresokolov drruсбербанк самый убогий банк за весь свой история после сберкасса он надо поместить в энциклопедия в статья не…\n",
            "neutral => оформление кредитный карта райффайзный банк\n",
            "neutral => rt omniumil сбербанк начать выпуск карта на база российский платёжный система про\n"
          ],
          "name": "stdout"
        }
      ]
    },
    {
      "cell_type": "code",
      "metadata": {
        "id": "dSXGgsiT7iNs"
      },
      "source": [
        "positive_tweets = [texts[idx] for idx in range(len(texts)) if labels[idx] == 'positive']\n",
        "negative_tweets = [texts[idx] for idx in range(len(texts)) if labels[idx] == 'negative']"
      ],
      "execution_count": 15,
      "outputs": []
    },
    {
      "cell_type": "code",
      "metadata": {
        "id": "CPp_eMjd7iOQ",
        "outputId": "518f049b-d27a-4de5-cfe1-dff57bdb00ba",
        "colab": {
          "base_uri": "https://localhost:8080/",
          "height": 108
        }
      },
      "source": [
        "for cur in positive_tweets[:5]: print(cur)"
      ],
      "execution_count": 16,
      "outputs": [
        {
          "output_type": "stream",
          "text": [
            "sawikshuster yevhens главное чтоб банк сбер и втб\n",
            "самый выгодный автокредит в втб\n",
            "легко можно получить денежный кредит ы втб банк\n",
            "снижение процентный ставка по кредит на недвижимость сбербанк\n",
            "в наш сбербанк прийти американец и попросить сфоткаться с они у банкомат d я ващий быть в шок и на фотка полюбома получиться смешной xd\n"
          ],
          "name": "stdout"
        }
      ]
    },
    {
      "cell_type": "code",
      "metadata": {
        "id": "3hQ3CUKt7iOz",
        "outputId": "cbc749c4-8ada-4668-e9f6-9b2f7dd5ae14",
        "colab": {
          "base_uri": "https://localhost:8080/",
          "height": 108
        }
      },
      "source": [
        "for cur in negative_tweets[:5]: print(cur)"
      ],
      "execution_count": 17,
      "outputs": [
        {
          "output_type": "stream",
          "text": [
            "shtirliz zhukovaolga winzard tereshenkov обязательно про сбербанк написать временами похлеще интернет магазин финт выкручивать\n",
            "umkaalfariusigorsechin втб и сбер точно вопросблокировка операция или запрет на кредит\n",
            "канада ввести санкция против газпромбанк вэб новатэк и российский оборонный компания\n",
            "rt letokot если сбер и втб попасть под санкция быть жопа\n",
            "rt tvru канада ввести санкция против оборонный и сырьевой компания и банк рф среди они в частность газпромбанк внешэк…\n"
          ],
          "name": "stdout"
        }
      ]
    },
    {
      "cell_type": "code",
      "metadata": {
        "id": "nht9YJf47iPW"
      },
      "source": [
        "from nltk import word_tokenize"
      ],
      "execution_count": 18,
      "outputs": []
    },
    {
      "cell_type": "code",
      "metadata": {
        "id": "V_YrLj597iP9"
      },
      "source": [
        "from sklearn.feature_extraction.text import CountVectorizer"
      ],
      "execution_count": 19,
      "outputs": []
    },
    {
      "cell_type": "code",
      "metadata": {
        "id": "7yKC0Hvl7iQh"
      },
      "source": [
        "vectorizer = CountVectorizer(lowercase=True, tokenizer=word_tokenize)"
      ],
      "execution_count": 20,
      "outputs": []
    },
    {
      "cell_type": "code",
      "metadata": {
        "id": "ail6283pJNTt",
        "outputId": "bd38c8a1-ffaf-44e1-fdba-3f50f0129fd8",
        "colab": {
          "base_uri": "https://localhost:8080/",
          "height": 72
        }
      },
      "source": [
        "import nltk\n",
        "nltk.download('punkt')"
      ],
      "execution_count": 21,
      "outputs": [
        {
          "output_type": "stream",
          "text": [
            "[nltk_data] Downloading package punkt to /root/nltk_data...\n",
            "[nltk_data]   Unzipping tokenizers/punkt.zip.\n"
          ],
          "name": "stdout"
        },
        {
          "output_type": "execute_result",
          "data": {
            "text/plain": [
              "True"
            ]
          },
          "metadata": {
            "tags": []
          },
          "execution_count": 21
        }
      ]
    },
    {
      "cell_type": "code",
      "metadata": {
        "id": "IaITNnmZ7iQ_",
        "outputId": "c4c96e17-3b64-4437-d35c-4e004b1cc8eb",
        "colab": {
          "base_uri": "https://localhost:8080/",
          "height": 201
        }
      },
      "source": [
        "vectorizer.fit(texts)"
      ],
      "execution_count": 22,
      "outputs": [
        {
          "output_type": "stream",
          "text": [
            "/usr/local/lib/python3.6/dist-packages/sklearn/feature_extraction/text.py:507: UserWarning: The parameter 'token_pattern' will not be used since 'tokenizer' is not None'\n",
            "  warnings.warn(\"The parameter 'token_pattern' will not be used\"\n"
          ],
          "name": "stderr"
        },
        {
          "output_type": "execute_result",
          "data": {
            "text/plain": [
              "CountVectorizer(analyzer='word', binary=False, decode_error='strict',\n",
              "                dtype=<class 'numpy.int64'>, encoding='utf-8', input='content',\n",
              "                lowercase=True, max_df=1.0, max_features=None, min_df=1,\n",
              "                ngram_range=(1, 1), preprocessor=None, stop_words=None,\n",
              "                strip_accents=None, token_pattern='(?u)\\\\b\\\\w\\\\w+\\\\b',\n",
              "                tokenizer=<function word_tokenize at 0x7fad1eef6598>,\n",
              "                vocabulary=None)"
            ]
          },
          "metadata": {
            "tags": []
          },
          "execution_count": 22
        }
      ]
    },
    {
      "cell_type": "code",
      "metadata": {
        "id": "5YJyRaC-7iRc",
        "outputId": "3b85d489-7fc2-4c93-bf7a-e560afb8154c",
        "colab": {
          "base_uri": "https://localhost:8080/",
          "height": 55
        }
      },
      "source": [
        "print(vectorizer.get_feature_names()[0:20])"
      ],
      "execution_count": 23,
      "outputs": [
        {
          "output_type": "stream",
          "text": [
            "['a', 'abaradagan', 'aberadez', 'abetaaсбербанк', 'abncapital', 'abramovdeputat', 'abunyasha', 'abysov', 'adagamov', 'adairrasi', 'adaron', 'aday', 'adenisenko', 'adindex', 'adlarguan', 'admeru', 'admitad', 'adubter', 'adworningju', 'aeroflot']\n"
          ],
          "name": "stdout"
        }
      ]
    },
    {
      "cell_type": "code",
      "metadata": {
        "id": "rBeV8qt67iR_",
        "outputId": "6990eae4-4ce7-492a-9ae2-851abb32b771",
        "colab": {
          "base_uri": "https://localhost:8080/",
          "height": 35
        }
      },
      "source": [
        "print(len(vectorizer.get_feature_names()))"
      ],
      "execution_count": 24,
      "outputs": [
        {
          "output_type": "stream",
          "text": [
            "8451\n"
          ],
          "name": "stdout"
        }
      ]
    },
    {
      "cell_type": "code",
      "metadata": {
        "id": "sEvQt-A27iT0"
      },
      "source": [
        "X = vectorizer.transform(texts)"
      ],
      "execution_count": 25,
      "outputs": []
    },
    {
      "cell_type": "code",
      "metadata": {
        "id": "pFkmf9OM7iU5",
        "outputId": "2c7d39da-4687-4f7c-9de5-7870435d916a",
        "colab": {
          "base_uri": "https://localhost:8080/",
          "height": 35
        }
      },
      "source": [
        "print(type(X))"
      ],
      "execution_count": 26,
      "outputs": [
        {
          "output_type": "stream",
          "text": [
            "<class 'scipy.sparse.csr.csr_matrix'>\n"
          ],
          "name": "stdout"
        }
      ]
    },
    {
      "cell_type": "code",
      "metadata": {
        "id": "xW1uwTdL7iVN",
        "outputId": "b7d2d49a-5cca-40b9-8111-8cb9a510b665",
        "colab": {
          "base_uri": "https://localhost:8080/",
          "height": 35
        }
      },
      "source": [
        "print(texts[0])"
      ],
      "execution_count": 27,
      "outputs": [
        {
          "output_type": "stream",
          "text": [
            "взять кредит тюмень альфа банк\n"
          ],
          "name": "stdout"
        }
      ]
    },
    {
      "cell_type": "code",
      "metadata": {
        "id": "_4287I9_7iVm",
        "outputId": "ba2af1aa-9b34-4baa-d758-94a6b067e4d5",
        "colab": {
          "base_uri": "https://localhost:8080/",
          "height": 108
        }
      },
      "source": [
        "print(X[0])"
      ],
      "execution_count": 28,
      "outputs": [
        {
          "output_type": "stream",
          "text": [
            "  (0, 1830)\t1\n",
            "  (0, 1969)\t1\n",
            "  (0, 2308)\t1\n",
            "  (0, 4045)\t1\n",
            "  (0, 7709)\t1\n"
          ],
          "name": "stdout"
        }
      ]
    },
    {
      "cell_type": "code",
      "metadata": {
        "id": "Z-guRjOV7iV7",
        "outputId": "3ece9fe9-19c0-4636-864f-f9020ee675b1",
        "colab": {
          "base_uri": "https://localhost:8080/",
          "height": 35
        }
      },
      "source": [
        "print(vectorizer.get_feature_names()[6321])"
      ],
      "execution_count": 29,
      "outputs": [
        {
          "output_type": "stream",
          "text": [
            "процесс\n"
          ],
          "name": "stdout"
        }
      ]
    },
    {
      "cell_type": "code",
      "metadata": {
        "id": "a3F8cCki7iWo",
        "outputId": "c47db43e-73e0-4da6-c2c1-22e8f6661cc2",
        "colab": {
          "base_uri": "https://localhost:8080/",
          "height": 35
        }
      },
      "source": [
        "print(vectorizer.get_feature_names()[8000])"
      ],
      "execution_count": 32,
      "outputs": [
        {
          "output_type": "stream",
          "text": [
            "фл\n"
          ],
          "name": "stdout"
        }
      ]
    },
    {
      "cell_type": "code",
      "metadata": {
        "id": "sHe_a18Z7iXG",
        "outputId": "27c5174d-824e-4ef5-efb2-a133782400b4",
        "colab": {
          "base_uri": "https://localhost:8080/",
          "height": 35
        }
      },
      "source": [
        "print(vectorizer.get_feature_names()[8000])"
      ],
      "execution_count": 33,
      "outputs": [
        {
          "output_type": "stream",
          "text": [
            "фл\n"
          ],
          "name": "stdout"
        }
      ]
    },
    {
      "cell_type": "code",
      "metadata": {
        "id": "mMk0M6YH7iXZ"
      },
      "source": [
        "from sklearn.feature_extraction.text import TfidfTransformer"
      ],
      "execution_count": 34,
      "outputs": []
    },
    {
      "cell_type": "code",
      "metadata": {
        "id": "3P28BOfN7iXs"
      },
      "source": [
        "transformer = TfidfTransformer().fit(X)"
      ],
      "execution_count": 35,
      "outputs": []
    },
    {
      "cell_type": "code",
      "metadata": {
        "id": "8YqmfAd77iX9"
      },
      "source": [
        "X_transformed = transformer.transform(X)"
      ],
      "execution_count": 36,
      "outputs": []
    },
    {
      "cell_type": "code",
      "metadata": {
        "id": "HHm053jT7iYS",
        "outputId": "1a70ead3-7c72-4750-935b-2e12d72f9187",
        "colab": {
          "base_uri": "https://localhost:8080/",
          "height": 108
        }
      },
      "source": [
        "print(X_transformed[0])"
      ],
      "execution_count": 37,
      "outputs": [
        {
          "output_type": "stream",
          "text": [
            "  (0, 7709)\t0.7412351690813022\n",
            "  (0, 4045)\t0.22236351392695303\n",
            "  (0, 2308)\t0.42291199134314233\n",
            "  (0, 1969)\t0.2572964198244949\n",
            "  (0, 1830)\t0.3950555552257762\n"
          ],
          "name": "stdout"
        }
      ]
    },
    {
      "cell_type": "code",
      "metadata": {
        "id": "C6OlURRQ7iY-",
        "outputId": "e4bfff4e-51aa-466e-b52d-114eb9791280",
        "colab": {
          "base_uri": "https://localhost:8080/",
          "height": 35
        }
      },
      "source": [
        "print(vectorizer.get_feature_names()[8000])"
      ],
      "execution_count": 38,
      "outputs": [
        {
          "output_type": "stream",
          "text": [
            "фл\n"
          ],
          "name": "stdout"
        }
      ]
    },
    {
      "cell_type": "code",
      "metadata": {
        "id": "Yel9hQaM7iZY",
        "outputId": "6da4d52d-f997-4d95-a738-dfd94d547cae",
        "colab": {
          "base_uri": "https://localhost:8080/",
          "height": 35
        }
      },
      "source": [
        "print(vectorizer.get_feature_names()[7199])"
      ],
      "execution_count": 39,
      "outputs": [
        {
          "output_type": "stream",
          "text": [
            "сортировка\n"
          ],
          "name": "stdout"
        }
      ]
    },
    {
      "cell_type": "code",
      "metadata": {
        "id": "Cpgk4JQd7iaE"
      },
      "source": [
        "tokens_with_IDF = list(zip(vectorizer.get_feature_names(), transformer.idf_))"
      ],
      "execution_count": 40,
      "outputs": []
    },
    {
      "cell_type": "code",
      "metadata": {
        "id": "w0hV2JB37iam",
        "outputId": "c0ac832b-6a05-4f4a-c3be-581130feedba",
        "colab": {
          "base_uri": "https://localhost:8080/",
          "height": 380
        }
      },
      "source": [
        "for feature, idf in tokens_with_IDF[0:20]: print('{0:.6f} => {1}'.format(idf, feature))"
      ],
      "execution_count": 41,
      "outputs": [
        {
          "output_type": "stream",
          "text": [
            "9.454573 => a\n",
            "9.454573 => abaradagan\n",
            "9.454573 => aberadez\n",
            "9.454573 => abetaaсбербанк\n",
            "9.454573 => abncapital\n",
            "9.454573 => abramovdeputat\n",
            "9.454573 => abunyasha\n",
            "9.454573 => abysov\n",
            "9.454573 => adagamov\n",
            "9.454573 => adairrasi\n",
            "9.454573 => adaron\n",
            "9.454573 => aday\n",
            "9.454573 => adenisenko\n",
            "9.454573 => adindex\n",
            "9.454573 => adlarguan\n",
            "9.454573 => admeru\n",
            "9.454573 => admitad\n",
            "9.454573 => adubter\n",
            "9.454573 => adworningju\n",
            "8.538282 => aeroflot\n"
          ],
          "name": "stdout"
        }
      ]
    },
    {
      "cell_type": "code",
      "metadata": {
        "id": "PHswAAv37icg"
      },
      "source": [
        "sorted_tokens_with_IDF = sorted(tokens_with_IDF, key=lambda it: (-it[1], it[0]))"
      ],
      "execution_count": 42,
      "outputs": []
    },
    {
      "cell_type": "code",
      "metadata": {
        "id": "OeAcz7hF7id_",
        "outputId": "e778b4c9-d9b0-4650-e86a-fc569d6f475e",
        "colab": {
          "base_uri": "https://localhost:8080/",
          "height": 380
        }
      },
      "source": [
        "for feature, idf in sorted_tokens_with_IDF[0:20]: print('{0:.6f} => {1}'.format(idf, feature))"
      ],
      "execution_count": 43,
      "outputs": [
        {
          "output_type": "stream",
          "text": [
            "9.454573 => a\n",
            "9.454573 => abaradagan\n",
            "9.454573 => aberadez\n",
            "9.454573 => abetaaсбербанк\n",
            "9.454573 => abncapital\n",
            "9.454573 => abramovdeputat\n",
            "9.454573 => abunyasha\n",
            "9.454573 => abysov\n",
            "9.454573 => adagamov\n",
            "9.454573 => adairrasi\n",
            "9.454573 => adaron\n",
            "9.454573 => aday\n",
            "9.454573 => adenisenko\n",
            "9.454573 => adindex\n",
            "9.454573 => adlarguan\n",
            "9.454573 => admeru\n",
            "9.454573 => admitad\n",
            "9.454573 => adubter\n",
            "9.454573 => adworningju\n",
            "9.454573 => afyanik\n"
          ],
          "name": "stdout"
        }
      ]
    },
    {
      "cell_type": "code",
      "metadata": {
        "id": "wFHrH5Ot7ifB"
      },
      "source": [
        "from sklearn.feature_selection import SelectPercentile, chi2"
      ],
      "execution_count": 44,
      "outputs": []
    },
    {
      "cell_type": "code",
      "metadata": {
        "id": "eAEywVEM7ifX"
      },
      "source": [
        "selector = SelectPercentile(chi2, percentile=20)"
      ],
      "execution_count": 45,
      "outputs": []
    },
    {
      "cell_type": "code",
      "metadata": {
        "id": "zbUKS2f27igG",
        "outputId": "26636320-71ff-45a6-9231-61f34609afda",
        "colab": {
          "base_uri": "https://localhost:8080/",
          "height": 35
        }
      },
      "source": [
        "selector.fit(X_transformed, labels)"
      ],
      "execution_count": 46,
      "outputs": [
        {
          "output_type": "execute_result",
          "data": {
            "text/plain": [
              "SelectPercentile(percentile=20, score_func=<function chi2 at 0x7fad0e51cd08>)"
            ]
          },
          "metadata": {
            "tags": []
          },
          "execution_count": 46
        }
      ]
    },
    {
      "cell_type": "code",
      "metadata": {
        "id": "X75gVCHT7ig8"
      },
      "source": [
        "selected_tokens_with_IDF = [tokens_with_IDF[idx] for idx in selector.get_support(indices=True)]"
      ],
      "execution_count": 47,
      "outputs": []
    },
    {
      "cell_type": "code",
      "metadata": {
        "id": "qMBt3vpW7ikF",
        "outputId": "b8b829b5-f9cb-494e-ed98-e2f290a06548",
        "colab": {
          "base_uri": "https://localhost:8080/",
          "height": 35
        }
      },
      "source": [
        "print(len(selected_tokens_with_IDF))"
      ],
      "execution_count": 48,
      "outputs": [
        {
          "output_type": "stream",
          "text": [
            "1690\n"
          ],
          "name": "stdout"
        }
      ]
    },
    {
      "cell_type": "code",
      "metadata": {
        "id": "OdhL5fnh7ilG",
        "outputId": "b1153d07-668b-4eb5-c311-bced25179704",
        "colab": {
          "base_uri": "https://localhost:8080/",
          "height": 380
        }
      },
      "source": [
        "for feature, idf in selected_tokens_with_IDF[0:20]: print('{0:.6f} => {1}'.format(idf, feature))"
      ],
      "execution_count": 49,
      "outputs": [
        {
          "output_type": "stream",
          "text": [
            "9.454573 => aberadez\n",
            "9.454573 => abunyasha\n",
            "9.454573 => adworningju\n",
            "9.049108 => akselenc\n",
            "9.454573 => alexigrey\n",
            "9.454573 => alexсбербанк\n",
            "4.905973 => alfabank\n",
            "6.592372 => alfabankby\n",
            "9.454573 => alushin\n",
            "9.454573 => ampeuroмлрд\n",
            "9.049108 => ampnbspть\n",
            "8.761426 => ampquotбанк\n",
            "9.454573 => ampquotвведенный\n",
            "9.049108 => ampquotчерный\n",
            "9.454573 => andreymalgin\n",
            "9.454573 => andreytr\n",
            "8.761426 => antimaydan\n",
            "9.049108 => apple\n",
            "9.454573 => arhangelmisha\n",
            "9.454573 => artemycheros\n"
          ],
          "name": "stdout"
        }
      ]
    },
    {
      "cell_type": "code",
      "metadata": {
        "id": "MQgZVyMc7imZ"
      },
      "source": [
        "selected_and_sorted_tokens_with_IDF = sorted(selected_tokens_with_IDF, key=lambda it: (-it[1], it[0]))"
      ],
      "execution_count": 50,
      "outputs": []
    },
    {
      "cell_type": "code",
      "metadata": {
        "id": "fIWweGb77inM",
        "outputId": "adab2d0b-dd0b-4fa5-eacb-0b07d6982c34",
        "colab": {
          "base_uri": "https://localhost:8080/",
          "height": 380
        }
      },
      "source": [
        "for feature, idf in selected_and_sorted_tokens_with_IDF[0:20]: print('{0:.6f} => {1}'.format(idf, feature))"
      ],
      "execution_count": 51,
      "outputs": [
        {
          "output_type": "stream",
          "text": [
            "9.454573 => aberadez\n",
            "9.454573 => abunyasha\n",
            "9.454573 => adworningju\n",
            "9.454573 => alexigrey\n",
            "9.454573 => alexсбербанк\n",
            "9.454573 => alushin\n",
            "9.454573 => ampeuroмлрд\n",
            "9.454573 => ampquotвведенный\n",
            "9.454573 => andreymalgin\n",
            "9.454573 => andreytr\n",
            "9.454573 => arhangelmisha\n",
            "9.454573 => artemycheros\n",
            "9.454573 => bankitb\n",
            "9.454573 => behlbride\n",
            "9.454573 => bosacoworavu\n",
            "9.454573 => bullethunter\n",
            "9.454573 => buribedixuk\n",
            "9.454573 => catspower\n",
            "9.454573 => cgillenpiy\n",
            "9.454573 => chumikov\n"
          ],
          "name": "stdout"
        }
      ]
    },
    {
      "cell_type": "code",
      "metadata": {
        "id": "sK0r5Tqn7ioc"
      },
      "source": [
        ""
      ],
      "execution_count": 51,
      "outputs": []
    }
  ]
}